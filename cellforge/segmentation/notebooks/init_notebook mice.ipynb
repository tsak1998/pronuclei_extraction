{
 "cells": [
  {
   "cell_type": "code",
   "execution_count": 1,
   "metadata": {},
   "outputs": [],
   "source": [
    "from pathlib import Path\n",
    "\n",
    "from PIL import Image\n",
    "import torch\n",
    "from tqdm import tqdm\n",
    "from torch.utils.data import DataLoader\n",
    "from unet import AttUNet, UNet, UNetWithPretrainedEncoder\n",
    "from dataloader import ImageDataset, TransformWrapper\n",
    "\n",
    "data_pth = Path(\n",
    "    '/Users/tsakalis/Downloads/ECImageAnalysisMouse/New Binary Masks')\n",
    "blastocyst_pth = Path('/Users/tsakalis/ntua/cellforge/data/')\n",
    "\n",
    "blastocyst_images_pth = blastocyst_pth / 'blastocyst_images'\n",
    "blastocyst_msk_pth = blastocyst_pth / 'blastocyst_masks'\n",
    "\n",
    "smooth = 1e-15\n",
    "\n",
    "device = 'mps'\n",
    "\n",
    "\n",
    "def dice_coef(y_pred, y_true):\n",
    "\n",
    "    intersection = torch.sum(y_true.flatten() * y_pred.flatten())\n",
    "    return (2. * intersection + smooth) / (\n",
    "        torch.sum(y_true).flatten() + torch.sum(y_pred).flatten() + smooth)\n",
    "\n",
    "\n",
    "def dice_loss(y_pred, y_true):\n",
    "\n",
    "    return 1.0 - dice_coef(y_true, y_pred)\n"
   ]
  },
  {
   "cell_type": "code",
   "execution_count": 2,
   "metadata": {},
   "outputs": [],
   "source": [
    "image_file_paths = []\n",
    "mask_file_paths = []\n",
    "\n",
    "for mouse in data_pth.glob('*'):\n",
    "    if len(list(mouse.glob('*'))) == 2:\n",
    "\n",
    "        msk1, msk2 = list(mouse.glob('*'))\n",
    "\n",
    "        if 'masked' in msk2.name.lower():\n",
    "            image_file_paths.append(msk1)\n",
    "            mask_file_paths.append(msk2)\n",
    "        else:\n",
    "            mask_file_paths.append(msk1)\n",
    "            image_file_paths.append(msk2)"
   ]
  },
  {
   "cell_type": "code",
   "execution_count": 3,
   "metadata": {},
   "outputs": [],
   "source": [
    "# image_file_paths = sorted(list((data_pth / \"images\").glob('*.png')),\n",
    "#                           key=lambda x: x.stem)\n",
    "# mask_file_paths = sorted(list((data_pth / \"masks\").glob('*.png')),\n",
    "#                          key=lambda x: x.stem)\n"
   ]
  },
  {
   "cell_type": "code",
   "execution_count": 4,
   "metadata": {},
   "outputs": [],
   "source": [
    "import numpy as np\n",
    "from PIL import Image\n",
    "from scipy.ndimage import center_of_mass\n",
    "\n",
    "\n",
    "def crop_around_center(image: Image.Image, mask: Image.Image,\n",
    "                       crop_size: int) -> Image.Image:\n",
    "    \"\"\"\n",
    "    Finds the center of mass of the non-zero pixels in the image\n",
    "    and crops the image around that point.\n",
    "\n",
    "    Args:\n",
    "        image (PIL.Image.Image): Input image (grayscale or binary recommended).\n",
    "        crop_size (int): Size of the square crop (e.g., 128 for 128x128 crop).\n",
    "\n",
    "    Returns:\n",
    "        PIL.Image.Image: Cropped image around the center of mass.\n",
    "    \"\"\"\n",
    "    # Convert image to grayscale and NumPy array\n",
    "    image_array = np.array(image.convert(\"L\"))\n",
    "\n",
    "    # Find the center of mass of non-zero pixels\n",
    "    com = center_of_mass(image_array)\n",
    "\n",
    "    # Round to integers for pixel indexing\n",
    "    center_y, center_x = map(int, com)\n",
    "\n",
    "    # Calculate crop box\n",
    "    half_crop = crop_size // 2\n",
    "    left = max(center_x - half_crop, 0)\n",
    "    upper = max(center_y - half_crop, 0)\n",
    "    right = min(center_x + half_crop, image.width)\n",
    "    lower = min(center_y + half_crop, image.height)\n",
    "\n",
    "    # Crop the image\n",
    "    cropped_image = image.crop((left, upper, right, lower))\n",
    "\n",
    "    cropped_mask = mask.crop((left, upper, right, lower))\n",
    "    return cropped_image, cropped_mask\n",
    "\n",
    "\n",
    "# Example usage\n"
   ]
  },
  {
   "cell_type": "code",
   "execution_count": 5,
   "metadata": {},
   "outputs": [
    {
     "name": "stderr",
     "output_type": "stream",
     "text": [
      "  0%|          | 0/169 [00:00<?, ?it/s]"
     ]
    },
    {
     "name": "stderr",
     "output_type": "stream",
     "text": [
      "100%|██████████| 169/169 [00:00<00:00, 3162.83it/s]\n",
      "100%|██████████| 169/169 [00:00<00:00, 5496.14it/s]\n",
      "100%|██████████| 169/169 [00:02<00:00, 57.25it/s]\n",
      "100%|██████████| 169/169 [00:02<00:00, 71.84it/s]\n"
     ]
    }
   ],
   "source": [
    "# image_file_paths = sorted(list((data_pth / \"images\").glob('*.jpg')),\n",
    "#                           key=lambda x: x.stem)\n",
    "# mask_file_paths = sorted(list((data_pth / \"masks\").glob('*.png')),\n",
    "#                          key=lambda x: x.stem)\n",
    "\n",
    "# print(\"... Loading images ...\")\n",
    "images = [Image.open(img_path) for img_path in tqdm(image_file_paths)]\n",
    "masks = [Image.open(msk_pth) for msk_pth in tqdm(mask_file_paths)]\n",
    "\n",
    "\n",
    "def remove_alpha(img):\n",
    "    if img.mode == 'RGBA':  # If image has an alpha channel\n",
    "        background = Image.new('RGB', img.size,\n",
    "                               (255, 255, 255))  # Create white background\n",
    "        background.paste(img, mask=img.split()[3])  # Use alpha channel as mask\n",
    "        return background\n",
    "    return img  # Return unchanged if no alpha channel\n",
    "\n",
    "\n",
    "# Process images and masks\n",
    "images = [remove_alpha(img) for img in tqdm(images)]\n",
    "masks = [remove_alpha(msk) for msk in tqdm(masks)]\n",
    "\n",
    "cropped_images = []\n",
    "cropped_masks = []\n",
    "for image, mask in zip(images, masks):\n",
    "\n",
    "    cropped, cropped_mask = crop_around_center(image, mask, crop_size=200 * 3)\n",
    "\n",
    "    cropped_images.append(cropped)\n",
    "    cropped_masks.append(cropped_mask)\n",
    "\n",
    "train_dataset = ImageDataset(images=cropped_images[:130],\n",
    "                             masks=cropped_masks[:130],\n",
    "                             transform=True)\n",
    "val_dataset = ImageDataset(images=cropped_images[130:800],\n",
    "                           masks=cropped_masks[130:800])\n",
    "\n",
    "train_dataloader = DataLoader(train_dataset, batch_size=8, shuffle=True)\n",
    "\n",
    "val_dataloader = DataLoader(val_dataset, batch_size=16)\n"
   ]
  },
  {
   "cell_type": "code",
   "execution_count": 6,
   "metadata": {},
   "outputs": [
    {
     "data": {
      "image/jpeg": "[encoded data removed]",
      "image/png": "[encoded data removed]",
      "text/plain": [
       "<PIL.Image.Image image mode=L size=224x224>"
      ]
     },
     "execution_count": 6,
     "metadata": {},
     "output_type": "execute_result"
    }
   ],
   "source": [
    "temp_msk = cropped_masks[160].resize((224, 224), Image.Resampling.LANCZOS)\n",
    "temp_img = cropped_images[160].resize((224, 224), Image.Resampling.LANCZOS)\n",
    "temp_msk = temp_msk.convert('L')\n",
    "binary_threshold = 100  # Adjust this threshold as needed\n",
    "mask = temp_msk.point(lambda p: 255 if p > binary_threshold else 0)\n",
    "mask\n"
   ]
  },
  {
   "cell_type": "code",
   "execution_count": 7,
   "metadata": {},
   "outputs": [
    {
     "data": {
      "image/jpeg": "[encoded data removed]",
      "image/png": "[encoded data removed]",
      "text/plain": [
       "<PIL.Image.Image image mode=RGB size=224x224>"
      ]
     },
     "execution_count": 7,
     "metadata": {},
     "output_type": "execute_result"
    }
   ],
   "source": [
    "temp_img"
   ]
  },
  {
   "attachments": {},
   "cell_type": "markdown",
   "metadata": {},
   "source": []
  },
  {
   "cell_type": "code",
   "execution_count": 8,
   "metadata": {},
   "outputs": [],
   "source": [
    "import random\n",
    "from torchvision import transforms as T\n",
    "import torchvision.transforms.functional as F"
   ]
  },
  {
   "cell_type": "code",
   "execution_count": 9,
   "metadata": {},
   "outputs": [],
   "source": [
    "angle = random.uniform(-90, 90)\n",
    "image = F.rotate(image, angle)\n",
    "mask = T.ToTensor()(F.rotate(mask, angle))"
   ]
  },
  {
   "cell_type": "code",
   "execution_count": 12,
   "metadata": {},
   "outputs": [],
   "source": [
    "for im, gt in train_dataloader:\n",
    "    break"
   ]
  },
  {
   "cell_type": "code",
   "execution_count": 16,
   "metadata": {},
   "outputs": [
    {
     "name": "stderr",
     "output_type": "stream",
     "text": [
      "/Users/tsakalis/Library/Caches/pypoetry/virtualenvs/cellforge-Tgd_YqAD-py3.11/lib/python3.11/site-packages/tqdm/auto.py:21: TqdmWarning: IProgress not found. Please update jupyter and ipywidgets. See https://ipywidgets.readthedocs.io/en/stable/user_install.html\n",
      "  from .autonotebook import tqdm as notebook_tqdm\n"
     ]
    }
   ],
   "source": [
    "import segmentation_models_pytorch as smp\n",
    "\n",
    "model = smp.Unet(\n",
    "    encoder_name=\n",
    "    \"resnet34\",  # choose encoder, e.g. mobilenet_v2 or efficientnet-b7\n",
    "    encoder_weights=\n",
    "    \"imagenet\",  # use `imagenet` pre-trained weights for encoder initialization\n",
    "    in_channels=\n",
    "    3,  # model input channels (1 for gray-scale images, 3 for RGB, etc.)\n",
    "    classes=1,  # model output channels (number of classes in your dataset)\n",
    ")\n",
    "model.to(device)\n",
    "lr = 1e-4\n",
    "optimizer = torch.optim.Adam(model.parameters(), lr=lr)\n",
    "n_epochs = 30"
   ]
  },
  {
   "cell_type": "code",
   "execution_count": 17,
   "metadata": {},
   "outputs": [],
   "source": [
    "import torch\n",
    "\n",
    "\n",
    "def validate(model, val_dataloader):\n",
    "    model.eval()\n",
    "    val_loss = 0\n",
    "\n",
    "    with torch.no_grad():\n",
    "        for img_batch, gt_msk_batch in val_dataloader:\n",
    "\n",
    "            img_batch = img_batch.to(device)\n",
    "            gt_msk_batch = gt_msk_batch.to(device)\n",
    "\n",
    "            pred_mask = model(img_batch)\n",
    "\n",
    "            loss = dice_loss(torch.sigmoid(pred_mask), gt_msk_batch)\n",
    "\n",
    "            val_loss += loss.item()\n",
    "\n",
    "    mean_val_loss = val_loss / len(val_dataloader)\n",
    "    return mean_val_loss\n"
   ]
  },
  {
   "cell_type": "code",
   "execution_count": 18,
   "metadata": {},
   "outputs": [
    {
     "name": "stderr",
     "output_type": "stream",
     "text": [
      "0.9906126856803894: 100%|██████████| 17/17 [00:08<00:00,  2.11it/s]\n"
     ]
    },
    {
     "name": "stdout",
     "output_type": "stream",
     "text": [
      "Epoch 1 | TrainLoss: 0.9788966213955599 ValLoss: 0.9786242643992106\n"
     ]
    },
    {
     "name": "stderr",
     "output_type": "stream",
     "text": [
      "0.5941877365112305: 100%|██████████| 17/17 [00:06<00:00,  2.64it/s]\n"
     ]
    },
    {
     "name": "stdout",
     "output_type": "stream",
     "text": [
      "Epoch 2 | TrainLoss: 0.8245033516603357 ValLoss: 0.5998937288920084\n"
     ]
    },
    {
     "name": "stderr",
     "output_type": "stream",
     "text": [
      "0.5842756032943726: 100%|██████████| 17/17 [00:06<00:00,  2.63it/s] \n"
     ]
    },
    {
     "name": "stdout",
     "output_type": "stream",
     "text": [
      "Epoch 3 | TrainLoss: 0.41332031698787913 ValLoss: 0.207138458887736\n"
     ]
    },
    {
     "name": "stderr",
     "output_type": "stream",
     "text": [
      "0.2736451029777527: 100%|██████████| 17/17 [00:06<00:00,  2.70it/s] \n"
     ]
    },
    {
     "name": "stdout",
     "output_type": "stream",
     "text": [
      "Epoch 4 | TrainLoss: 0.2857980622964747 ValLoss: 0.19943422079086304\n"
     ]
    },
    {
     "name": "stderr",
     "output_type": "stream",
     "text": [
      "0.37495583295822144: 100%|██████████| 17/17 [00:06<00:00,  2.69it/s]\n"
     ]
    },
    {
     "name": "stdout",
     "output_type": "stream",
     "text": [
      "Epoch 5 | TrainLoss: 0.23681585227741914 ValLoss: 0.14821545282999674\n"
     ]
    },
    {
     "name": "stderr",
     "output_type": "stream",
     "text": [
      "0.18898075819015503: 100%|██████████| 17/17 [00:06<00:00,  2.70it/s]\n"
     ]
    },
    {
     "name": "stdout",
     "output_type": "stream",
     "text": [
      "Epoch 6 | TrainLoss: 0.18441885359147014 ValLoss: 0.1362946629524231\n"
     ]
    },
    {
     "name": "stderr",
     "output_type": "stream",
     "text": [
      "0.23061484098434448: 100%|██████████| 17/17 [00:06<00:00,  2.66it/s]\n"
     ]
    },
    {
     "name": "stdout",
     "output_type": "stream",
     "text": [
      "Epoch 7 | TrainLoss: 0.17562862704781926 ValLoss: 0.2554386059443156\n"
     ]
    },
    {
     "name": "stderr",
     "output_type": "stream",
     "text": [
      "0.2618676424026489: 100%|██████████| 17/17 [00:06<00:00,  2.68it/s] \n"
     ]
    },
    {
     "name": "stdout",
     "output_type": "stream",
     "text": [
      "Epoch 8 | TrainLoss: 0.19467204458573284 ValLoss: 0.13119993607203165\n"
     ]
    },
    {
     "name": "stderr",
     "output_type": "stream",
     "text": [
      "0.32267987728118896: 100%|██████████| 17/17 [00:06<00:00,  2.69it/s]\n"
     ]
    },
    {
     "name": "stdout",
     "output_type": "stream",
     "text": [
      "Epoch 9 | TrainLoss: 0.1564858590855318 ValLoss: 0.11654847860336304\n"
     ]
    },
    {
     "name": "stderr",
     "output_type": "stream",
     "text": [
      "0.10018253326416016: 100%|██████████| 17/17 [00:06<00:00,  2.68it/s]\n"
     ]
    },
    {
     "name": "stdout",
     "output_type": "stream",
     "text": [
      "Epoch 10 | TrainLoss: 0.14494421201593735 ValLoss: 0.13018896182378134\n"
     ]
    },
    {
     "name": "stderr",
     "output_type": "stream",
     "text": [
      "0.09176892042160034: 100%|██████████| 17/17 [00:06<00:00,  2.66it/s]\n"
     ]
    },
    {
     "name": "stdout",
     "output_type": "stream",
     "text": [
      "Epoch 11 | TrainLoss: 0.12975513233857996 ValLoss: 0.10442833105723064\n"
     ]
    },
    {
     "name": "stderr",
     "output_type": "stream",
     "text": [
      "0.16694128513336182: 100%|██████████| 17/17 [00:06<00:00,  2.69it/s]\n"
     ]
    },
    {
     "name": "stdout",
     "output_type": "stream",
     "text": [
      "Epoch 12 | TrainLoss: 0.1374799644245821 ValLoss: 0.11745494604110718\n"
     ]
    },
    {
     "name": "stderr",
     "output_type": "stream",
     "text": [
      "0.1324143409729004: 100%|██████████| 17/17 [00:06<00:00,  2.67it/s] \n"
     ]
    },
    {
     "name": "stdout",
     "output_type": "stream",
     "text": [
      "Epoch 13 | TrainLoss: 0.1198851606425117 ValLoss: 0.09886278708775838\n"
     ]
    },
    {
     "name": "stderr",
     "output_type": "stream",
     "text": [
      "0.08004021644592285: 100%|██████████| 17/17 [00:06<00:00,  2.70it/s]\n"
     ]
    },
    {
     "name": "stdout",
     "output_type": "stream",
     "text": [
      "Epoch 14 | TrainLoss: 0.10923703277812284 ValLoss: 0.08966461817423503\n"
     ]
    },
    {
     "name": "stderr",
     "output_type": "stream",
     "text": [
      "0.06450408697128296: 100%|██████████| 17/17 [00:06<00:00,  2.69it/s]\n"
     ]
    },
    {
     "name": "stdout",
     "output_type": "stream",
     "text": [
      "Epoch 15 | TrainLoss: 0.1049318979768192 ValLoss: 0.09131375948588054\n"
     ]
    },
    {
     "name": "stderr",
     "output_type": "stream",
     "text": [
      "0.0948488712310791: 100%|██████████| 17/17 [00:06<00:00,  2.69it/s] \n"
     ]
    },
    {
     "name": "stdout",
     "output_type": "stream",
     "text": [
      "Epoch 16 | TrainLoss: 0.09780833651037778 ValLoss: 0.08671528100967407\n"
     ]
    },
    {
     "name": "stderr",
     "output_type": "stream",
     "text": [
      "0.091297447681427: 100%|██████████| 17/17 [00:06<00:00,  2.69it/s]  \n"
     ]
    },
    {
     "name": "stdout",
     "output_type": "stream",
     "text": [
      "Epoch 17 | TrainLoss: 0.1004821588011349 ValLoss: 0.09666772683461507\n"
     ]
    },
    {
     "name": "stderr",
     "output_type": "stream",
     "text": [
      "0.08574599027633667: 100%|██████████| 17/17 [00:06<00:00,  2.63it/s]\n"
     ]
    },
    {
     "name": "stdout",
     "output_type": "stream",
     "text": [
      "Epoch 18 | TrainLoss: 0.10244153177036959 ValLoss: 0.08401942253112793\n"
     ]
    },
    {
     "name": "stderr",
     "output_type": "stream",
     "text": [
      "0.05383718013763428: 100%|██████████| 17/17 [00:06<00:00,  2.66it/s]\n"
     ]
    },
    {
     "name": "stdout",
     "output_type": "stream",
     "text": [
      "Epoch 19 | TrainLoss: 0.09144482542486752 ValLoss: 0.0775888164838155\n"
     ]
    },
    {
     "name": "stderr",
     "output_type": "stream",
     "text": [
      "0.13088446855545044: 100%|██████████| 17/17 [00:06<00:00,  2.65it/s] \n"
     ]
    },
    {
     "name": "stdout",
     "output_type": "stream",
     "text": [
      "Epoch 20 | TrainLoss: 0.09426332221311681 ValLoss: 0.09388985236485799\n"
     ]
    },
    {
     "name": "stderr",
     "output_type": "stream",
     "text": [
      "0.09332340955734253: 100%|██████████| 17/17 [00:06<00:00,  2.68it/s]\n"
     ]
    },
    {
     "name": "stdout",
     "output_type": "stream",
     "text": [
      "Epoch 21 | TrainLoss: 0.116147121962379 ValLoss: 0.092498779296875\n"
     ]
    },
    {
     "name": "stderr",
     "output_type": "stream",
     "text": [
      "0.057347774505615234: 100%|██████████| 17/17 [00:06<00:00,  2.67it/s]\n"
     ]
    },
    {
     "name": "stdout",
     "output_type": "stream",
     "text": [
      "Epoch 22 | TrainLoss: 0.10028444318210378 ValLoss: 0.08961878220240276\n"
     ]
    },
    {
     "name": "stderr",
     "output_type": "stream",
     "text": [
      "0.03636986017227173: 100%|██████████| 17/17 [00:06<00:00,  2.68it/s]\n"
     ]
    },
    {
     "name": "stdout",
     "output_type": "stream",
     "text": [
      "Epoch 23 | TrainLoss: 0.09332882656770594 ValLoss: 0.09903995196024577\n"
     ]
    },
    {
     "name": "stderr",
     "output_type": "stream",
     "text": [
      "0.0800662636756897: 100%|██████████| 17/17 [00:06<00:00,  2.65it/s] \n"
     ]
    },
    {
     "name": "stdout",
     "output_type": "stream",
     "text": [
      "Epoch 24 | TrainLoss: 0.0924635319148793 ValLoss: 0.07733700672785442\n"
     ]
    },
    {
     "name": "stderr",
     "output_type": "stream",
     "text": [
      "0.0765448808670044:  82%|████████▏ | 14/17 [00:05<00:01,  2.42it/s] \n"
     ]
    },
    {
     "ename": "KeyboardInterrupt",
     "evalue": "",
     "output_type": "error",
     "traceback": [
      "\u001b[0;31m---------------------------------------------------------------------------\u001b[0m",
      "\u001b[0;31mKeyboardInterrupt\u001b[0m                         Traceback (most recent call last)",
      "Cell \u001b[0;32mIn[18], line 12\u001b[0m\n\u001b[1;32m     10\u001b[0m loss \u001b[39m=\u001b[39m dice_loss(torch\u001b[39m.\u001b[39msigmoid(pred_mask), gt_msk_batch\u001b[39m.\u001b[39mto(device))\n\u001b[1;32m     11\u001b[0m loss\u001b[39m.\u001b[39mbackward()\n\u001b[0;32m---> 12\u001b[0m optimizer\u001b[39m.\u001b[39;49mstep()\n\u001b[1;32m     14\u001b[0m progress_bar\u001b[39m.\u001b[39mset_description(\u001b[39mstr\u001b[39m(loss\u001b[39m.\u001b[39mitem()))\n\u001b[1;32m     16\u001b[0m train_loss \u001b[39m+\u001b[39m\u001b[39m=\u001b[39m loss\u001b[39m.\u001b[39mitem()\n",
      "File \u001b[0;32m~/Library/Caches/pypoetry/virtualenvs/cellforge-Tgd_YqAD-py3.11/lib/python3.11/site-packages/torch/optim/optimizer.py:487\u001b[0m, in \u001b[0;36mOptimizer.profile_hook_step.<locals>.wrapper\u001b[0;34m(*args, **kwargs)\u001b[0m\n\u001b[1;32m    482\u001b[0m         \u001b[39melse\u001b[39;00m:\n\u001b[1;32m    483\u001b[0m             \u001b[39mraise\u001b[39;00m \u001b[39mRuntimeError\u001b[39;00m(\n\u001b[1;32m    484\u001b[0m                 \u001b[39mf\u001b[39m\u001b[39m\"\u001b[39m\u001b[39m{\u001b[39;00mfunc\u001b[39m}\u001b[39;00m\u001b[39m must return None or a tuple of (new_args, new_kwargs), but got \u001b[39m\u001b[39m{\u001b[39;00mresult\u001b[39m}\u001b[39;00m\u001b[39m.\u001b[39m\u001b[39m\"\u001b[39m\n\u001b[1;32m    485\u001b[0m             )\n\u001b[0;32m--> 487\u001b[0m out \u001b[39m=\u001b[39m func(\u001b[39m*\u001b[39;49margs, \u001b[39m*\u001b[39;49m\u001b[39m*\u001b[39;49mkwargs)\n\u001b[1;32m    488\u001b[0m \u001b[39mself\u001b[39m\u001b[39m.\u001b[39m_optimizer_step_code()\n\u001b[1;32m    490\u001b[0m \u001b[39m# call optimizer step post hooks\u001b[39;00m\n",
      "File \u001b[0;32m~/Library/Caches/pypoetry/virtualenvs/cellforge-Tgd_YqAD-py3.11/lib/python3.11/site-packages/torch/optim/optimizer.py:91\u001b[0m, in \u001b[0;36m_use_grad_for_differentiable.<locals>._use_grad\u001b[0;34m(self, *args, **kwargs)\u001b[0m\n\u001b[1;32m     89\u001b[0m     torch\u001b[39m.\u001b[39mset_grad_enabled(\u001b[39mself\u001b[39m\u001b[39m.\u001b[39mdefaults[\u001b[39m\"\u001b[39m\u001b[39mdifferentiable\u001b[39m\u001b[39m\"\u001b[39m])\n\u001b[1;32m     90\u001b[0m     torch\u001b[39m.\u001b[39m_dynamo\u001b[39m.\u001b[39mgraph_break()\n\u001b[0;32m---> 91\u001b[0m     ret \u001b[39m=\u001b[39m func(\u001b[39mself\u001b[39;49m, \u001b[39m*\u001b[39;49margs, \u001b[39m*\u001b[39;49m\u001b[39m*\u001b[39;49mkwargs)\n\u001b[1;32m     92\u001b[0m \u001b[39mfinally\u001b[39;00m:\n\u001b[1;32m     93\u001b[0m     torch\u001b[39m.\u001b[39m_dynamo\u001b[39m.\u001b[39mgraph_break()\n",
      "File \u001b[0;32m~/Library/Caches/pypoetry/virtualenvs/cellforge-Tgd_YqAD-py3.11/lib/python3.11/site-packages/torch/optim/adam.py:223\u001b[0m, in \u001b[0;36mAdam.step\u001b[0;34m(self, closure)\u001b[0m\n\u001b[1;32m    211\u001b[0m     beta1, beta2 \u001b[39m=\u001b[39m group[\u001b[39m\"\u001b[39m\u001b[39mbetas\u001b[39m\u001b[39m\"\u001b[39m]\n\u001b[1;32m    213\u001b[0m     has_complex \u001b[39m=\u001b[39m \u001b[39mself\u001b[39m\u001b[39m.\u001b[39m_init_group(\n\u001b[1;32m    214\u001b[0m         group,\n\u001b[1;32m    215\u001b[0m         params_with_grad,\n\u001b[0;32m   (...)\u001b[0m\n\u001b[1;32m    220\u001b[0m         state_steps,\n\u001b[1;32m    221\u001b[0m     )\n\u001b[0;32m--> 223\u001b[0m     adam(\n\u001b[1;32m    224\u001b[0m         params_with_grad,\n\u001b[1;32m    225\u001b[0m         grads,\n\u001b[1;32m    226\u001b[0m         exp_avgs,\n\u001b[1;32m    227\u001b[0m         exp_avg_sqs,\n\u001b[1;32m    228\u001b[0m         max_exp_avg_sqs,\n\u001b[1;32m    229\u001b[0m         state_steps,\n\u001b[1;32m    230\u001b[0m         amsgrad\u001b[39m=\u001b[39;49mgroup[\u001b[39m\"\u001b[39;49m\u001b[39mamsgrad\u001b[39;49m\u001b[39m\"\u001b[39;49m],\n\u001b[1;32m    231\u001b[0m         has_complex\u001b[39m=\u001b[39;49mhas_complex,\n\u001b[1;32m    232\u001b[0m         beta1\u001b[39m=\u001b[39;49mbeta1,\n\u001b[1;32m    233\u001b[0m         beta2\u001b[39m=\u001b[39;49mbeta2,\n\u001b[1;32m    234\u001b[0m         lr\u001b[39m=\u001b[39;49mgroup[\u001b[39m\"\u001b[39;49m\u001b[39mlr\u001b[39;49m\u001b[39m\"\u001b[39;49m],\n\u001b[1;32m    235\u001b[0m         weight_decay\u001b[39m=\u001b[39;49mgroup[\u001b[39m\"\u001b[39;49m\u001b[39mweight_decay\u001b[39;49m\u001b[39m\"\u001b[39;49m],\n\u001b[1;32m    236\u001b[0m         eps\u001b[39m=\u001b[39;49mgroup[\u001b[39m\"\u001b[39;49m\u001b[39meps\u001b[39;49m\u001b[39m\"\u001b[39;49m],\n\u001b[1;32m    237\u001b[0m         maximize\u001b[39m=\u001b[39;49mgroup[\u001b[39m\"\u001b[39;49m\u001b[39mmaximize\u001b[39;49m\u001b[39m\"\u001b[39;49m],\n\u001b[1;32m    238\u001b[0m         foreach\u001b[39m=\u001b[39;49mgroup[\u001b[39m\"\u001b[39;49m\u001b[39mforeach\u001b[39;49m\u001b[39m\"\u001b[39;49m],\n\u001b[1;32m    239\u001b[0m         capturable\u001b[39m=\u001b[39;49mgroup[\u001b[39m\"\u001b[39;49m\u001b[39mcapturable\u001b[39;49m\u001b[39m\"\u001b[39;49m],\n\u001b[1;32m    240\u001b[0m         differentiable\u001b[39m=\u001b[39;49mgroup[\u001b[39m\"\u001b[39;49m\u001b[39mdifferentiable\u001b[39;49m\u001b[39m\"\u001b[39;49m],\n\u001b[1;32m    241\u001b[0m         fused\u001b[39m=\u001b[39;49mgroup[\u001b[39m\"\u001b[39;49m\u001b[39mfused\u001b[39;49m\u001b[39m\"\u001b[39;49m],\n\u001b[1;32m    242\u001b[0m         grad_scale\u001b[39m=\u001b[39;49m\u001b[39mgetattr\u001b[39;49m(\u001b[39mself\u001b[39;49m, \u001b[39m\"\u001b[39;49m\u001b[39mgrad_scale\u001b[39;49m\u001b[39m\"\u001b[39;49m, \u001b[39mNone\u001b[39;49;00m),\n\u001b[1;32m    243\u001b[0m         found_inf\u001b[39m=\u001b[39;49m\u001b[39mgetattr\u001b[39;49m(\u001b[39mself\u001b[39;49m, \u001b[39m\"\u001b[39;49m\u001b[39mfound_inf\u001b[39;49m\u001b[39m\"\u001b[39;49m, \u001b[39mNone\u001b[39;49;00m),\n\u001b[1;32m    244\u001b[0m     )\n\u001b[1;32m    246\u001b[0m \u001b[39mreturn\u001b[39;00m loss\n",
      "File \u001b[0;32m~/Library/Caches/pypoetry/virtualenvs/cellforge-Tgd_YqAD-py3.11/lib/python3.11/site-packages/torch/optim/optimizer.py:154\u001b[0m, in \u001b[0;36m_disable_dynamo_if_unsupported.<locals>.wrapper.<locals>.maybe_fallback\u001b[0;34m(*args, **kwargs)\u001b[0m\n\u001b[1;32m    152\u001b[0m     \u001b[39mreturn\u001b[39;00m disabled_func(\u001b[39m*\u001b[39margs, \u001b[39m*\u001b[39m\u001b[39m*\u001b[39mkwargs)\n\u001b[1;32m    153\u001b[0m \u001b[39melse\u001b[39;00m:\n\u001b[0;32m--> 154\u001b[0m     \u001b[39mreturn\u001b[39;00m func(\u001b[39m*\u001b[39;49margs, \u001b[39m*\u001b[39;49m\u001b[39m*\u001b[39;49mkwargs)\n",
      "File \u001b[0;32m~/Library/Caches/pypoetry/virtualenvs/cellforge-Tgd_YqAD-py3.11/lib/python3.11/site-packages/torch/optim/adam.py:784\u001b[0m, in \u001b[0;36madam\u001b[0;34m(params, grads, exp_avgs, exp_avg_sqs, max_exp_avg_sqs, state_steps, foreach, capturable, differentiable, fused, grad_scale, found_inf, has_complex, amsgrad, beta1, beta2, lr, weight_decay, eps, maximize)\u001b[0m\n\u001b[1;32m    781\u001b[0m \u001b[39melse\u001b[39;00m:\n\u001b[1;32m    782\u001b[0m     func \u001b[39m=\u001b[39m _single_tensor_adam\n\u001b[0;32m--> 784\u001b[0m func(\n\u001b[1;32m    785\u001b[0m     params,\n\u001b[1;32m    786\u001b[0m     grads,\n\u001b[1;32m    787\u001b[0m     exp_avgs,\n\u001b[1;32m    788\u001b[0m     exp_avg_sqs,\n\u001b[1;32m    789\u001b[0m     max_exp_avg_sqs,\n\u001b[1;32m    790\u001b[0m     state_steps,\n\u001b[1;32m    791\u001b[0m     amsgrad\u001b[39m=\u001b[39;49mamsgrad,\n\u001b[1;32m    792\u001b[0m     has_complex\u001b[39m=\u001b[39;49mhas_complex,\n\u001b[1;32m    793\u001b[0m     beta1\u001b[39m=\u001b[39;49mbeta1,\n\u001b[1;32m    794\u001b[0m     beta2\u001b[39m=\u001b[39;49mbeta2,\n\u001b[1;32m    795\u001b[0m     lr\u001b[39m=\u001b[39;49mlr,\n\u001b[1;32m    796\u001b[0m     weight_decay\u001b[39m=\u001b[39;49mweight_decay,\n\u001b[1;32m    797\u001b[0m     eps\u001b[39m=\u001b[39;49meps,\n\u001b[1;32m    798\u001b[0m     maximize\u001b[39m=\u001b[39;49mmaximize,\n\u001b[1;32m    799\u001b[0m     capturable\u001b[39m=\u001b[39;49mcapturable,\n\u001b[1;32m    800\u001b[0m     differentiable\u001b[39m=\u001b[39;49mdifferentiable,\n\u001b[1;32m    801\u001b[0m     grad_scale\u001b[39m=\u001b[39;49mgrad_scale,\n\u001b[1;32m    802\u001b[0m     found_inf\u001b[39m=\u001b[39;49mfound_inf,\n\u001b[1;32m    803\u001b[0m )\n",
      "File \u001b[0;32m~/Library/Caches/pypoetry/virtualenvs/cellforge-Tgd_YqAD-py3.11/lib/python3.11/site-packages/torch/optim/adam.py:369\u001b[0m, in \u001b[0;36m_single_tensor_adam\u001b[0;34m(params, grads, exp_avgs, exp_avg_sqs, max_exp_avg_sqs, state_steps, grad_scale, found_inf, amsgrad, has_complex, beta1, beta2, lr, weight_decay, eps, maximize, capturable, differentiable)\u001b[0m\n\u001b[1;32m    366\u001b[0m \u001b[39mif\u001b[39;00m weight_decay \u001b[39m!=\u001b[39m \u001b[39m0\u001b[39m:\n\u001b[1;32m    367\u001b[0m     grad \u001b[39m=\u001b[39m grad\u001b[39m.\u001b[39madd(param, alpha\u001b[39m=\u001b[39mweight_decay)\n\u001b[0;32m--> 369\u001b[0m \u001b[39mif\u001b[39;00m torch\u001b[39m.\u001b[39;49mis_complex(param):\n\u001b[1;32m    370\u001b[0m     grad \u001b[39m=\u001b[39m torch\u001b[39m.\u001b[39mview_as_real(grad)\n\u001b[1;32m    371\u001b[0m     exp_avg \u001b[39m=\u001b[39m torch\u001b[39m.\u001b[39mview_as_real(exp_avg)\n",
      "\u001b[0;31mKeyboardInterrupt\u001b[0m: "
     ]
    }
   ],
   "source": [
    "for epoch in range(n_epochs):\n",
    "    progress_bar = tqdm(train_dataloader, total=len(train_dataloader))\n",
    "\n",
    "    train_loss = 0\n",
    "    for img_batch, gt_msk_batch in progress_bar:\n",
    "\n",
    "        optimizer.zero_grad()\n",
    "        pred_mask = model(img_batch.to(device))\n",
    "\n",
    "        loss = dice_loss(torch.sigmoid(pred_mask), gt_msk_batch.to(device))\n",
    "        loss.backward()\n",
    "        optimizer.step()\n",
    "\n",
    "        progress_bar.set_description(str(loss.item()))\n",
    "\n",
    "        train_loss += loss.item()\n",
    "\n",
    "    val_loss = validate(model, val_dataloader)\n",
    "\n",
    "    print(\n",
    "        f'Epoch {epoch+1} | TrainLoss: {train_loss/len(train_dataloader)} ValLoss: {val_loss}'\n",
    "    )\n"
   ]
  },
  {
   "cell_type": "code",
   "execution_count": 19,
   "metadata": {},
   "outputs": [
    {
     "name": "stdout",
     "output_type": "stream",
     "text": [
      "IoU: 0.8669, Dice: 0.9287\n"
     ]
    }
   ],
   "source": [
    "import torch\n",
    "\n",
    "\n",
    "def compute_iou_and_dice(pred: torch.Tensor,\n",
    "                         gt: torch.Tensor) -> tuple[float, float]:\n",
    "    \"\"\"\n",
    "    Compute IoU and Dice metrics for binary segmentation masks using PyTorch.\n",
    "\n",
    "    Args:\n",
    "        pred (torch.Tensor): Predicted binary mask (0 or 1), shape (H, W).\n",
    "        gt (torch.Tensor): Ground truth binary mask (0 or 1), shape (H, W).\n",
    "\n",
    "    Returns:\n",
    "        tuple[float, float]: IoU and Dice scores.\n",
    "    \"\"\"\n",
    "    # Ensure binary masks (threshold at 0.5 for soft predictions)\n",
    "    pred = (pred > 0.5).float()\n",
    "    gt = (gt > 0.5).float()\n",
    "\n",
    "    # Compute intersection and union\n",
    "    intersection = torch.sum(pred * gt)\n",
    "    union = torch.sum(pred) + torch.sum(gt) - intersection\n",
    "\n",
    "    # Compute IoU\n",
    "    iou = (intersection / union).item() if union > 0 else 0.0\n",
    "\n",
    "    # Compute Dice coefficient\n",
    "    dice = (2 * intersection / (torch.sum(pred) + torch.sum(gt))).item() if (\n",
    "        torch.sum(pred) + torch.sum(gt)) > 0 else 0.0\n",
    "\n",
    "    return iou, dice\n",
    "\n",
    "\n",
    "# # Example usage\n",
    "# pred_mask = torch.randint(0, 2, (256, 256),\n",
    "#                           dtype=torch.float32)  # Example predicted mask\n",
    "# gt_mask = torch.randint(0, 2, (256, 256),\n",
    "#                         dtype=torch.float32)  # Example ground truth mask\n",
    "\n",
    "iou_fn, dice_fn = compute_iou_and_dice(torch.sigmoid(pred_mask),\n",
    "                                       gt_msk_batch.to(device))\n",
    "print(f\"IoU: {iou_fn:.4f}, Dice: {dice_fn:.4f}\")\n"
   ]
  },
  {
   "cell_type": "code",
   "execution_count": 20,
   "metadata": {},
   "outputs": [],
   "source": [
    "model.eval()\n",
    "gt_masks_all = []\n",
    "pred_masks_all = []\n",
    "\n",
    "all_images = []\n",
    "for img_batch, gt_msk_batch in val_dataloader:\n",
    "\n",
    "    pred_mask = model(img_batch.to(device))\n",
    "    all_images.append(img_batch)\n",
    "    pred_masks_all.append(pred_mask.to('cpu'))\n",
    "    gt_masks_all.append(gt_msk_batch.to('cpu'))\n"
   ]
  },
  {
   "cell_type": "code",
   "execution_count": 23,
   "metadata": {},
   "outputs": [],
   "source": [
    "from torchmetrics import JaccardIndex, Dice\n"
   ]
  },
  {
   "cell_type": "code",
   "execution_count": 25,
   "metadata": {},
   "outputs": [
    {
     "name": "stdout",
     "output_type": "stream",
     "text": [
      "IoU: 0.844\n",
      "Dice Coeff: 0.916\n"
     ]
    }
   ],
   "source": [
    "iou_fn = JaccardIndex(task='binary', threshold=0.90)\n",
    "dice_fn = Dice(threshold=0.90)\n",
    "\n",
    "iou_fn(torch.sigmoid(torch.vstack(pred_masks_all)), torch.vstack(gt_masks_all))\n",
    "\n",
    "dice_fn(\n",
    "    torch.sigmoid(torch.vstack(pred_masks_all)),\n",
    "    torch.vstack(gt_masks_all).long(),\n",
    ")\n",
    "\n",
    "print(\n",
    "    f\"IoU: {iou_fn(torch.sigmoid(torch.vstack(pred_masks_all)), torch.vstack(gt_masks_all)):.3f}\"\n",
    ")\n",
    "\n",
    "print(\n",
    "    f\"Dice Coeff: {dice_fn(torch.sigmoid(torch.vstack(pred_masks_all)), torch.vstack(gt_masks_all).long()):.3f}\"\n",
    ")\n",
    "\n",
    "sample_pred_mask = torch.sigmoid(pred_masks_all[2][3][0].detach())\n",
    "\n",
    "sample_gt_mask = gt_masks_all[2][3][0].detach()"
   ]
  },
  {
   "cell_type": "code",
   "execution_count": 26,
   "metadata": {},
   "outputs": [
    {
     "data": {
      "image/png": "[encoded data removed]",
      "text/plain": [
       "<Figure size 1500x500 with 3 Axes>"
      ]
     },
     "metadata": {},
     "output_type": "display_data"
    }
   ],
   "source": [
    "import matplotlib.pyplot as plt\n",
    "\n",
    "# Assuming 'source_image', 'sample_gt_mask', and 'sample_pred_mask' are numpy arrays\n",
    "# Display side by side\n",
    "fig, axes = plt.subplots(1, 3, figsize=(15, 5))\n",
    "\n",
    "# Original ground truth mask\n",
    "axes[0].imshow(sample_gt_mask.numpy(), cmap='gray')\n",
    "axes[0].set_title(\"Ground Truth Mask\")\n",
    "axes[0].axis('off')\n",
    "\n",
    "# Prediction mask thresholded\n",
    "axes[1].imshow(sample_pred_mask > 0.4, cmap='gray')\n",
    "axes[1].set_title(\"Predicted Mask > 0.4\")\n",
    "axes[1].axis('off')\n",
    "\n",
    "# Overlay source image with ground truth and predicted masks\n",
    "overlay_image = all_images[2][3][0].numpy().copy()\n",
    "# Adjust overlay to include masks for better visibility\n",
    "# overlay_image[sample_gt_mask > 0] = [255, 0, 0]  # Example: red for GT\n",
    "# overlay_image[sample_pred_mask > 0.95] = [0, 255,\n",
    "#                                           0]  # Example: green for prediction\n",
    "\n",
    "axes[2].imshow(overlay_image)\n",
    "axes[2].set_title(\"Overlay with Source Image\")\n",
    "axes[2].axis('off')\n",
    "\n",
    "plt.tight_layout()\n",
    "plt.show()\n"
   ]
  },
  {
   "attachments": {},
   "cell_type": "markdown",
   "metadata": {},
   "source": []
  },
  {
   "cell_type": "code",
   "execution_count": null,
   "metadata": {},
   "outputs": [],
   "source": []
  }
 ],
 "metadata": {
  "kernelspec": {
   "display_name": "cellforge-Tgd_YqAD-py3.11",
   "language": "python",
   "name": "python3"
  },
  "language_info": {
   "codemirror_mode": {
    "name": "ipython",
    "version": 3
   },
   "file_extension": ".py",
   "mimetype": "text/x-python",
   "name": "python",
   "nbconvert_exporter": "python",
   "pygments_lexer": "ipython3",
   "version": "3.11.10"
  },
  "orig_nbformat": 4
 },
 "nbformat": 4,
 "nbformat_minor": 2
}
