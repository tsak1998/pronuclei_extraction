{
 "cells": [
  {
   "cell_type": "code",
   "execution_count": 2,
   "metadata": {},
   "outputs": [],
   "source": [
    "import pandas as pd\n",
    "# import tsfresh\n",
    "import numpy as np\n",
    "import matplotlib.pyplot as plt\n",
    "from sklearn.preprocessing import LabelEncoder, StandardScaler"
   ]
  },
  {
   "cell_type": "code",
   "execution_count": 3,
   "metadata": {},
   "outputs": [],
   "source": [
    "df = pd.read_csv('../files/graded_data.csv')\n"
   ]
  },
  {
   "cell_type": "code",
   "execution_count": 4,
   "metadata": {},
   "outputs": [
    {
     "data": {
      "text/html": [
       "<div>\n",
       "<style scoped>\n",
       "    .dataframe tbody tr th:only-of-type {\n",
       "        vertical-align: middle;\n",
       "    }\n",
       "\n",
       "    .dataframe tbody tr th {\n",
       "        vertical-align: top;\n",
       "    }\n",
       "\n",
       "    .dataframe thead th {\n",
       "        text-align: right;\n",
       "    }\n",
       "</style>\n",
       "<table border=\"1\" class=\"dataframe\">\n",
       "  <thead>\n",
       "    <tr style=\"text-align: right;\">\n",
       "      <th></th>\n",
       "      <th>Unnamed: 0</th>\n",
       "      <th>area</th>\n",
       "      <th>eccentricity</th>\n",
       "      <th>equivalent_diameter</th>\n",
       "      <th>inertia_tensor-0-0</th>\n",
       "      <th>inertia_tensor-0-1</th>\n",
       "      <th>inertia_tensor-1-0</th>\n",
       "      <th>inertia_tensor-1-1</th>\n",
       "      <th>major_axis_length</th>\n",
       "      <th>minor_axis_length</th>\n",
       "      <th>...</th>\n",
       "      <th>moments_normalized-2-2</th>\n",
       "      <th>moments_normalized-2-3</th>\n",
       "      <th>moments_normalized-3-0</th>\n",
       "      <th>moments_normalized-3-1</th>\n",
       "      <th>moments_normalized-3-2</th>\n",
       "      <th>moments_normalized-3-3</th>\n",
       "      <th>perimeter</th>\n",
       "      <th>solidity</th>\n",
       "      <th>id</th>\n",
       "      <th>t</th>\n",
       "    </tr>\n",
       "  </thead>\n",
       "  <tbody>\n",
       "    <tr>\n",
       "      <th>0</th>\n",
       "      <td>0</td>\n",
       "      <td>7932</td>\n",
       "      <td>0.180185</td>\n",
       "      <td>100.495453</td>\n",
       "      <td>628.573860</td>\n",
       "      <td>-10.004083</td>\n",
       "      <td>-10.004083</td>\n",
       "      <td>634.405509</td>\n",
       "      <td>101.343774</td>\n",
       "      <td>99.685051</td>\n",
       "      <td>...</td>\n",
       "      <td>0.004253</td>\n",
       "      <td>-0.000026</td>\n",
       "      <td>-0.000358</td>\n",
       "      <td>0.000161</td>\n",
       "      <td>0.000025</td>\n",
       "      <td>0.000022</td>\n",
       "      <td>331.220346</td>\n",
       "      <td>0.989644</td>\n",
       "      <td>D2016.01.05_S1181_I149_10</td>\n",
       "      <td>1</td>\n",
       "    </tr>\n",
       "    <tr>\n",
       "      <th>1</th>\n",
       "      <td>0</td>\n",
       "      <td>7803</td>\n",
       "      <td>0.236842</td>\n",
       "      <td>99.674912</td>\n",
       "      <td>622.325329</td>\n",
       "      <td>-17.902466</td>\n",
       "      <td>-17.902466</td>\n",
       "      <td>620.354356</td>\n",
       "      <td>101.135111</td>\n",
       "      <td>98.257643</td>\n",
       "      <td>...</td>\n",
       "      <td>0.004217</td>\n",
       "      <td>0.000002</td>\n",
       "      <td>-0.000130</td>\n",
       "      <td>0.000340</td>\n",
       "      <td>-0.000004</td>\n",
       "      <td>0.000042</td>\n",
       "      <td>327.806133</td>\n",
       "      <td>0.989475</td>\n",
       "      <td>D2016.01.05_S1181_I149_10</td>\n",
       "      <td>12</td>\n",
       "    </tr>\n",
       "    <tr>\n",
       "      <th>2</th>\n",
       "      <td>0</td>\n",
       "      <td>7896</td>\n",
       "      <td>0.296763</td>\n",
       "      <td>100.267140</td>\n",
       "      <td>623.140292</td>\n",
       "      <td>-28.353816</td>\n",
       "      <td>-28.353816</td>\n",
       "      <td>635.116674</td>\n",
       "      <td>102.614443</td>\n",
       "      <td>97.991773</td>\n",
       "      <td>...</td>\n",
       "      <td>0.004229</td>\n",
       "      <td>0.000018</td>\n",
       "      <td>-0.000087</td>\n",
       "      <td>0.000566</td>\n",
       "      <td>0.000011</td>\n",
       "      <td>0.000068</td>\n",
       "      <td>331.220346</td>\n",
       "      <td>0.988854</td>\n",
       "      <td>D2016.01.05_S1181_I149_10</td>\n",
       "      <td>23</td>\n",
       "    </tr>\n",
       "    <tr>\n",
       "      <th>3</th>\n",
       "      <td>0</td>\n",
       "      <td>7737</td>\n",
       "      <td>0.241269</td>\n",
       "      <td>99.252478</td>\n",
       "      <td>614.385805</td>\n",
       "      <td>-18.390996</td>\n",
       "      <td>-18.390996</td>\n",
       "      <td>617.773185</td>\n",
       "      <td>100.760970</td>\n",
       "      <td>97.784307</td>\n",
       "      <td>...</td>\n",
       "      <td>0.004272</td>\n",
       "      <td>-0.000016</td>\n",
       "      <td>0.000141</td>\n",
       "      <td>0.000337</td>\n",
       "      <td>-0.000008</td>\n",
       "      <td>0.000044</td>\n",
       "      <td>327.806133</td>\n",
       "      <td>0.988880</td>\n",
       "      <td>D2016.01.05_S1181_I149_10</td>\n",
       "      <td>34</td>\n",
       "    </tr>\n",
       "    <tr>\n",
       "      <th>4</th>\n",
       "      <td>0</td>\n",
       "      <td>7814</td>\n",
       "      <td>0.312012</td>\n",
       "      <td>99.745144</td>\n",
       "      <td>624.975317</td>\n",
       "      <td>-31.809920</td>\n",
       "      <td>-31.809920</td>\n",
       "      <td>620.930018</td>\n",
       "      <td>102.358338</td>\n",
       "      <td>97.248425</td>\n",
       "      <td>...</td>\n",
       "      <td>0.004370</td>\n",
       "      <td>0.000022</td>\n",
       "      <td>-0.000258</td>\n",
       "      <td>0.000569</td>\n",
       "      <td>0.000042</td>\n",
       "      <td>0.000083</td>\n",
       "      <td>328.735065</td>\n",
       "      <td>0.987988</td>\n",
       "      <td>D2016.01.05_S1181_I149_10</td>\n",
       "      <td>45</td>\n",
       "    </tr>\n",
       "  </tbody>\n",
       "</table>\n",
       "<p>5 rows × 30 columns</p>\n",
       "</div>"
      ],
      "text/plain": [
       "   Unnamed: 0  area  eccentricity  equivalent_diameter  inertia_tensor-0-0  \\\n",
       "0           0  7932      0.180185           100.495453          628.573860   \n",
       "1           0  7803      0.236842            99.674912          622.325329   \n",
       "2           0  7896      0.296763           100.267140          623.140292   \n",
       "3           0  7737      0.241269            99.252478          614.385805   \n",
       "4           0  7814      0.312012            99.745144          624.975317   \n",
       "\n",
       "   inertia_tensor-0-1  inertia_tensor-1-0  inertia_tensor-1-1  \\\n",
       "0          -10.004083          -10.004083          634.405509   \n",
       "1          -17.902466          -17.902466          620.354356   \n",
       "2          -28.353816          -28.353816          635.116674   \n",
       "3          -18.390996          -18.390996          617.773185   \n",
       "4          -31.809920          -31.809920          620.930018   \n",
       "\n",
       "   major_axis_length  minor_axis_length  ...  moments_normalized-2-2  \\\n",
       "0         101.343774          99.685051  ...                0.004253   \n",
       "1         101.135111          98.257643  ...                0.004217   \n",
       "2         102.614443          97.991773  ...                0.004229   \n",
       "3         100.760970          97.784307  ...                0.004272   \n",
       "4         102.358338          97.248425  ...                0.004370   \n",
       "\n",
       "   moments_normalized-2-3  moments_normalized-3-0  moments_normalized-3-1  \\\n",
       "0               -0.000026               -0.000358                0.000161   \n",
       "1                0.000002               -0.000130                0.000340   \n",
       "2                0.000018               -0.000087                0.000566   \n",
       "3               -0.000016                0.000141                0.000337   \n",
       "4                0.000022               -0.000258                0.000569   \n",
       "\n",
       "   moments_normalized-3-2  moments_normalized-3-3   perimeter  solidity  \\\n",
       "0                0.000025                0.000022  331.220346  0.989644   \n",
       "1               -0.000004                0.000042  327.806133  0.989475   \n",
       "2                0.000011                0.000068  331.220346  0.988854   \n",
       "3               -0.000008                0.000044  327.806133  0.988880   \n",
       "4                0.000042                0.000083  328.735065  0.987988   \n",
       "\n",
       "                          id   t  \n",
       "0  D2016.01.05_S1181_I149_10   1  \n",
       "1  D2016.01.05_S1181_I149_10  12  \n",
       "2  D2016.01.05_S1181_I149_10  23  \n",
       "3  D2016.01.05_S1181_I149_10  34  \n",
       "4  D2016.01.05_S1181_I149_10  45  \n",
       "\n",
       "[5 rows x 30 columns]"
      ]
     },
     "execution_count": 4,
     "metadata": {},
     "output_type": "execute_result"
    }
   ],
   "source": [
    "df.head()"
   ]
  },
  {
   "cell_type": "code",
   "execution_count": 5,
   "metadata": {},
   "outputs": [],
   "source": [
    "target = pd.read_csv('../files/last_attempt.csv')"
   ]
  },
  {
   "cell_type": "code",
   "execution_count": 6,
   "metadata": {},
   "outputs": [],
   "source": [
    "target['id'] = target['Slide ID']+'_'+target['Well'].astype(str)"
   ]
  },
  {
   "cell_type": "code",
   "execution_count": 7,
   "metadata": {},
   "outputs": [
    {
     "name": "stdout",
     "output_type": "stream",
     "text": [
      "Requirement already satisfied: openpyxl in c:\\users\\hp\\anaconda3\\envs\\pymc_env\\lib\\site-packages (3.1.2)\n",
      "Requirement already satisfied: et-xmlfile in c:\\users\\hp\\anaconda3\\envs\\pymc_env\\lib\\site-packages (from openpyxl) (1.1.0)\n"
     ]
    }
   ],
   "source": [
    "!pip install openpyxl"
   ]
  },
  {
   "cell_type": "code",
   "execution_count": 8,
   "metadata": {},
   "outputs": [],
   "source": [
    "zoe = pd.read_excel('../files/latest_Zoe central.xlsx')"
   ]
  },
  {
   "cell_type": "code",
   "execution_count": 9,
   "metadata": {},
   "outputs": [],
   "source": [
    "columns_of_interest = [\n",
    "'Well',\n",
    "'Slide ID',\n",
    "'Grade at approx. 65h - Zoe',\n",
    "'Grade at approx. 65h - Chrysa',\n",
    "'HCG Test',\n",
    "'Gestational Sacs',\n",
    "'Fetal Heart Beat',\n",
    "'pgs',\n",
    "'Morphological Grade - Value',\n",
    "    'tPNf', 't2', 't3', 't4', 't5', 't6', 't7'\n",
    "    \n",
    "]"
   ]
  },
  {
   "cell_type": "code",
   "execution_count": 10,
   "metadata": {},
   "outputs": [],
   "source": [
    "time_cols = ['tPNf', 't2', 't3', 't4', 't5', 't6', 't7', 't8', 'tM']"
   ]
  },
  {
   "cell_type": "code",
   "execution_count": 11,
   "metadata": {},
   "outputs": [],
   "source": [
    "time_cols_all = ['Start Time',\n",
    " 'End Time',\n",
    " 'tPB2',\n",
    " 'tPNa',\n",
    " 'tPNf',\n",
    " 't2',\n",
    " 't3',\n",
    " 't4',\n",
    " 't5',\n",
    " 't6',\n",
    " 't7',\n",
    " 't8',\n",
    " 't9',\n",
    " 'tSC',\n",
    " 'tM',\n",
    " 'tSB',\n",
    " 'tB',\n",
    " 'tEB',\n",
    " 'tHB',\n",
    " 'tDead',\n",
    " 'Dynamic Score - Time',\n",
    " 'Morphological Grade - Time',\n",
    " 'transfer',\n",
    " 'Z Score - Time',\n",
    " 'Fragmentation - Time 1',\n",
    "\n",
    " 'Multi Nucleation - Time 1',\n",
    "\n",
    " 'Blastomere Size - Time 1',\n",
    "\n",
    "\n",
    " # 'Irregular Division - Time 1',\n",
    "\n",
    " 'Comment - Time 1',\n",
    " \n",
    " 'Pronuclei - Time 1',\n",
    " ]"
   ]
  },
  {
   "cell_type": "code",
   "execution_count": 12,
   "metadata": {},
   "outputs": [],
   "source": [
    "with_fetal_heart = zoe.loc[(zoe['Fetal Heart Beat'].notnull())&(zoe['Fetal Heart Beat']!='Unknown')&(zoe['Fetal Heart Beat']!='unknown')]"
   ]
  },
  {
   "cell_type": "code",
   "execution_count": 13,
   "metadata": {},
   "outputs": [],
   "source": [
    "failed = with_fetal_heart.loc[with_fetal_heart['Fetal Heart Beat']==0]"
   ]
  },
  {
   "cell_type": "code",
   "execution_count": 14,
   "metadata": {},
   "outputs": [],
   "source": [
    "succeesfull = with_fetal_heart.drop(failed.index).loc[(with_fetal_heart['Fetal Heart Beat'].astype(float)>0.75)]"
   ]
  },
  {
   "cell_type": "code",
   "execution_count": 15,
   "metadata": {},
   "outputs": [
    {
     "name": "stderr",
     "output_type": "stream",
     "text": [
      "C:\\Users\\hp\\AppData\\Local\\Temp\\ipykernel_23408\\3599493305.py:1: SettingWithCopyWarning: \n",
      "A value is trying to be set on a copy of a slice from a DataFrame.\n",
      "Try using .loc[row_indexer,col_indexer] = value instead\n",
      "\n",
      "See the caveats in the documentation: https://pandas.pydata.org/pandas-docs/stable/user_guide/indexing.html#returning-a-view-versus-a-copy\n",
      "  failed['id'] = failed['Slide ID']+'_'+failed['Well'].astype(str)\n"
     ]
    }
   ],
   "source": [
    "failed['id'] = failed['Slide ID']+'_'+failed['Well'].astype(str)"
   ]
  },
  {
   "cell_type": "code",
   "execution_count": 16,
   "metadata": {},
   "outputs": [],
   "source": [
    "succeesfull['id'] = succeesfull['Slide ID']+'_'+with_fetal_heart['Well'].astype(str)"
   ]
  },
  {
   "cell_type": "code",
   "execution_count": 17,
   "metadata": {},
   "outputs": [],
   "source": [
    "import glob\n",
    "all_extracted = pd.concat([pd.read_csv(f) for f in glob.glob('all_extracted/*')])"
   ]
  },
  {
   "cell_type": "code",
   "execution_count": 18,
   "metadata": {},
   "outputs": [],
   "source": [
    "all_extracted['id'] = all_extracted['embryo_id']"
   ]
  },
  {
   "cell_type": "code",
   "execution_count": 19,
   "metadata": {},
   "outputs": [],
   "source": [
    "succesfull_feats = pd.merge(all_extracted, succeesfull[['id','Fetal Heart Beat']], left_on='embryo_id', right_on='id')"
   ]
  },
  {
   "cell_type": "code",
   "execution_count": 20,
   "metadata": {},
   "outputs": [],
   "source": [
    "failed_feats = pd.merge(all_extracted, failed[['id','Fetal Heart Beat']], left_on='embryo_id', right_on='id')"
   ]
  },
  {
   "cell_type": "code",
   "execution_count": 21,
   "metadata": {},
   "outputs": [],
   "source": [
    "full_target = pd.concat([succesfull_feats, failed_feats])"
   ]
  },
  {
   "cell_type": "code",
   "execution_count": 22,
   "metadata": {},
   "outputs": [],
   "source": [
    "full_target['id'] = full_target['embryo_id']"
   ]
  },
  {
   "cell_type": "code",
   "execution_count": 23,
   "metadata": {},
   "outputs": [
    {
     "data": {
      "text/plain": [
       "406936"
      ]
     },
     "execution_count": 23,
     "metadata": {},
     "output_type": "execute_result"
    }
   ],
   "source": [
    "(full_target['id_x'] == full_target['id_y']).sum()"
   ]
  },
  {
   "cell_type": "code",
   "execution_count": 24,
   "metadata": {},
   "outputs": [
    {
     "data": {
      "text/plain": [
       "8989"
      ]
     },
     "execution_count": 24,
     "metadata": {},
     "output_type": "execute_result"
    }
   ],
   "source": [
    "all_extracted['id'].nunique()"
   ]
  },
  {
   "cell_type": "code",
   "execution_count": 25,
   "metadata": {},
   "outputs": [
    {
     "data": {
      "text/plain": [
       "Fetal Heart Beat\n",
       "0    258663\n",
       "1    111266\n",
       "2     35219\n",
       "3      1788\n",
       "Name: count, dtype: int64"
      ]
     },
     "execution_count": 25,
     "metadata": {},
     "output_type": "execute_result"
    }
   ],
   "source": [
    "full_target['Fetal Heart Beat'].value_counts()"
   ]
  },
  {
   "cell_type": "code",
   "execution_count": 26,
   "metadata": {},
   "outputs": [],
   "source": [
    "target_length = 500"
   ]
  },
  {
   "cell_type": "code",
   "execution_count": 27,
   "metadata": {},
   "outputs": [],
   "source": [
    "features = [\n",
    "    # 'area', 'eccentricity', 'equivalent_diameter',\n",
    "    #    'inertia_tensor-0-0', 'inertia_tensor-0-1', 'inertia_tensor-1-0',\n",
    "    #    'inertia_tensor-1-1', 'major_axis_length', 'minor_axis_length',\n",
    "       # 'moments_normalized-0-0', 'moments_normalized-0-1',\n",
    "       # 'moments_normalized-0-2', 'moments_normalized-0-3',\n",
    "       # 'moments_normalized-1-0', 'moments_normalized-1-1',\n",
    "       # 'moments_normalized-1-2', 'moments_normalized-1-3',\n",
    "      'area', 'eccentricity',\n",
    "       'equivalent_diameter', 'inertia_tensor-0-0', 'inertia_tensor-0-1',\n",
    "       'inertia_tensor-1-0', 'inertia_tensor-1-1', 'major_axis_length',\n",
    "       'minor_axis_length', 'perimeter', 'solidity', 'area_diff',\n",
    "       'eccentricity_diff', 'minor_axis_length_diff', 'major_axis_length_diff',\n",
    "       'solidity_diff',\n",
    "    #    'moments_normalized-3-0', 'moments_normalized-3-1',\n",
    "    #    'moments_normalized-3-2', 'moments_normalized-3-3',\n",
    "    # 'perimeter',\n",
    "    #    'solidity'\n",
    "]"
   ]
  },
  {
   "cell_type": "code",
   "execution_count": 28,
   "metadata": {},
   "outputs": [
    {
     "data": {
      "text/plain": [
       "Index(['embryo_id', 'Run', 'Time', 'area', 'eccentricity',\n",
       "       'equivalent_diameter', 'inertia_tensor-0-0', 'inertia_tensor-0-1',\n",
       "       'inertia_tensor-1-0', 'inertia_tensor-1-1', 'major_axis_length',\n",
       "       'minor_axis_length', 'perimeter', 'solidity', 'area_diff',\n",
       "       'eccentricity_diff', 'minor_axis_length_diff', 'major_axis_length_diff',\n",
       "       'solidity_diff', 'id'],\n",
       "      dtype='object')"
      ]
     },
     "execution_count": 28,
     "metadata": {},
     "output_type": "execute_result"
    }
   ],
   "source": [
    "all_extracted.columns"
   ]
  },
  {
   "cell_type": "code",
   "execution_count": 29,
   "metadata": {},
   "outputs": [],
   "source": [
    "# Interpolating each DataFrame to have the same number of steps\n",
    "interpolated_data = []\n",
    "targets = []\n",
    "for _,df in full_target.groupby('id'):\n",
    "\n",
    "    # targets.append(df['Time'].max()-df['Time'].min())\n",
    "    for f in features:\n",
    "        # msk = df[f]=='[]'\n",
    "    \n",
    "        df=df[pd.to_numeric(df[f], errors='coerce').notnull()]\n",
    "\n",
    "    df['time_hours'] = 24*(df['Time']-df['Time'].min())\n",
    "    starting_time = pd.to_datetime('2010-01-10')\n",
    "    df['time']= pd.to_timedelta(df['time_hours'], unit='h')+starting_time\n",
    "    if df['time_hours'].max()<4*24:\n",
    "        continue\n",
    "    # Create an index that scales from 0 to \n",
    "    \n",
    "    # new_index = np.linspace(df.index.min(), df.index.max(), target_length)\n",
    "    # # Interpolate\n",
    "\n",
    "    df = df.set_index('time')\n",
    "    df.fillna(0, inplace=True)\n",
    "    try:\n",
    "        for f in features:\n",
    "        # msk = df[f]=='[]'\n",
    "    \n",
    "            df=df[pd.to_numeric(df[f], errors='coerce').notnull()]\n",
    "\n",
    "        df_resampled = df[features].astype(float).resample('20min').mean().interpolate()\n",
    "\n",
    "        if df_resampled.area.min()<5000:\n",
    "            continue\n",
    "        # break\n",
    "        # df = df.reindex(df.index.union(new_index)).interpolate(method='linear').reindex(new_index)\n",
    "    \n",
    "        df_resampled['id'] = df['id'].unique()[0]\n",
    "        df_resampled['y'] = df['Fetal Heart Beat'].unique()[0]==0    \n",
    "        df_resampled['step'] = np.arange(0, df_resampled.shape[0])\n",
    "\n",
    "        total_hours = (df_resampled.index[-1]-df_resampled.index[0]).total_seconds()//3600\n",
    "        df_resampled['time_hours'] = np.linspace(0,total_hours,df_resampled.shape[0])\n",
    "\n",
    "        # targets.append(df.iloc[0].y)\n",
    "        interpolated_data.append(df_resampled)\n",
    "    except Exception as e:\n",
    "        \n",
    "        print(e)\n",
    "        print('#############')\n",
    "        break\n",
    "        continue"
   ]
  },
  {
   "cell_type": "code",
   "execution_count": 30,
   "metadata": {},
   "outputs": [
    {
     "data": {
      "text/plain": [
       "117.0"
      ]
     },
     "execution_count": 30,
     "metadata": {},
     "output_type": "execute_result"
    }
   ],
   "source": [
    "(df_resampled.index[-1]-df_resampled.index[0]).total_seconds()//3600"
   ]
  },
  {
   "cell_type": "code",
   "execution_count": 31,
   "metadata": {},
   "outputs": [],
   "source": [
    "df['time_hours'] = df['Time']-df['Time'].min()"
   ]
  },
  {
   "cell_type": "code",
   "execution_count": 32,
   "metadata": {},
   "outputs": [
    {
     "data": {
      "text/plain": [
       "Index(['area', 'eccentricity', 'equivalent_diameter', 'inertia_tensor-0-0',\n",
       "       'inertia_tensor-0-1', 'inertia_tensor-1-0', 'inertia_tensor-1-1',\n",
       "       'major_axis_length', 'minor_axis_length', 'perimeter', 'solidity',\n",
       "       'area_diff', 'eccentricity_diff', 'minor_axis_length_diff',\n",
       "       'major_axis_length_diff', 'solidity_diff', 'id', 'y', 'step',\n",
       "       'time_hours'],\n",
       "      dtype='object')"
      ]
     },
     "execution_count": 32,
     "metadata": {},
     "output_type": "execute_result"
    }
   ],
   "source": [
    "df_resampled.columns"
   ]
  },
  {
   "cell_type": "code",
   "execution_count": 33,
   "metadata": {},
   "outputs": [],
   "source": [
    "interpolated_data_df = pd.concat([i for i in interpolated_data])"
   ]
  },
  {
   "cell_type": "code",
   "execution_count": 34,
   "metadata": {},
   "outputs": [
    {
     "name": "stderr",
     "output_type": "stream",
     "text": [
      "C:\\Users\\hp\\AppData\\Local\\Temp\\ipykernel_23408\\2528314065.py:1: DeprecationWarning: DataFrameGroupBy.apply operated on the grouping columns. This behavior is deprecated, and in a future version of pandas the grouping columns will be excluded from the operation. Either pass `include_groups=False` to exclude the groupings or explicitly select the grouping columns after groupby to silence this warning.\n",
      "  area_std =  interpolated_data_df.groupby('id').apply(lambda x: x.area.mean()).values\n",
      "C:\\Users\\hp\\AppData\\Local\\Temp\\ipykernel_23408\\2528314065.py:3: DeprecationWarning: DataFrameGroupBy.apply operated on the grouping columns. This behavior is deprecated, and in a future version of pandas the grouping columns will be excluded from the operation. Either pass `include_groups=False` to exclude the groupings or explicitly select the grouping columns after groupby to silence this warning.\n",
      "  sol_std =  interpolated_data_df.groupby('id').apply(lambda x: x.solidity.mean()).values\n"
     ]
    }
   ],
   "source": [
    "area_std =  interpolated_data_df.groupby('id').apply(lambda x: x.area.mean()).values\n",
    "\n",
    "sol_std =  interpolated_data_df.groupby('id').apply(lambda x: x.solidity.mean()).values"
   ]
  },
  {
   "cell_type": "code",
   "execution_count": 35,
   "metadata": {},
   "outputs": [
    {
     "data": {
      "text/plain": [
       "(161288, 20)"
      ]
     },
     "execution_count": 35,
     "metadata": {},
     "output_type": "execute_result"
    }
   ],
   "source": [
    "interpolated_data_df.shape"
   ]
  },
  {
   "cell_type": "code",
   "execution_count": 36,
   "metadata": {},
   "outputs": [],
   "source": [
    "# ys = interpolated_data_df.reset_index().groupby('id').apply(lambda x: x.iloc[0]['y'])"
   ]
  },
  {
   "cell_type": "code",
   "execution_count": 37,
   "metadata": {},
   "outputs": [],
   "source": [
    "blasto_msk = (interpolated_data_df.groupby('id').area.mean()/interpolated_data_df.groupby('id').area.max()<0.8)\n",
    "ids = interpolated_data_df['id'].unique()[blasto_msk]"
   ]
  },
  {
   "cell_type": "code",
   "execution_count": 38,
   "metadata": {},
   "outputs": [],
   "source": [
    "interpolated_data_df_og = interpolated_data_df.copy()\n",
    "ok_ids = interpolated_data_df['id'].apply(lambda x: '_'.join(x.split('_')[:-1])).unique()"
   ]
  },
  {
   "cell_type": "code",
   "execution_count": 39,
   "metadata": {},
   "outputs": [],
   "source": [
    "non_ok_ids = [\n",
    "    id_ for id_ in succeesfull['Slide ID'].tolist() +\n",
    "    failed['Slide ID'].tolist() if id_ not in ok_ids\n",
    " ]"
   ]
  },
  {
   "cell_type": "code",
   "execution_count": 40,
   "metadata": {},
   "outputs": [
    {
     "ename": "NameError",
     "evalue": "name 'os' is not defined",
     "output_type": "error",
     "traceback": [
      "\u001b[1;31m---------------------------------------------------------------------------\u001b[0m",
      "\u001b[1;31mNameError\u001b[0m                                 Traceback (most recent call last)",
      "Cell \u001b[1;32mIn[40], line 4\u001b[0m\n\u001b[0;32m      1\u001b[0m fsizes_e \u001b[38;5;241m=\u001b[39m []\n\u001b[0;32m      2\u001b[0m \u001b[38;5;28;01mfor\u001b[39;00m f \u001b[38;5;129;01min\u001b[39;00m glob\u001b[38;5;241m.\u001b[39mglob(\u001b[38;5;124m'\u001b[39m\u001b[38;5;124mE:/new_data/*.pdb\u001b[39m\u001b[38;5;124m'\u001b[39m):\n\u001b[1;32m----> 4\u001b[0m     \u001b[38;5;28;01mif\u001b[39;00m \u001b[43mos\u001b[49m\u001b[38;5;241m.\u001b[39mpath\u001b[38;5;241m.\u001b[39mgetsize(f)\u001b[38;5;241m/\u001b[39m\u001b[38;5;241m1000\u001b[39m\u001b[38;5;241m<\u001b[39m\u001b[38;5;241m100\u001b[39m\u001b[38;5;241m*\u001b[39m\u001b[38;5;241m1000\u001b[39m:\n\u001b[0;32m      5\u001b[0m         \u001b[38;5;28;01mcontinue\u001b[39;00m\n\u001b[0;32m      6\u001b[0m     fsizes_e\u001b[38;5;241m.\u001b[39mappend((f, f\u001b[38;5;241m.\u001b[39msplit(\u001b[38;5;124m'\u001b[39m\u001b[38;5;130;01m\\\\\u001b[39;00m\u001b[38;5;124m'\u001b[39m)[\u001b[38;5;241m-\u001b[39m\u001b[38;5;241m1\u001b[39m][:\u001b[38;5;241m-\u001b[39m\u001b[38;5;241m4\u001b[39m]))\n",
      "\u001b[1;31mNameError\u001b[0m: name 'os' is not defined"
     ]
    }
   ],
   "source": [
    "fsizes_e = []\n",
    "for f in glob.glob('E:/new_data/*.pdb'):\n",
    "\n",
    "    if os.path.getsize(f)/1000<100*1000:\n",
    "        continue\n",
    "    fsizes_e.append((f, f.split('\\\\')[-1][:-4]))\n",
    "    \n",
    "    "
   ]
  },
  {
   "cell_type": "code",
   "execution_count": 41,
   "metadata": {},
   "outputs": [
    {
     "ename": "NameError",
     "evalue": "name 'os' is not defined",
     "output_type": "error",
     "traceback": [
      "\u001b[1;31m---------------------------------------------------------------------------\u001b[0m",
      "\u001b[1;31mNameError\u001b[0m                                 Traceback (most recent call last)",
      "Cell \u001b[1;32mIn[41], line 4\u001b[0m\n\u001b[0;32m      1\u001b[0m fsizes_z \u001b[38;5;241m=\u001b[39m []\n\u001b[0;32m      2\u001b[0m \u001b[38;5;28;01mfor\u001b[39;00m f \u001b[38;5;129;01min\u001b[39;00m glob\u001b[38;5;241m.\u001b[39mglob(\u001b[38;5;124m'\u001b[39m\u001b[38;5;124mZ:/*.pdb\u001b[39m\u001b[38;5;124m'\u001b[39m):\n\u001b[1;32m----> 4\u001b[0m     \u001b[38;5;28;01mif\u001b[39;00m \u001b[43mos\u001b[49m\u001b[38;5;241m.\u001b[39mpath\u001b[38;5;241m.\u001b[39mgetsize(f)\u001b[38;5;241m/\u001b[39m\u001b[38;5;241m1000\u001b[39m\u001b[38;5;241m<\u001b[39m\u001b[38;5;241m100\u001b[39m\u001b[38;5;241m*\u001b[39m\u001b[38;5;241m1000\u001b[39m:\n\u001b[0;32m      5\u001b[0m         \u001b[38;5;28;01mcontinue\u001b[39;00m\n\u001b[0;32m      6\u001b[0m     fsizes_z\u001b[38;5;241m.\u001b[39mappend((f, f\u001b[38;5;241m.\u001b[39msplit(\u001b[38;5;124m'\u001b[39m\u001b[38;5;124m/\u001b[39m\u001b[38;5;124m'\u001b[39m)[\u001b[38;5;241m-\u001b[39m\u001b[38;5;241m1\u001b[39m][:\u001b[38;5;241m-\u001b[39m\u001b[38;5;241m4\u001b[39m]))\n",
      "\u001b[1;31mNameError\u001b[0m: name 'os' is not defined"
     ]
    }
   ],
   "source": [
    "fsizes_z = []\n",
    "for f in glob.glob('Z:/*.pdb'):\n",
    "\n",
    "    if os.path.getsize(f)/1000<100*1000:\n",
    "        continue\n",
    "    fsizes_z.append((f, f.split('/')[-1][:-4]))\n",
    "    \n",
    "    "
   ]
  },
  {
   "cell_type": "code",
   "execution_count": 42,
   "metadata": {},
   "outputs": [],
   "source": [
    "extracted = [\n",
    "    f.split('\\\\')[-1] for f in \n",
    "    glob.glob('C:/Data/data_area_pred/Unet_pred/raw_timelapses/*')\n",
    "]\n"
   ]
  },
  {
   "cell_type": "code",
   "execution_count": 43,
   "metadata": {},
   "outputs": [],
   "source": [
    "features = [\n",
    "    # 'area', 'eccentricity', 'equivalent_diameter',\n",
    "    #    'inertia_tensor-0-0', 'inertia_tensor-0-1', 'inertia_tensor-1-0',\n",
    "    #    'inertia_tensor-1-1', 'major_axis_length', 'minor_axis_length',\n",
    "       # 'moments_normalized-0-0', 'moments_normalized-0-1',\n",
    "       # 'moments_normalized-0-2', 'moments_normalized-0-3',\n",
    "       \n",
    "       # 'moments_normalized-1-0', 'moments_normalized-1-1',\n",
    "       # 'moments_normalized-1-2', 'moments_normalized-1-3',\n",
    "      'area', 'eccentricity',\n",
    "       'equivalent_diameter', 'inertia_tensor-0-0', 'inertia_tensor-0-1',\n",
    "       'inertia_tensor-1-0', 'inertia_tensor-1-1', 'major_axis_length',\n",
    "       'minor_axis_length', 'perimeter', 'solidity', 'area_diff',\n",
    "       'eccentricity_diff', 'minor_axis_length_diff', 'major_axis_length_diff',\n",
    "       'solidity_diff',\n",
    "    #    'moments_normalized-3-0', 'moments_normalized-3-1',\n",
    "    #    'moments_normalized-3-2', 'moments_normalized-3-3',\n",
    "    # 'perimeter',\n",
    "    #    'solidity'\n",
    "]"
   ]
  },
  {
   "cell_type": "code",
   "execution_count": 44,
   "metadata": {},
   "outputs": [],
   "source": [
    "filter_msk = interpolated_data_df.loc[interpolated_data_df['y']==True]['solidity']<19000\n",
    "masked_ = interpolated_data_df.loc[interpolated_data_df['y']==True]['solidity'][filter_msk]"
   ]
  },
  {
   "cell_type": "code",
   "execution_count": 45,
   "metadata": {},
   "outputs": [],
   "source": [
    "from scipy import stats"
   ]
  },
  {
   "cell_type": "code",
   "execution_count": 46,
   "metadata": {},
   "outputs": [],
   "source": [
    "pop1 = np.random.normal(masked_.mean(),masked_.std(),500000)\n",
    "pop2 = np.random.normal(8168.080168308339,771.240387165874,500000)"
   ]
  },
  {
   "cell_type": "code",
   "execution_count": 47,
   "metadata": {},
   "outputs": [],
   "source": [
    "success_sample = interpolated_data_df.loc[interpolated_data_df['y']==0]\n",
    "\n",
    "fail_sample =interpolated_data_df.loc[interpolated_data_df['y']==1]\n",
    "fail_sample = fail_sample[~fail_sample.id.isin(fail_sample[fail_sample.area.map(np.log)<8].id.unique())]\n",
    "\n",
    "# fail_sample = fail_sample[~fail_sample.id.isin(fail_sample[fail_sample.area.map(np.log)>5.1].id.unique())]\n",
    "\n",
    "success_sample = success_sample[~success_sample.id.isin(success_sample[success_sample.area.map(np.log)<8.3].id.unique())]\n"
   ]
  },
  {
   "cell_type": "code",
   "execution_count": 48,
   "metadata": {},
   "outputs": [
    {
     "name": "stderr",
     "output_type": "stream",
     "text": [
      "C:\\Users\\hp\\AppData\\Local\\Temp\\ipykernel_23408\\249678877.py:1: DeprecationWarning: DataFrameGroupBy.apply operated on the grouping columns. This behavior is deprecated, and in a future version of pandas the grouping columns will be excluded from the operation. Either pass `include_groups=False` to exclude the groupings or explicitly select the grouping columns after groupby to silence this warning.\n",
      "  interesting_ids = fail_sample.groupby('id').apply(lambda x: x.iloc[:60].solidity.map(np.log).mean())<-0.015\n"
     ]
    }
   ],
   "source": [
    "interesting_ids = fail_sample.groupby('id').apply(lambda x: x.iloc[:60].solidity.map(np.log).mean())<-0.015"
   ]
  },
  {
   "cell_type": "code",
   "execution_count": 49,
   "metadata": {},
   "outputs": [],
   "source": [
    "x_dim, y_dim = 512, 512\n",
    "\n",
    "n_pixels = x_dim * y_dim\n",
    "n_0 = 0.3 * n_pixels\n",
    "n_1 = n_pixels - n_0\n"
   ]
  },
  {
   "cell_type": "code",
   "execution_count": 50,
   "metadata": {},
   "outputs": [],
   "source": [
    "import scipy.stats as ss\n",
    "from statsmodels.tsa.stattools import adfuller"
   ]
  },
  {
   "cell_type": "code",
   "execution_count": 51,
   "metadata": {},
   "outputs": [
    {
     "data": {
      "text/plain": [
       "time\n",
       "2010-01-10 00:00:00      0.000000\n",
       "2010-01-10 00:20:00      0.332370\n",
       "2010-01-10 00:40:00      0.664740\n",
       "2010-01-10 01:00:00      0.997110\n",
       "2010-01-10 01:20:00      1.329480\n",
       "                          ...    \n",
       "2010-01-14 20:20:00    115.674221\n",
       "2010-01-14 20:40:00    116.005666\n",
       "2010-01-14 21:00:00    116.337110\n",
       "2010-01-14 21:20:00    116.668555\n",
       "2010-01-14 21:40:00    117.000000\n",
       "Name: time_hours, Length: 161288, dtype: float64"
      ]
     },
     "execution_count": 51,
     "metadata": {},
     "output_type": "execute_result"
    }
   ],
   "source": [
    "interpolated_data_df['time_hours']"
   ]
  },
  {
   "cell_type": "code",
   "execution_count": 52,
   "metadata": {},
   "outputs": [],
   "source": [
    "zoe['id'] = zoe['Slide ID'] + '_' + zoe['Well'].astype(str)"
   ]
  },
  {
   "cell_type": "code",
   "execution_count": 53,
   "metadata": {},
   "outputs": [],
   "source": [
    "from scipy.stats import linregress\n",
    "import math\n",
    "def lin(x):\n",
    "\n",
    "    times = zoe.loc[zoe['id']==x['id'].iloc[0]]\n",
    "    t2 = times['t2'].values[0]\n",
    "    t8 = times['t8'].values[0]\n",
    "    \n",
    "    if not math.isnan(t2):\n",
    "        t2_msk = x['time_hours']>t2\n",
    "        final_msk =t2_msk\n",
    "    t2_msk = x['time_hours']>20\n",
    "    t8_msk = x['time_hours']<70\n",
    "    # if not math.isnan(t8):\n",
    "    #     t8_msk = x['time_hours']<70\n",
    "\n",
    "    final_msk = t2_msk & t8_msk\n",
    "    \n",
    "    if  math.isnan(t2) and  math.isnan(t8):\n",
    "        # print('###')\n",
    "        return np.nan, np.nan,  np.nan\n",
    "\n",
    "    # if not x.area.values[final_msk.values]:\n",
    "    #     return np.nan, np.nan,  np.nan\n",
    "\n",
    "    # plt.plot(x.time_hours.values[final_msk.values],x.area.values[final_msk.values])\n",
    "    # print(final_msk.sum())\n",
    "\n",
    "    d_area =  x.area[final_msk].iloc[-1]- x.area[final_msk][0]\n",
    "    return linregress(x.time_hours.values[final_msk], x.area[final_msk])[0], d_area, x.area[final_msk][0]"
   ]
  },
  {
   "cell_type": "code",
   "execution_count": null,
   "metadata": {},
   "outputs": [],
   "source": []
  },
  {
   "cell_type": "code",
   "execution_count": 54,
   "metadata": {},
   "outputs": [
    {
     "name": "stderr",
     "output_type": "stream",
     "text": [
      "C:\\Users\\hp\\AppData\\Local\\Temp\\ipykernel_23408\\2790843999.py:29: FutureWarning: Series.__getitem__ treating keys as positions is deprecated. In a future version, integer keys will always be treated as labels (consistent with DataFrame behavior). To access a value by position, use `ser.iloc[pos]`\n",
      "  d_area =  x.area[final_msk].iloc[-1]- x.area[final_msk][0]\n",
      "C:\\Users\\hp\\AppData\\Local\\Temp\\ipykernel_23408\\2790843999.py:30: FutureWarning: Series.__getitem__ treating keys as positions is deprecated. In a future version, integer keys will always be treated as labels (consistent with DataFrame behavior). To access a value by position, use `ser.iloc[pos]`\n",
      "  return linregress(x.time_hours.values[final_msk], x.area[final_msk])[0], d_area, x.area[final_msk][0]\n",
      "C:\\Users\\hp\\AppData\\Local\\Temp\\ipykernel_23408\\3392582984.py:1: DeprecationWarning: DataFrameGroupBy.apply operated on the grouping columns. This behavior is deprecated, and in a future version of pandas the grouping columns will be excluded from the operation. Either pass `include_groups=False` to exclude the groupings or explicitly select the grouping columns after groupby to silence this warning.\n",
      "  slopes = np.stack(interpolated_data_df.groupby('id').apply(lin).values)\n"
     ]
    }
   ],
   "source": [
    "slopes = np.stack(interpolated_data_df.groupby('id').apply(lin).values)"
   ]
  },
  {
   "cell_type": "code",
   "execution_count": 55,
   "metadata": {},
   "outputs": [
    {
     "data": {
      "image/png": "[encoded data removed]",
      "text/plain": [
       "<Figure size 640x480 with 1 Axes>"
      ]
     },
     "metadata": {},
     "output_type": "display_data"
    }
   ],
   "source": [
    "plt.hist(slopes[:,2],bins=100);"
   ]
  },
  {
   "cell_type": "code",
   "execution_count": 56,
   "metadata": {},
   "outputs": [
    {
     "data": {
      "text/plain": [
       "nan"
      ]
     },
     "execution_count": 56,
     "metadata": {},
     "output_type": "execute_result"
    }
   ],
   "source": [
    "np.quantile(slopes[:,1],0.25)"
   ]
  },
  {
   "cell_type": "code",
   "execution_count": 57,
   "metadata": {},
   "outputs": [
    {
     "ename": "NameError",
     "evalue": "name 'slope' is not defined",
     "output_type": "error",
     "traceback": [
      "\u001b[1;31m---------------------------------------------------------------------------\u001b[0m",
      "\u001b[1;31mNameError\u001b[0m                                 Traceback (most recent call last)",
      "Cell \u001b[1;32mIn[57], line 1\u001b[0m\n\u001b[1;32m----> 1\u001b[0m plt\u001b[38;5;241m.\u001b[39mhist(\u001b[43mslope\u001b[49m,bins\u001b[38;5;241m=\u001b[39m\u001b[38;5;241m70\u001b[39m);\n",
      "\u001b[1;31mNameError\u001b[0m: name 'slope' is not defined"
     ]
    }
   ],
   "source": [
    "plt.hist(slope,bins=70);"
   ]
  },
  {
   "cell_type": "code",
   "execution_count": 58,
   "metadata": {},
   "outputs": [
    {
     "ename": "NameError",
     "evalue": "name 'slope' is not defined",
     "output_type": "error",
     "traceback": [
      "\u001b[1;31m---------------------------------------------------------------------------\u001b[0m",
      "\u001b[1;31mNameError\u001b[0m                                 Traceback (most recent call last)",
      "Cell \u001b[1;32mIn[58], line 1\u001b[0m\n\u001b[1;32m----> 1\u001b[0m np\u001b[38;5;241m.\u001b[39mcorrcoef(\u001b[43mslope\u001b[49m,cell_count)\n",
      "\u001b[1;31mNameError\u001b[0m: name 'slope' is not defined"
     ]
    }
   ],
   "source": [
    "np.corrcoef(slope,cell_count)"
   ]
  },
  {
   "cell_type": "code",
   "execution_count": 59,
   "metadata": {},
   "outputs": [
    {
     "data": {
      "text/plain": [
       "<matplotlib.collections.PathCollection at 0x2ae5a42c910>"
      ]
     },
     "execution_count": 59,
     "metadata": {},
     "output_type": "execute_result"
    },
    {
     "data": {
      "image/png": "[encoded data removed]",
      "text/plain": [
       "<Figure size 640x480 with 1 Axes>"
      ]
     },
     "metadata": {},
     "output_type": "display_data"
    }
   ],
   "source": [
    "plt.scatter(slopes[:,0],slopes[:,2])"
   ]
  },
  {
   "cell_type": "code",
   "execution_count": 60,
   "metadata": {},
   "outputs": [
    {
     "name": "stderr",
     "output_type": "stream",
     "text": [
      "C:\\Users\\hp\\AppData\\Local\\Temp\\ipykernel_23408\\4237644963.py:7: DeprecationWarning: DataFrameGroupBy.apply operated on the grouping columns. This behavior is deprecated, and in a future version of pandas the grouping columns will be excluded from the operation. Either pass `include_groups=False` to exclude the groupings or explicitly select the grouping columns after groupby to silence this warning.\n",
      "  interpolated_data_df.groupby('id').apply(lambda x: plt.plot(x['area'].values[50:399]) if x['area'].values[50:200].min() > 6000 else None)\n"
     ]
    },
    {
     "data": {
      "image/png": "[encoded data removed]",
      "text/plain": [
       "<Figure size 640x480 with 1 Axes>"
      ]
     },
     "metadata": {},
     "output_type": "display_data"
    }
   ],
   "source": [
    "import matplotlib.pyplot as plt\n",
    "\n",
    "# Create a figure and axis to ensure an empty plot is returned\n",
    "fig, ax = plt.subplots()\n",
    "\n",
    "# Apply the function and plot if the condition is met\n",
    "interpolated_data_df.groupby('id').apply(lambda x: plt.plot(x['area'].values[50:399]) if x['area'].values[50:200].min() > 6000 else None)\n",
    "\n",
    "# Show the plot\n",
    "plt.show()\n"
   ]
  },
  {
   "cell_type": "code",
   "execution_count": 61,
   "metadata": {},
   "outputs": [
    {
     "data": {
      "text/plain": [
       "[<matplotlib.lines.Line2D at 0x2ae24c999d0>]"
      ]
     },
     "execution_count": 61,
     "metadata": {},
     "output_type": "execute_result"
    },
    {
     "data": {
      "image/png": "[encoded data removed]",
      "text/plain": [
       "<Figure size 640x480 with 1 Axes>"
      ]
     },
     "metadata": {},
     "output_type": "display_data"
    }
   ],
   "source": [
    "plt.plot(success_sample.loc[success_sample.id=='D2013.02.22_S0474_I149_1'].area.values)\n",
    "\n",
    "\n"
   ]
  },
  {
   "cell_type": "code",
   "execution_count": 111,
   "metadata": {},
   "outputs": [
    {
     "name": "stdout",
     "output_type": "stream",
     "text": [
      "Collecting seaborn\n",
      "  Using cached seaborn-0.13.2-py3-none-any.whl.metadata (5.4 kB)\n",
      "Requirement already satisfied: numpy!=1.24.0,>=1.20 in c:\\users\\hp\\anaconda3\\envs\\pymc_env\\lib\\site-packages (from seaborn) (1.24.4)\n",
      "Requirement already satisfied: pandas>=1.2 in c:\\users\\hp\\anaconda3\\envs\\pymc_env\\lib\\site-packages (from seaborn) (2.2.1)\n",
      "Requirement already satisfied: matplotlib!=3.6.1,>=3.4 in c:\\users\\hp\\anaconda3\\envs\\pymc_env\\lib\\site-packages (from seaborn) (3.8.3)\n",
      "Requirement already satisfied: contourpy>=1.0.1 in c:\\users\\hp\\anaconda3\\envs\\pymc_env\\lib\\site-packages (from matplotlib!=3.6.1,>=3.4->seaborn) (1.2.0)\n",
      "Requirement already satisfied: cycler>=0.10 in c:\\users\\hp\\anaconda3\\envs\\pymc_env\\lib\\site-packages (from matplotlib!=3.6.1,>=3.4->seaborn) (0.12.1)\n",
      "Requirement already satisfied: fonttools>=4.22.0 in c:\\users\\hp\\anaconda3\\envs\\pymc_env\\lib\\site-packages (from matplotlib!=3.6.1,>=3.4->seaborn) (4.49.0)\n",
      "Requirement already satisfied: kiwisolver>=1.3.1 in c:\\users\\hp\\anaconda3\\envs\\pymc_env\\lib\\site-packages (from matplotlib!=3.6.1,>=3.4->seaborn) (1.4.5)\n",
      "Requirement already satisfied: packaging>=20.0 in c:\\users\\hp\\anaconda3\\envs\\pymc_env\\lib\\site-packages (from matplotlib!=3.6.1,>=3.4->seaborn) (23.2)\n",
      "Requirement already satisfied: pillow>=8 in c:\\users\\hp\\anaconda3\\envs\\pymc_env\\lib\\site-packages (from matplotlib!=3.6.1,>=3.4->seaborn) (10.2.0)\n",
      "Requirement already satisfied: pyparsing>=2.3.1 in c:\\users\\hp\\anaconda3\\envs\\pymc_env\\lib\\site-packages (from matplotlib!=3.6.1,>=3.4->seaborn) (3.1.1)\n",
      "Requirement already satisfied: python-dateutil>=2.7 in c:\\users\\hp\\anaconda3\\envs\\pymc_env\\lib\\site-packages (from matplotlib!=3.6.1,>=3.4->seaborn) (2.9.0)\n",
      "Requirement already satisfied: pytz>=2020.1 in c:\\users\\hp\\anaconda3\\envs\\pymc_env\\lib\\site-packages (from pandas>=1.2->seaborn) (2024.1)\n",
      "Requirement already satisfied: tzdata>=2022.7 in c:\\users\\hp\\anaconda3\\envs\\pymc_env\\lib\\site-packages (from pandas>=1.2->seaborn) (2024.1)\n",
      "Requirement already satisfied: six>=1.5 in c:\\users\\hp\\anaconda3\\envs\\pymc_env\\lib\\site-packages (from python-dateutil>=2.7->matplotlib!=3.6.1,>=3.4->seaborn) (1.16.0)\n",
      "Using cached seaborn-0.13.2-py3-none-any.whl (294 kB)\n",
      "Installing collected packages: seaborn\n",
      "Successfully installed seaborn-0.13.2\n"
     ]
    }
   ],
   "source": [
    "!pip install seaborn"
   ]
  },
  {
   "cell_type": "code",
   "execution_count": 112,
   "metadata": {},
   "outputs": [],
   "source": [
    "import numpy as np\n",
    "import pandas as pd\n",
    "import matplotlib.pyplot as plt\n",
    "import seaborn as sns\n",
    "from scipy.stats import lognorm, gamma, norm\n",
    "from scipy.optimize import curve_fit\n",
    "from statsmodels.tsa.stattools import acf\n",
    "import sdeint  # For SDE integration\n"
   ]
  },
  {
   "cell_type": "code",
   "execution_count": 113,
   "metadata": {},
   "outputs": [],
   "source": [
    "# List of division stages\n",
    "division_stages = ['tPNf', 't2', 't3', 't4', 't5', 't6', 't7', 't8', 'tM']\n",
    "\n",
    "# Compute intervals between consecutive divisions\n",
    "intervals_dict = {}\n",
    "for i in range(len(division_stages) - 1):\n",
    "    start_stage = division_stages[i]\n",
    "    end_stage = division_stages[i + 1]\n",
    "    intervals = zoe[end_stage] - zoe[start_stage]\n",
    "    intervals = intervals.dropna()\n",
    "    intervals = intervals[intervals > 0]  # Remove negative or zero intervals\n",
    "    intervals_dict[f'{start_stage}_to_{end_stage}'] = intervals\n"
   ]
  },
  {
   "cell_type": "code",
   "execution_count": 115,
   "metadata": {},
   "outputs": [
    {
     "name": "stdout",
     "output_type": "stream",
     "text": [
      "Fitted parameters for tPNf_to_t2: shape=0.32843075818543693, loc=0, scale=2.745121146107204\n",
      "Fitted parameters for t2_to_t3: shape=0.6956716546848412, loc=0, scale=9.695265857078496\n",
      "Fitted parameters for t3_to_t4: shape=1.3115495948706832, loc=0, scale=1.2887631962268642\n",
      "Fitted parameters for t4_to_t5: shape=1.0478443802147497, loc=0, scale=8.205239754150709\n",
      "Fitted parameters for t5_to_t6: shape=1.2441704890635432, loc=0, scale=1.5465874191023972\n",
      "Fitted parameters for t6_to_t7: shape=1.1487711184915996, loc=0, scale=1.6822480198771945\n",
      "Fitted parameters for t7_to_t8: shape=1.074022878422205, loc=0, scale=1.8978184109080116\n",
      "Fitted parameters for t8_to_tM: shape=0.35859374639994795, loc=0, scale=32.055485794340576\n"
     ]
    }
   ],
   "source": [
    "# Dictionary to store fitted parameters\n",
    "fitted_params = {}\n",
    "\n",
    "for key, intervals in intervals_dict.items():\n",
    "    # Fit log-normal distribution\n",
    "    shape, loc, scale = lognorm.fit(intervals, floc=0)\n",
    "    fitted_params[key] = {'shape': shape, 'loc': loc, 'scale': scale}\n",
    "    print(f'Fitted parameters for {key}: shape={shape}, loc={loc}, scale={scale}')\n"
   ]
  },
  {
   "cell_type": "code",
   "execution_count": 116,
   "metadata": {},
   "outputs": [],
   "source": [
    "def sample_division_times(fitted_params):\n",
    "    t_divisions = [0]  # Start time at tPNf\n",
    "    division_times = {}\n",
    "    for i in range(len(division_stages) - 1):\n",
    "        key = f'{division_stages[i]}_to_{division_stages[i+1]}'\n",
    "        params = fitted_params[key]\n",
    "        # Sample interval\n",
    "        interval = lognorm.rvs(params['shape'], loc=params['loc'], scale=params['scale'])\n",
    "        # Ensure positive interval\n",
    "        while interval <= 0:\n",
    "            interval = lognorm.rvs(params['shape'], loc=params['loc'], scale=params['scale'])\n",
    "        t_next = t_divisions[-1] + interval\n",
    "        t_divisions.append(t_next)\n",
    "        division_times[division_stages[i+1]] = t_next\n",
    "    return division_times\n"
   ]
  },
  {
   "cell_type": "code",
   "execution_count": 124,
   "metadata": {},
   "outputs": [
    {
     "name": "stdout",
     "output_type": "stream",
     "text": [
      "Sampled Division Times:\n",
      "{'t2': 2.3088466503674985, 't3': 13.445401790724635, 't4': 13.934982024428324, 't5': 26.850015433534207, 't6': 28.785899669751483, 't7': 39.37213047944833, 't8': 42.23656442099818, 'tM': 79.97347356189485}\n"
     ]
    }
   ],
   "source": [
    "sampled_division_times = sample_division_times(fitted_params)\n",
    "print(\"Sampled Division Times:\")\n",
    "print(sampled_division_times)\n"
   ]
  },
  {
   "cell_type": "code",
   "execution_count": 248,
   "metadata": {},
   "outputs": [
    {
     "data": {
      "application/vnd.jupyter.widget-view+json": {
       "model_id": "6851a609271a426eaeff38b084f178dc",
       "version_major": 2,
       "version_minor": 0
      },
      "text/plain": [
       "preprocessor_config.json:   0%|          | 0.00/466 [00:00<?, ?B/s]"
      ]
     },
     "metadata": {},
     "output_type": "display_data"
    },
    {
     "name": "stderr",
     "output_type": "stream",
     "text": [
      "c:\\Users\\hp\\anaconda3\\envs\\pymc_env\\Lib\\site-packages\\huggingface_hub\\file_download.py:147: UserWarning: `huggingface_hub` cache-system uses symlinks by default to efficiently store duplicated files but your machine does not support them in C:\\Users\\hp\\.cache\\huggingface\\hub\\models--wanglab--medsam-vit-base. Caching files will still work but in a degraded version that might require more space on your disk. This warning can be disabled by setting the `HF_HUB_DISABLE_SYMLINKS_WARNING` environment variable. For more details, see https://huggingface.co/docs/huggingface_hub/how-to-cache#limitations.\n",
      "To support symlinks on Windows, you either need to activate Developer Mode or to run Python as an administrator. In order to activate developer mode, see this article: https://docs.microsoft.com/en-us/windows/apps/get-started/enable-your-device-for-development\n",
      "  warnings.warn(message)\n"
     ]
    },
    {
     "data": {
      "application/vnd.jupyter.widget-view+json": {
       "model_id": "f94cf8434f974f99bcf17df4eb158307",
       "version_major": 2,
       "version_minor": 0
      },
      "text/plain": [
       "config.json:   0%|          | 0.00/6.52k [00:00<?, ?B/s]"
      ]
     },
     "metadata": {},
     "output_type": "display_data"
    },
    {
     "data": {
      "application/vnd.jupyter.widget-view+json": {
       "model_id": "612ffecd004b4703af2a7c8e0103867f",
       "version_major": 2,
       "version_minor": 0
      },
      "text/plain": [
       "pytorch_model.bin:   0%|          | 0.00/375M [00:00<?, ?B/s]"
      ]
     },
     "metadata": {},
     "output_type": "display_data"
    }
   ],
   "source": [
    "\n",
    "import torch\n",
    "from transformers import SamModel, SamProcessor\n",
    "\n",
    "device = \"cuda\" if torch.cuda.is_available() else \"cpu\"\n",
    "\n",
    "processor = SamProcessor.from_pretrained(\"wanglab/medsam-vit-base\")\n",
    "model = SamModel.from_pretrained(\"wanglab/medsam-vit-base\").to(device)"
   ]
  },
  {
   "cell_type": "code",
   "execution_count": 250,
   "metadata": {},
   "outputs": [
    {
     "name": "stdout",
     "output_type": "stream",
     "text": [
      "Collecting datasets\n",
      "  Downloading datasets-3.0.0-py3-none-any.whl.metadata (19 kB)\n",
      "Requirement already satisfied: filelock in c:\\users\\hp\\anaconda3\\envs\\pymc_env\\lib\\site-packages (from datasets) (3.13.1)\n",
      "Requirement already satisfied: numpy>=1.17 in c:\\users\\hp\\anaconda3\\envs\\pymc_env\\lib\\site-packages (from datasets) (1.24.4)\n",
      "Requirement already satisfied: pyarrow>=15.0.0 in c:\\users\\hp\\anaconda3\\envs\\pymc_env\\lib\\site-packages (from datasets) (15.0.1)\n",
      "Collecting dill<0.3.9,>=0.3.0 (from datasets)\n",
      "  Downloading dill-0.3.8-py3-none-any.whl.metadata (10 kB)\n",
      "Requirement already satisfied: pandas in c:\\users\\hp\\anaconda3\\envs\\pymc_env\\lib\\site-packages (from datasets) (2.2.1)\n",
      "Collecting requests>=2.32.2 (from datasets)\n",
      "  Downloading requests-2.32.3-py3-none-any.whl.metadata (4.6 kB)\n",
      "Collecting tqdm>=4.66.3 (from datasets)\n",
      "  Downloading tqdm-4.66.5-py3-none-any.whl.metadata (57 kB)\n",
      "     ---------------------------------------- 0.0/57.6 kB ? eta -:--:--\n",
      "     --------------------- ------------------ 30.7/57.6 kB 1.3 MB/s eta 0:00:01\n",
      "     ---------------------------------------- 57.6/57.6 kB 1.0 MB/s eta 0:00:00\n",
      "Collecting xxhash (from datasets)\n",
      "  Downloading xxhash-3.5.0-cp311-cp311-win_amd64.whl.metadata (13 kB)\n",
      "Collecting multiprocess (from datasets)\n",
      "  Downloading multiprocess-0.70.16-py311-none-any.whl.metadata (7.2 kB)\n",
      "Requirement already satisfied: fsspec<=2024.6.1,>=2023.1.0 in c:\\users\\hp\\anaconda3\\envs\\pymc_env\\lib\\site-packages (from fsspec[http]<=2024.6.1,>=2023.1.0->datasets) (2024.3.0)\n",
      "Collecting aiohttp (from datasets)\n",
      "  Downloading aiohttp-3.10.5-cp311-cp311-win_amd64.whl.metadata (7.8 kB)\n",
      "Requirement already satisfied: huggingface-hub>=0.22.0 in c:\\users\\hp\\anaconda3\\envs\\pymc_env\\lib\\site-packages (from datasets) (0.25.0)\n",
      "Requirement already satisfied: packaging in c:\\users\\hp\\anaconda3\\envs\\pymc_env\\lib\\site-packages (from datasets) (23.2)\n",
      "Requirement already satisfied: pyyaml>=5.1 in c:\\users\\hp\\anaconda3\\envs\\pymc_env\\lib\\site-packages (from datasets) (6.0.1)\n",
      "Collecting aiohappyeyeballs>=2.3.0 (from aiohttp->datasets)\n",
      "  Downloading aiohappyeyeballs-2.4.0-py3-none-any.whl.metadata (5.9 kB)\n",
      "Collecting aiosignal>=1.1.2 (from aiohttp->datasets)\n",
      "  Downloading aiosignal-1.3.1-py3-none-any.whl.metadata (4.0 kB)\n",
      "Requirement already satisfied: attrs>=17.3.0 in c:\\users\\hp\\anaconda3\\envs\\pymc_env\\lib\\site-packages (from aiohttp->datasets) (23.2.0)\n",
      "Collecting frozenlist>=1.1.1 (from aiohttp->datasets)\n",
      "  Downloading frozenlist-1.4.1-cp311-cp311-win_amd64.whl.metadata (12 kB)\n",
      "Collecting multidict<7.0,>=4.5 (from aiohttp->datasets)\n",
      "  Downloading multidict-6.1.0-cp311-cp311-win_amd64.whl.metadata (5.1 kB)\n",
      "Collecting yarl<2.0,>=1.0 (from aiohttp->datasets)\n",
      "  Downloading yarl-1.11.1-cp311-cp311-win_amd64.whl.metadata (49 kB)\n",
      "     ---------------------------------------- 0.0/49.8 kB ? eta -:--:--\n",
      "     ---------------------------------------- 49.8/49.8 kB 2.5 MB/s eta 0:00:00\n",
      "Requirement already satisfied: typing-extensions>=3.7.4.3 in c:\\users\\hp\\anaconda3\\envs\\pymc_env\\lib\\site-packages (from huggingface-hub>=0.22.0->datasets) (4.10.0)\n",
      "Requirement already satisfied: charset-normalizer<4,>=2 in c:\\users\\hp\\anaconda3\\envs\\pymc_env\\lib\\site-packages (from requests>=2.32.2->datasets) (3.3.2)\n",
      "Requirement already satisfied: idna<4,>=2.5 in c:\\users\\hp\\anaconda3\\envs\\pymc_env\\lib\\site-packages (from requests>=2.32.2->datasets) (3.6)\n",
      "Requirement already satisfied: urllib3<3,>=1.21.1 in c:\\users\\hp\\anaconda3\\envs\\pymc_env\\lib\\site-packages (from requests>=2.32.2->datasets) (2.2.1)\n",
      "Requirement already satisfied: certifi>=2017.4.17 in c:\\users\\hp\\anaconda3\\envs\\pymc_env\\lib\\site-packages (from requests>=2.32.2->datasets) (2024.2.2)\n",
      "Requirement already satisfied: colorama in c:\\users\\hp\\anaconda3\\envs\\pymc_env\\lib\\site-packages (from tqdm>=4.66.3->datasets) (0.4.6)\n",
      "Requirement already satisfied: python-dateutil>=2.8.2 in c:\\users\\hp\\anaconda3\\envs\\pymc_env\\lib\\site-packages (from pandas->datasets) (2.9.0)\n",
      "Requirement already satisfied: pytz>=2020.1 in c:\\users\\hp\\anaconda3\\envs\\pymc_env\\lib\\site-packages (from pandas->datasets) (2024.1)\n",
      "Requirement already satisfied: tzdata>=2022.7 in c:\\users\\hp\\anaconda3\\envs\\pymc_env\\lib\\site-packages (from pandas->datasets) (2024.1)\n",
      "Requirement already satisfied: six>=1.5 in c:\\users\\hp\\anaconda3\\envs\\pymc_env\\lib\\site-packages (from python-dateutil>=2.8.2->pandas->datasets) (1.16.0)\n",
      "Downloading datasets-3.0.0-py3-none-any.whl (474 kB)\n",
      "   ---------------------------------------- 0.0/474.3 kB ? eta -:--:--\n",
      "   ------------------------- -------------- 297.0/474.3 kB 6.1 MB/s eta 0:00:01\n",
      "   ---------------------------------------- 474.3/474.3 kB 5.9 MB/s eta 0:00:00\n",
      "Downloading dill-0.3.8-py3-none-any.whl (116 kB)\n",
      "   ---------------------------------------- 0.0/116.3 kB ? eta -:--:--\n",
      "   ---------------------------------------- 116.3/116.3 kB ? eta 0:00:00\n",
      "Downloading aiohttp-3.10.5-cp311-cp311-win_amd64.whl (379 kB)\n",
      "   ---------------------------------------- 0.0/379.1 kB ? eta -:--:--\n",
      "   ------------------------------------ -- 358.4/379.1 kB 11.2 MB/s eta 0:00:01\n",
      "   ------------------------------------ -- 358.4/379.1 kB 11.2 MB/s eta 0:00:01\n",
      "   ---------------------------------------  378.9/379.1 kB 2.9 MB/s eta 0:00:01\n",
      "   ---------------------------------------- 379.1/379.1 kB 2.6 MB/s eta 0:00:00\n",
      "Downloading requests-2.32.3-py3-none-any.whl (64 kB)\n",
      "   ---------------------------------------- 0.0/64.9 kB ? eta -:--:--\n",
      "   ---------------------------------------- 64.9/64.9 kB ? eta 0:00:00\n",
      "Downloading tqdm-4.66.5-py3-none-any.whl (78 kB)\n",
      "   ---------------------------------------- 0.0/78.4 kB ? eta -:--:--\n",
      "   ---------------------------------------- 78.4/78.4 kB ? eta 0:00:00\n",
      "Downloading multiprocess-0.70.16-py311-none-any.whl (143 kB)\n",
      "   ---------------------------------------- 0.0/143.5 kB ? eta -:--:--\n",
      "   ---------------------------------------- 143.5/143.5 kB 8.3 MB/s eta 0:00:00\n",
      "Downloading xxhash-3.5.0-cp311-cp311-win_amd64.whl (30 kB)\n",
      "Downloading aiohappyeyeballs-2.4.0-py3-none-any.whl (12 kB)\n",
      "Downloading aiosignal-1.3.1-py3-none-any.whl (7.6 kB)\n",
      "Downloading frozenlist-1.4.1-cp311-cp311-win_amd64.whl (50 kB)\n",
      "   ---------------------------------------- 0.0/50.5 kB ? eta -:--:--\n",
      "   ---------------------------------------- 50.5/50.5 kB 2.5 MB/s eta 0:00:00\n",
      "Downloading multidict-6.1.0-cp311-cp311-win_amd64.whl (28 kB)\n",
      "Downloading yarl-1.11.1-cp311-cp311-win_amd64.whl (110 kB)\n",
      "   ---------------------------------------- 0.0/110.5 kB ? eta -:--:--\n",
      "   ---------------------------------------- 110.5/110.5 kB 6.7 MB/s eta 0:00:00\n",
      "Installing collected packages: xxhash, tqdm, requests, multidict, frozenlist, dill, aiohappyeyeballs, yarl, multiprocess, aiosignal, aiohttp, datasets\n",
      "  Attempting uninstall: tqdm\n",
      "    Found existing installation: tqdm 4.66.2\n",
      "    Uninstalling tqdm-4.66.2:\n",
      "      Successfully uninstalled tqdm-4.66.2\n",
      "  Attempting uninstall: requests\n",
      "    Found existing installation: requests 2.31.0\n",
      "    Uninstalling requests-2.31.0:\n",
      "      Successfully uninstalled requests-2.31.0\n",
      "Successfully installed aiohappyeyeballs-2.4.0 aiohttp-3.10.5 aiosignal-1.3.1 datasets-3.0.0 dill-0.3.8 frozenlist-1.4.1 multidict-6.1.0 multiprocess-0.70.16 requests-2.32.3 tqdm-4.66.5 xxhash-3.5.0 yarl-1.11.1\n"
     ]
    }
   ],
   "source": [
    "!pip install datasets"
   ]
  },
  {
   "cell_type": "code",
   "execution_count": 251,
   "metadata": {},
   "outputs": [
    {
     "data": {
      "application/vnd.jupyter.widget-view+json": {
       "model_id": "780286c60a06445789e38d5cfbbc481a",
       "version_major": 2,
       "version_minor": 0
      },
      "text/plain": [
       "README.md:   0%|          | 0.00/637 [00:00<?, ?B/s]"
      ]
     },
     "metadata": {},
     "output_type": "display_data"
    },
    {
     "name": "stderr",
     "output_type": "stream",
     "text": [
      "c:\\Users\\hp\\anaconda3\\envs\\pymc_env\\Lib\\site-packages\\huggingface_hub\\file_download.py:147: UserWarning: `huggingface_hub` cache-system uses symlinks by default to efficiently store duplicated files but your machine does not support them in C:\\Users\\hp\\.cache\\huggingface\\hub\\datasets--nielsr--breast-cancer. Caching files will still work but in a degraded version that might require more space on your disk. This warning can be disabled by setting the `HF_HUB_DISABLE_SYMLINKS_WARNING` environment variable. For more details, see https://huggingface.co/docs/huggingface_hub/how-to-cache#limitations.\n",
      "To support symlinks on Windows, you either need to activate Developer Mode or to run Python as an administrator. In order to activate developer mode, see this article: https://docs.microsoft.com/en-us/windows/apps/get-started/enable-your-device-for-development\n",
      "  warnings.warn(message)\n"
     ]
    },
    {
     "data": {
      "application/vnd.jupyter.widget-view+json": {
       "model_id": "70cb9fcf7f4b476dbb385c0cc7f4a3ca",
       "version_major": 2,
       "version_minor": 0
      },
      "text/plain": [
       "(…)-00000-of-00001-9cd7b7429038b476.parquet:   0%|          | 0.00/10.0M [00:00<?, ?B/s]"
      ]
     },
     "metadata": {},
     "output_type": "display_data"
    },
    {
     "data": {
      "application/vnd.jupyter.widget-view+json": {
       "model_id": "f54e7ee4029d4fa7b8932dd9ed941250",
       "version_major": 2,
       "version_minor": 0
      },
      "text/plain": [
       "Generating train split:   0%|          | 0/130 [00:00<?, ? examples/s]"
      ]
     },
     "metadata": {},
     "output_type": "display_data"
    }
   ],
   "source": [
    "from datasets import load_dataset\n",
    "\n",
    "dataset = load_dataset(\"nielsr/breast-cancer\", split=\"train\")"
   ]
  },
  {
   "cell_type": "code",
   "execution_count": 252,
   "metadata": {},
   "outputs": [
    {
     "data": {
      "image/jpeg": "[encoded data removed]",
      "image/png": "[encoded data removed]",
      "text/plain": [
       "<PIL.PngImagePlugin.PngImageFile image mode=RGB size=256x256>"
      ]
     },
     "execution_count": 252,
     "metadata": {},
     "output_type": "execute_result"
    }
   ],
   "source": [
    "import numpy as np\n",
    "from PIL import Image\n",
    "\n",
    "idx = 10\n",
    "\n",
    "# load image\n",
    "image = dataset[idx][\"image\"]\n",
    "image\n",
    "     "
   ]
  },
  {
   "cell_type": "code",
   "execution_count": 128,
   "metadata": {},
   "outputs": [],
   "source": [
    "merged_df = pd.merge(interpolated_data_df, zoe, on='id')"
   ]
  },
  {
   "cell_type": "code",
   "execution_count": 140,
   "metadata": {},
   "outputs": [
    {
     "data": {
      "text/plain": [
       "(161288, 213)"
      ]
     },
     "execution_count": 140,
     "metadata": {},
     "output_type": "execute_result"
    }
   ],
   "source": [
    "merged_df.shape"
   ]
  },
  {
   "cell_type": "code",
   "execution_count": 138,
   "metadata": {},
   "outputs": [
    {
     "data": {
      "text/plain": [
       "Series([], Name: area, dtype: float64)"
      ]
     },
     "execution_count": 138,
     "metadata": {},
     "output_type": "execute_result"
    }
   ],
   "source": [
    "embryo_data[embryo_data['time_hours'] < division_time][feature]"
   ]
  },
  {
   "cell_type": "code",
   "execution_count": 143,
   "metadata": {},
   "outputs": [
    {
     "data": {
      "text/plain": [
       "0"
      ]
     },
     "execution_count": 143,
     "metadata": {},
     "output_type": "execute_result"
    }
   ],
   "source": [
    "(merged_df['id'] == id).sum()"
   ]
  },
  {
   "cell_type": "code",
   "execution_count": 146,
   "metadata": {},
   "outputs": [
    {
     "data": {
      "text/plain": [
       "Series([], Name: area, dtype: float64)"
      ]
     },
     "execution_count": 146,
     "metadata": {},
     "output_type": "execute_result"
    }
   ],
   "source": [
    "embryo_data[embryo_data['time_hours'] >= division_time][feature]"
   ]
  },
  {
   "cell_type": "code",
   "execution_count": 222,
   "metadata": {},
   "outputs": [],
   "source": [
    "from tqdm import tqdm"
   ]
  },
  {
   "cell_type": "code",
   "execution_count": 223,
   "metadata": {},
   "outputs": [
    {
     "name": "stderr",
     "output_type": "stream",
     "text": [
      "  0%|          | 0/466 [00:00<?, ?it/s]"
     ]
    },
    {
     "name": "stderr",
     "output_type": "stream",
     "text": [
      "100%|██████████| 466/466 [00:13<00:00, 34.31it/s]\n"
     ]
    }
   ],
   "source": [
    "# Merge interpolated data with metadata\n",
    "\n",
    "\n",
    "# Focus on 'area'\n",
    "feature = 'area'\n",
    "\n",
    "# Store percentage changes at division times\n",
    "feature_changes = {stage: [] for stage in division_stages[1:]}  # Exclude tPNf\n",
    "\n",
    "for embryo_id in tqdm(merged_df['id'].unique()):\n",
    "    try:\n",
    "        embryo_metadata = zoe[zoe['id'] == embryo_id].iloc[0]\n",
    "        embryo_data = merged_df[merged_df['id'] == embryo_id]\n",
    "        for stage in division_stages[1:]:\n",
    "            division_time = embryo_metadata[stage]\n",
    "            if pd.isna(division_time):\n",
    "                continue\n",
    "            # Get feature value just before division\n",
    "            before_division = embryo_data[embryo_data['time_hours'] < division_time][feature].iloc[-1]\n",
    "            # Get feature value just after division\n",
    "            after_division = embryo_data[embryo_data['time_hours'] >= division_time][feature].iloc[0]\n",
    "            # Compute percentage change\n",
    "            change = (after_division - before_division) / before_division\n",
    "            feature_changes[stage].append(change)\n",
    "    except:\n",
    "        continue"
   ]
  },
  {
   "cell_type": "code",
   "execution_count": 224,
   "metadata": {},
   "outputs": [
    {
     "data": {
      "text/plain": [
       "{'t2': [0.0017788724685276409,\n",
       "  -0.008353753619959901,\n",
       "  -0.0049261083743842365,\n",
       "  -0.03229856197215248,\n",
       "  -0.036725231820400196,\n",
       "  -0.02906906906906907,\n",
       "  -0.007558532538560806,\n",
       "  -0.010179350460494426,\n",
       "  -0.0017015706806282722,\n",
       "  -0.07462498424303542,\n",
       "  0.003958654057620409,\n",
       "  0.011307292296529206,\n",
       "  0.03967287280320167,\n",
       "  -0.0038534466939874,\n",
       "  -0.030824909522026708,\n",
       "  -0.010863881949689189,\n",
       "  0.006351869606903164,\n",
       "  -0.0007765366465563587,\n",
       "  0.016377591104127637,\n",
       "  -0.0008602679120068822,\n",
       "  0.008584386135406543,\n",
       "  -0.014218603194487943,\n",
       "  0.02531354274536877,\n",
       "  0.04236764402938955,\n",
       "  0.03180339718106252,\n",
       "  -0.013291950610620067,\n",
       "  0.0167274147357459,\n",
       "  -0.02878969631921207,\n",
       "  0.007214819629509262,\n",
       "  -0.005066092121353287,\n",
       "  0.0008375209380234506,\n",
       "  0.006352087114337568,\n",
       "  0.008058562992125984,\n",
       "  0.05448870190676528,\n",
       "  0.03849383194471356,\n",
       "  -0.04963680387409201,\n",
       "  -0.007282720714531089,\n",
       "  -0.01113599225322278,\n",
       "  -0.008088235294117648,\n",
       "  0.0011350059737156512,\n",
       "  0.028874203726855986,\n",
       "  0.009802195222163527,\n",
       "  -0.030618970579423574,\n",
       "  0.0056272953441535364,\n",
       "  -0.006752539295239176,\n",
       "  0.017930700266537435,\n",
       "  -0.022610366853202193,\n",
       "  -0.005049453409682457,\n",
       "  -0.00600036365840354,\n",
       "  0.004150541253014751,\n",
       "  -0.060077066791219054,\n",
       "  -0.00571985700357491,\n",
       "  -0.011320754716981131,\n",
       "  -0.0047936396585993215,\n",
       "  -0.0033016921172100704,\n",
       "  0.0006114711997064938,\n",
       "  -0.0013811325286735123,\n",
       "  -0.0015373227808460968,\n",
       "  0.013264198721813577,\n",
       "  -0.0022397736649770127,\n",
       "  -0.016638935108153077,\n",
       "  -0.054170492266403,\n",
       "  -0.014114056837688346,\n",
       "  0.017183838670737767,\n",
       "  0.00812461478119572,\n",
       "  -0.04094582460341215,\n",
       "  -0.039140999540290274,\n",
       "  -0.014967199541430483,\n",
       "  0.014201324661375978,\n",
       "  -0.0026916253746864867,\n",
       "  -0.02388457807953443,\n",
       "  -0.010506540495407737,\n",
       "  -0.01522877618522602,\n",
       "  -0.024791179418643502,\n",
       "  -0.08954559898315856,\n",
       "  -0.0544736665997457,\n",
       "  0.09912180221458572,\n",
       "  -0.05513851059589451,\n",
       "  -0.051375780938455406,\n",
       "  -0.0408641975308642,\n",
       "  -0.005559673832468495,\n",
       "  0.010304608764579323,\n",
       "  -0.015409981609486968,\n",
       "  -0.01268183513614323,\n",
       "  -0.02024035420619861,\n",
       "  -0.024536982423027015,\n",
       "  -0.005326148254903189,\n",
       "  -0.013455069678039404,\n",
       "  -0.004178957718780727,\n",
       "  -0.0031742299553256526,\n",
       "  0.0011046133853151398,\n",
       "  -0.01416890331439985,\n",
       "  -0.019072769953051644,\n",
       "  -0.0008378448053622067,\n",
       "  -0.04534634610806951,\n",
       "  0.06530105524518932,\n",
       "  -0.009202453987730062,\n",
       "  0.015346722243273967,\n",
       "  -0.013820658937577782,\n",
       "  -0.006798591720286512,\n",
       "  -0.013103615627274934,\n",
       "  0.028647147905098435,\n",
       "  -0.002507358552272975,\n",
       "  -0.029874548160748457,\n",
       "  -0.036430317848410755,\n",
       "  -0.04850606325790724,\n",
       "  -0.024758983347940404,\n",
       "  0.004207573632538569,\n",
       "  0.007670326364866897,\n",
       "  0.010955019976801135,\n",
       "  -0.039523688877628575,\n",
       "  -0.015388594335962758,\n",
       "  0.037164234024285536,\n",
       "  0.011503844549085056,\n",
       "  0.012437507621021826,\n",
       "  -0.006680139216346694,\n",
       "  -0.0026808184702921544,\n",
       "  -0.026768527430221366,\n",
       "  0.014419726614848567,\n",
       "  -0.00013225763787858748,\n",
       "  0.015042427359218308,\n",
       "  -0.023151956751674696,\n",
       "  0.012392304968724182,\n",
       "  0.003849294296045725,\n",
       "  -0.006929762743716232,\n",
       "  0.016090280305788133,\n",
       "  0.01582045621780721,\n",
       "  -0.029567470150934895,\n",
       "  0.018122400475341652,\n",
       "  -0.02217207334273625,\n",
       "  -0.041596402473299605,\n",
       "  -0.04140455221319913,\n",
       "  -0.009249183895538629,\n",
       "  -0.06287572077045761,\n",
       "  -0.007946285573487743,\n",
       "  -0.01789568971520089,\n",
       "  0.004828669497934725,\n",
       "  0.0011042944785276073,\n",
       "  0.03477249224405377,\n",
       "  -0.006521416926041203,\n",
       "  0.008625574513630926,\n",
       "  -0.0001617773943054357,\n",
       "  -0.03775395936650136,\n",
       "  -0.03965248384940967,\n",
       "  -0.04993622448979592,\n",
       "  0.0005955216769890424,\n",
       "  -0.04549950544015826,\n",
       "  -0.045246931201827004,\n",
       "  -0.006969157769869514,\n",
       "  -0.044113739038001594,\n",
       "  0.013123028391167193,\n",
       "  -0.0997426401355847,\n",
       "  -0.012871518839223028,\n",
       "  -0.006467977171845276,\n",
       "  -0.027227286092325786,\n",
       "  -0.006205770277626565,\n",
       "  0.025200458190148912,\n",
       "  -0.02652396463471382,\n",
       "  0.06332916145181477,\n",
       "  0.023985023985023984,\n",
       "  0.0008308605341246291,\n",
       "  -0.011348684210526316,\n",
       "  -0.01079447322970639,\n",
       "  0.015219221553008224,\n",
       "  0.022435897435897436,\n",
       "  0.006305020223649774,\n",
       "  -0.12133120471570674,\n",
       "  -0.010628412126844,\n",
       "  0.014111365369946605,\n",
       "  0.0006864867719279717,\n",
       "  -0.0033787588692420316,\n",
       "  0.0031982942430703624,\n",
       "  0.03504195163223577,\n",
       "  0.002204801567858893,\n",
       "  0.04134472007591162,\n",
       "  -0.015724468142989282,\n",
       "  -0.011144760751059964,\n",
       "  0.02132264018840303,\n",
       "  -0.021059038344491784,\n",
       "  -0.031666891254547906,\n",
       "  -0.014560279557367502,\n",
       "  0.00441514831167216,\n",
       "  -0.029078774877845312,\n",
       "  0.11292252467843254,\n",
       "  0.04172624463798258,\n",
       "  0.07855134777575658,\n",
       "  -0.043113165013525696,\n",
       "  0.0028530670470756064,\n",
       "  0.046652325894057545,\n",
       "  -0.011756407241946862,\n",
       "  0.012615424632592015,\n",
       "  0.016751209154181903,\n",
       "  0.0030009233610341643,\n",
       "  -0.031443755535872454,\n",
       "  0.003968746124271363,\n",
       "  -0.02782724844167409,\n",
       "  -0.0007051357386296862,\n",
       "  -0.010007783831869232,\n",
       "  -0.03012465373961219,\n",
       "  -0.0135559265442404,\n",
       "  0.024978950322761716,\n",
       "  0.012751242705856926,\n",
       "  -0.022102954755309327,\n",
       "  0.014610588091453724,\n",
       "  -0.022556390977443608,\n",
       "  -0.0037603409375783405,\n",
       "  -0.002201217143597048,\n",
       "  -0.011526639344262296,\n",
       "  -0.044611754129677494,\n",
       "  -0.0019457956914523975,\n",
       "  -0.13688353216086582,\n",
       "  0.015955560808415082,\n",
       "  0.03204109086462028,\n",
       "  0.014601320467242255,\n",
       "  -0.020623916811091856,\n",
       "  -0.012282268870031265,\n",
       "  0.012160493827160494,\n",
       "  -0.014611814875203813,\n",
       "  0.02668165414423475,\n",
       "  0.03417890520694259,\n",
       "  0.011838643671441098,\n",
       "  -0.017423442449841606,\n",
       "  -0.016303655585275762,\n",
       "  -0.02191464821222607,\n",
       "  -0.022174535050071532,\n",
       "  -0.03715733402624399,\n",
       "  -0.01027077497665733,\n",
       "  -0.02591354191545259,\n",
       "  0.01021932707822865,\n",
       "  -0.004068990647394632,\n",
       "  -0.008792002890521499,\n",
       "  -0.02529021558872305,\n",
       "  -0.04342850259004939,\n",
       "  -0.022182186690687986,\n",
       "  -0.04239719477207523,\n",
       "  -0.02487440264673447,\n",
       "  0.021747778809176502,\n",
       "  -0.017897371714643305,\n",
       "  -0.010736375306336796,\n",
       "  -0.05358335188070332,\n",
       "  0.06334231805929919,\n",
       "  -0.018610579987253028,\n",
       "  -0.012429875701242987,\n",
       "  -0.11911033069944396,\n",
       "  -0.002607286308223522,\n",
       "  -0.015531192900026103,\n",
       "  -0.03601246105919003,\n",
       "  -0.032577748576434515,\n",
       "  0.0038779402415766054,\n",
       "  -0.008334325514942256,\n",
       "  0.00475,\n",
       "  -0.010904640035606988,\n",
       "  0.0374527545527431,\n",
       "  -0.01332184517497349,\n",
       "  -0.02434005109281862,\n",
       "  0.03987068965517242,\n",
       "  0.023696017947279865,\n",
       "  0.008342534658324132,\n",
       "  -0.01037037037037037,\n",
       "  0.012440082173019859,\n",
       "  -0.07392852756969176,\n",
       "  0.0970358442178088,\n",
       "  0.06009085009733939,\n",
       "  -0.014347460679553368,\n",
       "  0.020851502418140013,\n",
       "  0.006360587486989707,\n",
       "  -0.0012033694344163659,\n",
       "  -0.053497942386831275,\n",
       "  0.004939759036144578,\n",
       "  0.0957272229988452,\n",
       "  -0.028757500365871505,\n",
       "  0.006601228402502726,\n",
       "  0.005455600696459663,\n",
       "  -0.015454433950692997,\n",
       "  -0.02445369406867846,\n",
       "  -0.04607012553336219,\n",
       "  -0.037856571580911755,\n",
       "  -0.026926850539627168,\n",
       "  -0.03693248647377088,\n",
       "  -0.040785589493342975,\n",
       "  -0.006640188655827231,\n",
       "  0.057958148383005705,\n",
       "  -0.06472088746514801,\n",
       "  0.049722479185938945,\n",
       "  0.01228133237479032,\n",
       "  -0.0433075696233591,\n",
       "  0.022401876079980253,\n",
       "  -0.031651887955840036,\n",
       "  0.003304369110268021,\n",
       "  -0.007446940548591287,\n",
       "  -0.009326607226654153,\n",
       "  -0.009238014732520228,\n",
       "  0.003790924755887421,\n",
       "  -0.0033643689852124246,\n",
       "  -0.029518240044555832,\n",
       "  0.002258678078934855,\n",
       "  -0.0005723370429252783,\n",
       "  0.005809817405738677,\n",
       "  0.012072434607645875,\n",
       "  0.0072480848556275785,\n",
       "  0.005561868309311644,\n",
       "  -0.008969996906897619,\n",
       "  -0.03398604546477605,\n",
       "  -0.01970497578159401,\n",
       "  0.13710913549969345,\n",
       "  0.007714450201496833,\n",
       "  -0.006405077899596076,\n",
       "  -0.0071288102261553585,\n",
       "  -0.03913656161926723,\n",
       "  -0.09598127194693719,\n",
       "  -0.0272059708679427,\n",
       "  0.00019748535316963992,\n",
       "  -0.023495413996733258,\n",
       "  0.001197748233321356,\n",
       "  -0.03251346615614251,\n",
       "  -0.006780050563088945,\n",
       "  0.05357142857142857,\n",
       "  0.0013630168105406633,\n",
       "  -0.009155901166436725,\n",
       "  -0.00029308323563892143,\n",
       "  -0.011008366358432409,\n",
       "  0.0037069072037563327,\n",
       "  -0.020908180693798222,\n",
       "  0.007208421926048851,\n",
       "  0.046312949640287766,\n",
       "  -0.028798316111748948,\n",
       "  0.008869659275283936,\n",
       "  -0.014667125014323365,\n",
       "  0.027137272675769077,\n",
       "  -0.01880107434710555,\n",
       "  0.03671153632217154,\n",
       "  0.000979706088173548,\n",
       "  0.05943627450980392,\n",
       "  -0.019613147572027593,\n",
       "  0.0054437992534218166,\n",
       "  -0.003732981993851559,\n",
       "  0.023945921173235563,\n",
       "  -0.015915119363395226,\n",
       "  -0.020249413507840475,\n",
       "  0.002863278453829635,\n",
       "  0.000693000693000693,\n",
       "  -0.005858681500769322,\n",
       "  0.02047737054910656,\n",
       "  -0.011045481393975192,\n",
       "  -0.01619733220410756,\n",
       "  -0.05316270154470628,\n",
       "  -0.010539437896645512,\n",
       "  0.019305019305019305,\n",
       "  -0.003140344866963572,\n",
       "  -0.024520890370194025,\n",
       "  -0.04900864858504442,\n",
       "  -0.012384996461429583,\n",
       "  -0.018276762402088774,\n",
       "  -0.007853403141361256,\n",
       "  0.0015447423590422597,\n",
       "  -0.015065243179122183,\n",
       "  0.016424401968639122,\n",
       "  -0.015365159658552008,\n",
       "  0.08982234766727544,\n",
       "  -0.00022742779167614282,\n",
       "  -0.019473542841794252,\n",
       "  -0.004500669018367595,\n",
       "  -0.06598680263947211,\n",
       "  -0.029750922509225092,\n",
       "  -0.043893785052077375,\n",
       "  -0.030272564789991064,\n",
       "  -0.03884158519920109,\n",
       "  0.022422092728654676,\n",
       "  -0.017080915361874522,\n",
       "  -0.03616699616234446,\n",
       "  -0.006809780141384007,\n",
       "  -0.004773839360305526,\n",
       "  0.019195128408790046,\n",
       "  -0.09033196667107525,\n",
       "  0.021269487750556794,\n",
       "  -0.01461778097292116,\n",
       "  -0.0019993941229930322,\n",
       "  0.03443863951380744,\n",
       "  -0.06807674526121128,\n",
       "  -0.1121508187697812,\n",
       "  -0.019862114248194354,\n",
       "  0.013625592417061612,\n",
       "  -0.0013411363082175079,\n",
       "  -0.023301082040419075,\n",
       "  -0.01459758022093635,\n",
       "  -0.03337612323491656,\n",
       "  -0.014760861157664045,\n",
       "  -0.01976517788660098,\n",
       "  -0.0029714002723783585,\n",
       "  0.011359235833225765,\n",
       "  -0.0037530266343825665,\n",
       "  0.008371754428536764,\n",
       "  0.04695966285370259,\n",
       "  -0.0009169504846738276,\n",
       "  -0.004942559444296019,\n",
       "  -0.02160908314003174,\n",
       "  -0.009117082533589251,\n",
       "  0.0032310177705977385,\n",
       "  0.08788712184622743,\n",
       "  0.0267000174509918,\n",
       "  -0.05756270025411557,\n",
       "  0.0181426261900485,\n",
       "  -0.0016722408026755853,\n",
       "  -0.03573339039263935,\n",
       "  0.03565323565323565,\n",
       "  -0.08341303456756387,\n",
       "  -0.016656308266003728,\n",
       "  0.13088005554591217,\n",
       "  -0.008844665561083471,\n",
       "  -0.0042767847351683295,\n",
       "  -0.0002324770428920144,\n",
       "  0.008727318390155083,\n",
       "  -0.0004533972407539348,\n",
       "  0.0022949631598019084,\n",
       "  -0.025090866455621995,\n",
       "  0.00529793779195625,\n",
       "  -0.011337868480725623,\n",
       "  -0.05670611439842209,\n",
       "  0.0013941018766756032,\n",
       "  0.09670667038794306,\n",
       "  -0.0006802721088435374,\n",
       "  -0.013320485205758984,\n",
       "  -0.002907681124303368,\n",
       "  -0.005245410266017235,\n",
       "  -0.005312931675698651,\n",
       "  -0.03956940912048264,\n",
       "  -0.0035604665438919584,\n",
       "  -0.00882021354201207,\n",
       "  -0.026479392125259037,\n",
       "  0.008935824532900082,\n",
       "  0.010724331926863572,\n",
       "  0.0050777734927368555,\n",
       "  -0.012680005097489486,\n",
       "  -0.03873801916932907,\n",
       "  -0.03338458159455304,\n",
       "  0.15042458552365548,\n",
       "  0.02016017674675504,\n",
       "  0.007614821921093656,\n",
       "  0.016309760956175298,\n",
       "  -0.00786255096097845,\n",
       "  0.0010649627263045794,\n",
       "  -0.04591239166081049,\n",
       "  -0.03978433598183882,\n",
       "  0.01486524034454015,\n",
       "  0.02577914582531743,\n",
       "  0.0010506960861570791,\n",
       "  0.023102521438627927,\n",
       "  -0.012327596728914928,\n",
       "  0.0036514118792599806,\n",
       "  0.04785371547140449,\n",
       "  -0.014906357497770417,\n",
       "  0.0009020886822566095,\n",
       "  -0.056883709754925516,\n",
       "  -0.01809507185663583,\n",
       "  -0.021104279971624496,\n",
       "  0.006447534766118837,\n",
       "  -0.025216795983569146,\n",
       "  -0.010939510939510939,\n",
       "  0.00741704619388419],\n",
       " 't3': [-0.005860619187157599,\n",
       "  -0.015672829680421208,\n",
       "  0.0012883277505797476,\n",
       "  -0.020477815699658702,\n",
       "  0.0041459369817578775,\n",
       "  -0.00853829488976679,\n",
       "  0.011517788584591758,\n",
       "  -0.041177772858091655,\n",
       "  0.0021904393763690247,\n",
       "  -0.021723561709238483,\n",
       "  0.05574261129816686,\n",
       "  -0.0032776138970829235,\n",
       "  0.007803420222480492,\n",
       "  -0.011467610101256557,\n",
       "  -0.0149423831834874,\n",
       "  -0.004692018113372252,\n",
       "  -0.02962310195227766,\n",
       "  0.00815404879884589,\n",
       "  -0.0010718831647350438,\n",
       "  0.0009802225681831286,\n",
       "  -0.05871843735111958,\n",
       "  0.01680618975139523,\n",
       "  0.01608093093971113,\n",
       "  -0.006513872135102533,\n",
       "  -0.033969609443677,\n",
       "  -0.023934735706580366,\n",
       "  0.07604849032452375,\n",
       "  -0.041444763075242384,\n",
       "  -0.004212595661026469,\n",
       "  0.04486687525827971,\n",
       "  0.052994555353902,\n",
       "  0.021199650829280457,\n",
       "  -0.020406885758998437,\n",
       "  -0.01821722470004397,\n",
       "  -0.028531524341580208,\n",
       "  -0.030146316851664984,\n",
       "  -0.02644707168728217,\n",
       "  -0.0037141661435446745,\n",
       "  0.008989827300686065,\n",
       "  -0.05336673974318822,\n",
       "  -0.007258210851025223,\n",
       "  -0.10893401673911633,\n",
       "  0.006838344011828487,\n",
       "  0.004667444574095682,\n",
       "  -0.006798579401319127,\n",
       "  -0.004436919843540195,\n",
       "  0.03190879926672777,\n",
       "  0.015187470336971999,\n",
       "  -0.018048382712693666,\n",
       "  0.014394792840155213,\n",
       "  0.3926477431363425,\n",
       "  0.008614638504243507,\n",
       "  -0.007596642773999878,\n",
       "  -0.01876128881897104,\n",
       "  0.001833885470894463,\n",
       "  -0.002688172043010753,\n",
       "  0.0025636439515888633,\n",
       "  -0.008624708624708625,\n",
       "  -0.0301472844430807,\n",
       "  -0.04365427434046286,\n",
       "  0.034299403996727824,\n",
       "  0.050554238482732106,\n",
       "  -0.005532851304621189,\n",
       "  0.002451305154365973,\n",
       "  0.04831776236602281,\n",
       "  -0.0008090614886731392,\n",
       "  -0.048982621065000925,\n",
       "  -0.006154249050674349,\n",
       "  0.024672591206735265,\n",
       "  -0.004682843763303533,\n",
       "  -0.006461297480746639,\n",
       "  0.000383533623114293,\n",
       "  0.006484194775235364,\n",
       "  -0.009576682859125607,\n",
       "  0.0056007815043959625,\n",
       "  -0.016927557335274845,\n",
       "  -0.03630577002416455,\n",
       "  0.02336328626444159,\n",
       "  0.013153387682400493,\n",
       "  0.015113350125944584,\n",
       "  -0.031966813079551,\n",
       "  0.022737712448323382,\n",
       "  -0.007554239439173264,\n",
       "  -0.004710632570659489,\n",
       "  -0.037722334964784526,\n",
       "  -0.11735241502683363,\n",
       "  0.010279605263157895,\n",
       "  0.005533199195171026,\n",
       "  -0.014771424933146569,\n",
       "  0.011271640303898368,\n",
       "  0.006562342251388188,\n",
       "  -0.017551872634738352,\n",
       "  -0.010587756210126238,\n",
       "  0.0042393708527893835,\n",
       "  0.0037916350697077524,\n",
       "  -0.09938870151770658,\n",
       "  0.01101206082852648,\n",
       "  -0.020048783389850677,\n",
       "  0.005495862665184636,\n",
       "  -0.00447356814315418,\n",
       "  -0.009195402298850575,\n",
       "  -0.007617728531855956,\n",
       "  -0.0378775939059627,\n",
       "  0.00945772007387095,\n",
       "  0.003309664219521001,\n",
       "  0.019656574785359242,\n",
       "  -0.006138136759981643,\n",
       "  -0.007665873645255088,\n",
       "  -0.006823461091753775,\n",
       "  0.009254943737931953,\n",
       "  0.011140145784623847,\n",
       "  -0.01826309067688378,\n",
       "  -0.003366260140168865,\n",
       "  0.009491042828330763,\n",
       "  -0.006126616746085773,\n",
       "  -0.013165112452002194,\n",
       "  0.025146781876592444,\n",
       "  -0.009733661354155525,\n",
       "  0.01873536299765808,\n",
       "  -0.011113901795805601,\n",
       "  0.020372233400402416,\n",
       "  -0.0026189436927106066,\n",
       "  0.01825951825951826,\n",
       "  -0.027062627230271825,\n",
       "  -0.010464058234758872,\n",
       "  0.029825395746993683,\n",
       "  0.008902854150301126,\n",
       "  -0.005317833292109819,\n",
       "  0.008542538354253835,\n",
       "  0.013716447912971504,\n",
       "  -0.01176195213295102,\n",
       "  -0.019564953214242314,\n",
       "  -0.012038430373885866,\n",
       "  -0.017014084507042254,\n",
       "  0.004598558289833458,\n",
       "  0.034897360703812316,\n",
       "  -0.0049856662096472645,\n",
       "  -0.07439231204070096,\n",
       "  0.001912156680959555,\n",
       "  -0.003203416978109984,\n",
       "  -0.011328270882609237,\n",
       "  -0.0024560496380558426,\n",
       "  -0.011673151750972763,\n",
       "  -0.019170403587443947,\n",
       "  0.009377889314489499,\n",
       "  6.323110970597533e-05,\n",
       "  0.01849217638691323,\n",
       "  0.014795474325500435,\n",
       "  0.035838150289017344,\n",
       "  -0.0022651565622918055,\n",
       "  -0.0020320344250537893,\n",
       "  0.032139227642276426,\n",
       "  0.018814403149241633,\n",
       "  -0.025143633780193984,\n",
       "  -0.033717302615790735,\n",
       "  0.01621948537497251,\n",
       "  -0.008722174657534247,\n",
       "  -0.005683109797681291,\n",
       "  0.006051624058293195,\n",
       "  -0.003252228378703927,\n",
       "  -0.007275576449518693,\n",
       "  0.0619126589275843,\n",
       "  -0.0008768084173608067,\n",
       "  0.010462175212692573,\n",
       "  0.004067208961194826,\n",
       "  0.010692873477965263,\n",
       "  -0.019945602901178604,\n",
       "  0.0027511196417146513,\n",
       "  0.025183258453535116,\n",
       "  -0.0104425658876181,\n",
       "  -0.0522112289903445,\n",
       "  0.03439902873330635,\n",
       "  0.017008906481939635,\n",
       "  -0.004932182490752158,\n",
       "  0.009380863039399626,\n",
       "  -0.0020420553010651802,\n",
       "  -0.0464305377133419,\n",
       "  0.08276343335659456,\n",
       "  0.055011253806434526,\n",
       "  0.009634162218461138,\n",
       "  -0.01287001287001287,\n",
       "  0.014973810066044181,\n",
       "  -0.003159466911764706,\n",
       "  -0.007809449433814916,\n",
       "  0.009740687113334211,\n",
       "  0.01830002407897905,\n",
       "  -0.012441875078547191,\n",
       "  0.05645112600374328,\n",
       "  0.09164915966386554,\n",
       "  -0.007283051475126528,\n",
       "  -0.002192448233861145,\n",
       "  -0.005901720817543641,\n",
       "  -0.018835927563442552,\n",
       "  -0.025817555938037865,\n",
       "  0.0016877637130801688,\n",
       "  -0.02931095615175511,\n",
       "  0.03545321637426901,\n",
       "  -0.032531405546337995,\n",
       "  -0.00012879958784131891,\n",
       "  -0.01658302421994327,\n",
       "  -0.016916872059153036,\n",
       "  0.036037121851271545,\n",
       "  -0.022102954755309327,\n",
       "  -0.009108473640629312,\n",
       "  0.014824227022448115,\n",
       "  0.009927284223838128,\n",
       "  -0.006181645268663814,\n",
       "  -0.010430094925583031,\n",
       "  -0.0048951048951048955,\n",
       "  -0.04048389028626183,\n",
       "  0.039022611232676876,\n",
       "  0.00587160751565762,\n",
       "  0.07657187581528829,\n",
       "  0.006303832230682811,\n",
       "  0.012112293411817975,\n",
       "  -0.002562262990673363,\n",
       "  0.03898578337974498,\n",
       "  0.011205797490438167,\n",
       "  -0.012005006827492035,\n",
       "  -0.007170636849781235,\n",
       "  -0.010603382984094925,\n",
       "  -0.021029641185647426,\n",
       "  0.02563761955366631,\n",
       "  -0.0022715125601282735,\n",
       "  -0.010030156024649272,\n",
       "  -0.02136241410218106,\n",
       "  0.018746462931522354,\n",
       "  -0.050416171224732464,\n",
       "  0.0062191973715090354,\n",
       "  0.010388611004232396,\n",
       "  -0.0007020828457758015,\n",
       "  -0.036720554272517324,\n",
       "  -0.027982573726541556,\n",
       "  0.016718106995884774,\n",
       "  0.00586341687744309,\n",
       "  -0.018186286556893586,\n",
       "  -0.018373377874855455,\n",
       "  -0.005897505422993493,\n",
       "  -0.00849485522852357,\n",
       "  0.0037689090815220196,\n",
       "  -0.02989052146355517,\n",
       "  -0.03552492046659597,\n",
       "  0.015813848412967357,\n",
       "  -0.029054825813820673,\n",
       "  -0.03554470221136888,\n",
       "  -0.00945982999725802,\n",
       "  0.0098719636233098,\n",
       "  -0.03536282037417541,\n",
       "  -0.04891832766164317,\n",
       "  -0.054280510018214934,\n",
       "  -0.025958418459319794,\n",
       "  -0.003676470588235294,\n",
       "  0.022830518345952244,\n",
       "  -0.013710932822416477,\n",
       "  0.009969628944935957,\n",
       "  -0.007391479639833356,\n",
       "  -0.001258213337061373,\n",
       "  0.002142015636714148,\n",
       "  -0.024634810596682346,\n",
       "  -0.013019643672910005,\n",
       "  -0.012703766160764475,\n",
       "  -0.013069544364508393,\n",
       "  0.060675883256528416,\n",
       "  0.029763600113927657,\n",
       "  0.014442295293359123,\n",
       "  -0.00619520748100526,\n",
       "  0.007327135028631242,\n",
       "  -0.014413294144245987,\n",
       "  0.008834127629896547,\n",
       "  0.06690140845070422,\n",
       "  0.007308160779537149,\n",
       "  -0.016129032258064516,\n",
       "  0.005455600696459663,\n",
       "  0.02432678548198257,\n",
       "  -0.044458680333119796,\n",
       "  0.0035604665438919584,\n",
       "  -0.00779257580051006,\n",
       "  0.006084006084006084,\n",
       "  -0.0013982458370408034,\n",
       "  0.055777374470659405,\n",
       "  -0.018292682926829267,\n",
       "  -0.0113589547407451,\n",
       "  -0.035186015239802776,\n",
       "  0.010405581175357692,\n",
       "  -0.02328589909443726,\n",
       "  0.011435071544034005,\n",
       "  -0.034181148578662675,\n",
       "  0.01695090975066093,\n",
       "  -6.34719136781974e-05,\n",
       "  0.00657354149548069,\n",
       "  0.038550407393895175,\n",
       "  -0.005862860056079531,\n",
       "  -0.0025724191924840624,\n",
       "  -0.0010183299389002036,\n",
       "  -0.0025477707006369425,\n",
       "  -0.0039963903570968155,\n",
       "  -0.010951312838105291,\n",
       "  -0.021289801998634474,\n",
       "  0.0074976007677543186,\n",
       "  -0.018981772470144563,\n",
       "  0.025160335471139616,\n",
       "  -0.0189937106918239,\n",
       "  -0.021047652831973514,\n",
       "  -0.08167574174908324,\n",
       "  0.06519493932352181,\n",
       "  0.02151795111682844,\n",
       "  0.0019546970219615958,\n",
       "  -0.04831501389056649,\n",
       "  0.011041211965592502,\n",
       "  -0.010489098408956983,\n",
       "  0.01874485838523916,\n",
       "  -0.0054917623564653024,\n",
       "  -0.013223999538026217,\n",
       "  -0.023506820288703482,\n",
       "  0.011710794297352342,\n",
       "  0.03343319352905932,\n",
       "  -0.014614878209348255,\n",
       "  -0.08307986932522249,\n",
       "  -0.02492421690804985,\n",
       "  0.01538113548970821,\n",
       "  -0.03200243828101189,\n",
       "  -0.032200886262924666,\n",
       "  -0.007025339257835955,\n",
       "  -0.007291550706890794,\n",
       "  0.004286236997543254,\n",
       "  -0.009020860740462319,\n",
       "  -0.013467270118114582,\n",
       "  0.0018022077044379365,\n",
       "  -0.010702195042044338,\n",
       "  -0.01916876721964945,\n",
       "  -0.013519406890536415,\n",
       "  -0.045344077769250445,\n",
       "  0.010658771280532938,\n",
       "  -0.01342512908777969,\n",
       "  0.0063872466216216214,\n",
       "  0.0007109652720809407,\n",
       "  0.009970457902511078,\n",
       "  0.030705962988348184,\n",
       "  0.0030295968305756233,\n",
       "  0.003494212710198733,\n",
       "  0.00011448196908986835,\n",
       "  -0.0015555555555555555,\n",
       "  -0.007399046902432907,\n",
       "  -0.018510028653295128,\n",
       "  -0.020549927641099856,\n",
       "  -0.05316270154470628,\n",
       "  -0.050831846180415634,\n",
       "  -0.01848448816344179,\n",
       "  -0.00023282887077997672,\n",
       "  -0.021217827997489013,\n",
       "  -0.003006346731989756,\n",
       "  -0.019867549668874173,\n",
       "  -0.022682445759368838,\n",
       "  -0.06533753421827385,\n",
       "  0.05800130633572828,\n",
       "  -0.013659099653712967,\n",
       "  -0.028955657862854374,\n",
       "  0.07659289067739772,\n",
       "  0.060687130385806816,\n",
       "  0.08074986349572287,\n",
       "  0.0024116896013618955,\n",
       "  -0.030233256582240464,\n",
       "  -0.030205096333126166,\n",
       "  -0.03215672835275303,\n",
       "  0.015551203778366548,\n",
       "  -0.042862350919222955,\n",
       "  0.03807726465364121,\n",
       "  0.030746882943953516,\n",
       "  -0.04839370355199251,\n",
       "  0.005420692905962762,\n",
       "  -0.011903386108863977,\n",
       "  -0.013911355548366224,\n",
       "  0.008117276472013569,\n",
       "  0.01255119566653455,\n",
       "  -0.006329113924050633,\n",
       "  -0.020577052113621114,\n",
       "  -0.0368,\n",
       "  0.022573569731310545,\n",
       "  -0.009829659930398681,\n",
       "  -0.0006393180607352157,\n",
       "  -0.007563416336979288,\n",
       "  0.013625592417061612,\n",
       "  -0.004076845750027923,\n",
       "  0.024284683818225534,\n",
       "  0.0025783163594173004,\n",
       "  0.024840681493042006,\n",
       "  -0.006307929969104016,\n",
       "  0.08622892959289236,\n",
       "  -0.01150092936802974,\n",
       "  0.009824561403508772,\n",
       "  0.02745945945945946,\n",
       "  0.004883859440142942,\n",
       "  0.02784356397618895,\n",
       "  -0.03611626468769326,\n",
       "  -0.02537749016622256,\n",
       "  -0.02247191011235955,\n",
       "  -0.004571852217966144,\n",
       "  -0.011013837898898616,\n",
       "  -0.0202488411807758,\n",
       "  -0.013624632375007502,\n",
       "  -0.01728608470181504,\n",
       "  0.014901603913092936,\n",
       "  0.013824289405684755,\n",
       "  0.018673689250658366,\n",
       "  0.005658242172764994,\n",
       "  0.0007336757153338225,\n",
       "  0.0038431037638016227,\n",
       "  -0.02027712064886786,\n",
       "  -0.025981205085682697,\n",
       "  -0.01588447653429603,\n",
       "  0.006137184115523465,\n",
       "  0.008727318390155083,\n",
       "  -0.0004533972407539348,\n",
       "  -0.013083490409136268,\n",
       "  -0.06196004319654427,\n",
       "  -0.023914209115281502,\n",
       "  -0.010914699252580377,\n",
       "  -0.01609842688376079,\n",
       "  0.008644979508196721,\n",
       "  0.00341319769776469,\n",
       "  0.012049689440993789,\n",
       "  -0.008267761432318395,\n",
       "  -0.03453611873109658,\n",
       "  0.023163042079526446,\n",
       "  -0.01007028217769852,\n",
       "  -0.014454499748617396,\n",
       "  0.018853405155829166,\n",
       "  0.004003099173553719,\n",
       "  -0.0057306590257879654,\n",
       "  0.023883550028264557,\n",
       "  -0.0024161706641522775,\n",
       "  0.004035063308751913,\n",
       "  -0.012680005097489486,\n",
       "  -0.07083008573655494,\n",
       "  -0.018208955223880597,\n",
       "  0.06080567519635166,\n",
       "  -0.004199940845903579,\n",
       "  -0.006449592986850344,\n",
       "  -0.015739994627988182,\n",
       "  -0.00822287677957781,\n",
       "  0.03158984981874676,\n",
       "  0.020757243730216705,\n",
       "  0.030159357302778876,\n",
       "  -0.019373355656541497,\n",
       "  0.014707796433684759,\n",
       "  -0.028159875421749286,\n",
       "  -0.012861545756282598,\n",
       "  -0.0244612696563774,\n",
       "  0.006586364445499318,\n",
       "  0.013865239601070299,\n",
       "  -0.03859303090072321,\n",
       "  -0.03175816539263377,\n",
       "  -0.022823984526112187,\n",
       "  0.06223642172523962,\n",
       "  0.042053522665210265,\n",
       "  -0.016914634836227866,\n",
       "  -0.03206688538469679,\n",
       "  -0.002552926525529265,\n",
       "  -0.011529203091346764],\n",
       " 't4': [-0.005860619187157599,\n",
       "  0.001640585562847047,\n",
       "  0.058905058905058906,\n",
       "  0.0195370831259333,\n",
       "  -0.035232590145884944,\n",
       "  0.0008997429305912597,\n",
       "  -0.0013304305757135945,\n",
       "  -0.07431578947368421,\n",
       "  0.0021904393763690247,\n",
       "  -0.021723561709238483,\n",
       "  0.05574261129816686,\n",
       "  -0.033535353535353536,\n",
       "  -0.006206896551724138,\n",
       "  0.013883746760459089,\n",
       "  -0.013842637936663403,\n",
       "  0.0016099602876462381,\n",
       "  0.019951709238785108,\n",
       "  0.002544213465715172,\n",
       "  -0.0010718831647350438,\n",
       "  -0.007546306883146581,\n",
       "  0.012446024892049785,\n",
       "  0.001746398054013597,\n",
       "  0.019394567219152854,\n",
       "  -0.006513872135102533,\n",
       "  0.003219160442956477,\n",
       "  0.006899882701994066,\n",
       "  0.05632915821146176,\n",
       "  -0.0034478185916987135,\n",
       "  -0.01819079179299161,\n",
       "  0.04486687525827971,\n",
       "  -0.02717425730031038,\n",
       "  0.005934718100890208,\n",
       "  -0.020406885758998437,\n",
       "  0.009034774130646734,\n",
       "  -0.008009858287122612,\n",
       "  -0.014976174268209666,\n",
       "  0.0014039028499227854,\n",
       "  0.0034444966337873807,\n",
       "  0.00017584994138335287,\n",
       "  0.10242837292397274,\n",
       "  0.01334308170352769,\n",
       "  -0.027793357013772044,\n",
       "  -0.005785401950891355,\n",
       "  -0.001548586914440573,\n",
       "  0.003626890069472824,\n",
       "  -0.004436919843540195,\n",
       "  0.002331649364347971,\n",
       "  -0.008234985575662209,\n",
       "  -0.012511764380224768,\n",
       "  0.004318854886475814,\n",
       "  0.3926477431363425,\n",
       "  0.008614638504243507,\n",
       "  -0.0022840916105932463,\n",
       "  -0.03366861410588448,\n",
       "  0.001833885470894463,\n",
       "  -0.01850468363887133,\n",
       "  0.0035534498075214687,\n",
       "  -0.004937691041617682,\n",
       "  0.07467299123185281,\n",
       "  -0.04365427434046286,\n",
       "  -0.003168879418674534,\n",
       "  0.004600051111679018,\n",
       "  -0.01719668710880698,\n",
       "  0.002451305154365973,\n",
       "  -0.008557588805166846,\n",
       "  -0.0008090614886731392,\n",
       "  -0.048982621065000925,\n",
       "  -0.006154249050674349,\n",
       "  0.06002510555745749,\n",
       "  -6.110228522546743e-05,\n",
       "  -0.006461297480746639,\n",
       "  -0.023497453310696095,\n",
       "  -0.04221470625078291,\n",
       "  0.001844625753813409,\n",
       "  0.0056007815043959625,\n",
       "  0.028519692168401993,\n",
       "  0.00789127575624726,\n",
       "  -0.009545199326221224,\n",
       "  0.013153387682400493,\n",
       "  0.0061046334167633234,\n",
       "  -0.007099143206854345,\n",
       "  -0.024840192889985423,\n",
       "  0.010615199034981907,\n",
       "  -0.0024791525805724587,\n",
       "  0.03603940640977678,\n",
       "  -0.042896795357052736,\n",
       "  -0.031120903332415312,\n",
       "  0.01151484135107472,\n",
       "  -0.014771424933146569,\n",
       "  -0.0007136060894386299,\n",
       "  0.006562342251388188,\n",
       "  -0.017551872634738352,\n",
       "  -0.010587756210126238,\n",
       "  0.0005506271030896299,\n",
       "  0.0037916350697077524,\n",
       "  0.15826494724501758,\n",
       "  -0.00025826446280991736,\n",
       "  0.03352467024914509,\n",
       "  0.005495862665184636,\n",
       "  -0.00447356814315418,\n",
       "  -0.009195402298850575,\n",
       "  -0.013067694944301628,\n",
       "  -0.0378775939059627,\n",
       "  -0.004111664141960614,\n",
       "  0.0018592934684819769,\n",
       "  -0.0026205742960691385,\n",
       "  -5.772005772005772e-05,\n",
       "  -0.011252316653428646,\n",
       "  -0.04171597633136095,\n",
       "  0.009254943737931953,\n",
       "  0.011140145784623847,\n",
       "  0.002615062761506276,\n",
       "  0.006644518272425249,\n",
       "  -0.0018317115054378936,\n",
       "  -0.006126616746085773,\n",
       "  -0.013165112452002194,\n",
       "  0.025146781876592444,\n",
       "  -0.009733661354155525,\n",
       "  0.01873536299765808,\n",
       "  -6.3403499873193e-05,\n",
       "  0.020372233400402416,\n",
       "  0.0018855368234250221,\n",
       "  -0.005595828564161262,\n",
       "  -0.027062627230271825,\n",
       "  0.007251672381808983,\n",
       "  0.002438398357289528,\n",
       "  -0.006950701505985327,\n",
       "  -0.005317833292109819,\n",
       "  0.008542538354253835,\n",
       "  0.01006012950971323,\n",
       "  -0.006513500710563714,\n",
       "  -0.007560733763014377,\n",
       "  -0.012038430373885866,\n",
       "  0.009743237047226043,\n",
       "  -0.008101707590676804,\n",
       "  0.02484978859135079,\n",
       "  -0.0049856662096472645,\n",
       "  0.052062041601539016,\n",
       "  -0.0075761957087502165,\n",
       "  -0.003203416978109984,\n",
       "  0.010508849557522125,\n",
       "  -0.0076,\n",
       "  -0.011673151750972763,\n",
       "  -0.019170403587443947,\n",
       "  0.009377889314489499,\n",
       "  -0.016990595611285266,\n",
       "  -0.008379888268156424,\n",
       "  -0.023160186249017355,\n",
       "  0.035838150289017344,\n",
       "  -0.0016693376068376068,\n",
       "  -0.029864363481540052,\n",
       "  0.01264797507788162,\n",
       "  0.0008198641368001874,\n",
       "  -0.025143633780193984,\n",
       "  -0.007892057026476579,\n",
       "  0.01621948537497251,\n",
       "  -0.008722174657534247,\n",
       "  -0.005683109797681291,\n",
       "  0.006051624058293195,\n",
       "  -0.005982905982905983,\n",
       "  -0.007275576449518693,\n",
       "  -0.006975269499048827,\n",
       "  0.012005935518683394,\n",
       "  0.010462175212692573,\n",
       "  0.004067208961194826,\n",
       "  0.010692873477965263,\n",
       "  -0.019945602901178604,\n",
       "  0.007847891277994002,\n",
       "  -0.0030321406913280777,\n",
       "  -0.008639038437460875,\n",
       "  -0.007108403148007108,\n",
       "  -0.017181734317343173,\n",
       "  0.017008906481939635,\n",
       "  -0.004932182490752158,\n",
       "  -0.019144144144144143,\n",
       "  -0.0020420553010651802,\n",
       "  -0.0464305377133419,\n",
       "  -0.014748549323017408,\n",
       "  -0.003920080930703085,\n",
       "  0.009634162218461138,\n",
       "  0.0030008402352658743,\n",
       "  -0.009023789991796555,\n",
       "  -0.003159466911764706,\n",
       "  -0.05188246097337006,\n",
       "  0.009740687113334211,\n",
       "  -0.04061243792858832,\n",
       "  0.001841036058913154,\n",
       "  0.05645112600374328,\n",
       "  -0.03524176088525379,\n",
       "  0.003046505844317334,\n",
       "  -0.002192448233861145,\n",
       "  -0.0008443908323281062,\n",
       "  -0.018835927563442552,\n",
       "  -0.003912865736144367,\n",
       "  0.00024934546814611643,\n",
       "  0.0045857535921736475,\n",
       "  0.02612155460731173,\n",
       "  -0.032531405546337995,\n",
       "  0.06570920183019827,\n",
       "  -0.01658302421994327,\n",
       "  -0.016916872059153036,\n",
       "  0.039968564050746606,\n",
       "  -0.003310866737613811,\n",
       "  0.0002783809364734703,\n",
       "  -0.015740519914142617,\n",
       "  -0.008264462809917356,\n",
       "  -0.006181645268663814,\n",
       "  -0.010430094925583031,\n",
       "  -0.0048951048951048955,\n",
       "  -0.04048389028626183,\n",
       "  0.039022611232676876,\n",
       "  0.00587160751565762,\n",
       "  0.07657187581528829,\n",
       "  0.006303832230682811,\n",
       "  -0.005013673655423883,\n",
       "  0.00628153640201833,\n",
       "  -0.04121565362198168,\n",
       "  0.011205797490438167,\n",
       "  -0.012005006827492035,\n",
       "  -0.007170636849781235,\n",
       "  -0.010603382984094925,\n",
       "  -0.021029641185647426,\n",
       "  -0.0015062213490504256,\n",
       "  -0.0022715125601282735,\n",
       "  -0.013045493675915502,\n",
       "  -0.0363919937613725,\n",
       "  0.006323337679269883,\n",
       "  -0.050416171224732464,\n",
       "  0.006366423013440227,\n",
       "  0.010388611004232396,\n",
       "  -0.0007020828457758015,\n",
       "  -0.016063294174058978,\n",
       "  0.01665675193337299,\n",
       "  -0.0024580090126997134,\n",
       "  0.00586341687744309,\n",
       "  -0.018186286556893586,\n",
       "  -0.018373377874855455,\n",
       "  -0.005897505422993493,\n",
       "  -0.047043173297859474,\n",
       "  0.0037689090815220196,\n",
       "  -0.0299356383774884,\n",
       "  -0.008791480931154037,\n",
       "  0.0006304086194051235,\n",
       "  -0.029054825813820673,\n",
       "  -0.03554470221136888,\n",
       "  0.035916955017301036,\n",
       "  0.014396587475561348,\n",
       "  -0.007847533632286996,\n",
       "  0.004280876621302153,\n",
       "  -0.054280510018214934,\n",
       "  -0.001974090067859346,\n",
       "  -0.003676470588235294,\n",
       "  0.03176715657909964,\n",
       "  0.0015224562293834052,\n",
       "  0.009969628944935957,\n",
       "  -0.007391479639833356,\n",
       "  -0.001258213337061373,\n",
       "  -0.003995525011986575,\n",
       "  -0.024634810596682346,\n",
       "  0.0025962298227790947,\n",
       "  0.00023097355352812103,\n",
       "  -0.013069544364508393,\n",
       "  0.060675883256528416,\n",
       "  -0.002067539627842867,\n",
       "  -0.0004421145708330702,\n",
       "  -0.00619520748100526,\n",
       "  -0.007334963325183374,\n",
       "  -0.0022366232723518955,\n",
       "  -0.013271245634458672,\n",
       "  -0.01758634607622672,\n",
       "  0.0019025472994398055,\n",
       "  0.04942684580303217,\n",
       "  -0.026913418495468938,\n",
       "  0.02432678548198257,\n",
       "  0.004200866024688167,\n",
       "  0.0035604665438919584,\n",
       "  -0.06552910811585891,\n",
       "  -0.004583521955636035,\n",
       "  -0.0013982458370408034,\n",
       "  0.055777374470659405,\n",
       "  -0.018292682926829267,\n",
       "  -0.0003555766267630674,\n",
       "  -0.035186015239802776,\n",
       "  -0.004761337935960005,\n",
       "  -0.010114388922335942,\n",
       "  0.011435071544034005,\n",
       "  0.010578793774319067,\n",
       "  0.01695090975066093,\n",
       "  -6.34719136781974e-05,\n",
       "  0.0014043300175541251,\n",
       "  0.038550407393895175,\n",
       "  -0.012692307692307692,\n",
       "  -0.01027951027951028,\n",
       "  -0.009333527781828789,\n",
       "  0.04995579133510168,\n",
       "  -0.0039963903570968155,\n",
       "  0.009408602150537635,\n",
       "  0.009383544618443948,\n",
       "  0.0074976007677543186,\n",
       "  -0.018981772470144563,\n",
       "  -0.004736530491415038,\n",
       "  -0.0012822156686754713,\n",
       "  0.005784483272705587,\n",
       "  -0.02196064652143359,\n",
       "  -0.07550599927281541,\n",
       "  0.015209125475285171,\n",
       "  0.0019546970219615958,\n",
       "  -0.005076786394212464,\n",
       "  0.011041211965592502,\n",
       "  -0.03853025250119104,\n",
       "  -0.02886671418389166,\n",
       "  0.018779342723004695,\n",
       "  -0.013223999538026217,\n",
       "  -0.023506820288703482,\n",
       "  0.006415549768150924,\n",
       "  0.018958719851576995,\n",
       "  -0.003822098679638638,\n",
       "  -0.08307986932522249,\n",
       "  0.013029315960912053,\n",
       "  -0.05808643350412118,\n",
       "  0.008098190560546628,\n",
       "  -0.032200886262924666,\n",
       "  -0.007025339257835955,\n",
       "  -0.0031959629941127,\n",
       "  -0.015220700152207,\n",
       "  -0.009020860740462319,\n",
       "  0.011975401877225159,\n",
       "  0.0018022077044379365,\n",
       "  -0.08733965421081985,\n",
       "  -0.01916876721964945,\n",
       "  -0.013519406890536415,\n",
       "  -0.03581890812250333,\n",
       "  -0.0028651385927505333,\n",
       "  0.02459294436906377,\n",
       "  -0.004418103448275862,\n",
       "  0.0007109652720809407,\n",
       "  0.003585887796414112,\n",
       "  0.015959569091634526,\n",
       "  0.0018355142400378944,\n",
       "  0.0017281449258089506,\n",
       "  -0.004367816091954023,\n",
       "  -0.0015555555555555555,\n",
       "  -0.007399046902432907,\n",
       "  -0.018510028653295128,\n",
       "  -0.011054881344273572,\n",
       "  -0.05316270154470628,\n",
       "  -0.050831846180415634,\n",
       "  -0.01848448816344179,\n",
       "  -0.00023282887077997672,\n",
       "  0.0006385696040868455,\n",
       "  0.002484752654167608,\n",
       "  -0.019867549668874173,\n",
       "  -0.022682445759368838,\n",
       "  -0.06533753421827385,\n",
       "  0.009971509971509971,\n",
       "  -0.013470580759944084,\n",
       "  -0.001372426699937617,\n",
       "  -0.03319938176197836,\n",
       "  0.060687130385806816,\n",
       "  0.002950345134713872,\n",
       "  0.0024116896013618955,\n",
       "  -0.020542995767523484,\n",
       "  -0.030889515508843886,\n",
       "  0.04841324994208941,\n",
       "  0.015551203778366548,\n",
       "  0.014342120543490884,\n",
       "  0.0697786333012512,\n",
       "  -0.022156398104265403,\n",
       "  -0.04839370355199251,\n",
       "  0.004931892907468295,\n",
       "  -0.00849958682564042,\n",
       "  0.005380577427821522,\n",
       "  0.008117276472013569,\n",
       "  0.01255119566653455,\n",
       "  -0.006329113924050633,\n",
       "  -0.017241379310344827,\n",
       "  -0.0056861742908254536,\n",
       "  0.022573569731310545,\n",
       "  -0.010802114456446793,\n",
       "  0.03599944933920705,\n",
       "  -0.007563416336979288,\n",
       "  -0.00710927645912166,\n",
       "  -0.004076845750027923,\n",
       "  0.005469129800680603,\n",
       "  0.020173283331178068,\n",
       "  0.021170610211706103,\n",
       "  -0.006307929969104016,\n",
       "  -0.0343685773007536,\n",
       "  -0.01150092936802974,\n",
       "  0.009824561403508772,\n",
       "  0.02745945945945946,\n",
       "  0.004883859440142942,\n",
       "  0.007058230400806655,\n",
       "  -0.03611626468769326,\n",
       "  -0.009768499933092466,\n",
       "  -0.012980965131847022,\n",
       "  -0.004571852217966144,\n",
       "  -0.011013837898898616,\n",
       "  0.025245526299933724,\n",
       "  -0.01043131739334271,\n",
       "  -0.003967761934283943,\n",
       "  0.014901603913092936,\n",
       "  0.013824289405684755,\n",
       "  -0.0011809163911195087,\n",
       "  0.005658242172764994,\n",
       "  0.0005466140297600972,\n",
       "  -0.0008174558259447903,\n",
       "  0.027319086935405537,\n",
       "  -0.06415396952686447,\n",
       "  -0.01588447653429603,\n",
       "  -0.01033855941831402,\n",
       "  0.008727318390155083,\n",
       "  -0.000611321677466683,\n",
       "  0.008032805302774969,\n",
       "  0.0005647324579980235,\n",
       "  -0.025513096722984466,\n",
       "  -0.021031643941342937,\n",
       "  -0.01609842688376079,\n",
       "  0.008644979508196721,\n",
       "  -0.013489815189531903,\n",
       "  0.012049689440993789,\n",
       "  0.012706261139538894,\n",
       "  -0.03453611873109658,\n",
       "  0.02882251720747296,\n",
       "  -0.01774928473031684,\n",
       "  0.0387166807381498,\n",
       "  0.018853405155829166,\n",
       "  0.004003099173553719,\n",
       "  -0.004101086233651075,\n",
       "  -0.031608005521049,\n",
       "  -0.0041351606805293,\n",
       "  0.004035063308751913,\n",
       "  0.0002498750624687656,\n",
       "  0.016391550271268613,\n",
       "  -0.018208955223880597,\n",
       "  0.06080567519635166,\n",
       "  -0.004199940845903579,\n",
       "  -0.006449592986850344,\n",
       "  -0.002102750625142078,\n",
       "  0.008909788392525677,\n",
       "  -0.018072289156626505,\n",
       "  0.020757243730216705,\n",
       "  0.0063922270519048835,\n",
       "  -0.019373355656541497,\n",
       "  0.0055156490507952795,\n",
       "  -0.028159875421749286,\n",
       "  -0.012861545756282598,\n",
       "  -0.027821842586943257,\n",
       "  -0.013038483630097644,\n",
       "  0.013865239601070299,\n",
       "  -0.00903225806451613,\n",
       "  0.005526448001148353,\n",
       "  0.0312953915225142,\n",
       "  0.06223642172523962,\n",
       "  0.0308300395256917,\n",
       "  -0.0020930232558139536,\n",
       "  -0.0029521102121145854,\n",
       "  0.006394182547642928,\n",
       "  -0.0034067085953878406],\n",
       " 't5': [-0.1133759658939515,\n",
       "  0.04469987228607918,\n",
       "  0.05927704752275025,\n",
       "  -0.02584447970981637,\n",
       "  0.06851570415400203,\n",
       "  0.002832219327064688,\n",
       "  -0.030911552346570396,\n",
       "  0.04110836477169247,\n",
       "  -0.026495624025896176,\n",
       "  -0.006172028890347997,\n",
       "  -0.019946343170418757,\n",
       "  0.011551844119693807,\n",
       "  -0.0010454495433036206,\n",
       "  -0.015627861546914108,\n",
       "  -0.009627534749383236,\n",
       "  0.009367826788262298,\n",
       "  0.007278481012658228,\n",
       "  -0.008491828069563194,\n",
       "  -0.001565793435712135,\n",
       "  -0.014670075480886292,\n",
       "  0.00602334823646299,\n",
       "  -0.04000467890981401,\n",
       "  0.02421093361339893,\n",
       "  -0.0031974921630094043,\n",
       "  -0.010141522947344297,\n",
       "  0.0017568517217146872,\n",
       "  0.0542907180385289,\n",
       "  -0.024750181986632255,\n",
       "  -0.03726829268292683,\n",
       "  0.0030895371635672273,\n",
       "  -0.014011058054787634,\n",
       "  -0.011251514626969016,\n",
       "  -0.014273858921161826,\n",
       "  0.004386247823001999,\n",
       "  0.011658959161076012,\n",
       "  0.0003535234503888758,\n",
       "  0.033694884795584364,\n",
       "  -0.013768485466598673,\n",
       "  -0.013820824844446892,\n",
       "  -0.0006165988407941793,\n",
       "  -0.017179456482700826,\n",
       "  0.00012151406525305304,\n",
       "  -0.0012696800406297613,\n",
       "  0.014694321823789078,\n",
       "  -0.008484358767170725,\n",
       "  -0.012601156069364162,\n",
       "  0.016247602812699765,\n",
       "  -0.008234985575662209,\n",
       "  0.010614584439019213,\n",
       "  -0.002477243922110842,\n",
       "  0.02247191011235955,\n",
       "  0.006951219512195122,\n",
       "  -0.008089645254074785,\n",
       "  0.004259980525803311,\n",
       "  -0.012917883803959753,\n",
       "  -0.015212028662046281,\n",
       "  0.016102959462820195,\n",
       "  -0.013578320910614202,\n",
       "  0.035073126776183544,\n",
       "  0.0006044731009470078,\n",
       "  -0.054889109953771435,\n",
       "  -0.004058483792080753,\n",
       "  -0.0039923954372623575,\n",
       "  -0.008944543828264758,\n",
       "  0.009831714819952953,\n",
       "  0.038298900567838585,\n",
       "  -0.00298804780876494,\n",
       "  -0.015576716907359525,\n",
       "  0.053294289897510984,\n",
       "  -0.02743202416918429,\n",
       "  0.00965644091177823,\n",
       "  -0.03913383772501957,\n",
       "  0.019605288868625025,\n",
       "  -0.0013598041881968997,\n",
       "  0.009824992324224747,\n",
       "  0.01062625754527163,\n",
       "  0.021923076923076924,\n",
       "  0.025041163556531285,\n",
       "  0.011371667202055895,\n",
       "  0.0037652965171007216,\n",
       "  0.00984084558376868,\n",
       "  -0.009516517173485015,\n",
       "  -0.019526228805778294,\n",
       "  -0.026671820641669886,\n",
       "  -0.0029730051135687953,\n",
       "  0.013618925831202047,\n",
       "  0.017832475197789778,\n",
       "  0.027034137999079128,\n",
       "  -0.00024615384615384614,\n",
       "  -0.007100453963450122,\n",
       "  0.004727226268046505,\n",
       "  -0.015133024164022455,\n",
       "  -0.00425,\n",
       "  -0.0048095177825591695,\n",
       "  0.03932178932178932,\n",
       "  0.0018090192531334797,\n",
       "  0.007328784432650998,\n",
       "  -0.018654541214877,\n",
       "  -0.010917296901683337,\n",
       "  0.04198800342759212,\n",
       "  -0.009547981629199903,\n",
       "  -0.0039009674399251015,\n",
       "  0.005134501618484206,\n",
       "  0.016001684387830298,\n",
       "  0.0019330675365470582,\n",
       "  -0.022808586762075134,\n",
       "  0.004230021721733166,\n",
       "  -0.017114914425427872,\n",
       "  -0.019086883493663154,\n",
       "  -0.004247255619445897,\n",
       "  -0.019444090271579752,\n",
       "  0.003796337650736936,\n",
       "  0.004753623188405797,\n",
       "  -0.0035583103764921945,\n",
       "  0.011583011583011582,\n",
       "  0.017678708685626442,\n",
       "  -0.015974776668418286,\n",
       "  -5.538938739337543e-05,\n",
       "  -0.027433295753476136,\n",
       "  0.005999250093738283,\n",
       "  -0.016725559481743226,\n",
       "  0.0018855368234250221,\n",
       "  0.0008325404376784015,\n",
       "  -0.03318737036183452,\n",
       "  0.002527283170591614,\n",
       "  -0.01708382995629718,\n",
       "  -0.008150470219435737,\n",
       "  0.004764145394659452,\n",
       "  -0.00881179339392596,\n",
       "  0.018760907504363003,\n",
       "  -0.012324929971988795,\n",
       "  0.016229237986560164,\n",
       "  0.0007167602436984828,\n",
       "  0.0005703205201323143,\n",
       "  0.014723127035830619,\n",
       "  0.0010239344681940356,\n",
       "  -0.013750793314998943,\n",
       "  -0.02074733869215729,\n",
       "  -0.005268454389392056,\n",
       "  -0.02183814083849118,\n",
       "  0.0037253858435337944,\n",
       "  -0.007605526682722779,\n",
       "  0.02718707940780619,\n",
       "  0.016965742251223492,\n",
       "  -0.011249922307166387,\n",
       "  0.004487106668181302,\n",
       "  -0.023667935299714556,\n",
       "  0.03880778588807786,\n",
       "  0.053065301535772255,\n",
       "  0.009992505620784412,\n",
       "  0.005375,\n",
       "  -0.04609822235613136,\n",
       "  -0.004002425712553062,\n",
       "  0.06743398781313473,\n",
       "  0.008947006194081212,\n",
       "  0.02636939791760978,\n",
       "  -0.014744718309859154,\n",
       "  0.013001824817518248,\n",
       "  -0.008803638059701493,\n",
       "  0.004542220762874186,\n",
       "  -0.014997489959839357,\n",
       "  0.019867549668874173,\n",
       "  -0.002560351133869788,\n",
       "  -0.06068245778611632,\n",
       "  -0.003971701625915353,\n",
       "  -0.025952257094965608,\n",
       "  -0.009940357852882704,\n",
       "  0.01395293131325229,\n",
       "  -0.028737722808293925,\n",
       "  0.0029189189189189188,\n",
       "  -0.013882643884892087,\n",
       "  -0.01130931561151918,\n",
       "  0.0010353227771010961,\n",
       "  0.11523267492467358,\n",
       "  0.01901813356921716,\n",
       "  0.009545381006309658,\n",
       "  -0.026144168061407052,\n",
       "  0.01987866270814509,\n",
       "  -0.012909395170929955,\n",
       "  -0.006779661016949152,\n",
       "  0.016325282788138183,\n",
       "  -0.02054538662682107,\n",
       "  -0.015450361604207758,\n",
       "  -0.008503602220385023,\n",
       "  -0.006749294391949933,\n",
       "  -0.008342813803564657,\n",
       "  0.09034348671419314,\n",
       "  -0.03488847963986086,\n",
       "  -0.017898737280863063,\n",
       "  -0.010810195721438326,\n",
       "  -0.00941734005711161,\n",
       "  -0.0011127379209370425,\n",
       "  -0.006988719960765081,\n",
       "  0.010313531353135313,\n",
       "  -0.027961819202695117,\n",
       "  -0.01240694789081886,\n",
       "  -0.005676341437292492,\n",
       "  -0.019933172024426776,\n",
       "  0.01719777440566515,\n",
       "  -0.016325112886418896,\n",
       "  0.05275903822868016,\n",
       "  0.057432432432432436,\n",
       "  -0.008781426681101889,\n",
       "  0.001859345947719567,\n",
       "  0.03477949085693797,\n",
       "  -0.012312832570226457,\n",
       "  0.010189961001383823,\n",
       "  -0.04345976173109652,\n",
       "  -0.00953770197486535,\n",
       "  -0.0017475970540506804,\n",
       "  0.019851434426229508,\n",
       "  0.049478290138000675,\n",
       "  0.023149772009821115,\n",
       "  -0.006291390728476821,\n",
       "  0.026264479871544903,\n",
       "  -0.0008996136952955496,\n",
       "  0.01902429836127331,\n",
       "  0.0018105009052504525,\n",
       "  0.01909307875894988,\n",
       "  -0.03924238672938846,\n",
       "  -0.002006602369085378,\n",
       "  -0.05388681191182158,\n",
       "  -0.004765013054830287,\n",
       "  0.0057670126874279125,\n",
       "  -0.0040166019547462845,\n",
       "  -0.02476303317535545,\n",
       "  -0.016711862269029452,\n",
       "  0.0041831543244771055,\n",
       "  0.029222328244274808,\n",
       "  0.006137758581495794,\n",
       "  -0.005117155938594129,\n",
       "  0.006168359941944848,\n",
       "  -0.016684576664215824,\n",
       "  0.0335080920902667,\n",
       "  -0.002579831451011867,\n",
       "  -0.03634085213032581,\n",
       "  -0.008928571428571428,\n",
       "  -0.027491180190374758,\n",
       "  -0.009925558312655087,\n",
       "  -0.009649674847912734,\n",
       "  0.009083622762489982,\n",
       "  -0.02338427545571718,\n",
       "  0.002139157847331682,\n",
       "  0.05108877721943048,\n",
       "  -0.011748348974626347,\n",
       "  0.013306982872200264,\n",
       "  -0.04962171784601691,\n",
       "  -0.029097009313356858,\n",
       "  0.014587987909055066,\n",
       "  0.005066572404854483,\n",
       "  0.0001278935925310142,\n",
       "  -0.010755122834823955,\n",
       "  -0.0022061319153750423,\n",
       "  -0.023659954206540247,\n",
       "  0.000594883997620464,\n",
       "  0.044501278772378514,\n",
       "  0.030149296999565155,\n",
       "  -0.0026162444999405397,\n",
       "  0.028619311589532036,\n",
       "  0.0109204368174727,\n",
       "  0.008956612771897174,\n",
       "  -0.009935582487171088,\n",
       "  -0.025727192595857207,\n",
       "  0.012559272074843008,\n",
       "  -0.015072622636338722,\n",
       "  -0.020761859694782916,\n",
       "  0.018128310771041788,\n",
       "  -0.024106088263717386,\n",
       "  -0.013271245634458672,\n",
       "  0.04206745403628394,\n",
       "  -0.00047174756263759305,\n",
       "  -0.01612012807772993,\n",
       "  -0.009480296973158196,\n",
       "  -0.02971954792800335,\n",
       "  0.02438100050530571,\n",
       "  0.02564993341439407,\n",
       "  -0.016331734563778764,\n",
       "  -0.03326106800547695,\n",
       "  -0.008081302803967185,\n",
       "  -0.002334152334152334,\n",
       "  -0.01211496326846243,\n",
       "  0.025627175609170567,\n",
       "  0.05711380898271635,\n",
       "  -0.03195446348061316,\n",
       "  -0.0012724188075618032,\n",
       "  0.01192584720746251,\n",
       "  -0.007291528569534668,\n",
       "  -0.010035478966041561,\n",
       "  0.044177881802223526,\n",
       "  -0.00606207565470417,\n",
       "  0.07868937048503612,\n",
       "  0.02651637491118145,\n",
       "  0.011116481391976801,\n",
       "  -0.02809573361082206,\n",
       "  -0.055954342198164274,\n",
       "  0.011221787920817046,\n",
       "  -0.01821986950634002,\n",
       "  0.003461033536221506,\n",
       "  -0.021242758150630467,\n",
       "  0.0063363325307312125,\n",
       "  -0.0005983008256551394,\n",
       "  -0.029451800519737656,\n",
       "  0.007633587786259542,\n",
       "  -0.019988956377691883,\n",
       "  -0.010875920944918722,\n",
       "  -0.011403808872163303,\n",
       "  -0.03158895225315889,\n",
       "  0.01635598316295851,\n",
       "  -0.007499690095450601,\n",
       "  0.059378274537198746,\n",
       "  0.012361820991322953,\n",
       "  0.016530483972344436,\n",
       "  -0.025495750708215296,\n",
       "  0.02225935429969565,\n",
       "  0.021396675762838005,\n",
       "  0.0007572889057175312,\n",
       "  0.0027107267329288757,\n",
       "  -0.04848678601875533,\n",
       "  -0.028512746164069108,\n",
       "  0.002082746974387841,\n",
       "  0.006284184801582684,\n",
       "  0.00718562874251497,\n",
       "  0.02607184241019699,\n",
       "  0.008313279369940932,\n",
       "  -0.01038788816443806,\n",
       "  0.029446292310702407,\n",
       "  -0.021721289051813756,\n",
       "  -0.011015490533562823,\n",
       "  -0.002103049421661409,\n",
       "  -0.01761819803746655,\n",
       "  0.019170955154668327,\n",
       "  -0.03581890812250333,\n",
       "  -0.013436211254489823,\n",
       "  0.0029005801160232048,\n",
       "  0.006378378378378379,\n",
       "  -0.0017683939767429398,\n",
       "  0.00848992528865746,\n",
       "  -0.0037835064768500706,\n",
       "  0.011085394079668656,\n",
       "  -0.02186761229314421,\n",
       "  -0.00017293059718699561,\n",
       "  0.0020847419427541133,\n",
       "  0.0302283341982356,\n",
       "  0.016231149994244274,\n",
       "  -0.022734499205087442,\n",
       "  -0.023717794365518904,\n",
       "  -0.028147071042791856,\n",
       "  -0.0014342453662842013,\n",
       "  -0.017339806861228192,\n",
       "  0.009301244041390535,\n",
       "  -0.012384956254971026,\n",
       "  -0.001188071759534276,\n",
       "  0.029418307196084972,\n",
       "  0.002601809954751131,\n",
       "  0.06100881742738589,\n",
       "  0.032138284250960304,\n",
       "  -0.030343087183800996,\n",
       "  0.022034520749173704,\n",
       "  -0.011714080803251255,\n",
       "  -0.0226082671102076,\n",
       "  -0.0032876712328767125,\n",
       "  -0.029965836993655442,\n",
       "  -0.015366041049281088,\n",
       "  -0.015066964285714286,\n",
       "  -0.054509924920292094,\n",
       "  0.00829445308449974,\n",
       "  -0.04209613717368269,\n",
       "  0.004579758756369735,\n",
       "  -0.006521498839394274,\n",
       "  -0.002102919346857991,\n",
       "  0.0017709923664122138,\n",
       "  0.1399524689728017,\n",
       "  0.008061468698828568,\n",
       "  0.012529796467208606,\n",
       "  0.038598098728667964,\n",
       "  0.013347634370158503,\n",
       "  0.0022263450834879408,\n",
       "  -0.005705014131686381,\n",
       "  0.008903414854051618,\n",
       "  -0.042984679819243914,\n",
       "  0.00011241007194244605,\n",
       "  -0.028068043742405832,\n",
       "  0.014427014427014427,\n",
       "  -0.0029754820280885504,\n",
       "  -0.01528612490201202,\n",
       "  0.006500607533414338,\n",
       "  -0.016985138004246284,\n",
       "  0.004059997744445698,\n",
       "  -0.023844282238442822,\n",
       "  -0.012850550230741924,\n",
       "  -0.0065446478092068775,\n",
       "  -0.004244387356193455,\n",
       "  -0.015138514341750429,\n",
       "  -0.002933299324065808,\n",
       "  -0.06176326129666012,\n",
       "  -0.002080114109116843,\n",
       "  -0.0035591712215584086,\n",
       "  0.036358364743403884,\n",
       "  0.0011303692539562924,\n",
       "  0.005448300367168068,\n",
       "  -0.0148944735177411,\n",
       "  0.008377323846683498,\n",
       "  -0.003774489245701276,\n",
       "  0.030515051740357478,\n",
       "  0.009524980028267682,\n",
       "  -0.00018751171948246765,\n",
       "  -0.010597023568243673,\n",
       "  0.001725200246457178,\n",
       "  0.02217232669099074,\n",
       "  -0.006054386865059005,\n",
       "  -0.006332082551594747,\n",
       "  -0.006013193998482106,\n",
       "  -0.002208317997791682,\n",
       "  0.011911645657453451,\n",
       "  -0.03812196290466087,\n",
       "  -0.008575565207706871,\n",
       "  0.006247657128576784,\n",
       "  0.0015124779430299975,\n",
       "  0.01637539562405394,\n",
       "  -0.039277711875576646,\n",
       "  -0.006533530571992111,\n",
       "  0.016201620162016202,\n",
       "  0.019902464742322393,\n",
       "  0.010605187319884727,\n",
       "  -0.07639366827253957,\n",
       "  0.012925412071623385,\n",
       "  0.013971397139713971,\n",
       "  0.011395320644926658,\n",
       "  0.007775709122768591,\n",
       "  0.02920938070495717,\n",
       "  0.0134987230937614,\n",
       "  0.003424657534246575,\n",
       "  -0.0011018212457061377,\n",
       "  -0.011042684221703122,\n",
       "  -0.001813236627379873,\n",
       "  0.006751054852320675,\n",
       "  -0.0038335776299470064,\n",
       "  0.016969125618666037,\n",
       "  -0.00893861029907803,\n",
       "  -0.0175609756097561,\n",
       "  -0.035833333333333335,\n",
       "  -0.04367501578615028,\n",
       "  -0.00842418235877106,\n",
       "  0.013759119416357353,\n",
       "  0.014193876901533958,\n",
       "  -0.05935648739691021,\n",
       "  0.0377111586961694,\n",
       "  -0.04917465081380584,\n",
       "  -0.05416399058017555,\n",
       "  -0.012917649981368774,\n",
       "  -0.012843079731403612,\n",
       "  -0.020084974893781384,\n",
       "  0.006463527239150508,\n",
       "  -0.026513794338946614,\n",
       "  0.014265503419004951,\n",
       "  0.01374368612709973,\n",
       "  -0.01435512367491166,\n",
       "  0.006044325050369375,\n",
       "  -0.007595280075952801],\n",
       " 't6': [0.009241641750475673,\n",
       "  0.017391304347826087,\n",
       "  -0.028352673764804402,\n",
       "  -0.003000230786983614,\n",
       "  0.00034614053305642093,\n",
       "  -0.06736647825585419,\n",
       "  0.008807045636509208,\n",
       "  0.03196292775665399,\n",
       "  -0.04006183176606982,\n",
       "  -0.006172028890347997,\n",
       "  -0.019946343170418757,\n",
       "  0.016199292131772392,\n",
       "  0.011791036628636934,\n",
       "  -0.005897219882055603,\n",
       "  0.009355310889072743,\n",
       "  -0.0009219422249539029,\n",
       "  -0.016211121583411876,\n",
       "  0.015075966445708923,\n",
       "  0.04628210629559247,\n",
       "  -0.014670075480886292,\n",
       "  0.02028767037246404,\n",
       "  -0.0004264652126233703,\n",
       "  0.011042283867492593,\n",
       "  0.005786603388701515,\n",
       "  -0.02343657990813803,\n",
       "  0.0003481692102361748,\n",
       "  0.004657988769780501,\n",
       "  0.055656626911933155,\n",
       "  -0.03600864748007026,\n",
       "  -0.04150151550477967,\n",
       "  0.08302694030349622,\n",
       "  -0.0036038200492522075,\n",
       "  -0.002862434753325476,\n",
       "  0.005639579594975647,\n",
       "  0.006309554468194695,\n",
       "  -0.013311344092354812,\n",
       "  -0.009649568308786187,\n",
       "  0.009880749574105622,\n",
       "  -0.010258672991009873,\n",
       "  -0.011084583901773533,\n",
       "  -0.03039161946525367,\n",
       "  -0.01123868537755908,\n",
       "  -0.010106788710907704,\n",
       "  -0.022765196662693683,\n",
       "  -0.009214155760314572,\n",
       "  0.03206588400210268,\n",
       "  0.00974573964174879,\n",
       "  -0.0015222298042097528,\n",
       "  -0.0014980471884864374,\n",
       "  -0.002477243922110842,\n",
       "  -0.0013515895868837044,\n",
       "  0.015132022299822337,\n",
       "  0.0012541057031949835,\n",
       "  -0.033957202950679756,\n",
       "  0.0044703595724003885,\n",
       "  0.013462760732651529,\n",
       "  0.0051398152114054945,\n",
       "  0.026525507533011458,\n",
       "  -0.036849378166743434,\n",
       "  -0.009311112610485122,\n",
       "  0.009485258579023683,\n",
       "  0.009299409644219216,\n",
       "  0.007490153031574869,\n",
       "  0.005995358432181537,\n",
       "  -0.00552190951193445,\n",
       "  0.003781708168489644,\n",
       "  0.0008805585256934399,\n",
       "  -0.005984941115901924,\n",
       "  -0.018459827634139562,\n",
       "  0.00897196261682243,\n",
       "  0.006001846722068329,\n",
       "  0.006731200717994743,\n",
       "  -0.023848415550473703,\n",
       "  0.00530035335689046,\n",
       "  0.0007718798242489016,\n",
       "  0.02425442395743101,\n",
       "  -0.04461675352739291,\n",
       "  0.0356424658484155,\n",
       "  -0.04141786304154491,\n",
       "  0.005622254758418741,\n",
       "  -0.0074065153248630096,\n",
       "  -0.012921038100496962,\n",
       "  0.0015428289311281164,\n",
       "  0.009764579989299091,\n",
       "  -0.0029730051135687953,\n",
       "  0.004953346388664901,\n",
       "  0.010004880429477794,\n",
       "  -0.003719581389484302,\n",
       "  -0.003856749311294766,\n",
       "  -0.0004122254284199988,\n",
       "  -0.0006995230524642289,\n",
       "  -0.011771995043370507,\n",
       "  0.0270404984423676,\n",
       "  -0.014243518214637348,\n",
       "  0.0005817335660267597,\n",
       "  -0.009477425299460314,\n",
       "  0.00012496875781054737,\n",
       "  0.0066638650417242,\n",
       "  -0.010242653334959152,\n",
       "  0.00111097395383286,\n",
       "  -0.011543496370343924,\n",
       "  0.012080110204514147,\n",
       "  0.03428899082568807,\n",
       "  -0.006175044654248533,\n",
       "  0.01675579322638146,\n",
       "  -0.022808586762075134,\n",
       "  -0.033925318761384333,\n",
       "  0.006254442075337598,\n",
       "  -0.019086883493663154,\n",
       "  0.010040028873285648,\n",
       "  0.006249177739771083,\n",
       "  0.002313639185147565,\n",
       "  -0.006126781922960267,\n",
       "  -0.003266906239790918,\n",
       "  -0.023336968375136314,\n",
       "  -0.0015412414965986394,\n",
       "  0.0006927791100452971,\n",
       "  -0.010552038209485727,\n",
       "  0.01047061472641297,\n",
       "  -0.005473998507091316,\n",
       "  0.010381661065770523,\n",
       "  -0.02995364665845215,\n",
       "  0.00425273390036452,\n",
       "  0.015862564348138392,\n",
       "  -0.016681901279707496,\n",
       "  -0.01708382995629718,\n",
       "  0.003020387616410773,\n",
       "  -0.0008158508158508159,\n",
       "  -0.027564998602180597,\n",
       "  0.0022158568880722043,\n",
       "  -0.00975609756097561,\n",
       "  -0.00031583601793948584,\n",
       "  0.016405135520684736,\n",
       "  -0.005764840182648402,\n",
       "  0.00348866184899078,\n",
       "  0.0010239344681940356,\n",
       "  -0.005255255255255256,\n",
       "  -0.030289507446867852,\n",
       "  -0.09164484646512736,\n",
       "  -0.0063453325198291645,\n",
       "  0.0037253858435337944,\n",
       "  0.01136221750530653,\n",
       "  -0.006031910753664548,\n",
       "  0.016965742251223492,\n",
       "  0.002514458134272064,\n",
       "  -0.005008904719501336,\n",
       "  -0.017663205633130445,\n",
       "  0.03880778588807786,\n",
       "  -0.10359092214880782,\n",
       "  -0.0012451749470800647,\n",
       "  -0.0019409937888198758,\n",
       "  0.01773821299043851,\n",
       "  -0.00647870425914817,\n",
       "  -0.0021257407884565835,\n",
       "  -0.006239168110918544,\n",
       "  -0.039167753150804,\n",
       "  -0.004802322984141166,\n",
       "  0.013001824817518248,\n",
       "  -0.008803638059701493,\n",
       "  0.004542220762874186,\n",
       "  -0.014997489959839357,\n",
       "  0.019867549668874173,\n",
       "  -0.019801980198019802,\n",
       "  0.014861729478898852,\n",
       "  0.021328070287133124,\n",
       "  -0.0021636161627974974,\n",
       "  0.0014112666117840763,\n",
       "  -0.01819040869359792,\n",
       "  0.023366192040890837,\n",
       "  -0.004666304937601736,\n",
       "  -0.013882643884892087,\n",
       "  -0.009832272990167727,\n",
       "  0.0010353227771010961,\n",
       "  -0.014406055426687828,\n",
       "  0.01901813356921716,\n",
       "  -0.007692307692307693,\n",
       "  -0.0029544769369912573,\n",
       "  -0.008147405364753071,\n",
       "  -0.03977719924925834,\n",
       "  -0.018508583690987124,\n",
       "  0.004002425712553062,\n",
       "  -0.0036483035388544327,\n",
       "  -0.0242096268869268,\n",
       "  -0.010482430017867778,\n",
       "  -0.006749294391949933,\n",
       "  0.030863426215169312,\n",
       "  -0.019340021757524476,\n",
       "  0.06162085810134777,\n",
       "  -0.012018086625416468,\n",
       "  -0.002661826981246219,\n",
       "  -0.00941734005711161,\n",
       "  0.01169340026937676,\n",
       "  -0.008517274472168906,\n",
       "  -0.00581329077852502,\n",
       "  -0.027961819202695117,\n",
       "  0.003750756200846945,\n",
       "  -0.005676341437292492,\n",
       "  0.016740037071362374,\n",
       "  -0.009656521207676324,\n",
       "  0.0014017054082467002,\n",
       "  -0.010873808063346903,\n",
       "  -0.07411444141689373,\n",
       "  -0.009283980582524273,\n",
       "  0.01178170501278204,\n",
       "  -0.01859732991313473,\n",
       "  0.006464697680314361,\n",
       "  0.010189961001383823,\n",
       "  0.00025422651582560063,\n",
       "  -0.007816925342698539,\n",
       "  0.01406555772994129,\n",
       "  0.019851434426229508,\n",
       "  0.012807662323198575,\n",
       "  0.0005713632727688264,\n",
       "  -0.004865044985004998,\n",
       "  0.017042914617791685,\n",
       "  -0.0008996136952955496,\n",
       "  -0.012336258425537327,\n",
       "  -0.0061445783132530124,\n",
       "  -0.020922436712518783,\n",
       "  -0.007748883635408458,\n",
       "  -0.020152435085906212,\n",
       "  -0.009910271862863265,\n",
       "  -0.004609711124769515,\n",
       "  0.0057670126874279125,\n",
       "  -0.03414437424384998,\n",
       "  -0.02476303317535545,\n",
       "  0.02001150821558724,\n",
       "  0.019334880123743233,\n",
       "  0.038684020245842374,\n",
       "  -0.022320648056413542,\n",
       "  0.0002165674066053059,\n",
       "  -0.03148192482643045,\n",
       "  0.03253758751291174,\n",
       "  0.04879797088663432,\n",
       "  -0.0034202146479537683,\n",
       "  0.011121227887617066,\n",
       "  0.005755755755755756,\n",
       "  -0.009154105581939569,\n",
       "  -0.008048048048048049,\n",
       "  -0.0054896405170887196,\n",
       "  -0.027952863798300906,\n",
       "  0.0014503720519611553,\n",
       "  0.009304715150131293,\n",
       "  0.02323856613102596,\n",
       "  -0.011748348974626347,\n",
       "  0.006056898133985928,\n",
       "  -0.03523764926246781,\n",
       "  0.015335499686448891,\n",
       "  -0.02169141381536475,\n",
       "  -0.008891806409261802,\n",
       "  0.0016630420877574517,\n",
       "  0.0029592533576143867,\n",
       "  0.02507192766132347,\n",
       "  -0.023659954206540247,\n",
       "  -0.003007337904486948,\n",
       "  0.0017838030681412772,\n",
       "  -0.0027151778441487917,\n",
       "  -0.014656692817612359,\n",
       "  0.031638418079096044,\n",
       "  0.0046564452015900055,\n",
       "  0.012218576762077158,\n",
       "  0.011808118081180811,\n",
       "  -0.007781438146086561,\n",
       "  0.0028477407923047714,\n",
       "  0.029771841958820256,\n",
       "  -0.020761859694782916,\n",
       "  0.028905075731298416,\n",
       "  -0.06936547646122355,\n",
       "  -0.013271245634458672,\n",
       "  0.04206745403628394,\n",
       "  -0.008236239453595822,\n",
       "  0.013186686629045262,\n",
       "  -0.009480296973158196,\n",
       "  -0.02971954792800335,\n",
       "  -0.019603880355699273,\n",
       "  -0.010337814936165405,\n",
       "  0.005678311319590174,\n",
       "  -0.013160224254942461,\n",
       "  0.0024139638524387223,\n",
       "  -0.002334152334152334,\n",
       "  -0.01211496326846243,\n",
       "  -0.004735969689793985,\n",
       "  -0.015274949083503055,\n",
       "  0.011470985155195682,\n",
       "  0.012077589361961693,\n",
       "  0.01192584720746251,\n",
       "  -0.0013972055888223553,\n",
       "  -0.010035478966041561,\n",
       "  0.020313813393107314,\n",
       "  -0.011378999549346552,\n",
       "  -0.05347841185322375,\n",
       "  -0.037142681879523985,\n",
       "  0.04135157844196375,\n",
       "  0.015904421276919566,\n",
       "  0.013464337700145561,\n",
       "  0.025561097256857856,\n",
       "  -0.008418367346938776,\n",
       "  -0.005036053565297013,\n",
       "  -0.014534548390817857,\n",
       "  0.008762047815746651,\n",
       "  -0.03461982305423772,\n",
       "  -0.029451800519737656,\n",
       "  0.006324212700051626,\n",
       "  -0.03727200634417129,\n",
       "  -0.010875920944918722,\n",
       "  0.00863060989643268,\n",
       "  -0.0005722788142382969,\n",
       "  0.016566086853626788,\n",
       "  0.017203042715038034,\n",
       "  -0.0014742572011794057,\n",
       "  -0.012915345779030175,\n",
       "  -0.00246669955599408,\n",
       "  -0.03889097980178146,\n",
       "  -0.03950312021664901,\n",
       "  0.01805728518057285,\n",
       "  -0.00877299865968076,\n",
       "  -0.009789259007477907,\n",
       "  -0.04848678601875533,\n",
       "  -0.0018848422204657384,\n",
       "  -0.0003370407819346141,\n",
       "  -0.037985865724381625,\n",
       "  -0.010628134702651063,\n",
       "  0.02607184241019699,\n",
       "  -0.083008356545961,\n",
       "  0.059992308678374566,\n",
       "  0.029446292310702407,\n",
       "  0.006394970734879688,\n",
       "  0.03976108215728758,\n",
       "  -0.002103049421661409,\n",
       "  -0.01761819803746655,\n",
       "  0.019170955154668327,\n",
       "  -0.03581890812250333,\n",
       "  0.00026968716289104636,\n",
       "  -0.019688598694123555,\n",
       "  0.006378378378378379,\n",
       "  -0.0017683939767429398,\n",
       "  0.00028418779129248605,\n",
       "  0.0014061101879074523,\n",
       "  0.011085394079668656,\n",
       "  0.005637110980622431,\n",
       "  -0.00017293059718699561,\n",
       "  0.00022657754616517504,\n",
       "  -0.15605055687648606,\n",
       "  -0.005415162454873646,\n",
       "  0.012634889648066808,\n",
       "  -0.008890745271197565,\n",
       "  -0.001084481075805227,\n",
       "  -0.0014342453662842013,\n",
       "  -0.017339806861228192,\n",
       "  -0.0004618404341300081,\n",
       "  0.029358215748748293,\n",
       "  0.013322231473771857,\n",
       "  -0.00705601389491967,\n",
       "  -0.02131498815833991,\n",
       "  -0.057873322402380516,\n",
       "  0.032138284250960304,\n",
       "  0.017500616218880948,\n",
       "  0.011857707509881422,\n",
       "  0.006894049346879536,\n",
       "  -0.003875722726983925,\n",
       "  0.0037031957207516114,\n",
       "  -0.033653360282971195,\n",
       "  0.0025217500945656285,\n",
       "  -0.012573255194459244,\n",
       "  -0.014161588806138568,\n",
       "  -0.0048449612403100775,\n",
       "  0.007656637549875984,\n",
       "  -0.0035258358662613983,\n",
       "  -0.004173158246160694,\n",
       "  -0.002102919346857991,\n",
       "  0.006769825918762089,\n",
       "  0.10884932582798795,\n",
       "  0.011683118830438585,\n",
       "  -0.02097902097902098,\n",
       "  0.00491035742834304,\n",
       "  0.009454029780193808,\n",
       "  0.0022263450834879408,\n",
       "  0.05473515248796148,\n",
       "  0.008903414854051618,\n",
       "  0.009071504802561366,\n",
       "  -0.011924650037444553,\n",
       "  0.020438498699368264,\n",
       "  0.005838304353344333,\n",
       "  -0.007557320353528884,\n",
       "  -0.011202987463323552,\n",
       "  -0.0022670325736785586,\n",
       "  0.01537317133647409,\n",
       "  0.001765030336458908,\n",
       "  -0.023844282238442822,\n",
       "  0.0014200511218403862,\n",
       "  0.0032798009500113095,\n",
       "  0.012258586793107436,\n",
       "  -0.015138514341750429,\n",
       "  0.011511895625479662,\n",
       "  -0.011523687580025609,\n",
       "  -0.0017529508005141988,\n",
       "  0.0184520435795705,\n",
       "  0.036358364743403884,\n",
       "  0.008529627746709597,\n",
       "  -0.010861606053209665,\n",
       "  0.009226484071258631,\n",
       "  -0.0018208717423466485,\n",
       "  -0.0018779342723004694,\n",
       "  0.030515051740357478,\n",
       "  0.0012174336498660824,\n",
       "  0.0061759516007058235,\n",
       "  0.0011739057521381855,\n",
       "  -0.009536219866137535,\n",
       "  -0.022036474164133738,\n",
       "  0.002046090889511092,\n",
       "  0.003368595236688139,\n",
       "  0.004151346222274937,\n",
       "  -0.0018443378827001106,\n",
       "  0.04523053334793561,\n",
       "  -0.012950049807883876,\n",
       "  0.01923283550016117,\n",
       "  0.006247657128576784,\n",
       "  -0.001887742260256733,\n",
       "  0.039466558353642024,\n",
       "  -0.008961303462321792,\n",
       "  0.010545363783851241,\n",
       "  0.016201620162016202,\n",
       "  0.017601043024771838,\n",
       "  -0.0038901190974923693,\n",
       "  0.10183805265772479,\n",
       "  0.047209780898196343,\n",
       "  0.020076027559990498,\n",
       "  0.005036762577432988,\n",
       "  0.0022469385462307607,\n",
       "  -0.004244594773842684,\n",
       "  0.01103396974956608,\n",
       "  -0.005749613601236476,\n",
       "  0.006507059545733579,\n",
       "  -0.03494020926756353,\n",
       "  -0.030483651226158037,\n",
       "  0.006751054852320675,\n",
       "  -0.016015846066779853,\n",
       "  -0.028331402085747394,\n",
       "  0.0018146761937166836,\n",
       "  -0.0175609756097561,\n",
       "  -0.035833333333333335,\n",
       "  0.013559721730927957,\n",
       "  0.0043975373790677225,\n",
       "  0.013759119416357353,\n",
       "  0.004518639387473327,\n",
       "  -0.013871214049376432,\n",
       "  0.0377111586961694,\n",
       "  0.0003109839532280134,\n",
       "  0.008830950378469302,\n",
       "  -0.011828362904240594,\n",
       "  -0.004117916203673443,\n",
       "  -0.020084974893781384,\n",
       "  -0.005300030459945172,\n",
       "  -0.026513794338946614,\n",
       "  -0.0058664789393406075,\n",
       "  -0.0008111239860950173,\n",
       "  0.021502967857542837,\n",
       "  0.006044325050369375,\n",
       "  -0.03184365176985103],\n",
       " 't7': [-0.018500621289520916,\n",
       "  -0.02588749317312944,\n",
       "  0.002682528574760905,\n",
       "  -0.02053915275994865,\n",
       "  0.00034614053305642093,\n",
       "  -0.003724171071600192,\n",
       "  0.029963898916967508,\n",
       "  -0.014584290307762976,\n",
       "  0.014129181084198385,\n",
       "  -0.020864180912639654,\n",
       "  -0.019946343170418757,\n",
       "  0.023434991974317816,\n",
       "  -0.001934588991093524,\n",
       "  -0.02101044449842118,\n",
       "  0.009066666666666667,\n",
       "  0.000850546780072904,\n",
       "  0.01057680482105522,\n",
       "  -0.02155570966250578,\n",
       "  -0.00886983082706767,\n",
       "  -0.001235559399518132,\n",
       "  0.050291899781075164,\n",
       "  -0.007152105555213022,\n",
       "  -0.029675013319126264,\n",
       "  0.0020277548951270516,\n",
       "  0.0019356399709654004,\n",
       "  0.008933232786124486,\n",
       "  -0.0010161956176563988,\n",
       "  0.019720834934050455,\n",
       "  0.009927987135565966,\n",
       "  -0.04150151550477967,\n",
       "  0.04013015184381779,\n",
       "  0.015485799701046337,\n",
       "  -0.004446695936057638,\n",
       "  -0.020198781660788714,\n",
       "  -0.018734015345268543,\n",
       "  0.009176429849368038,\n",
       "  0.01188843164151806,\n",
       "  0.0004077115731842274,\n",
       "  0.009506337558372248,\n",
       "  -0.008239158269776763,\n",
       "  -0.005400940399034185,\n",
       "  0.01068132979395778,\n",
       "  -0.017384408930096375,\n",
       "  -0.001300792864222002,\n",
       "  -0.007026318923425033,\n",
       "  0.02365140393801701,\n",
       "  0.008627197239296884,\n",
       "  -0.022887689433257214,\n",
       "  -0.014306381610673526,\n",
       "  0.010027347310847767,\n",
       "  0.012651524067317878,\n",
       "  0.0028524610062511378,\n",
       "  0.008397312859884837,\n",
       "  0.022053231939163497,\n",
       "  0.005797832114948324,\n",
       "  0.013236423801926373,\n",
       "  0.014029146761806858,\n",
       "  -0.0027034800115041703,\n",
       "  -0.0031537090360619774,\n",
       "  0.01046583213626103,\n",
       "  -0.0017954395834580167,\n",
       "  0.002225788084269372,\n",
       "  0.004230332112640485,\n",
       "  0.0045994633959371405,\n",
       "  -0.03664921465968586,\n",
       "  -0.009720107740953273,\n",
       "  0.028618205631958087,\n",
       "  -0.00874012689369416,\n",
       "  0.005438169149719594,\n",
       "  0.0012184720360667724,\n",
       "  0.01745728209240639,\n",
       "  -0.00710218184144859,\n",
       "  -0.010655195234943746,\n",
       "  -0.024900261383959277,\n",
       "  0.0007718798242489016,\n",
       "  -0.0011928679055750878,\n",
       "  0.0011505824823817058,\n",
       "  -0.012838176352705412,\n",
       "  -0.03346587143803843,\n",
       "  0.005622254758418741,\n",
       "  0.016819769698537972,\n",
       "  0.0029252437703141928,\n",
       "  -0.007185769819766757,\n",
       "  0.009764579989299091,\n",
       "  -0.008714733542319749,\n",
       "  0.008253094910591471,\n",
       "  -0.002536844648465813,\n",
       "  0.02154957648231191,\n",
       "  -0.013360423593153552,\n",
       "  -0.0016726403823178017,\n",
       "  0.0015247776365946632,\n",
       "  -0.0016457779465755158,\n",
       "  -0.001913189046992706,\n",
       "  0.007124648669847702,\n",
       "  0.015407960779736198,\n",
       "  -0.07241265292626474,\n",
       "  -0.0035611645632887667,\n",
       "  0.0066638650417242,\n",
       "  -0.008439598349042074,\n",
       "  -0.004079673626109911,\n",
       "  0.01636386261821802,\n",
       "  0.012989946910651756,\n",
       "  0.00017296050735082156,\n",
       "  -0.0016065505804311775,\n",
       "  -0.006964939204344233,\n",
       "  -0.029659607495287725,\n",
       "  0.013374841462008532,\n",
       "  -0.007395004883493791,\n",
       "  0.01430549146285187,\n",
       "  -0.00338409475465313,\n",
       "  -0.007462686567164179,\n",
       "  -0.008677639682006494,\n",
       "  0.0038195273334924802,\n",
       "  -0.003266906239790918,\n",
       "  0.030429988974641674,\n",
       "  0.0052761925271885435,\n",
       "  -0.002662690382362339,\n",
       "  -0.010650351234987537,\n",
       "  0.0027891010512765503,\n",
       "  0.0054876527812422055,\n",
       "  0.002865876958349255,\n",
       "  -0.008009563658099223,\n",
       "  0.00425273390036452,\n",
       "  0.008236548945247689,\n",
       "  -0.007261531311723016,\n",
       "  -0.0021152829190904283,\n",
       "  0.00575742067553736,\n",
       "  -0.0008158508158508159,\n",
       "  -0.012304507819687213,\n",
       "  0.003931122307734899,\n",
       "  -0.00975609756097561,\n",
       "  -0.015538847117794486,\n",
       "  0.004912280701754386,\n",
       "  0.007503723221445755,\n",
       "  0.0010003751406777541,\n",
       "  -0.0242889504153033,\n",
       "  -0.006066568289883587,\n",
       "  0.0040266912103083296,\n",
       "  0.032289508955769465,\n",
       "  0.0020262802406975314,\n",
       "  0.011427924869880063,\n",
       "  0.015011258443832875,\n",
       "  0.024413145539906103,\n",
       "  0.01648109359497299,\n",
       "  -0.001693002257336343,\n",
       "  0.006768094865197449,\n",
       "  -0.017663205633130445,\n",
       "  -0.024822695035460994,\n",
       "  0.04079019571977319,\n",
       "  0.0008627064333251171,\n",
       "  0.007041383570105003,\n",
       "  -0.0051957926751995944,\n",
       "  0.0030746525642602386,\n",
       "  0.012774688906539582,\n",
       "  -0.002232398397252433,\n",
       "  0.0014422010206345684,\n",
       "  -0.004802322984141166,\n",
       "  -0.01123839513545795,\n",
       "  -0.0058208600617723925,\n",
       "  -0.0016951933067206211,\n",
       "  -0.02139726733694251,\n",
       "  -0.0022409929322530597,\n",
       "  0.0014428204002258328,\n",
       "  0.01603053435114504,\n",
       "  -0.024672708962739175,\n",
       "  -0.0021636161627974974,\n",
       "  0.02260327357755261,\n",
       "  -0.04133811230585424,\n",
       "  0.005721625408687529,\n",
       "  0.0009914077990746861,\n",
       "  -0.019422863485016647,\n",
       "  0.021679424998539122,\n",
       "  0.04513715710723192,\n",
       "  0.002963841138114997,\n",
       "  0.0044917864476386035,\n",
       "  0.0028624903666189584,\n",
       "  0.017900338655055636,\n",
       "  -0.017181274900398405,\n",
       "  0.03820784069695084,\n",
       "  -0.017424975798644726,\n",
       "  0.001993901008679334,\n",
       "  -0.0036483035388544327,\n",
       "  0.0006934011325551831,\n",
       "  -0.009604863221884499,\n",
       "  -0.0018145413590289075,\n",
       "  -0.014617368873602751,\n",
       "  -0.01333502667005334,\n",
       "  0.011998769356989026,\n",
       "  0.00916767189384801,\n",
       "  -0.012181486494438887,\n",
       "  -0.004947433518862091,\n",
       "  -0.0023251654444643175,\n",
       "  -0.010892700638537624,\n",
       "  -0.018440812720848056,\n",
       "  -0.0052272994244097265,\n",
       "  0.0008749927083940967,\n",
       "  0.0002748763056624519,\n",
       "  -0.00026986183074265976,\n",
       "  0.009643201542912247,\n",
       "  -0.004941392783268214,\n",
       "  0.0019191691126665162,\n",
       "  -0.06743137145720808,\n",
       "  -0.0025261638397690365,\n",
       "  0.007068327162571525,\n",
       "  -0.002113526570048309,\n",
       "  0.0051876521070833865,\n",
       "  -0.014771764136093959,\n",
       "  0.0027506876719179795,\n",
       "  0.024504631258060735,\n",
       "  0.007216379503244574,\n",
       "  -0.007229201232519554,\n",
       "  0.007752364196173301,\n",
       "  -0.060276243093922655,\n",
       "  0.031074203053844094,\n",
       "  -0.006138392857142857,\n",
       "  -0.034757142067746036,\n",
       "  -0.012336258425537327,\n",
       "  -0.024056829035339063,\n",
       "  -0.020922436712518783,\n",
       "  0.02190738554374918,\n",
       "  0.0015021166188720469,\n",
       "  0.006027323868202518,\n",
       "  -0.006178861788617886,\n",
       "  -0.012488849241748439,\n",
       "  6.728116800107649e-05,\n",
       "  -0.02138728323699422,\n",
       "  -0.017425097154318666,\n",
       "  0.019334880123743233,\n",
       "  -0.03991182271725258,\n",
       "  0.01859799713876967,\n",
       "  -0.010962979286029087,\n",
       "  -0.00793360185524228,\n",
       "  -0.007508685419701894,\n",
       "  -0.01734194354754713,\n",
       "  0.005915100904662491,\n",
       "  0.010098411269055124,\n",
       "  0.0004976362279173924,\n",
       "  -0.012584238756704717,\n",
       "  -0.05520702634880803,\n",
       "  -0.007503001200480192,\n",
       "  0.020651868502388312,\n",
       "  -0.01129011797539008,\n",
       "  0.009304715150131293,\n",
       "  0.0006760909649661955,\n",
       "  0.025604952166572877,\n",
       "  0.006056898133985928,\n",
       "  0.014925373134328358,\n",
       "  -0.0028619127116622945,\n",
       "  0.0008920606601248885,\n",
       "  0.004062083181763066,\n",
       "  -0.026482262465889358,\n",
       "  0.0029592533576143867,\n",
       "  0.008277493102089082,\n",
       "  0.03135213654521245,\n",
       "  -0.0009830425165888424,\n",
       "  0.010505698005698005,\n",
       "  0.002466429158673609,\n",
       "  -0.014656692817612359,\n",
       "  0.010611419909044972,\n",
       "  -0.0006905282541143975,\n",
       "  0.004974574397523767,\n",
       "  0.01839314600683003,\n",
       "  -0.013764076896826299,\n",
       "  0.023032750678361837,\n",
       "  0.029771841958820256,\n",
       "  0.013910355486862442,\n",
       "  0.028905075731298416,\n",
       "  -0.038194866804524996,\n",
       "  -0.013271245634458672,\n",
       "  0.02004099294010476,\n",
       "  0.014544526664965552,\n",
       "  0.013828238719068414,\n",
       "  0.051837457849917126,\n",
       "  0.003472652858737443,\n",
       "  0.024699875810680283,\n",
       "  -0.010337814936165405,\n",
       "  -0.05127901468498342,\n",
       "  0.010647464303298868,\n",
       "  0.00585877274128893,\n",
       "  0.03122517567980446,\n",
       "  -0.008590394377196407,\n",
       "  -0.004735969689793985,\n",
       "  -0.03834111183316595,\n",
       "  -0.0075398535114174926,\n",
       "  0.012077589361961693,\n",
       "  0.01192584720746251,\n",
       "  0.006467725409836066,\n",
       "  0.003187081695527462,\n",
       "  0.03367911479944675,\n",
       "  -0.0007489342090102547,\n",
       "  0.010411736867013724,\n",
       "  0.0023192631369690544,\n",
       "  -0.030350329517863338,\n",
       "  0.013772825750541628,\n",
       "  -0.04866180048661801,\n",
       "  -0.006938527084601339,\n",
       "  -0.008418367346938776,\n",
       "  0.00751793400286944,\n",
       "  -0.005213270142180095,\n",
       "  -0.012052730696798493,\n",
       "  -0.03461982305423772,\n",
       "  -0.01819860213635764,\n",
       "  0.002043269230769231,\n",
       "  -0.10605706267539756,\n",
       "  -0.023918934841522327,\n",
       "  -0.006244940441771713,\n",
       "  0.010836984090385058,\n",
       "  -0.044345377756921635,\n",
       "  -0.05953959262383994,\n",
       "  0.00971100971100971,\n",
       "  -0.017961222790531698,\n",
       "  0.00712957222566646,\n",
       "  -0.015365952284674484,\n",
       "  0.00484930329629857,\n",
       "  -0.011253822629969419,\n",
       "  0.012538040170419963,\n",
       "  -0.009789259007477907,\n",
       "  -0.044349871206182105,\n",
       "  -0.0032603632976245926,\n",
       "  -0.0003370407819346141,\n",
       "  0.01951070336391437,\n",
       "  -0.005310802655401328,\n",
       "  0.0006483937518420277,\n",
       "  0.014128546612623047,\n",
       "  -0.0012698028782198573,\n",
       "  -0.023923914109226396,\n",
       "  0.025458916083916084,\n",
       "  -0.018232662192393737,\n",
       "  0.008385868918758178,\n",
       "  -0.021487039563437928,\n",
       "  0.019170955154668327,\n",
       "  -0.03581890812250333,\n",
       "  0.00242358960549347,\n",
       "  0.015294771968854282,\n",
       "  0.01039609106975777,\n",
       "  -0.0017683939767429398,\n",
       "  0.0054344781220236425,\n",
       "  0.0014061101879074523,\n",
       "  -0.02364496180429247,\n",
       "  -0.0005696058327637275,\n",
       "  -0.00017293059718699561,\n",
       "  -0.019371011850501368,\n",
       "  0.0003929273084479371,\n",
       "  0.012357644778289314,\n",
       "  0.012634889648066808,\n",
       "  -0.004863988470545848,\n",
       "  -0.004410629617377881,\n",
       "  -0.02029442054885806,\n",
       "  0.0029357399151897358,\n",
       "  -0.010285714285714285,\n",
       "  -0.00572562358276644,\n",
       "  -0.0007646159275379367,\n",
       "  0.038335517693315856,\n",
       "  -0.02131498815833991,\n",
       "  -0.025009668686347814,\n",
       "  -0.0428606872596452,\n",
       "  0.0115879578407966,\n",
       "  -0.02313475997686524,\n",
       "  0.006894049346879536,\n",
       "  -0.003875722726983925,\n",
       "  0.04462135402729462,\n",
       "  -0.07307529610829103,\n",
       "  -0.03977166966557052,\n",
       "  0.015423598105100805,\n",
       "  -0.014365020317060608,\n",
       "  0.009641102195683274,\n",
       "  0.02455646906101255,\n",
       "  0.010187896534895071,\n",
       "  -0.019591836734693877,\n",
       "  -0.002102919346857991,\n",
       "  0.006769825918762089,\n",
       "  0.01955377287540737,\n",
       "  -0.00030921459492888067,\n",
       "  -0.02097902097902098,\n",
       "  0.016704545454545455,\n",
       "  0.009454029780193808,\n",
       "  0.0054307578375709705,\n",
       "  -0.04729259811227025,\n",
       "  -0.07230609375955015,\n",
       "  0.01110523532522475,\n",
       "  -0.004,\n",
       "  -0.0026700719758532623,\n",
       "  0.010431066985044615,\n",
       "  0.00682363066330608,\n",
       "  -0.0013328002132480341,\n",
       "  0.004167177350165461,\n",
       "  -0.005739048957601312,\n",
       "  0.0013100436681222707,\n",
       "  0.006999758629012792,\n",
       "  0.005465920316101416,\n",
       "  0.005905950523735235,\n",
       "  0.0022901637467078895,\n",
       "  -0.008558220889555223,\n",
       "  -0.0057651334753728535,\n",
       "  -0.0035335689045936395,\n",
       "  0.002286236854138089,\n",
       "  0.0013033175355450237,\n",
       "  0.036358364743403884,\n",
       "  -0.010861606053209665,\n",
       "  0.009226484071258631,\n",
       "  -0.00666742004746299,\n",
       "  0.004036087369420703,\n",
       "  0.030515051740357478,\n",
       "  0.009681978798586573,\n",
       "  0.0061759516007058235,\n",
       "  -0.004837983798379838,\n",
       "  0.005992373343017977,\n",
       "  -0.004662004662004662,\n",
       "  -0.003965026433509556,\n",
       "  0.00037253197566124423,\n",
       "  0.0014069644741470278,\n",
       "  0.005960511610579908,\n",
       "  0.04523053334793561,\n",
       "  0.03956363636363636,\n",
       "  0.007551064754454585,\n",
       "  0.006247657128576784,\n",
       "  -0.001887742260256733,\n",
       "  0.02738283307003686,\n",
       "  0.027264008768324428,\n",
       "  -0.016392436149312378,\n",
       "  -0.016417910447761194,\n",
       "  0.03271845967416184,\n",
       "  -0.005662076952773131,\n",
       "  -0.07719986915276415,\n",
       "  0.006931390977443609,\n",
       "  0.009171214763967817,\n",
       "  -0.0027646584494873862,\n",
       "  0.003251485592555219,\n",
       "  0.02126585473591216,\n",
       "  0.011566383659406916,\n",
       "  -0.0050810549237841765,\n",
       "  -0.01316813700051894,\n",
       "  0.0723230258113979,\n",
       "  0.013762012101079605,\n",
       "  -0.0011075488195861265,\n",
       "  0.0029984090074654263,\n",
       "  0.0016099218889750165,\n",
       "  0.0017220902612826603,\n",
       "  0.031176251397341946,\n",
       "  -0.04175665946724262,\n",
       "  -0.052309262566981374,\n",
       "  -0.026078171370840435,\n",
       "  0.005894156007022824,\n",
       "  -0.0034510220334483675,\n",
       "  -0.01585288522511097,\n",
       "  -0.01440922190201729,\n",
       "  0.0003109839532280134,\n",
       "  -0.04233903179421633,\n",
       "  0.011609664261060559,\n",
       "  -0.004160798873383689,\n",
       "  0.0213657876943881,\n",
       "  -0.005300030459945172,\n",
       "  0.015328019619865114,\n",
       "  0.005758513931888545,\n",
       "  -0.019193857965451054,\n",
       "  0.012827540839820194,\n",
       "  -0.003376688344172086,\n",
       "  -0.00035561877667140827],\n",
       " 't8': [0.006611337740891827,\n",
       "  -0.01294604003481288,\n",
       "  0.0047840866171471735,\n",
       "  0.01138608109678169,\n",
       "  -0.017825730034009616,\n",
       "  0.0017998560115190785,\n",
       "  -0.015983076742272888,\n",
       "  0.0014761137949543747,\n",
       "  0.04972677595628415,\n",
       "  0.0020621391256530107,\n",
       "  0.003927636277076887,\n",
       "  0.01578001198481923,\n",
       "  -0.001934588991093524,\n",
       "  0.0009823785841468655,\n",
       "  0.001093095281472035,\n",
       "  0.000850546780072904,\n",
       "  0.010324760653275766,\n",
       "  -0.007035003431708991,\n",
       "  0.008297279677591418,\n",
       "  -0.001235559399518132,\n",
       "  -0.0008079875339066197,\n",
       "  -0.007152105555213022,\n",
       "  0.007657481415236711,\n",
       "  0.0021514902233753085,\n",
       "  -0.003015570188934704,\n",
       "  0.008933232786124486,\n",
       "  0.006988075394281318,\n",
       "  -0.0022640533022834594,\n",
       "  0.009927987135565966,\n",
       "  0.003770372172220871,\n",
       "  -0.008455746204172325,\n",
       "  -0.011531365313653136,\n",
       "  0.00016961610222197094,\n",
       "  0.005356903709655819,\n",
       "  -0.002924166612515433,\n",
       "  -0.012034819185604954,\n",
       "  0.03703167944452481,\n",
       "  0.003901543404670377,\n",
       "  -0.00038582373367138844,\n",
       "  0.0011003117549972493,\n",
       "  -0.00019549068161084322,\n",
       "  0.005247048535198951,\n",
       "  -0.010788899282818834,\n",
       "  -0.008552847997165967,\n",
       "  0.00395778364116095,\n",
       "  0.0026159748866410883,\n",
       "  -0.004978624384436387,\n",
       "  -0.0014513035816099103,\n",
       "  0.0006471444750040447,\n",
       "  0.004456227436823105,\n",
       "  0.012651524067317878,\n",
       "  -0.0027198549410698096,\n",
       "  -0.0017844396859386152,\n",
       "  0.028422690282431787,\n",
       "  0.005004943153732081,\n",
       "  0.007761966364812419,\n",
       "  -0.0023713540431586438,\n",
       "  0.004441112008305456,\n",
       "  0.014444211848440443,\n",
       "  -0.006289729006356641,\n",
       "  -0.0017954395834580167,\n",
       "  0.007005899705014749,\n",
       "  0.0008182790961163215,\n",
       "  0.0010810123362584255,\n",
       "  -0.013567438148443736,\n",
       "  0.0016889854023404512,\n",
       "  0.007449267916773697,\n",
       "  -0.00874012689369416,\n",
       "  0.0083874909737266,\n",
       "  0.008799652971432113,\n",
       "  -0.005524205524205524,\n",
       "  -0.007489185873845955,\n",
       "  0.02708803611738149,\n",
       "  0.003386004514672686,\n",
       "  -0.011647844853071602,\n",
       "  0.0029795158286778397,\n",
       "  0.01755285073670724,\n",
       "  0.01257948576168095,\n",
       "  -0.004804270462633452,\n",
       "  0.007622830055729934,\n",
       "  0.0029252437703141928,\n",
       "  0.0031148915778123876,\n",
       "  -0.008047631510075896,\n",
       "  -0.008714733542319749,\n",
       "  0.006981382978723404,\n",
       "  -0.005207702555407533,\n",
       "  -0.007862803368003962,\n",
       "  0.005153358996647212,\n",
       "  -0.0016726403823178017,\n",
       "  0.0023541388305656297,\n",
       "  -0.009320905459387484,\n",
       "  0.0058788242351529695,\n",
       "  -0.0030828516377649326,\n",
       "  0.0024808033077377434,\n",
       "  0.023057116104868915,\n",
       "  -0.0035611645632887667,\n",
       "  -0.007787610619469027,\n",
       "  0.0004952947003467063,\n",
       "  0.0008395298632765651,\n",
       "  -0.0006164468006411047,\n",
       "  0.004168982768204558,\n",
       "  0.008418657565415245,\n",
       "  -0.0038304124252282507,\n",
       "  -0.006964939204344233,\n",
       "  -0.0010550866281652598,\n",
       "  0.001049195616693868,\n",
       "  -0.007395004883493791,\n",
       "  0.026400775068625867,\n",
       "  -0.00338409475465313,\n",
       "  -0.01416022027009309,\n",
       "  0.011817670230725942,\n",
       "  -0.009785538497597562,\n",
       "  0.00699181446111869,\n",
       "  0.02687793427230047,\n",
       "  -0.0046631291204373695,\n",
       "  -0.002662690382362339,\n",
       "  -0.0028080422329551835,\n",
       "  0.002597121523644627,\n",
       "  -0.0004968326915911067,\n",
       "  -0.009960533734260478,\n",
       "  0.00035244360902255637,\n",
       "  0.0017113519680547634,\n",
       "  0.008236548945247689,\n",
       "  -0.003246753246753247,\n",
       "  -0.0021152829190904283,\n",
       "  -0.0036382536382536385,\n",
       "  -0.0034458591286064713,\n",
       "  -0.004427913567127169,\n",
       "  -0.007036957455951869,\n",
       "  -0.0011022799791146952,\n",
       "  -0.004127885988730714,\n",
       "  -0.005942670706129107,\n",
       "  -0.014642549526270457,\n",
       "  -0.004202199975281176,\n",
       "  -0.0242889504153033,\n",
       "  -0.009813232035454257,\n",
       "  0.010735495660118775,\n",
       "  -0.005759285378467325,\n",
       "  -0.013125074236845231,\n",
       "  0.0008112179858616293,\n",
       "  0.015011258443832875,\n",
       "  -0.00722169232865513,\n",
       "  0.0012472208665473673,\n",
       "  -0.0015517348395506175,\n",
       "  -0.001160220994475138,\n",
       "  -0.006343010490363503,\n",
       "  0.032738837615365425,\n",
       "  -0.0463757304488375,\n",
       "  -0.016969467575069393,\n",
       "  -0.00012091898428053205,\n",
       "  0.0055576849367573785,\n",
       "  -0.00597832855897372,\n",
       "  0.012774688906539582,\n",
       "  -0.002232398397252433,\n",
       "  -0.004094279074914242,\n",
       "  -0.009987655706430254,\n",
       "  -0.0047221612123874365,\n",
       "  -0.0032859361930935595,\n",
       "  -0.0016951933067206211,\n",
       "  -0.0031257814453613405,\n",
       "  -0.005593607305936073,\n",
       "  0.015112704918032786,\n",
       "  -0.007649423051990146,\n",
       "  0.005960752796195834,\n",
       "  0.0032114624505928855,\n",
       "  0.010345432228651587,\n",
       "  0.013941543353308059,\n",
       "  -0.005071950931823543,\n",
       "  0.011676123963334789,\n",
       "  -0.003244936779679982,\n",
       "  -0.04606074190294744,\n",
       "  -0.00364063417498532,\n",
       "  0.00619912335629305,\n",
       "  0.0028624903666189584,\n",
       "  -0.004616272360069244,\n",
       "  -0.009189534141671984,\n",
       "  -0.0009426181218333922,\n",
       "  -0.017424975798644726,\n",
       "  -0.0023021073136178503,\n",
       "  -0.013467014712861889,\n",
       "  0.005214368482039398,\n",
       "  -0.04658728210164498,\n",
       "  0.0,\n",
       "  -0.014787878787878787,\n",
       "  -0.04605923694779116,\n",
       "  -0.02861935213334731,\n",
       "  0.0003576964349588649,\n",
       "  -0.020599029241150705,\n",
       "  -0.004947433518862091,\n",
       "  0.011115095016134816,\n",
       "  -0.011681949503831177,\n",
       "  -0.013324375769790618,\n",
       "  -0.021528021528021527,\n",
       "  -0.0037250660898822396,\n",
       "  -0.006396817717572435,\n",
       "  0.004557152048037744,\n",
       "  -0.01094933022714036,\n",
       "  -0.010821910205893778,\n",
       "  -0.007934721440630276,\n",
       "  0.003027734043841589,\n",
       "  0.012361312108055958,\n",
       "  -0.0006144908105692419,\n",
       "  -0.011394338071185246,\n",
       "  -0.0029710324337707352,\n",
       "  -0.005522827687776142,\n",
       "  0.008269488021403381,\n",
       "  0.024504631258060735,\n",
       "  0.00022279157847833353,\n",
       "  -0.022008089459909588,\n",
       "  0.0029108550636749546,\n",
       "  -0.060276243093922655,\n",
       "  0.031074203053844094,\n",
       "  0.015784375178072824,\n",
       "  -0.01113130395274875,\n",
       "  0.011658974981782852,\n",
       "  -0.015125640400097584,\n",
       "  -0.020922436712518783,\n",
       "  0.02190738554374918,\n",
       "  -0.004221707748876481,\n",
       "  0.0018846588767433095,\n",
       "  0.000651890482398957,\n",
       "  -0.009298338169348457,\n",
       "  -0.027331083316789094,\n",
       "  -0.014688678018978291,\n",
       "  0.01732161323681489,\n",
       "  0.005693870715641398,\n",
       "  0.00659765669434649,\n",
       "  0.01859799713876967,\n",
       "  -0.010962979286029087,\n",
       "  0.00406003937007874,\n",
       "  -0.007508685419701894,\n",
       "  -0.00706291426708682,\n",
       "  0.013632215377595255,\n",
       "  -0.0031158590868625206,\n",
       "  -0.01305645361850286,\n",
       "  -0.001663662830999584,\n",
       "  -0.05520702634880803,\n",
       "  -0.007503001200480192,\n",
       "  0.03748703511631353,\n",
       "  -0.001397624039133473,\n",
       "  0.0,\n",
       "  -0.01053032225323522,\n",
       "  0.025604952166572877,\n",
       "  -0.010254872563718142,\n",
       "  -0.004151561220909835,\n",
       "  0.016368869168965103,\n",
       "  -0.016905071521456438,\n",
       "  -0.022852147852147852,\n",
       "  -0.026482262465889358,\n",
       "  0.008771433421990833,\n",
       "  -0.007331132128266831,\n",
       "  0.03135213654521245,\n",
       "  -0.0007419314949919624,\n",
       "  0.0051134946370666005,\n",
       "  -0.0035758323057953146,\n",
       "  -0.0007963594994311718,\n",
       "  -0.017723776613532492,\n",
       "  -0.007874015748031496,\n",
       "  0.000869281755949147,\n",
       "  0.018504811250925242,\n",
       "  0.015516171298531136,\n",
       "  -0.0008794559099437148,\n",
       "  0.010875722215928401,\n",
       "  0.0042928983196369435,\n",
       "  -0.0048017072736973145,\n",
       "  -0.012262204904881962,\n",
       "  0.014544526664965552,\n",
       "  -0.01383190716211464,\n",
       "  -0.0014965259219668627,\n",
       "  0.005832320777642771,\n",
       "  -0.045277963831212326,\n",
       "  -0.0122875516766192,\n",
       "  -0.04097432024169184,\n",
       "  -0.006235481110160166,\n",
       "  -0.027893175074183978,\n",
       "  -0.0007927312641014696,\n",
       "  -0.008590394377196407,\n",
       "  0.008375512171607617,\n",
       "  -0.0036734948010709173,\n",
       "  -0.0034417675141556565,\n",
       "  0.012077589361961693,\n",
       "  0.01192584720746251,\n",
       "  0.014316758276875879,\n",
       "  0.01797471000104504,\n",
       "  -0.050511808389643406,\n",
       "  -0.0007489342090102547,\n",
       "  0.018211920529801324,\n",
       "  0.007987429618960325,\n",
       "  0.00450925275240103,\n",
       "  0.013772825750541628,\n",
       "  0.0016746263102400299,\n",
       "  -0.006938527084601339,\n",
       "  -0.008057059833575485,\n",
       "  -0.002048247610377788,\n",
       "  -0.014485842026825634,\n",
       "  -0.021813138317992687,\n",
       "  0.008261262424164192,\n",
       "  -0.010707204230006609,\n",
       "  0.012659798932605187,\n",
       "  -0.10605706267539756,\n",
       "  -0.010159061883199814,\n",
       "  0.0009309903409752124,\n",
       "  0.003985424732407197,\n",
       "  0.023753280839895013,\n",
       "  -0.007689350249903883,\n",
       "  0.006997153700189753,\n",
       "  -0.013496625843539115,\n",
       "  0.0006805667264740457,\n",
       "  -0.03215974122916148,\n",
       "  -0.0019450522732798443,\n",
       "  -0.004239401496259352,\n",
       "  -0.019396806623299824,\n",
       "  -0.005484587614551514,\n",
       "  -0.044349871206182105,\n",
       "  0.009788327419552184,\n",
       "  -0.0077573231446103974,\n",
       "  0.031040476781723367,\n",
       "  -0.005310802655401328,\n",
       "  0.0002955781508630882,\n",
       "  0.0019413040995774808,\n",
       "  -0.0055094750862747476,\n",
       "  0.03395278754394777,\n",
       "  0.004209640075773522,\n",
       "  -0.0055147058823529415,\n",
       "  0.008385868918758178,\n",
       "  -0.021487039563437928,\n",
       "  0.019170955154668327,\n",
       "  -0.004530531845042679,\n",
       "  0.0005281922619833619,\n",
       "  0.015294771968854282,\n",
       "  -0.009059377750168246,\n",
       "  -0.012991196048958558,\n",
       "  -0.01375,\n",
       "  -0.0018717244821562266,\n",
       "  0.014182238724207194,\n",
       "  -0.0005696058327637275,\n",
       "  -0.009628134909195734,\n",
       "  0.017114914425427872,\n",
       "  0.007325536563423725,\n",
       "  0.008112817162147446,\n",
       "  0.015533980582524271,\n",
       "  0.010267938513882982,\n",
       "  0.016616482658637226,\n",
       "  -0.030899506505159265,\n",
       "  0.011649228777909611,\n",
       "  0.0037135894162701635,\n",
       "  -0.003522727272727273,\n",
       "  -0.0007646159275379367,\n",
       "  0.038335517693315856,\n",
       "  -0.016824153030652225,\n",
       "  0.06267391016297867,\n",
       "  -0.007055004058188175,\n",
       "  -0.012548929311535804,\n",
       "  -0.01613680154142582,\n",
       "  -0.01639344262295082,\n",
       "  0.009470382434551816,\n",
       "  0.008806636885768986,\n",
       "  0.029997710098465767,\n",
       "  -0.03977166966557052,\n",
       "  -0.00670923060274862,\n",
       "  -0.02309896144204369,\n",
       "  -0.02473246135552913,\n",
       "  -0.011096539897104811,\n",
       "  0.009857612267250822,\n",
       "  -0.00791007493755204,\n",
       "  -0.002102919346857991,\n",
       "  0.007944948389114794,\n",
       "  -0.015447251826128607,\n",
       "  0.009051987767584098,\n",
       "  -0.020832103865447035,\n",
       "  -0.002572994742141179,\n",
       "  -0.0026305021336295083,\n",
       "  -0.04771873653100179,\n",
       "  -0.006325885113763902,\n",
       "  -0.07230609375955015,\n",
       "  0.003922887245012329,\n",
       "  -0.0050637331936441415,\n",
       "  0.003070327887846136,\n",
       "  0.002959309494451295,\n",
       "  -0.00024903498941601296,\n",
       "  -0.0019089173711480775,\n",
       "  -0.013513513513513514,\n",
       "  0.0059340137669119395,\n",
       "  0.006999758629012792,\n",
       "  -0.02035125192832562,\n",
       "  0.010216546363131594,\n",
       "  -0.0006885471654808355,\n",
       "  -0.0003384476534296029,\n",
       "  0.011744320369657297,\n",
       "  0.006805498843065197,\n",
       "  -0.014136986301369864,\n",
       "  0.003080568720379147,\n",
       "  0.0008606777837547069,\n",
       "  0.0005802483462922131,\n",
       "  0.0009000900090009,\n",
       "  -0.0011945392491467576,\n",
       "  0.0059887271019257865,\n",
       "  -0.01544943820224719,\n",
       "  0.009681978798586573,\n",
       "  0.003326935380678183,\n",
       "  0.002141445200966396,\n",
       "  0.008948671769473211,\n",
       "  0.0019595381845143524,\n",
       "  0.003984269895477595,\n",
       "  -0.005983724269985639,\n",
       "  0.006840259814910617,\n",
       "  -0.009548716701131249,\n",
       "  -0.0037720033528918693,\n",
       "  0.019153537225826384,\n",
       "  0.0010656436487638534,\n",
       "  0.006247657128576784,\n",
       "  0.007789173049461249,\n",
       "  -0.07238435070727667,\n",
       "  0.013733148544790222,\n",
       "  0.024848004229447527,\n",
       "  0.02591792656587473,\n",
       "  -0.02584835630965005,\n",
       "  0.007300238916910008,\n",
       "  0.010807234230260256,\n",
       "  0.006931390977443609,\n",
       "  -0.01183855514564176,\n",
       "  -0.008496275605214152,\n",
       "  0.001402209882775254,\n",
       "  0.01163720351781114,\n",
       "  0.012878607202480324,\n",
       "  -0.0050810549237841765,\n",
       "  -0.02572909915748542,\n",
       "  0.020180225916994542,\n",
       "  -0.0006610576923076923,\n",
       "  -0.0011075488195861265,\n",
       "  -0.00413320736891828,\n",
       "  0.00738643358365136,\n",
       "  0.006757602302590414,\n",
       "  0.02503576537911302,\n",
       "  0.010244087517389654,\n",
       "  -0.0047156916347731,\n",
       "  -0.007984293193717278,\n",
       "  -0.005321782178217822,\n",
       "  -0.0014717687985014718,\n",
       "  -0.01585288522511097,\n",
       "  -0.008774024113644504,\n",
       "  -0.0069850858976779305,\n",
       "  -0.0001668613382279326,\n",
       "  0.004882216526302941,\n",
       "  0.005867878099564641,\n",
       "  -0.005796157603386519,\n",
       "  -0.00779808321923924,\n",
       "  0.004597278411180581,\n",
       "  0.006771332694151486,\n",
       "  -0.030798615256058256,\n",
       "  0.007934782608695653,\n",
       "  -0.0071232191952012,\n",
       "  0.004055496264674493],\n",
       " 'tM': [0.021258382080182624,\n",
       "  0.041031390134529146,\n",
       "  0.03527965580823602,\n",
       "  0.023092625669813727,\n",
       "  0.03560490045941807,\n",
       "  -0.017740981667652277,\n",
       "  -0.01264253842340109,\n",
       "  0.020473041709053917,\n",
       "  0.020457604306864066,\n",
       "  0.015110422316931422,\n",
       "  -0.023914238592633315,\n",
       "  0.004189435336976321,\n",
       "  0.020627524075799937,\n",
       "  -0.013531472755829407,\n",
       "  0.031993953898475876,\n",
       "  0.005641748942172073,\n",
       "  -0.00443906376109766,\n",
       "  -0.002030789387487717,\n",
       "  -0.00975019118021922,\n",
       "  -0.004228730118656905,\n",
       "  0.0028672856362643366,\n",
       "  0.033736519965024775,\n",
       "  -0.011314920233326305,\n",
       "  0.00441653440066248,\n",
       "  -0.020777002988473032,\n",
       "  -0.033986753194620994,\n",
       "  -0.01828761429758936,\n",
       "  0.024393375272820643,\n",
       "  -0.014131692757507463,\n",
       "  -0.019388140501070125,\n",
       "  -0.005386658795749705,\n",
       "  0.018011363636363638,\n",
       "  -0.00355772584583188,\n",
       "  0.025996750406199226,\n",
       "  0.008764721993974253,\n",
       "  -0.006524184476940383,\n",
       "  -0.009857219666646754,\n",
       "  -0.016605757517471308,\n",
       "  0.006889495225102319,\n",
       "  0.017642956764295677,\n",
       "  0.012001182382500739,\n",
       "  -0.005626427497075372,\n",
       "  -0.01937424093459025,\n",
       "  -0.019048251144886175,\n",
       "  -0.005676107136522202,\n",
       "  -0.018536522133644436,\n",
       "  0.009491478453651102,\n",
       "  -0.020824798579817016,\n",
       "  0.038051956860883134,\n",
       "  0.01763584366062917,\n",
       "  0.00958487144614986,\n",
       "  -0.006416916213408299,\n",
       "  -0.003477306002928258,\n",
       "  -0.010628875110717449,\n",
       "  -0.002085070892410342,\n",
       "  0.0001227973230183582,\n",
       "  -0.008705184420944029,\n",
       "  -0.012077462344693552,\n",
       "  -0.00838394507525746,\n",
       "  0.004363834719759989,\n",
       "  0.009993796953614997,\n",
       "  -0.010432996378182605,\n",
       "  0.018456692913385826,\n",
       "  -0.0040898649784301645,\n",
       "  0.006269808460796472,\n",
       "  0.009271164647763416,\n",
       "  0.0031928923439994445,\n",
       "  -0.028229538542906253,\n",
       "  0.01089041095890411,\n",
       "  -0.0006475006475006475,\n",
       "  0.014077025232403718,\n",
       "  0.005865468613503058,\n",
       "  0.0038071065989847717,\n",
       "  -0.01349200857953366,\n",
       "  0.017620838556902076,\n",
       "  0.006495210602283165,\n",
       "  -0.00832510229998589,\n",
       "  0.011999421714616163,\n",
       "  -0.010890645979412203,\n",
       "  -0.005019720329867336,\n",
       "  0.004037490987743331,\n",
       "  -0.010390428211586901,\n",
       "  0.020824989987985584,\n",
       "  -0.011447616287494565,\n",
       "  -0.006509253350350989,\n",
       "  -0.011344770337576093,\n",
       "  0.009756853027721852,\n",
       "  0.00650682923969752,\n",
       "  -0.002143553101656382,\n",
       "  0.04041827350934441,\n",
       "  -0.010252904989747095,\n",
       "  -0.008448873483535528,\n",
       "  0.01503369621565578,\n",
       "  0.010755672749982651,\n",
       "  0.012445820433436533,\n",
       "  -0.006604644556494567,\n",
       "  0.01562016702752861,\n",
       "  -0.00033400133600534405,\n",
       "  0.007427510355663477,\n",
       "  0.02828674602113147,\n",
       "  -0.0012140342357654485,\n",
       "  0.013985178101840785,\n",
       "  -0.00217441062027924,\n",
       "  -0.0020049008687903764,\n",
       "  -0.0037347767253044653,\n",
       "  0.029128894206433206,\n",
       "  0.045466166695074146,\n",
       "  -0.01881628463906945,\n",
       "  0.00828377230246389,\n",
       "  -6.350819255683983e-05,\n",
       "  0.009946098562628337,\n",
       "  -0.0010595465140919686,\n",
       "  -0.025342855337167413,\n",
       "  -0.0009373169302870533,\n",
       "  -0.010475829862425848,\n",
       "  0.012128418549346017,\n",
       "  0.009849663037843442,\n",
       "  0.008023990922353704,\n",
       "  0.005305039787798408,\n",
       "  -0.01714214214214214,\n",
       "  -0.02297279708447221,\n",
       "  -0.01875527680617537,\n",
       "  0.030548865508936495,\n",
       "  -0.005070993914807302,\n",
       "  0.0029456089875325385,\n",
       "  0.010295291300877894,\n",
       "  0.03482151093072595,\n",
       "  0.0419835716458777,\n",
       "  0.07975460122699386,\n",
       "  -0.00603849540822745,\n",
       "  0.004137746930058729,\n",
       "  0.023609795697469897,\n",
       "  -0.005111909367228516,\n",
       "  -0.005380577427821522,\n",
       "  -0.020553954129590175,\n",
       "  0.04819512195121951,\n",
       "  0.0031479538300104933,\n",
       "  0.003276344790611783,\n",
       "  0.0101875,\n",
       "  -0.004342953208181563,\n",
       "  -0.026779966525041842,\n",
       "  -0.004971487059511625,\n",
       "  -0.01632879413395773,\n",
       "  -0.026263202968883813,\n",
       "  -0.0037932364665037932,\n",
       "  -0.002712600027126,\n",
       "  -0.024031731217918805,\n",
       "  -0.023005500029570053,\n",
       "  0.01652753655666984,\n",
       "  -0.0187154655100707,\n",
       "  0.013824884792626729,\n",
       "  0.001979692189795006,\n",
       "  0.014932992980216974,\n",
       "  0.003702180172768408,\n",
       "  0.0038878089419605664,\n",
       "  0.008908855554709511,\n",
       "  -0.017821251507436686,\n",
       "  0.0945443077893409,\n",
       "  -0.012134548883998742,\n",
       "  0.0029073792053163506,\n",
       "  -0.004282232031095593,\n",
       "  0.007396036840636338,\n",
       "  -0.003671815649531527,\n",
       "  -0.052064819654992156,\n",
       "  0.002031144211238998,\n",
       "  0.04954614220877458,\n",
       "  0.019809155695132263,\n",
       "  -0.0055309734513274336,\n",
       "  0.012834890965732088,\n",
       "  -0.011233908185572019,\n",
       "  -0.0035947277326587672,\n",
       "  0.010417340666450987,\n",
       "  0.009735899731423456,\n",
       "  0.05444263971605607,\n",
       "  0.012726545842217484,\n",
       "  0.03460698689956332,\n",
       "  0.030151325520537033,\n",
       "  0.0008835873647006848,\n",
       "  0.0029231995748073346,\n",
       "  -0.016209665202242086,\n",
       "  -0.01403996964330888,\n",
       "  -0.0021396095212623694,\n",
       "  0.004886769964243146,\n",
       "  0.00980132450331126,\n",
       "  0.04048508605377595,\n",
       "  0.010198910426960597,\n",
       "  0.012565668039187846,\n",
       "  0.0011219640971488912,\n",
       "  0.0020394289598912306,\n",
       "  0.058137977227059615,\n",
       "  0.004175646551724138,\n",
       "  0.02632276886354595,\n",
       "  0.013281647178444331,\n",
       "  -0.020672546857772877,\n",
       "  -0.004404698344901228,\n",
       "  -0.0068653027598517095,\n",
       "  -0.00914052738870257,\n",
       "  0.004000290930249473,\n",
       "  -0.0010066148979004888,\n",
       "  -0.015034424617113953,\n",
       "  -0.0044725072349381745,\n",
       "  0.011604274568937258,\n",
       "  0.009378592606038603,\n",
       "  -0.03995834960301965,\n",
       "  0.002382146439317954,\n",
       "  0.015495363591996096,\n",
       "  0.007429779522802779,\n",
       "  0.006678033532253481,\n",
       "  0.02673593512417638,\n",
       "  0.0010626992561105207,\n",
       "  -0.0012182122734886553,\n",
       "  -0.013819895554706406,\n",
       "  -0.02068770740662289,\n",
       "  0.00211785224866077,\n",
       "  -0.009369318976366942,\n",
       "  -0.00315955766192733,\n",
       "  -0.004234140543752786,\n",
       "  0.013382218148487626,\n",
       "  0.006480117820324006,\n",
       "  0.00425378514780101,\n",
       "  0.00903677758318739,\n",
       "  -0.00823045267489712,\n",
       "  0.012684124386252046,\n",
       "  -0.0349639855942377,\n",
       "  -0.046094908551655954,\n",
       "  0.023806417949386902,\n",
       "  0.03945079522862823,\n",
       "  0.010601548540798094,\n",
       "  -0.010334069933705966,\n",
       "  0.001586720371048456,\n",
       "  -0.040861402540033134,\n",
       "  0.008185367082231457,\n",
       "  0.013419279226486962,\n",
       "  -0.011914893617021277,\n",
       "  -0.003699987457669635,\n",
       "  0.01816287032901593,\n",
       "  -0.018532691887163787,\n",
       "  -0.006209605880116588,\n",
       "  -0.006528562460765851,\n",
       "  0.01138608109678169,\n",
       "  0.0042467590523021905,\n",
       "  -0.005060088551549652,\n",
       "  0.0235045742434905,\n",
       "  -0.017135382603008502,\n",
       "  0.0036024016010673785,\n",
       "  -0.06127224582794507,\n",
       "  -0.02625473195750397,\n",
       "  -0.017715793441387108,\n",
       "  -0.023274161735700197,\n",
       "  -0.0059598934230823165,\n",
       "  -0.012546408910510818,\n",
       "  -0.001222100726828327,\n",
       "  0.0029120559114735,\n",
       "  0.02424987066735644,\n",
       "  0.014355231143552312,\n",
       "  0.03167554766133807,\n",
       "  0.012240437158469945,\n",
       "  -0.0005524861878453039,\n",
       "  -0.00979221399570098,\n",
       "  -0.016674840608141245,\n",
       "  -0.004179795511542666,\n",
       "  0.0024937655860349127,\n",
       "  0.013130615065653075,\n",
       "  -0.010913500404203719,\n",
       "  -0.01544350580781415,\n",
       "  0.006121313299944352,\n",
       "  -0.0036540803897685747,\n",
       "  -0.036108081909608625,\n",
       "  -0.040090872644661234,\n",
       "  -0.0008904719501335708,\n",
       "  0.005807200929152149,\n",
       "  0.030338389731621937,\n",
       "  0.022659780503550678,\n",
       "  -0.017857142857142856,\n",
       "  0.0072132724212551095,\n",
       "  0.02154096266620217,\n",
       "  0.0012145748987854252,\n",
       "  0.07703552112264289,\n",
       "  0.018863272099617804,\n",
       "  -0.0029322496013169403,\n",
       "  -0.009174311926605505,\n",
       "  -0.015246695458709592,\n",
       "  0.01645757453122892,\n",
       "  -0.006974601921305435,\n",
       "  -0.03328193266512465,\n",
       "  0.014213926776740847,\n",
       "  -0.0012763241863433313,\n",
       "  -0.0067941620533467535,\n",
       "  -0.017430220233188083,\n",
       "  -0.012583562721195438,\n",
       "  0.027734043841588955,\n",
       "  0.022246455834242094,\n",
       "  0.032381160052333186,\n",
       "  -0.010529834531171654,\n",
       "  -0.0017304135091592578,\n",
       "  0.0007713302480123413,\n",
       "  -0.022900763358778626,\n",
       "  0.006850655705617537,\n",
       "  0.03666077738515901,\n",
       "  0.03783435846087827,\n",
       "  -0.0046001415428167025,\n",
       "  0.01246912127984943,\n",
       "  0.0030207829869502174,\n",
       "  0.002297200287150036,\n",
       "  -0.017321331151118384,\n",
       "  -0.004206500956022944,\n",
       "  0.004246157526463728,\n",
       "  0.0036811373445036813,\n",
       "  0.0025347624565469295,\n",
       "  0.029967109270313073,\n",
       "  0.0022696323195642307,\n",
       "  -0.018297783354245086,\n",
       "  0.02797035620368157,\n",
       "  0.004429301533219762,\n",
       "  0.062465526751241035,\n",
       "  0.05311217707911923,\n",
       "  -0.00511988011988012,\n",
       "  0.016613525759355596,\n",
       "  0.001391949889803967,\n",
       "  -0.0042110188326120014,\n",
       "  -0.02520015750098438,\n",
       "  0.031795269484296236,\n",
       "  0.0012648621300278269,\n",
       "  0.021851231146061623,\n",
       "  0.013419830821090122,\n",
       "  -0.008222454776498729,\n",
       "  0.009371254222512804,\n",
       "  0.004229891231368336,\n",
       "  -0.0047123677425091135,\n",
       "  0.0013381506757660913,\n",
       "  -0.004577656675749319,\n",
       "  -0.012087984675341832,\n",
       "  -0.000361794500723589,\n",
       "  0.02444688913335778,\n",
       "  -0.025221540558963872,\n",
       "  -0.007680273076376049,\n",
       "  0.01822950819672131,\n",
       "  0.0024838549428713363,\n",
       "  -0.020668176670441678,\n",
       "  0.014813769751693002,\n",
       "  -0.004097930019964275,\n",
       "  0.025276260637622252,\n",
       "  0.00912984670874662,\n",
       "  -0.020260858553881222,\n",
       "  -0.00264096130991681,\n",
       "  0.018613138686131386,\n",
       "  0.013932081104615001,\n",
       "  0.013260966875559534,\n",
       "  0.007205850720585072,\n",
       "  -0.0446370389678092,\n",
       "  0.003947033358798065,\n",
       "  0.034113984025991605,\n",
       "  0.014734774066797643,\n",
       "  -0.01629518636448773,\n",
       "  -0.02705763906367984,\n",
       "  -0.018895796146980982,\n",
       "  -0.014849132810643859,\n",
       "  0.009280089988751405,\n",
       "  -0.0260716462382339,\n",
       "  0.002065315606041048,\n",
       "  0.013601118596669633,\n",
       "  0.03535811423390753,\n",
       "  -0.007293986636971047,\n",
       "  -0.005619350109943806,\n",
       "  -0.0030744818010512744,\n",
       "  -0.01093500430028259,\n",
       "  0.0022698255071641367,\n",
       "  0.02619324796274738,\n",
       "  0.06037236972568029,\n",
       "  -0.00982201713909031,\n",
       "  -0.01838845613587026,\n",
       "  0.012801575578532743,\n",
       "  0.00793228279386712,\n",
       "  -0.0012605042016806723,\n",
       "  0.014282575258185014,\n",
       "  -0.0021687148974031028,\n",
       "  -0.027774563129267446,\n",
       "  -0.04005381275606922,\n",
       "  0.028228448614787828,\n",
       "  -0.049772672888250775,\n",
       "  -0.023506493506493507,\n",
       "  -0.006157635467980296,\n",
       "  -0.0007539582809751194,\n",
       "  -0.0031599736668861092,\n",
       "  0.004102283604539861,\n",
       "  -0.01384287742546143,\n",
       "  0.012249680443118876,\n",
       "  0.0036984662243010986,\n",
       "  0.0031000357696434958,\n",
       "  -0.015593220338983051,\n",
       "  -0.037137203166226915,\n",
       "  0.01027951027951028,\n",
       "  0.004440961337513062,\n",
       "  0.003933722732149243,\n",
       "  0.028038522491771304,\n",
       "  0.0029792597685344333,\n",
       "  0.005710491367861886,\n",
       "  0.022821855282588267,\n",
       "  -0.005345501955671447,\n",
       "  -0.004140491147915477,\n",
       "  0.020204944132461065,\n",
       "  -0.035443530097842284,\n",
       "  -0.003589283425201897]}"
      ]
     },
     "execution_count": 224,
     "metadata": {},
     "output_type": "execute_result"
    }
   ],
   "source": [
    "feature_changes"
   ]
  },
  {
   "cell_type": "code",
   "execution_count": 225,
   "metadata": {},
   "outputs": [
    {
     "name": "stdout",
     "output_type": "stream",
     "text": [
      "Fitted parameters for area change at t2: mu=-0.005703314127054405, std=0.03273699272446571\n",
      "Fitted parameters for area change at t3: mu=-0.0019341539616235886, std=0.03257158746301345\n",
      "Fitted parameters for area change at t4: mu=-0.0010838598323883388, std=0.030493256874538948\n",
      "Fitted parameters for area change at t5: mu=-0.0007077890312742351, std=0.02456561774623883\n",
      "Fitted parameters for area change at t6: mu=-0.001489538599527167, std=0.022962285796896558\n",
      "Fitted parameters for area change at t7: mu=-0.0012123088101389967, std=0.019715868152347542\n",
      "Fitted parameters for area change at t8: mu=-0.0015127123650463363, std=0.015854134863925073\n",
      "Fitted parameters for area change at tM: mu=0.002424363993201084, std=0.01987138151803649\n"
     ]
    }
   ],
   "source": [
    "from scipy.stats import norm\n",
    "\n",
    "feature_change_params = {}\n",
    "\n",
    "for stage, changes in feature_changes.items():\n",
    "    changes = np.array(changes)\n",
    "    if len(changes) > 0:\n",
    "        mu, std = norm.fit(changes)\n",
    "        feature_change_params[stage] = {'mu': mu, 'std': std}\n",
    "        print(f'Fitted parameters for {feature} change at {stage}: mu={mu}, std={std}')\n"
   ]
  },
  {
   "cell_type": "code",
   "execution_count": 226,
   "metadata": {},
   "outputs": [],
   "source": [
    "def estimate_ou_params(times, values):\n",
    "    dt = np.diff(times)\n",
    "    X_t = values[:-1]\n",
    "    X_t1 = values[1:]\n",
    "    dX = X_t1 - X_t\n",
    "    theta_estimates = []\n",
    "    mu_estimates = []\n",
    "    sigma_estimates = []\n",
    "\n",
    "    for i in range(len(dX)):\n",
    "        dXi = dX[i]\n",
    "        dti = dt[i]\n",
    "        Xti = X_t[i]\n",
    "        theta_i = (dXi) / (dti * (np.mean(X_t) - Xti))\n",
    "        theta_estimates.append(theta_i)\n",
    "\n",
    "    theta = np.mean(theta_estimates)\n",
    "    mu = np.mean(X_t)\n",
    "    sigma = np.std(dX) / np.sqrt(np.mean(dt))\n",
    "\n",
    "    return theta, mu, sigma\n"
   ]
  },
  {
   "cell_type": "code",
   "execution_count": 227,
   "metadata": {},
   "outputs": [
    {
     "name": "stdout",
     "output_type": "stream",
     "text": [
      "Fitted parameters for area change at t2: mu=-0.005703314127054405, std=0.03273699272446571\n",
      "Fitted parameters for area change at t3: mu=-0.0019341539616235886, std=0.03257158746301345\n",
      "Fitted parameters for area change at t4: mu=-0.0010838598323883388, std=0.030493256874538948\n",
      "Fitted parameters for area change at t5: mu=-0.0007077890312742351, std=0.02456561774623883\n",
      "Fitted parameters for area change at t6: mu=-0.001489538599527167, std=0.022962285796896558\n",
      "Fitted parameters for area change at t7: mu=-0.0012123088101389967, std=0.019715868152347542\n",
      "Fitted parameters for area change at t8: mu=-0.0015127123650463363, std=0.015854134863925073\n",
      "Fitted parameters for area change at tM: mu=0.002424363993201084, std=0.01987138151803649\n"
     ]
    }
   ],
   "source": [
    "from scipy.stats import norm\n",
    "\n",
    "feature_change_params = {}\n",
    "\n",
    "for stage, changes in feature_changes.items():\n",
    "    changes = np.array(changes)\n",
    "    if len(changes) > 0:\n",
    "        mu, std = norm.fit(changes)\n",
    "        feature_change_params[stage] = {'mu': mu, 'std': std}\n",
    "        print(f'Fitted parameters for {feature} change at {stage}: mu={mu}, std={std}')"
   ]
  },
  {
   "cell_type": "code",
   "execution_count": 228,
   "metadata": {},
   "outputs": [
    {
     "name": "stdout",
     "output_type": "stream",
     "text": [
      "Estimated OU parameters: theta=27.400108545989223, mu=7186.666666666667, sigma=145.47048584152105\n"
     ]
    }
   ],
   "source": [
    "# Select data between tPNf and t2\n",
    "embryo_id = merged_df['id'].iloc[0]\n",
    "embryo_data = merged_df[merged_df['id'] == embryo_id]\n",
    "t_start = 10#embryo_data['tPNf'].iloc[0]\n",
    "t_end = embryo_data['t2'].iloc[0]\n",
    "\n",
    "time_mask = (embryo_data['time_hours'] >= t_start) & (embryo_data['time_hours'] <= t_end)\n",
    "times = embryo_data.loc[time_mask, 'time_hours'].values\n",
    "values = embryo_data.loc[time_mask, feature].values\n",
    "\n",
    "theta, mu, sigma = estimate_ou_params(times, values)\n",
    "print(f'Estimated OU parameters: theta={theta}, mu={mu}, sigma={sigma}')\n"
   ]
  },
  {
   "cell_type": "code",
   "execution_count": 229,
   "metadata": {},
   "outputs": [],
   "source": [
    "def ou_process(X, t, theta, mu, sigma):\n",
    "    return theta * (mu - X)\n"
   ]
  },
  {
   "cell_type": "code",
   "execution_count": 230,
   "metadata": {},
   "outputs": [],
   "source": [
    "import numpy as np\n",
    "import sdeint\n",
    "\n",
    "# Ornstein-Uhlenbeck process (drift term)\n",
    "def ou_process(X, t, theta, mu):\n",
    "    return theta * (mu - X)\n",
    "\n",
    "# Diffusion term (noise part of SDE)\n",
    "def diffusion(X, t, sigma):\n",
    "    return np.array([[sigma]])  # Must be 2D\n",
    "\n",
    "# Simulation function\n",
    "def simulate_between_divisions(X0, t_start, t_end, theta, mu, sigma, delta_t):\n",
    "    t = np.arange(t_start, t_end, delta_t)  # Time array\n",
    "    X_initial = np.array([X0])  # Ensure initial condition is an array\n",
    "    \n",
    "    # Use sdeint's ito integrator for solving the SDE without 'args'\n",
    "    X = sdeint.itoint(lambda X, t: ou_process(X, t, theta, mu),\n",
    "                      lambda X, t: diffusion(X, t, sigma),\n",
    "                      X_initial, t)\n",
    "    return t, X\n"
   ]
  },
  {
   "cell_type": "code",
   "execution_count": 245,
   "metadata": {},
   "outputs": [],
   "source": [
    "def simulate_full_feature(fitted_params, feature_change_params, initial_value, delta_t=0.01):\n",
    "    # Sample division times\n",
    "    division_times = sample_division_times(fitted_params)\n",
    "    division_times_list = [0] + [division_times[stage] for stage in division_stages[1:] if stage in division_times]\n",
    "    division_stages_present = [stage for stage in division_stages if stage in division_times]\n",
    "    \n",
    "    # Initialize arrays\n",
    "    t_full = []\n",
    "    X_full = []\n",
    "    X_current = initial_value\n",
    "\n",
    "    for i in range(len(division_times_list) - 1):\n",
    "        t_start = division_times_list[i]\n",
    "        t_end = division_times_list[i + 1]\n",
    "        try:\n",
    "            \n",
    "            stage = division_stages_present[i + 1]\n",
    "        except:\n",
    "            continue\n",
    "        # Estimate OU parameters (here we use the previously estimated parameters)\n",
    "        # For simplicity, using constant parameters\n",
    "        theta, mu, sigma = 0.1, initial_value, 0.05  # Use estimated or predefined values\n",
    "\n",
    "        # Simulate between divisions\n",
    "        t_segment, X_segment = simulate_between_divisions(X_current, t_start, t_end, theta, mu, sigma, delta_t)\n",
    "\n",
    "        # Append to full arrays\n",
    "        t_full.extend(t_segment)\n",
    "        X_full.extend(X_segment)\n",
    "\n",
    "        # Apply feature change at division\n",
    "        params = feature_change_params.get(stage, {'mu': 0, 'std': 0.01})\n",
    "        change = norm.rvs(params['mu'], params['std'])\n",
    "        X_current = X_segment[-1] * (1 + change)\n",
    "\n",
    "    # Simulate after last division until day 5\n",
    "    t_start = division_times_list[-1]\n",
    "    t_end = 120  # 5 days = 120 hours\n",
    "    t_segment, X_segment = simulate_between_divisions(X_current, t_start, t_end, theta, mu, sigma, delta_t)\n",
    "    t_full.extend(t_segment)\n",
    "    X_full.extend(X_segment)\n",
    "\n",
    "    return np.array(t_full), np.array(X_full)\n"
   ]
  },
  {
   "cell_type": "code",
   "execution_count": 246,
   "metadata": {},
   "outputs": [
    {
     "data": {
      "image/png": "[encoded data removed]",
      "text/plain": [
       "<Figure size 1200x600 with 1 Axes>"
      ]
     },
     "metadata": {},
     "output_type": "display_data"
    }
   ],
   "source": [
    "initial_feature_value = interpolated_data_df[feature].iloc[0]\n",
    "t_sim, X_sim = simulate_full_feature(fitted_params, feature_change_params, initial_feature_value)\n",
    "\n",
    "# Plot the simulation\n",
    "plt.figure(figsize=(12, 6))\n",
    "plt.plot(t_sim, X_sim, label='Simulated Feature')\n",
    "plt.xlabel('Time (hours)')\n",
    "plt.ylabel(f'{feature.capitalize()}')\n",
    "plt.title(f'Simulation of {feature.capitalize()} Over Time')\n",
    "plt.legend()\n",
    "plt.show()\n"
   ]
  },
  {
   "cell_type": "code",
   "execution_count": 234,
   "metadata": {},
   "outputs": [
    {
     "data": {
      "text/plain": [
       "array([[7721.        ],\n",
       "       [7721.00014574],\n",
       "       [7721.00117456],\n",
       "       ...,\n",
       "       [7721.86562195],\n",
       "       [7721.8662722 ],\n",
       "       [7721.86487379]])"
      ]
     },
     "execution_count": 234,
     "metadata": {},
     "output_type": "execute_result"
    }
   ],
   "source": [
    "class Cell:\n",
    "\n",
    "    def __init__(self, init_time: float):\n",
    "        ...\n",
    "\n"
   ]
  },
  {
   "cell_type": "code",
   "execution_count": 185,
   "metadata": {},
   "outputs": [],
   "source": [
    "success_interpol = interpolated_data_df.loc[interpolated_data_df['y']==False]\n",
    "\n",
    "fail_interpol = interpolated_data_df.loc[interpolated_data_df['y']==True]"
   ]
  },
  {
   "cell_type": "code",
   "execution_count": 186,
   "metadata": {},
   "outputs": [
    {
     "data": {
      "text/plain": [
       "<Axes: >"
      ]
     },
     "execution_count": 186,
     "metadata": {},
     "output_type": "execute_result"
    },
    {
     "data": {
      "image/png": "[encoded data removed]",
      "text/plain": [
       "<Figure size 640x480 with 1 Axes>"
      ]
     },
     "metadata": {},
     "output_type": "display_data"
    }
   ],
   "source": [
    "interpolated_data_df['area'].hist(bins=400)"
   ]
  },
  {
   "cell_type": "code",
   "execution_count": 65,
   "metadata": {},
   "outputs": [
    {
     "data": {
      "text/plain": [
       "<Axes: >"
      ]
     },
     "execution_count": 65,
     "metadata": {},
     "output_type": "execute_result"
    },
    {
     "data": {
      "image/png": "[encoded data removed]",
      "text/plain": [
       "<Figure size 640x480 with 1 Axes>"
      ]
     },
     "metadata": {},
     "output_type": "display_data"
    }
   ],
   "source": [
    "interpolated_data_df['inertia_tensor-0-1'].hist(bins=400)"
   ]
  },
  {
   "cell_type": "code",
   "execution_count": 66,
   "metadata": {},
   "outputs": [
    {
     "ename": "KeyError",
     "evalue": "'Column not found: Z:/D2011.06.29_S0078_I149.pdb'",
     "output_type": "error",
     "traceback": [
      "\u001b[1;31m---------------------------------------------------------------------------\u001b[0m",
      "\u001b[1;31mKeyError\u001b[0m                                  Traceback (most recent call last)",
      "Cell \u001b[1;32mIn[66], line 1\u001b[0m\n\u001b[1;32m----> 1\u001b[0m q1 \u001b[38;5;241m=\u001b[39m \u001b[43msuccess_interpol\u001b[49m\u001b[38;5;241;43m.\u001b[39;49m\u001b[43mgroupby\u001b[49m\u001b[43m(\u001b[49m\u001b[38;5;124;43m'\u001b[39;49m\u001b[38;5;124;43mstep\u001b[39;49m\u001b[38;5;124;43m'\u001b[39;49m\u001b[43m)\u001b[49m\u001b[43m[\u001b[49m\u001b[43mf\u001b[49m\u001b[43m]\u001b[49m\u001b[38;5;241m.\u001b[39mapply(\u001b[38;5;28;01mlambda\u001b[39;00m x: x\u001b[38;5;241m.\u001b[39mquantile(\u001b[38;5;241m0.25\u001b[39m))\n\u001b[0;32m      3\u001b[0m q2 \u001b[38;5;241m=\u001b[39m success_interpol\u001b[38;5;241m.\u001b[39mgroupby(\u001b[38;5;124m'\u001b[39m\u001b[38;5;124mstep\u001b[39m\u001b[38;5;124m'\u001b[39m)[f]\u001b[38;5;241m.\u001b[39mapply(\u001b[38;5;28;01mlambda\u001b[39;00m x: x\u001b[38;5;241m.\u001b[39mquantile(\u001b[38;5;241m0.75\u001b[39m))\n\u001b[0;32m      4\u001b[0m mu  \u001b[38;5;241m=\u001b[39m success_interpol\u001b[38;5;241m.\u001b[39mgroupby(\u001b[38;5;124m'\u001b[39m\u001b[38;5;124mstep\u001b[39m\u001b[38;5;124m'\u001b[39m)[f]\u001b[38;5;241m.\u001b[39mapply(\u001b[38;5;28;01mlambda\u001b[39;00m x: x\u001b[38;5;241m.\u001b[39mmean())\n",
      "File \u001b[1;32mc:\\Users\\hp\\anaconda3\\envs\\pymc_env\\Lib\\site-packages\\pandas\\core\\groupby\\generic.py:1951\u001b[0m, in \u001b[0;36mDataFrameGroupBy.__getitem__\u001b[1;34m(self, key)\u001b[0m\n\u001b[0;32m   1944\u001b[0m \u001b[38;5;28;01mif\u001b[39;00m \u001b[38;5;28misinstance\u001b[39m(key, \u001b[38;5;28mtuple\u001b[39m) \u001b[38;5;129;01mand\u001b[39;00m \u001b[38;5;28mlen\u001b[39m(key) \u001b[38;5;241m>\u001b[39m \u001b[38;5;241m1\u001b[39m:\n\u001b[0;32m   1945\u001b[0m     \u001b[38;5;66;03m# if len == 1, then it becomes a SeriesGroupBy and this is actually\u001b[39;00m\n\u001b[0;32m   1946\u001b[0m     \u001b[38;5;66;03m# valid syntax, so don't raise\u001b[39;00m\n\u001b[0;32m   1947\u001b[0m     \u001b[38;5;28;01mraise\u001b[39;00m \u001b[38;5;167;01mValueError\u001b[39;00m(\n\u001b[0;32m   1948\u001b[0m         \u001b[38;5;124m\"\u001b[39m\u001b[38;5;124mCannot subset columns with a tuple with more than one element. \u001b[39m\u001b[38;5;124m\"\u001b[39m\n\u001b[0;32m   1949\u001b[0m         \u001b[38;5;124m\"\u001b[39m\u001b[38;5;124mUse a list instead.\u001b[39m\u001b[38;5;124m\"\u001b[39m\n\u001b[0;32m   1950\u001b[0m     )\n\u001b[1;32m-> 1951\u001b[0m \u001b[38;5;28;01mreturn\u001b[39;00m \u001b[38;5;28;43msuper\u001b[39;49m\u001b[43m(\u001b[49m\u001b[43m)\u001b[49m\u001b[38;5;241;43m.\u001b[39;49m\u001b[38;5;21;43m__getitem__\u001b[39;49m\u001b[43m(\u001b[49m\u001b[43mkey\u001b[49m\u001b[43m)\u001b[49m\n",
      "File \u001b[1;32mc:\\Users\\hp\\anaconda3\\envs\\pymc_env\\Lib\\site-packages\\pandas\\core\\base.py:244\u001b[0m, in \u001b[0;36mSelectionMixin.__getitem__\u001b[1;34m(self, key)\u001b[0m\n\u001b[0;32m    242\u001b[0m \u001b[38;5;28;01melse\u001b[39;00m:\n\u001b[0;32m    243\u001b[0m     \u001b[38;5;28;01mif\u001b[39;00m key \u001b[38;5;129;01mnot\u001b[39;00m \u001b[38;5;129;01min\u001b[39;00m \u001b[38;5;28mself\u001b[39m\u001b[38;5;241m.\u001b[39mobj:\n\u001b[1;32m--> 244\u001b[0m         \u001b[38;5;28;01mraise\u001b[39;00m \u001b[38;5;167;01mKeyError\u001b[39;00m(\u001b[38;5;124mf\u001b[39m\u001b[38;5;124m\"\u001b[39m\u001b[38;5;124mColumn not found: \u001b[39m\u001b[38;5;132;01m{\u001b[39;00mkey\u001b[38;5;132;01m}\u001b[39;00m\u001b[38;5;124m\"\u001b[39m)\n\u001b[0;32m    245\u001b[0m     ndim \u001b[38;5;241m=\u001b[39m \u001b[38;5;28mself\u001b[39m\u001b[38;5;241m.\u001b[39mobj[key]\u001b[38;5;241m.\u001b[39mndim\n\u001b[0;32m    246\u001b[0m     \u001b[38;5;28;01mreturn\u001b[39;00m \u001b[38;5;28mself\u001b[39m\u001b[38;5;241m.\u001b[39m_gotitem(key, ndim\u001b[38;5;241m=\u001b[39mndim)\n",
      "\u001b[1;31mKeyError\u001b[0m: 'Column not found: Z:/D2011.06.29_S0078_I149.pdb'"
     ]
    }
   ],
   "source": [
    "q1 = success_interpol.groupby('step')[f].apply(lambda x: x.quantile(0.25))\n",
    "\n",
    "q2 = success_interpol.groupby('step')[f].apply(lambda x: x.quantile(0.75))\n",
    "mu  = success_interpol.groupby('step')[f].apply(lambda x: x.mean())"
   ]
  },
  {
   "cell_type": "code",
   "execution_count": 67,
   "metadata": {},
   "outputs": [
    {
     "ename": "KeyError",
     "evalue": "'Column not found: Z:/D2011.06.29_S0078_I149.pdb'",
     "output_type": "error",
     "traceback": [
      "\u001b[1;31m---------------------------------------------------------------------------\u001b[0m",
      "\u001b[1;31mKeyError\u001b[0m                                  Traceback (most recent call last)",
      "Cell \u001b[1;32mIn[67], line 1\u001b[0m\n\u001b[1;32m----> 1\u001b[0m q1_fail \u001b[38;5;241m=\u001b[39m \u001b[43mfail_interpol\u001b[49m\u001b[38;5;241;43m.\u001b[39;49m\u001b[43mgroupby\u001b[49m\u001b[43m(\u001b[49m\u001b[38;5;124;43m'\u001b[39;49m\u001b[38;5;124;43mstep\u001b[39;49m\u001b[38;5;124;43m'\u001b[39;49m\u001b[43m)\u001b[49m\u001b[43m[\u001b[49m\u001b[43mf\u001b[49m\u001b[43m]\u001b[49m\u001b[38;5;241m.\u001b[39mapply(\u001b[38;5;28;01mlambda\u001b[39;00m x: x\u001b[38;5;241m.\u001b[39mquantile(\u001b[38;5;241m0.25\u001b[39m))\n\u001b[0;32m      3\u001b[0m q2_fail \u001b[38;5;241m=\u001b[39m fail_interpol\u001b[38;5;241m.\u001b[39mgroupby(\u001b[38;5;124m'\u001b[39m\u001b[38;5;124mstep\u001b[39m\u001b[38;5;124m'\u001b[39m)[f]\u001b[38;5;241m.\u001b[39mapply(\u001b[38;5;28;01mlambda\u001b[39;00m x: x\u001b[38;5;241m.\u001b[39mquantile(\u001b[38;5;241m0.75\u001b[39m))\n\u001b[0;32m      4\u001b[0m mu_fail  \u001b[38;5;241m=\u001b[39m fail_interpol\u001b[38;5;241m.\u001b[39mgroupby(\u001b[38;5;124m'\u001b[39m\u001b[38;5;124mstep\u001b[39m\u001b[38;5;124m'\u001b[39m)[f]\u001b[38;5;241m.\u001b[39mapply(\u001b[38;5;28;01mlambda\u001b[39;00m x: x\u001b[38;5;241m.\u001b[39mmean())\n",
      "File \u001b[1;32mc:\\Users\\hp\\anaconda3\\envs\\pymc_env\\Lib\\site-packages\\pandas\\core\\groupby\\generic.py:1951\u001b[0m, in \u001b[0;36mDataFrameGroupBy.__getitem__\u001b[1;34m(self, key)\u001b[0m\n\u001b[0;32m   1944\u001b[0m \u001b[38;5;28;01mif\u001b[39;00m \u001b[38;5;28misinstance\u001b[39m(key, \u001b[38;5;28mtuple\u001b[39m) \u001b[38;5;129;01mand\u001b[39;00m \u001b[38;5;28mlen\u001b[39m(key) \u001b[38;5;241m>\u001b[39m \u001b[38;5;241m1\u001b[39m:\n\u001b[0;32m   1945\u001b[0m     \u001b[38;5;66;03m# if len == 1, then it becomes a SeriesGroupBy and this is actually\u001b[39;00m\n\u001b[0;32m   1946\u001b[0m     \u001b[38;5;66;03m# valid syntax, so don't raise\u001b[39;00m\n\u001b[0;32m   1947\u001b[0m     \u001b[38;5;28;01mraise\u001b[39;00m \u001b[38;5;167;01mValueError\u001b[39;00m(\n\u001b[0;32m   1948\u001b[0m         \u001b[38;5;124m\"\u001b[39m\u001b[38;5;124mCannot subset columns with a tuple with more than one element. \u001b[39m\u001b[38;5;124m\"\u001b[39m\n\u001b[0;32m   1949\u001b[0m         \u001b[38;5;124m\"\u001b[39m\u001b[38;5;124mUse a list instead.\u001b[39m\u001b[38;5;124m\"\u001b[39m\n\u001b[0;32m   1950\u001b[0m     )\n\u001b[1;32m-> 1951\u001b[0m \u001b[38;5;28;01mreturn\u001b[39;00m \u001b[38;5;28;43msuper\u001b[39;49m\u001b[43m(\u001b[49m\u001b[43m)\u001b[49m\u001b[38;5;241;43m.\u001b[39;49m\u001b[38;5;21;43m__getitem__\u001b[39;49m\u001b[43m(\u001b[49m\u001b[43mkey\u001b[49m\u001b[43m)\u001b[49m\n",
      "File \u001b[1;32mc:\\Users\\hp\\anaconda3\\envs\\pymc_env\\Lib\\site-packages\\pandas\\core\\base.py:244\u001b[0m, in \u001b[0;36mSelectionMixin.__getitem__\u001b[1;34m(self, key)\u001b[0m\n\u001b[0;32m    242\u001b[0m \u001b[38;5;28;01melse\u001b[39;00m:\n\u001b[0;32m    243\u001b[0m     \u001b[38;5;28;01mif\u001b[39;00m key \u001b[38;5;129;01mnot\u001b[39;00m \u001b[38;5;129;01min\u001b[39;00m \u001b[38;5;28mself\u001b[39m\u001b[38;5;241m.\u001b[39mobj:\n\u001b[1;32m--> 244\u001b[0m         \u001b[38;5;28;01mraise\u001b[39;00m \u001b[38;5;167;01mKeyError\u001b[39;00m(\u001b[38;5;124mf\u001b[39m\u001b[38;5;124m\"\u001b[39m\u001b[38;5;124mColumn not found: \u001b[39m\u001b[38;5;132;01m{\u001b[39;00mkey\u001b[38;5;132;01m}\u001b[39;00m\u001b[38;5;124m\"\u001b[39m)\n\u001b[0;32m    245\u001b[0m     ndim \u001b[38;5;241m=\u001b[39m \u001b[38;5;28mself\u001b[39m\u001b[38;5;241m.\u001b[39mobj[key]\u001b[38;5;241m.\u001b[39mndim\n\u001b[0;32m    246\u001b[0m     \u001b[38;5;28;01mreturn\u001b[39;00m \u001b[38;5;28mself\u001b[39m\u001b[38;5;241m.\u001b[39m_gotitem(key, ndim\u001b[38;5;241m=\u001b[39mndim)\n",
      "\u001b[1;31mKeyError\u001b[0m: 'Column not found: Z:/D2011.06.29_S0078_I149.pdb'"
     ]
    }
   ],
   "source": [
    "q1_fail = fail_interpol.groupby('step')[f].apply(lambda x: x.quantile(0.25))\n",
    "\n",
    "q2_fail = fail_interpol.groupby('step')[f].apply(lambda x: x.quantile(0.75))\n",
    "mu_fail  = fail_interpol.groupby('step')[f].apply(lambda x: x.mean())"
   ]
  },
  {
   "cell_type": "code",
   "execution_count": 68,
   "metadata": {},
   "outputs": [
    {
     "ename": "NameError",
     "evalue": "name 'mu' is not defined",
     "output_type": "error",
     "traceback": [
      "\u001b[1;31m---------------------------------------------------------------------------\u001b[0m",
      "\u001b[1;31mNameError\u001b[0m                                 Traceback (most recent call last)",
      "Cell \u001b[1;32mIn[68], line 5\u001b[0m\n\u001b[0;32m      2\u001b[0m \u001b[38;5;28;01mimport\u001b[39;00m \u001b[38;5;21;01mmatplotlib\u001b[39;00m\u001b[38;5;21;01m.\u001b[39;00m\u001b[38;5;21;01mpyplot\u001b[39;00m \u001b[38;5;28;01mas\u001b[39;00m \u001b[38;5;21;01mplt\u001b[39;00m\n\u001b[0;32m      4\u001b[0m \u001b[38;5;66;03m# Example time series data (replace with your data)\u001b[39;00m\n\u001b[1;32m----> 5\u001b[0m time_series_1 \u001b[38;5;241m=\u001b[39m \u001b[43mmu\u001b[49m\u001b[38;5;241m-\u001b[39m np\u001b[38;5;241m.\u001b[39mmean(mu)\n\u001b[0;32m      6\u001b[0m time_series_2 \u001b[38;5;241m=\u001b[39m mu_fail\u001b[38;5;241m-\u001b[39m np\u001b[38;5;241m.\u001b[39mmean(mu_fail)\n\u001b[0;32m      8\u001b[0m \u001b[38;5;66;03m# Perform FFT\u001b[39;00m\n",
      "\u001b[1;31mNameError\u001b[0m: name 'mu' is not defined"
     ]
    }
   ],
   "source": [
    "import numpy as np\n",
    "import matplotlib.pyplot as plt\n",
    "\n",
    "# Example time series data (replace with your data)\n",
    "time_series_1 = mu- np.mean(mu)\n",
    "time_series_2 = mu_fail- np.mean(mu_fail)\n",
    "\n",
    "# Perform FFT\n",
    "fft_1 = np.fft.fft(time_series_1)\n",
    "fft_2 = np.fft.fft(time_series_2)\n",
    "\n",
    "# Frequency axis\n",
    "n = len(time_series_1)\n",
    "freq = np.fft.fftfreq(n)\n",
    "\n",
    "# Plot the magnitude of FFT\n",
    "plt.figure(figsize=(12, 6))\n",
    "\n",
    "plt.subplot(1, 2, 1)\n",
    "plt.plot(freq, np.abs(fft_1))\n",
    "plt.title('Frequency Spectrum of Set 1')\n",
    "plt.xlabel('Frequency')\n",
    "plt.ylabel('Magnitude')\n",
    "\n",
    "plt.subplot(1, 2, 2)\n",
    "plt.plot(freq, np.abs(fft_2))\n",
    "plt.title('Frequency Spectrum of Set 2')\n",
    "plt.xlabel('Frequency')\n",
    "plt.ylabel('Magnitude')\n",
    "\n",
    "plt.tight_layout()\n",
    "plt.show()\n"
   ]
  },
  {
   "cell_type": "code",
   "execution_count": 69,
   "metadata": {},
   "outputs": [
    {
     "ename": "NameError",
     "evalue": "name 'time_series_1' is not defined",
     "output_type": "error",
     "traceback": [
      "\u001b[1;31m---------------------------------------------------------------------------\u001b[0m",
      "\u001b[1;31mNameError\u001b[0m                                 Traceback (most recent call last)",
      "Cell \u001b[1;32mIn[69], line 14\u001b[0m\n\u001b[0;32m     11\u001b[0m     plt\u001b[38;5;241m.\u001b[39mshow()\n\u001b[0;32m     13\u001b[0m \u001b[38;5;66;03m# Compute and plot ACF for the first time series in each set\u001b[39;00m\n\u001b[1;32m---> 14\u001b[0m plot_acf(\u001b[43mtime_series_1\u001b[49m, title\u001b[38;5;241m=\u001b[39m\u001b[38;5;124m'\u001b[39m\u001b[38;5;124mACF of Time Series 1 from Set 1\u001b[39m\u001b[38;5;124m'\u001b[39m)\n\u001b[0;32m     15\u001b[0m plot_acf(time_series_2, title\u001b[38;5;241m=\u001b[39m\u001b[38;5;124m'\u001b[39m\u001b[38;5;124mACF of Time Series 1 from Set 2\u001b[39m\u001b[38;5;124m'\u001b[39m)\n\u001b[0;32m     17\u001b[0m \u001b[38;5;66;03m# Compute and visualize ACF for all time series in both sets\u001b[39;00m\n\u001b[0;32m     18\u001b[0m \u001b[38;5;66;03m# for i in range(len(time_series_1)):\u001b[39;00m\n",
      "\u001b[1;31mNameError\u001b[0m: name 'time_series_1' is not defined"
     ]
    }
   ],
   "source": [
    "import numpy as np\n",
    "import matplotlib.pyplot as plt\n",
    "import statsmodels.api as sm\n",
    "\n",
    "\n",
    "# Function to plot ACF\n",
    "def plot_acf(time_series, lags=300, title='Autocorrelation'):\n",
    "    plt.figure(figsize=(10, 5))\n",
    "    sm.graphics.tsa.plot_acf(time_series, lags=lags, ax=plt.gca())\n",
    "    plt.title(title)\n",
    "    plt.show()\n",
    "\n",
    "# Compute and plot ACF for the first time series in each set\n",
    "plot_acf(time_series_1, title='ACF of Time Series 1 from Set 1')\n",
    "plot_acf(time_series_2, title='ACF of Time Series 1 from Set 2')\n",
    "\n",
    "# Compute and visualize ACF for all time series in both sets\n",
    "# for i in range(len(time_series_1)):"
   ]
  },
  {
   "cell_type": "code",
   "execution_count": null,
   "metadata": {},
   "outputs": [
    {
     "data": {
      "image/png": "[encoded data removed]",
      "text/plain": [
       "<Figure size 1000x600 with 1 Axes>"
      ]
     },
     "metadata": {},
     "output_type": "display_data"
    }
   ],
   "source": [
    "def cross_correlation(ts1, ts2):\n",
    "    result = np.correlate(ts1 - np.mean(ts1), ts2 - np.mean(ts2), mode='full')\n",
    "    return result / (np.std(ts1) * np.std(ts2) * len(ts1))\n",
    "\n",
    "# Get cross-correlation result\n",
    "ccf = cross_correlation(time_series_1, time_series_2)\n",
    "\n",
    "# Compute lags\n",
    "lags = np.arange(-len(time_series_1) + 1, len(time_series_1))\n",
    "\n",
    "# Plot the cross-correlation function (CCF)\n",
    "plt.figure(figsize=(10, 6))\n",
    "plt.plot(lags, ccf)\n",
    "plt.axhline(0, color='black', linewidth=1)\n",
    "plt.axvline(0, color='black', linewidth=1)\n",
    "plt.title('Cross-Correlation Function')\n",
    "plt.xlabel('Lags')\n",
    "plt.ylabel('Cross-Correlation')\n",
    "plt.show()"
   ]
  },
  {
   "cell_type": "code",
   "execution_count": 70,
   "metadata": {},
   "outputs": [
    {
     "ename": "NameError",
     "evalue": "name 'q2' is not defined",
     "output_type": "error",
     "traceback": [
      "\u001b[1;31m---------------------------------------------------------------------------\u001b[0m",
      "\u001b[1;31mNameError\u001b[0m                                 Traceback (most recent call last)",
      "Cell \u001b[1;32mIn[70], line 1\u001b[0m\n\u001b[1;32m----> 1\u001b[0m plt\u001b[38;5;241m.\u001b[39mplot(\u001b[43mq2\u001b[49m[:\u001b[38;5;241m250\u001b[39m]\u001b[38;5;241m-\u001b[39m q2_fail[:\u001b[38;5;241m250\u001b[39m])\n\u001b[0;32m      3\u001b[0m plt\u001b[38;5;241m.\u001b[39mplot(mu[:\u001b[38;5;241m250\u001b[39m]\u001b[38;5;241m-\u001b[39m mu_fail[:\u001b[38;5;241m250\u001b[39m])\n\u001b[0;32m      4\u001b[0m plt\u001b[38;5;241m.\u001b[39mplot(q1[:\u001b[38;5;241m250\u001b[39m]\u001b[38;5;241m-\u001b[39m q1_fail[:\u001b[38;5;241m250\u001b[39m])\n",
      "\u001b[1;31mNameError\u001b[0m: name 'q2' is not defined"
     ]
    }
   ],
   "source": [
    "plt.plot(q2[:250]- q2_fail[:250])\n",
    "\n",
    "plt.plot(mu[:250]- mu_fail[:250])\n",
    "plt.plot(q1[:250]- q1_fail[:250])"
   ]
  },
  {
   "cell_type": "code",
   "execution_count": 71,
   "metadata": {},
   "outputs": [
    {
     "ename": "NameError",
     "evalue": "name 'q2' is not defined",
     "output_type": "error",
     "traceback": [
      "\u001b[1;31m---------------------------------------------------------------------------\u001b[0m",
      "\u001b[1;31mNameError\u001b[0m                                 Traceback (most recent call last)",
      "Cell \u001b[1;32mIn[71], line 2\u001b[0m\n\u001b[0;32m      1\u001b[0m \u001b[38;5;66;03m# plt.plot(q2)\u001b[39;00m\n\u001b[1;32m----> 2\u001b[0m plt\u001b[38;5;241m.\u001b[39mplot(\u001b[43mq2\u001b[49m[:\u001b[38;5;241m250\u001b[39m])\n\u001b[0;32m      3\u001b[0m plt\u001b[38;5;241m.\u001b[39mplot(q2_fail[:\u001b[38;5;241m250\u001b[39m])\n\u001b[0;32m      5\u001b[0m plt\u001b[38;5;241m.\u001b[39mplot(q1[:\u001b[38;5;241m250\u001b[39m])\n",
      "\u001b[1;31mNameError\u001b[0m: name 'q2' is not defined"
     ]
    }
   ],
   "source": [
    "# plt.plot(q2)\n",
    "plt.plot(q2[:250])\n",
    "plt.plot(q2_fail[:250])\n",
    "\n",
    "plt.plot(q1[:250])\n",
    "plt.plot(q1_fail[:250])\n",
    "# plt.plot(q1)"
   ]
  },
  {
   "cell_type": "code",
   "execution_count": 72,
   "metadata": {},
   "outputs": [
    {
     "data": {
      "image/png": "[encoded data removed]",
      "text/plain": [
       "<Figure size 640x480 with 1 Axes>"
      ]
     },
     "metadata": {},
     "output_type": "display_data"
    }
   ],
   "source": [
    "dn =  300\n",
    "for f in features:\n",
    "    success_mean = success_interpol.groupby('step')[f].apply(lambda x: x.mean())\n",
    "\n",
    "    success_var =  success_interpol.groupby('step')[f].var()\n",
    "    # success_skew = stats.skew(np.stack(success_interpol.groupby('step').apply(lambda x:  x[f].map(lambda x: x).values).tolist(),axis=0),axis=1)\n",
    "    success_std = success_interpol.groupby('step')[f].apply(lambda x:x.std())\n",
    "    success_q1 = success_mean+success_std#interpolated_data_df.groupby('step')[f].quantile(0.75).map(lambda x: np.exp(1/x))\n",
    "    success_q2= success_mean-success_std#interpolated_data_df.groupby('step')[f].quantile(0.01).map(lambda x: np.exp(1/x))\n",
    "\n",
    "    \n",
    "    fail_mean = fail_interpol.groupby('step')[f].apply(lambda x: x.mean())\n",
    "    fail_var = fail_interpol.groupby('step')[f].var()\n",
    "    # fail_skew = stats.skew(np.stack(fail_interpol.groupby('step').apply(lambda x:  x[f].map(lambda x: x).values).tolist(),axis=0),axis=1)\n",
    "    \n",
    "    \n",
    "    fail_std = fail_interpol.groupby('step')[f].apply(lambda x: x.std())\n",
    "    \n",
    "    fail_q1 = fail_mean+fail_std#interpolated_data_df.groupby('step')[f].quantile(0.75).map(np.log)\n",
    "    fail_q2= fail_mean-fail_std#s\n",
    "    # plt.scatter(fail_q1, success_q1)\n",
    "    # print(np.corrcoef(fail_q1, success_q1))\n",
    "    \n",
    "    plt.title(f)\n",
    "    # plt.show()\n",
    "    plt.plot(success_mean[:dn])\n",
    "    plt.plot(fail_mean[:dn])\n",
    "    # plt.plot(fail_var)\n",
    "    # plt.plot(success_skew)\n",
    "    # # plt.plot(fail_skew)\n",
    "    plt.fill_between(np.arange(0,success_q1[:dn].shape[0]), fail_q1[:dn], fail_q2[:dn], alpha=0.8,)# color='g')\n",
    "    \n",
    "    plt.fill_between(np.arange(0,success_q1[:dn].shape[0]), success_q1[:dn], success_q2[:dn], alpha=0.4,)# color='r')\n",
    "    \n",
    "    plt.show()\n",
    "    break\n",
    "    # break"
   ]
  },
  {
   "cell_type": "code",
   "execution_count": 75,
   "metadata": {},
   "outputs": [
    {
     "data": {
      "text/plain": [
       "step\n",
       "0       8200.150083\n",
       "1       8148.909204\n",
       "2       8128.641791\n",
       "3       8086.223881\n",
       "4       8038.199005\n",
       "           ...     \n",
       "415    19129.000000\n",
       "416    16013.000000\n",
       "417    15860.000000\n",
       "418    15960.000000\n",
       "419    16949.750000\n",
       "Name: area, Length: 420, dtype: float64"
      ]
     },
     "execution_count": 75,
     "metadata": {},
     "output_type": "execute_result"
    }
   ],
   "source": [
    "success_mean"
   ]
  },
  {
   "cell_type": "code",
   "execution_count": 79,
   "metadata": {},
   "outputs": [],
   "source": [
    "mean_area = success_mean.values"
   ]
  },
  {
   "cell_type": "code",
   "execution_count": 80,
   "metadata": {},
   "outputs": [],
   "source": [
    "from scipy.optimize import curve_fit\n",
    "\n",
    "def logistic_growth(t, r, K, A0):\n",
    "    return K / (1 + ((K - A0) / A0) * np.exp(-r * t))\n",
    "\n",
    "time = np.linspace(0, 5, 420)  # 5 days, 300 time points\n",
    "A0 = mean_area[0]  # Initial area\n",
    "\n",
    "popt, _ = curve_fit(logistic_growth, time, mean_area, p0=[0.5, max(mean_area), A0])\n",
    "r_est, K_est, A0_est = popt\n"
   ]
  },
  {
   "cell_type": "code",
   "execution_count": 82,
   "metadata": {},
   "outputs": [
    {
     "data": {
      "text/plain": [
       "(420,)"
      ]
     },
     "execution_count": 82,
     "metadata": {},
     "output_type": "execute_result"
    }
   ],
   "source": [
    "logistic_growth(time, *popt).shape"
   ]
  },
  {
   "cell_type": "code",
   "execution_count": 83,
   "metadata": {},
   "outputs": [],
   "source": [
    "residuals = mean_area- logistic_growth(time, *popt)\n",
    "sigma_est = np.std(residuals) / np.mean(mean_area)\n"
   ]
  },
  {
   "cell_type": "code",
   "execution_count": 94,
   "metadata": {},
   "outputs": [
    {
     "data": {
      "image/png": "[encoded data removed]",
      "text/plain": [
       "<Figure size 1000x500 with 1 Axes>"
      ]
     },
     "metadata": {},
     "output_type": "display_data"
    }
   ],
   "source": [
    "def simulate_area_growth(r, K, sigma, A0, dt, T):\n",
    "    N = int(T / dt)\n",
    "    A = np.zeros(N)\n",
    "    A[0] = A0\n",
    "    for i in range(1, N):\n",
    "        A_prev = A[i - 1]\n",
    "        dW = np.random.normal(0, np.sqrt(dt))\n",
    "        dA = r * A_prev * (1 - A_prev / K) * dt + sigma * A_prev * dW\n",
    "        A[i] = A_prev + dA\n",
    "        # Ensure positivity\n",
    "        A[i] = max(A[i], 0)\n",
    "    return A\n",
    "\n",
    "# Parameters\n",
    "dt = 15 / (24 * 60)  # Convert 15 minutes to days\n",
    "T = 5  # Total time in days\n",
    "\n",
    "# Simulation\n",
    "A_sim = simulate_area_growth(r_est, K_est, sigma_est, A0_est, dt, T)\n",
    "\n",
    "# Plotting\n",
    "plt.figure(figsize=(10, 5))\n",
    "plt.plot(np.linspace(0, T, int(T / dt)), A_sim, label='Simulated Area')\n",
    "plt.xlabel('Time (days)')\n",
    "plt.ylabel('Area')\n",
    "plt.legend()\n",
    "plt.show()\n"
   ]
  },
  {
   "cell_type": "code",
   "execution_count": 97,
   "metadata": {},
   "outputs": [
    {
     "data": {
      "text/plain": [
       "265"
      ]
     },
     "execution_count": 97,
     "metadata": {},
     "output_type": "execute_result"
    }
   ],
   "source": [
    "\n",
    "fail_sample['id'].nunique()"
   ]
  },
  {
   "cell_type": "code",
   "execution_count": null,
   "metadata": {},
   "outputs": [],
   "source": [
    "import pandas as pd\n",
    "import numpy as np\n",
    "import matplotlib.pyplot as plt\n",
    "success_sample_early = success_sample.loc[success_sample['step']<=120]\n",
    "fail_sample_early = fail_sample.loc[fail_sample['step']<=120]\n",
    "# Simulating data\n",
    "np.random.seed(0)\n",
    "time_steps = 120+1\n",
    "series_per_class = 50\n",
    "ids = np.arange(series_per_class)\n",
    "fig, axs = plt.subplots(ncols=2,sharey=True, figsize=(15,12))\n",
    "\n",
    "# Group by time_step and id to calculate mean for each time series at each step\n",
    "stats_df = fail_sample_early.groupby(['step', 'id']).agg({\n",
    "    'inertia_tensor-1-1': ['mean', 'median', 'std']  # Add other statistics as needed\n",
    "}).reset_index()\n",
    "\n",
    "# Unstacking for easier plotting\n",
    "stats_df.columns = ['step', 'id', 'mean', 'median', 'std']\n",
    "means = stats_df.pivot(index='id', columns='step', values='mean')\n",
    "\n",
    "boxplot_data = [means[col].dropna() for col in means.columns]\n",
    "axs[0].boxplot(boxplot_data)\n",
    "plt.title('Box Plot of Means for Each Time Series at Each Time Step')\n",
    "plt.xlabel('Time Step')\n",
    "plt.ylabel('Mean Value')\n",
    "# plt.show()\n",
    "\n",
    "\n",
    "# import pandas as pd\n",
    "# import numpy as np\n",
    "# import matplotlib.pyplot as plt\n",
    "\n",
    "# # Simulating data\n",
    "# np.random.seed(0)\n",
    "# time_steps = 60\n",
    "# series_per_class = 50\n",
    "# ids = np.arange(series_per_class)\n",
    "\n",
    "\n",
    "# Group by time_step and id to calculate mean for each time series at each step\n",
    "stats_df = success_sample_early.groupby(['step', 'id']).agg({\n",
    "    'inertia_tensor-1-1': ['mean', 'median', 'std']  # Add other statistics as needed\n",
    "}).reset_index()\n",
    "\n",
    "# Unstacking for easier plotting\n",
    "stats_df.columns = ['step', 'id', 'mean', 'median', 'std']\n",
    "means = stats_df.pivot(index='id', columns='step', values='mean')\n",
    "\n",
    "# Plotting\n",
    "# plt.figure(figsize=(15, 8))\n",
    "boxplot_data = [means[col].dropna() for col in means.columns]\n",
    "axs[1].boxplot(boxplot_data)\n",
    "# plt.title('Box Plot of Means for Each Time Series at Each Time Step')\n",
    "# plt.xlabel('Time Step')\n",
    "# plt.ylabel('Mean Value')\n",
    "plt.show()\n"
   ]
  },
  {
   "cell_type": "code",
   "execution_count": null,
   "metadata": {},
   "outputs": [],
   "source": [
    "from sklearn.decomposition import PCA"
   ]
  },
  {
   "cell_type": "code",
   "execution_count": null,
   "metadata": {},
   "outputs": [],
   "source": [
    "y =targets"
   ]
  },
  {
   "cell_type": "code",
   "execution_count": null,
   "metadata": {},
   "outputs": [],
   "source": [
    "X_full = np.stack(interpolated_data.fillna(0).drop(['Fetal Heart Beat', 'y'],axis=1).groupby('id').apply(lambda x: x.drop('id',axis=1).values.flatten()).tolist())\n"
   ]
  },
  {
   "cell_type": "code",
   "execution_count": null,
   "metadata": {},
   "outputs": [],
   "source": [
    "y"
   ]
  },
  {
   "cell_type": "code",
   "execution_count": null,
   "metadata": {},
   "outputs": [],
   "source": [
    "pca_failed = PCA("
   ]
  },
  {
   "cell_type": "code",
   "execution_count": null,
   "metadata": {},
   "outputs": [],
   "source": [
    "pca_succes = succesfull_feats.fillna(0).drop(['Fetal Heart Beat'],axis=1).groupby('id').apply(lambda x: PCA(n_components=30).fit_transform(x.drop('id',axis=1)).mean(axis=0))"
   ]
  },
  {
   "cell_type": "code",
   "execution_count": null,
   "metadata": {},
   "outputs": [],
   "source": [
    "succesfull_feats"
   ]
  },
  {
   "cell_type": "code",
   "execution_count": null,
   "metadata": {},
   "outputs": [],
   "source": [
    "succesfull_feats['y'] = succesfull_feats['Fetal Heart Beat']==0"
   ]
  },
  {
   "cell_type": "code",
   "execution_count": null,
   "metadata": {},
   "outputs": [],
   "source": [
    "failed_feats['y'] = failed_feats['Fetal Heart Beat'] == 0"
   ]
  },
  {
   "cell_type": "code",
   "execution_count": null,
   "metadata": {},
   "outputs": [],
   "source": [
    "y = pd.concat([failed_feats.drop_duplicates('id')['y'] , succesfull_feats.drop_duplicates('id')['y']])"
   ]
  },
  {
   "cell_type": "code",
   "execution_count": null,
   "metadata": {},
   "outputs": [],
   "source": [
    "y"
   ]
  },
  {
   "cell_type": "code",
   "execution_count": null,
   "metadata": {},
   "outputs": [],
   "source": [
    "X = np.stack([*pca_failed.tolist(),*pca_succes.tolist()])\n"
   ]
  },
  {
   "cell_type": "code",
   "execution_count": null,
   "metadata": {},
   "outputs": [],
   "source": [
    "plt.scatter(X[:,0], X[:,9],c=y)"
   ]
  },
  {
   "cell_type": "code",
   "execution_count": null,
   "metadata": {},
   "outputs": [],
   "source": [
    "from sklearn.model_selection import train_test_split, KFold\n",
    "from sklearn.linear_model import LogisticRegression\n",
    "from sklearn.ensemble import RandomForestClassifier\n",
    "from sklearn.metrics import confusion_matrix, roc_auc_score"
   ]
  },
  {
   "cell_type": "code",
   "execution_count": null,
   "metadata": {},
   "outputs": [],
   "source": [
    "X_train.shape"
   ]
  },
  {
   "cell_type": "code",
   "execution_count": null,
   "metadata": {},
   "outputs": [],
   "source": [
    "X_train, X_test, y_train, y_test = train_test_split(X_full,y,shuffle=True, random_state=45)"
   ]
  },
  {
   "cell_type": "code",
   "execution_count": null,
   "metadata": {},
   "outputs": [],
   "source": [
    "pca = PCA(n_components=10)\n"
   ]
  },
  {
   "cell_type": "code",
   "execution_count": null,
   "metadata": {},
   "outputs": [],
   "source": [
    "X_train = pca.fit_transform(X_train)\n",
    "X_test = pca.transform(X_test)"
   ]
  },
  {
   "cell_type": "code",
   "execution_count": null,
   "metadata": {},
   "outputs": [],
   "source": [
    "clf = RandomForestClassifier()"
   ]
  },
  {
   "cell_type": "code",
   "execution_count": null,
   "metadata": {},
   "outputs": [],
   "source": [
    "clf.fit(X_train,y_train)"
   ]
  },
  {
   "cell_type": "code",
   "execution_count": null,
   "metadata": {},
   "outputs": [],
   "source": [
    "preds = clf.predict(X_test)"
   ]
  },
  {
   "cell_type": "code",
   "execution_count": null,
   "metadata": {},
   "outputs": [],
   "source": [
    "confusion_matrix(y_test,preds)"
   ]
  },
  {
   "cell_type": "code",
   "execution_count": null,
   "metadata": {},
   "outputs": [],
   "source": [
    "y = np.array(y).astype(int)"
   ]
  },
  {
   "cell_type": "code",
   "execution_count": null,
   "metadata": {},
   "outputs": [],
   "source": [
    "n_folds = KFold(5, random_state=2, shuffle=True)\n",
    "\n",
    "preds = []\n",
    "\n",
    "for train_idx, test_idx in n_folds.split(X_full, y):\n",
    "    pca = PCA(n_components=100)\n",
    "    X_train, X_test, y_train, y_test = X_full[train_idx], X_full[test_idx],y[train_idx], y[test_idx]\n",
    "    clf = RandomForestClassifier(random_state=32)\n",
    "    \n",
    "    X_train = pca.fit_transform(X_train)\n",
    "    X_test = pca.transform(X_test)\n",
    "\n",
    "    clf.fit(X_train,y_train)\n",
    "\n",
    "    preds = clf.predict(X_test)\n",
    "    probas =clf.predict_proba(X_test)[:,1]\n",
    "\n",
    "    print(roc_auc_score(y_test, probas))\n",
    "    print(confusion_matrix(y_test,preds))"
   ]
  },
  {
   "cell_type": "code",
   "execution_count": null,
   "metadata": {},
   "outputs": [],
   "source": [
    "zoe['embryo_id'] =  zoe['Slide ID']+'_'+zoe['Well'].astype(str)"
   ]
  },
  {
   "cell_type": "code",
   "execution_count": null,
   "metadata": {},
   "outputs": [],
   "source": [
    "zoe['Day3 Cells'].value_counts().sum()"
   ]
  },
  {
   "cell_type": "code",
   "execution_count": null,
   "metadata": {},
   "outputs": [],
   "source": [
    "with_grades = zoe[pd.to_numeric(zoe['Morphological Grade - Value'], errors='coerce').notnull()]"
   ]
  },
  {
   "cell_type": "code",
   "execution_count": null,
   "metadata": {},
   "outputs": [],
   "source": [
    "with_grades['Morphological Grade - Value'].value_counts()"
   ]
  },
  {
   "cell_type": "code",
   "execution_count": null,
   "metadata": {},
   "outputs": [],
   "source": [
    "df['id'].nunique()"
   ]
  },
  {
   "cell_type": "code",
   "execution_count": null,
   "metadata": {},
   "outputs": [],
   "source": []
  },
  {
   "cell_type": "code",
   "execution_count": null,
   "metadata": {},
   "outputs": [],
   "source": [
    "all_extracted.embryo_id.nunique()"
   ]
  },
  {
   "cell_type": "code",
   "execution_count": null,
   "metadata": {},
   "outputs": [],
   "source": [
    "zoe.index = zoe['embryo_id']\n"
   ]
  },
  {
   "cell_type": "code",
   "execution_count": null,
   "metadata": {},
   "outputs": [],
   "source": [
    "zoe_extracted = zoe.loc[all_extracted.embryo_id.unique()]"
   ]
  },
  {
   "cell_type": "code",
   "execution_count": null,
   "metadata": {},
   "outputs": [],
   "source": [
    "extracted_with_grades = zoe_extracted[pd.to_numeric(zoe_extracted['Morphological Grade - Value'], errors='coerce').notnull()]"
   ]
  },
  {
   "cell_type": "code",
   "execution_count": null,
   "metadata": {},
   "outputs": [],
   "source": []
  },
  {
   "cell_type": "code",
   "execution_count": null,
   "metadata": {},
   "outputs": [],
   "source": [
    "all_extracted.index = all_extracted['embryo_id']\n"
   ]
  },
  {
   "cell_type": "code",
   "execution_count": null,
   "metadata": {},
   "outputs": [],
   "source": []
  },
  {
   "cell_type": "code",
   "execution_count": null,
   "metadata": {},
   "outputs": [],
   "source": [
    "all_extracted_graded = all_extracted.loc[extracted_with_grades.index]"
   ]
  },
  {
   "cell_type": "code",
   "execution_count": null,
   "metadata": {},
   "outputs": [],
   "source": [
    "all_extracted_graded['time_hours'] = 24*all_extracted_graded.reset_index(drop=True).groupby('embryo_id').apply(lambda x: x['Time']-x['Time'].min()).values"
   ]
  },
  {
   "cell_type": "code",
   "execution_count": null,
   "metadata": {},
   "outputs": [],
   "source": [
    "data_d2 = all_extracted_graded.loc[all_extracted_graded['time_hours']<=300]"
   ]
  },
  {
   "cell_type": "code",
   "execution_count": null,
   "metadata": {},
   "outputs": [],
   "source": [
    "data_d2['time_hours']"
   ]
  },
  {
   "cell_type": "code",
   "execution_count": null,
   "metadata": {},
   "outputs": [],
   "source": [
    "y = extracted_with_grades['Morphological Grade - Value']"
   ]
  },
  {
   "cell_type": "code",
   "execution_count": null,
   "metadata": {},
   "outputs": [],
   "source": [
    "extracted_with_grades"
   ]
  },
  {
   "cell_type": "code",
   "execution_count": null,
   "metadata": {},
   "outputs": [],
   "source": [
    "\n",
    "def extract_ts_features(df, column_sort, column_id, features_to_extract):\n",
    "    if features_to_extract:\n",
    "        extracted_features = extract_features(df,\n",
    "                         column_sort=column_sort,\n",
    "                         kind_to_fc_parameters=features_to_extract,\n",
    "                         column_id=column_id)\n",
    "    else:\n",
    "        settings = EfficientFCParameters()\n",
    "        extracted_features = extract_features(df,\n",
    "                         column_sort=column_sort,\n",
    "                          default_fc_parameters=settings,\n",
    "                         column_id=column_id,n_jobs=15)\n",
    "        \n",
    "    return extracted_features"
   ]
  },
  {
   "cell_type": "code",
   "execution_count": null,
   "metadata": {},
   "outputs": [],
   "source": []
  },
  {
   "cell_type": "code",
   "execution_count": null,
   "metadata": {},
   "outputs": [],
   "source": [
    "morpho_task_keys = [\n",
    "    '36_hours_morpho',\n",
    "     '48_hours_morpho',\n",
    "     '60_hours_morpho', \n",
    "     '72_hours_morpho',\n",
    "            ]"
   ]
  },
  {
   "cell_type": "code",
   "execution_count": null,
   "metadata": {},
   "outputs": [],
   "source": [
    "features = [\n",
    "                'embryo_id', 'time_hours', 'eccentricity', 'minor_axis_length',\n",
    "                'major_axis_length', 'solidity', 'area', 'area_diff',\n",
    "                'major_axis_length_diff', 'eccentricity_diff',\n",
    "                'minor_axis_length_diff', 'solidity_diff', 'perimeter',\n",
    "                'equivalent_diameter', 'inertia_tensor-0-0',\n",
    "                'inertia_tensor-0-1', 'inertia_tensor-1-0',\n",
    "                'inertia_tensor-1-1'\n",
    "            ]"
   ]
  },
  {
   "cell_type": "code",
   "execution_count": null,
   "metadata": {},
   "outputs": [],
   "source": []
  },
  {
   "cell_type": "code",
   "execution_count": null,
   "metadata": {},
   "outputs": [],
   "source": [
    "new_df = data_d2.copy()"
   ]
  },
  {
   "cell_type": "code",
   "execution_count": null,
   "metadata": {},
   "outputs": [],
   "source": [
    "new_cols = []\n",
    "for c in features[1:]:\n",
    "    new_df = new_df[pd.to_numeric(\n",
    "        new_df[c],\n",
    "        errors='coerce').notnull()]\n",
    "    "
   ]
  },
  {
   "cell_type": "code",
   "execution_count": null,
   "metadata": {},
   "outputs": [],
   "source": [
    "new_df[features[1:]] = new_df[features[1:]].astype(float)"
   ]
  },
  {
   "cell_type": "code",
   "execution_count": null,
   "metadata": {},
   "outputs": [],
   "source": [
    "new_df = new_df.fillna(0)"
   ]
  },
  {
   "cell_type": "code",
   "execution_count": null,
   "metadata": {},
   "outputs": [],
   "source": [
    "# extracted_features_d2 = extract_ts_features(new_df[features].reset_index(drop=True),\n",
    "#                                             column_sort='time_hours',\n",
    "#                                            column_id='embryo_id'\n",
    "#                                             ,features_to_extract=None)"
   ]
  },
  {
   "cell_type": "code",
   "execution_count": null,
   "metadata": {},
   "outputs": [],
   "source": [
    "from darts.models.forecasting.tide_model import TiDEModel\n"
   ]
  },
  {
   "cell_type": "code",
   "execution_count": null,
   "metadata": {},
   "outputs": [],
   "source": [
    "long_enough_ids = new_df.index.unique()[new_df.groupby(new_df.index).time_hours.max()>100][:4000]"
   ]
  },
  {
   "cell_type": "code",
   "execution_count": null,
   "metadata": {},
   "outputs": [],
   "source": [
    "from darts import TimeSeries"
   ]
  },
  {
   "cell_type": "code",
   "execution_count": null,
   "metadata": {},
   "outputs": [],
   "source": [
    "features = ['area', 'eccentricity',\n",
    "       'equivalent_diameter', 'inertia_tensor-0-0', 'inertia_tensor-0-1',\n",
    "       'inertia_tensor-1-0', 'inertia_tensor-1-1', 'major_axis_length',\n",
    "       'minor_axis_length', 'perimeter', 'solidity', 'area_diff',\n",
    "       'eccentricity_diff', 'minor_axis_length_diff', 'major_axis_length_diff',\n",
    "       'solidity_diff', 'time_hours']"
   ]
  },
  {
   "cell_type": "code",
   "execution_count": null,
   "metadata": {},
   "outputs": [],
   "source": [
    "starting_time = pd.to_datetime('2010-01-10')"
   ]
  },
  {
   "cell_type": "code",
   "execution_count": null,
   "metadata": {},
   "outputs": [],
   "source": [
    "df__['time']+starting_time"
   ]
  },
  {
   "cell_type": "code",
   "execution_count": null,
   "metadata": {},
   "outputs": [],
   "source": [
    "all_timeseries = []\n",
    "for id_ in long_enough_ids:\n",
    "    df__=new_df.copy().loc[id_]\n",
    "    df__['time']= pd.to_timedelta(df__['time_hours'], unit='h')+starting_time\n",
    "\n",
    "    df__ = df__.set_index('time')\n",
    "    df__ = df__[features].resample('20min').mean()\n",
    "    ts = TimeSeries.from_dataframe(df__.reset_index(),\n",
    "                                  time_col='time',\n",
    "                                   # fill_missing_dates=True, \n",
    "                                   freq='20min')\n",
    "    if len(ts)<340:\n",
    "        \n",
    "        continue\n",
    "\n",
    "    if len(ts)>381:\n",
    "        continue\n",
    "    all_timeseries.append(ts)\n",
    "    "
   ]
  },
  {
   "cell_type": "code",
   "execution_count": null,
   "metadata": {},
   "outputs": [],
   "source": [
    "len(all_timeseries)"
   ]
  },
  {
   "cell_type": "code",
   "execution_count": null,
   "metadata": {},
   "outputs": [],
   "source": [
    "all_timeseries[30]['area'].plot()\n"
   ]
  },
  {
   "cell_type": "code",
   "execution_count": null,
   "metadata": {},
   "outputs": [],
   "source": []
  },
  {
   "cell_type": "code",
   "execution_count": null,
   "metadata": {},
   "outputs": [],
   "source": [
    "all_timeseries[0].resample('1min')"
   ]
  },
  {
   "cell_type": "code",
   "execution_count": null,
   "metadata": {},
   "outputs": [],
   "source": [
    "from darts.utils.missing_values import fill_missing_values"
   ]
  },
  {
   "cell_type": "code",
   "execution_count": null,
   "metadata": {},
   "outputs": [],
   "source": [
    "from darts.dataprocessing.transformers import Scaler\n",
    "\n",
    "from sklearn.preprocessing import StandardScaler, MinMaxScaler"
   ]
  },
  {
   "cell_type": "code",
   "execution_count": null,
   "metadata": {},
   "outputs": [],
   "source": [
    "all_timeseries = [fill_missing_values(t) for t in all_timeseries]"
   ]
  },
  {
   "cell_type": "code",
   "execution_count": null,
   "metadata": {},
   "outputs": [],
   "source": [
    "scaler = Scaler(StandardScaler())"
   ]
  },
  {
   "cell_type": "code",
   "execution_count": null,
   "metadata": {},
   "outputs": [],
   "source": [
    "train_len = int(0.8*len(all_timeseries))\n",
    "\n",
    "\n",
    "train_ts = scaler.fit_transform(all_timeseries[:train_len])\n",
    "\n",
    "val_ts = scaler.transform(all_timeseries[train_len:])"
   ]
  },
  {
   "cell_type": "code",
   "execution_count": null,
   "metadata": {},
   "outputs": [],
   "source": [
    "from pytorch_lightning.callbacks import EarlyStopping\n",
    "import torch"
   ]
  },
  {
   "cell_type": "code",
   "execution_count": null,
   "metadata": {},
   "outputs": [],
   "source": [
    "optimizer_kwargs = {\n",
    "        \"lr\": 3e-5,\n",
    "    }\n",
    "\n",
    "my_stopper = EarlyStopping(\n",
    "    monitor=\"val_loss\",\n",
    "    patience=5,\n",
    "    min_delta=0.0001,\n",
    "    mode='min',\n",
    "    \n",
    ")\n",
    "# pl_trainer_kwargs = {\"callbacks\": [my_stopper]}\n",
    "# \n",
    "# PyTorch Lightning Trainer arguments\n",
    "pl_trainer_kwargs = {\n",
    "    \"gradient_clip_val\": 1e3,\n",
    "    \"max_epochs\": 100,\n",
    "    \"accelerator\": \"gpu\",\n",
    "    \"devices\": [1],\n",
    "    \"callbacks\": [my_stopper],\n",
    "}\n",
    "\n",
    "# learning rate scheduler\n",
    "lr_scheduler_cls = torch.optim.lr_scheduler.CosineAnnealingLR\n",
    "lr_scheduler_kwargs = {\n",
    "    \"T_max\":30*36887\n",
    "    # \"gamma\": 0.999,\n",
    "}\n",
    "\n",
    "# early stopping (needs to be reset for each model later on)\n",
    "# this setting stops training once the the validation loss has not decreased by more than 1e-3 for 10 epochs\n",
    "early_stopping_args = {\n",
    "    \"monitor\": \"val_loss\",\n",
    "    \"patience\": 5,\n",
    "    \"min_delta\": 1e-5,\n",
    "    \"mode\": \"min\",\n",
    "} \n",
    "\n",
    "common_model_args = {\n",
    "    \"input_chunk_length\": 250,  # lookback window\n",
    "    \"output_chunk_length\": 80,  # forecast/lookahead window\n",
    "    \"optimizer_kwargs\": optimizer_kwargs,\n",
    "    \"pl_trainer_kwargs\": pl_trainer_kwargs,\n",
    "    \"lr_scheduler_cls\": lr_scheduler_cls,\n",
    "    \"lr_scheduler_kwargs\": lr_scheduler_kwargs,\n",
    "    # \"likelihood\": LaplaceLikelihood(prior_b=1),\n",
    "    \"save_checkpoints\": True,  # checkpoint to retrieve the best performing model state,\n",
    "    \"force_reset\": True,\n",
    "    \"batch_size\": 32,\n",
    "    \"random_state\": 1024,\n",
    "    \"dropout\": 0.0,\n",
    "    \"log_tensorboard\": True \n",
    "}\n",
    "\n",
    "\n",
    "from uuid import uuid4\n",
    "model_uuid = uuid4()\n",
    "\n",
    "# print(model_uuid)\n",
    "model = TiDEModel(\n",
    "    **common_model_args,\n",
    "    model_name=f\"tide_{model_uuid}\",\n",
    "    hidden_size=512,\n",
    "    decoder_output_dim=8,\n",
    "    temporal_decoder_hidden=16,\n",
    "    use_layer_norm=True,\n",
    "    n_epochs=100,\n",
    "use_reversible_instance_norm=True\n",
    "    # add_encoders=add_encoders\n",
    "        # n_epochs=10#,use_reversible_instance_norm=True\n",
    "    )\n",
    "\n",
    "\n",
    "model.fit(train_ts, val_series=val_ts)"
   ]
  },
  {
   "cell_type": "code",
   "execution_count": null,
   "metadata": {},
   "outputs": [],
   "source": [
    "val_ts[-1][:350]['area']"
   ]
  },
  {
   "cell_type": "code",
   "execution_count": null,
   "metadata": {},
   "outputs": [],
   "source": [
    "for val in val_ts:\n",
    "    model.predict(80,val[:250])[features[0]].plot()\n",
    "    val[:500][features[0]].plot()\n",
    "    plt.show()"
   ]
  },
  {
   "cell_type": "code",
   "execution_count": null,
   "metadata": {},
   "outputs": [],
   "source": [
    "model.predict(10000,val_ts[-3][:250])[features[0]].plot()\n",
    "val_ts[-3][:350][features[0]].plot()"
   ]
  },
  {
   "cell_type": "code",
   "execution_count": null,
   "metadata": {},
   "outputs": [],
   "source": [
    "model.predict(150,scaler.transform(all_timeseries[-1])[:250])['area'].plot()\n",
    "scaler.transform(all_timeseries[-1][:350])['area'].plot()"
   ]
  },
  {
   "cell_type": "code",
   "execution_count": null,
   "metadata": {},
   "outputs": [],
   "source": []
  },
  {
   "cell_type": "code",
   "execution_count": null,
   "metadata": {},
   "outputs": [],
   "source": [
    "from darts.datasets import WeatherDataset\n",
    "from darts.models import TCNModel\n",
    "series = WeatherDataset().load()\n",
    "# predicting atmospheric pressure\n",
    "target = series['p (mbar)'][:100]\n",
    "# optionally, use past observed rainfall (pretending to be unknown beyond index 100)\n",
    "past_cov = series['rain (mm)'][:100]\n",
    "# `output_chunk_length` must be strictly smaller than `input_chunk_length`\n",
    "model = TCNModel(\n",
    "    input_chunk_length=12,\n",
    "    output_chunk_length=6,\n",
    "    n_epochs=20,\n",
    ")\n",
    "model.fit(target, past_covariates=past_cov)\n",
    "pred = model.predict(6)"
   ]
  },
  {
   "cell_type": "code",
   "execution_count": null,
   "metadata": {},
   "outputs": [],
   "source": [
    "series"
   ]
  },
  {
   "cell_type": "code",
   "execution_count": null,
   "metadata": {},
   "outputs": [],
   "source": [
    "from  datetime import datetime"
   ]
  },
  {
   "cell_type": "code",
   "execution_count": null,
   "metadata": {},
   "outputs": [],
   "source": [
    "datetime.fromtimestamp(40695.637367*100*60)"
   ]
  },
  {
   "cell_type": "code",
   "execution_count": null,
   "metadata": {},
   "outputs": [],
   "source": [
    "?datetime.fromtimestamp"
   ]
  },
  {
   "cell_type": "code",
   "execution_count": null,
   "metadata": {},
   "outputs": [],
   "source": [
    "merged_r_alligned['area_diff'] = merged_r_alligned.groupby('id').area.diff().fillna(0)\n",
    "merged_r_alligned['solidity_diff'] = merged_r_alligned.groupby('id').solidity.diff().fillna(0)\n",
    "merged_r_alligned['eccentricity_diff'] = merged_r_alligned.groupby('id').eccentricity.diff().fillna(0)\n",
    "merged_r_alligned['major_axis_length_diff'] = merged_r_alligned.groupby('id').major_axis_length.diff().fillna(0)\n",
    "merged_r_alligned['minor_axis_length_diff'] = merged_r_alligned.groupby('id').minor_axis_length.diff().fillna(0)"
   ]
  },
  {
   "cell_type": "code",
   "execution_count": null,
   "metadata": {},
   "outputs": [],
   "source": [
    "merged_r_alligned[features]"
   ]
  },
  {
   "cell_type": "code",
   "execution_count": null,
   "metadata": {},
   "outputs": [],
   "source": []
  },
  {
   "cell_type": "code",
   "execution_count": null,
   "metadata": {},
   "outputs": [],
   "source": [
    "timestep_per_morpho_task = {}\n",
    "for morpho_task in morpho_task_keys:\n",
    "    step = 12\n",
    "    total_t = morpho_task.split('_')[0]\n",
    "    dts = [(i,i+step) for i in range(0,int(1*total_t), step)]\n",
    "    timestep_per_morpho_task[morpho_task] = dts\n",
    "    "
   ]
  },
  {
   "cell_type": "code",
   "execution_count": null,
   "metadata": {
    "scrolled": true
   },
   "outputs": [],
   "source": [
    "from tsfresh.feature_extraction import EfficientFCParameters, MinimalFCParameters\n",
    "settings = EfficientFCParameters()\n",
    "#settings = MinimalFCParameters()\n",
    "# Set here the options of the settings object as shown in the paragraphs below\n",
    "from tsfresh.feature_extraction import extract_features\n",
    "\n",
    "extracted_feats_per_timestep = {}\n",
    "step = 12\n",
    "total_t = 72\n",
    "all_dts = [(i,i+step) for i in range(0,int(1*total_t), step)]\n",
    "\n",
    "for dt in dts:\n",
    "    msk = (24*merged_r_alligned.Time<=dt[1])&(24*merged_r_alligned.Time>dt[0])\n",
    "    df_masked = merged_r_alligned.loc[msk][features].fillna(0)\n",
    "    extracted_features = extract_ts_features(df=df_masked,\n",
    "                        column_sort='Time',\n",
    "                        column_id='id',\n",
    "                        features_to_extract=None\n",
    "                       )\n",
    "\n",
    "    extracted_features.columns = [f\"{c}__{dt}\" for c in extracted_features.columns]\n",
    "    extracted_feats_per_timestep[f\"{dt}\"] = extracted_features"
   ]
  },
  {
   "cell_type": "code",
   "execution_count": null,
   "metadata": {},
   "outputs": [],
   "source": [
    "extracted_feats_per_task = {}\n",
    "for key, dts in timestep_per_morpho_task.items():\n",
    "    task_df = pd.concat([extracted_feats_per_timestep[f\"{dt}\"] for dt in dts], axis=1)\n",
    "    extracted_feats_per_task[key] = task_df"
   ]
  },
  {
   "cell_type": "code",
   "execution_count": null,
   "metadata": {},
   "outputs": [],
   "source": [
    "import pickle\n",
    "blasto_settings = pickle.load(open('trained_models/features_to_extract_tsfresh.pkl', 'rb'))"
   ]
  },
  {
   "cell_type": "code",
   "execution_count": null,
   "metadata": {
    "scrolled": true
   },
   "outputs": [],
   "source": [
    "extracted_features_blasto = extract_ts_features(df=merged_r_alligned[features].fillna(0),\n",
    "                        column_sort='Time',\n",
    "                        column_id='id',\n",
    "                        features_to_extract=blasto_settings\n",
    "                       )"
   ]
  },
  {
   "cell_type": "code",
   "execution_count": null,
   "metadata": {},
   "outputs": [],
   "source": [
    "blasto_target"
   ]
  },
  {
   "cell_type": "code",
   "execution_count": null,
   "metadata": {},
   "outputs": [],
   "source": [
    "y_area = blasto_target.loc[extracted_features_blasto.index]"
   ]
  },
  {
   "cell_type": "code",
   "execution_count": null,
   "metadata": {},
   "outputs": [],
   "source": [
    "merged_r_alligned"
   ]
  },
  {
   "cell_type": "code",
   "execution_count": null,
   "metadata": {},
   "outputs": [],
   "source": []
  },
  {
   "cell_type": "code",
   "execution_count": null,
   "metadata": {},
   "outputs": [],
   "source": [
    "a = pd.Series(y_area.index.map(with_grades['Fetal Heart Beat']))"
   ]
  },
  {
   "cell_type": "code",
   "execution_count": null,
   "metadata": {},
   "outputs": [],
   "source": [
    "{'Fetal Heart Beat':a, 'id' :y_area.index}"
   ]
  },
  {
   "cell_type": "code",
   "execution_count": null,
   "metadata": {},
   "outputs": [],
   "source": [
    "final_result_df = pd.DataFrame({'Fetal Heart Beat':a, 'id' :y_area.index}).dropna()"
   ]
  },
  {
   "cell_type": "code",
   "execution_count": null,
   "metadata": {},
   "outputs": [],
   "source": [
    "final_result_df['Fetal Heart Beat'].value_counts()"
   ]
  },
  {
   "cell_type": "code",
   "execution_count": null,
   "metadata": {},
   "outputs": [],
   "source": [
    "msk1 = (final_result_df['Fetal Heart Beat']!='Unknown')\n",
    "msk2 = (final_result_df['Fetal Heart Beat']!='unknown')\n",
    "final_result_df['Fetal Heart Beat'] = final_result_df['Fetal Heart Beat'].replace('Unknown', 0)\n",
    "final_result_df['Fetal Heart Beat'] = final_result_df['Fetal Heart Beat'].replace('unknown', 0)\n",
    "# final_result_df = final_result_df.loc[msk1]\n",
    "# final_result_df = final_result_df.loc[msk2]"
   ]
  },
  {
   "cell_type": "code",
   "execution_count": null,
   "metadata": {},
   "outputs": [],
   "source": [
    "msk1"
   ]
  },
  {
   "cell_type": "code",
   "execution_count": null,
   "metadata": {},
   "outputs": [],
   "source": [
    "final_result_df"
   ]
  },
  {
   "cell_type": "code",
   "execution_count": null,
   "metadata": {},
   "outputs": [],
   "source": [
    "test_ids = final_result_df.id.values"
   ]
  },
  {
   "cell_type": "code",
   "execution_count": null,
   "metadata": {},
   "outputs": [],
   "source": [
    "train_ids = [id_ for id_ in y_area.index if id_ not in test_ids]"
   ]
  },
  {
   "cell_type": "code",
   "execution_count": null,
   "metadata": {},
   "outputs": [],
   "source": [
    " merged_r_alligned.reset_index(drop=True).groupby('id')\\\n",
    "    .apply(lambda x: x.group_grade.values[0]).loc[y_area.index].value_counts()"
   ]
  },
  {
   "cell_type": "code",
   "execution_count": null,
   "metadata": {},
   "outputs": [],
   "source": [
    "y_grade = merged_r_alligned.reset_index(drop=True).groupby('id').apply(lambda x: x.group_grade.values[0])"
   ]
  },
  {
   "cell_type": "code",
   "execution_count": null,
   "metadata": {},
   "outputs": [],
   "source": [
    "y_grade_train = y_grade.loc[train_ids]\n",
    "\n",
    "y_grade_test = y_grade.loc[test_ids]\n"
   ]
  },
  {
   "cell_type": "code",
   "execution_count": null,
   "metadata": {},
   "outputs": [],
   "source": [
    "extra_bads_test = y_grade_train.loc[y_grade_train=='Bad'].sample(46)\n",
    "extra_best_train = y_grade_test.loc[y_grade_test=='Best'].sample(46)\n"
   ]
  },
  {
   "cell_type": "code",
   "execution_count": null,
   "metadata": {},
   "outputs": [],
   "source": [
    "y_grade_train = y_grade_train.drop(extra_bads_test.index)\n",
    "y_grade_train = pd.concat([y_grade_train, extra_best_train])\n",
    "\n",
    "y_grade_test = y_grade_test.drop(extra_best_train.index)\n",
    "y_grade_test = pd.concat([y_grade_test, extra_bads_test])"
   ]
  },
  {
   "cell_type": "code",
   "execution_count": null,
   "metadata": {},
   "outputs": [],
   "source": [
    "train_ids = y_grade_train.index\n",
    "test_ids = y_grade_test.index"
   ]
  },
  {
   "cell_type": "code",
   "execution_count": null,
   "metadata": {},
   "outputs": [],
   "source": [
    "from sklearn.ensemble import RandomForestClassifier, RandomForestRegressor\n",
    "from sklearn.model_selection import KFold, train_test_split\n",
    "from sklearn.metrics import roc_auc_score"
   ]
  },
  {
   "cell_type": "code",
   "execution_count": null,
   "metadata": {},
   "outputs": [],
   "source": []
  },
  {
   "cell_type": "code",
   "execution_count": null,
   "metadata": {},
   "outputs": [],
   "source": [
    "X = timesteps_features.drop('group_grade',axis=1).iloc[:,:-1].fillna(0)\n",
    "y = timesteps_features['group_grade'].fillna('Bad')=='Bad'"
   ]
  },
  {
   "cell_type": "code",
   "execution_count": null,
   "metadata": {},
   "outputs": [],
   "source": []
  },
  {
   "cell_type": "code",
   "execution_count": null,
   "metadata": {},
   "outputs": [],
   "source": [
    "X_train.shape[0], X_test.shape[0]"
   ]
  },
  {
   "cell_type": "code",
   "execution_count": null,
   "metadata": {},
   "outputs": [],
   "source": [
    "y_train.shape[0], y_test.shape[0]"
   ]
  },
  {
   "cell_type": "code",
   "execution_count": null,
   "metadata": {},
   "outputs": [],
   "source": [
    "kfolds = KFold(5)"
   ]
  },
  {
   "cell_type": "code",
   "execution_count": null,
   "metadata": {},
   "outputs": [],
   "source": [
    "import lightgbm as lgb\n",
    "from sklearn.metrics import confusion_matrix,roc_auc_score, accuracy_score\n",
    "from tqdm import tqdm"
   ]
  },
  {
   "cell_type": "code",
   "execution_count": null,
   "metadata": {},
   "outputs": [],
   "source": [
    "def train_classifier(clf, X, y):\n",
    "    kfolds = KFold(5)\n",
    "    import_feats = []\n",
    "    clfs = []\n",
    "    aucs = []\n",
    "    count = 1\n",
    "    for train, test in tqdm(kfolds.split(X_train, y_train)):\n",
    "        #clf = RandomForestClassifier(n_jobs=-1)\n",
    "        clf.fit(X_train.iloc[train].values, y_train.iloc[train])\n",
    "        pred_porba = clf.predict_proba(X_train.iloc[test].values)\n",
    "\n",
    "        clfs.append(clfs)\n",
    "        import_feats.extend(list(np.argsort(clf.feature_importances_)[-600:]))\n",
    "        auc = roc_auc_score(y_train.iloc[test], pred_porba[:,1])\n",
    "        preds = clf.predict(X_train.iloc[test].values)\n",
    "       # auc = confusion_matrix(y_train.iloc[test], preds)\n",
    "       # print(auc)\n",
    "        aucs.append(auc)\n",
    "        #count+=1\n",
    "    #print(f\"Fold {count}\")\n",
    "    print(f\"AUC: {np.mean(aucs)} +-{np.std(aucs)}\")\n",
    "       \n",
    "    return list(set(import_feats))"
   ]
  },
  {
   "cell_type": "code",
   "execution_count": null,
   "metadata": {},
   "outputs": [],
   "source": [
    "from random import shuffle\n",
    "from tqdm import tqdm\n",
    "shuffle(list(train_ids))"
   ]
  },
  {
   "cell_type": "code",
   "execution_count": null,
   "metadata": {},
   "outputs": [],
   "source": [
    "blasto_target = blasto_target.fillna(8000)\n",
    "extracted_features_blasto = extracted_features_blasto.fillna(0)"
   ]
  },
  {
   "cell_type": "code",
   "execution_count": null,
   "metadata": {},
   "outputs": [],
   "source": [
    "y_area_target = blasto_target>2000"
   ]
  },
  {
   "cell_type": "code",
   "execution_count": null,
   "metadata": {},
   "outputs": [],
   "source": [
    "blasto_target.diff().hist()"
   ]
  },
  {
   "cell_type": "code",
   "execution_count": null,
   "metadata": {},
   "outputs": [],
   "source": [
    "y_train_blasto"
   ]
  },
  {
   "cell_type": "code",
   "execution_count": null,
   "metadata": {},
   "outputs": [],
   "source": [
    "predictions_per_task = {}\n",
    "feats_per_task = {}\n",
    "for morpho_task in morpho_task_keys:\n",
    "    print(morpho_task)\n",
    "    clf = RandomForestClassifier(n_jobs=-1)\n",
    "    \n",
    "    X = extracted_feats_per_task[morpho_task].fillna(0)\n",
    "    train_ids_lst = list(train_ids)\n",
    "    shuffle(train_ids_lst)\n",
    "    \n",
    "    X_train, X_test = X.loc[train_ids_lst],  X.loc[test_ids]\n",
    "    y_train =  y_area_target.loc[train_ids_lst]#.fillna('Bad')!='Bad'\n",
    "    feats = train_classifier(clf, X_train, y_train)\n",
    "    feats_per_task[morpho_task] = feats\n",
    "    \n",
    "    clf.fit(X_train.iloc[:,feats], y_train)\n",
    "    \n",
    "    predictions_per_task[morpho_task] = clf.predict_proba(X_test.iloc[:,feats])[:,1]\n",
    "        \n",
    "\n",
    "\n",
    "X_train, X_test = extracted_features_blasto.loc[train_ids_lst],  extracted_features_blasto.loc[test_ids]\n",
    "y_train_blasto = blasto_target.loc[train_ids]\n",
    "regr = RandomForestRegressor(n_jobs=-1)\n",
    "regr.fit(X_train, y_train_blasto)\n",
    "\n",
    "predictions_per_task[\"blasto_stage\"] = regr.predict(X_test)"
   ]
  },
  {
   "cell_type": "code",
   "execution_count": null,
   "metadata": {},
   "outputs": [],
   "source": [
    "y_train.sum()"
   ]
  },
  {
   "cell_type": "code",
   "execution_count": null,
   "metadata": {},
   "outputs": [],
   "source": [
    "all_predictions = pd.DataFrame(predictions_per_task)"
   ]
  },
  {
   "cell_type": "code",
   "execution_count": null,
   "metadata": {},
   "outputs": [],
   "source": [
    "all_predictions.index = test_ids"
   ]
  },
  {
   "cell_type": "code",
   "execution_count": null,
   "metadata": {},
   "outputs": [],
   "source": [
    "final_result_df.index = final_result_df.id"
   ]
  },
  {
   "cell_type": "code",
   "execution_count": null,
   "metadata": {},
   "outputs": [],
   "source": [
    "all_predictions['blasto_stage']\n"
   ]
  },
  {
   "cell_type": "code",
   "execution_count": null,
   "metadata": {},
   "outputs": [],
   "source": [
    "from sklearn.metrics import f1_score, classification_report\n",
    "threshs = np.linspace(0,.999,1000)\n",
    "for task in all_predictions.columns:\n",
    "    f1s = []\n",
    "    for thresh in threshs:\n",
    "        f1s.append(f1_score(y_grade_test!='72_hours_morpho', all_predictions[task]>thresh))\n",
    "    \n",
    "    best_thresh = threshs[np.argmax(f1s)]\n",
    "    print(confusion_matrix(y_grade_test!='Bad', all_predictions[task]>best_thresh))\n",
    "    print(max(f1s))\n"
   ]
  },
  {
   "cell_type": "code",
   "execution_count": null,
   "metadata": {},
   "outputs": [],
   "source": [
    "mean_preds = all_predictions[morpho_task_keys].mean(axis=1)"
   ]
  },
  {
   "cell_type": "code",
   "execution_count": null,
   "metadata": {},
   "outputs": [],
   "source": [
    "plt.hist(mean_preds)"
   ]
  },
  {
   "cell_type": "code",
   "execution_count": null,
   "metadata": {},
   "outputs": [],
   "source": [
    "roc_auc_score(y_grade_test!='Bad',mean_preds)"
   ]
  },
  {
   "cell_type": "code",
   "execution_count": null,
   "metadata": {},
   "outputs": [],
   "source": [
    "f1s = []\n",
    "threshs = np.linspace(0,.7,500)\n",
    "for thresh in threshs:\n",
    "    f1s.append(f1_score(y_grade_test!='Bad', mean_preds>thresh))\n",
    "\n",
    "best_thresh = threshs[np.argmax(f1s)]\n",
    "print(confusion_matrix(y_grade_test!='Bad', mean_preds>best_thresh))"
   ]
  },
  {
   "cell_type": "code",
   "execution_count": null,
   "metadata": {},
   "outputs": [],
   "source": [
    "best_thresh"
   ]
  },
  {
   "cell_type": "code",
   "execution_count": null,
   "metadata": {},
   "outputs": [],
   "source": [
    "print(confusion_matrix(y_grade_test!='Bad', mean_preds>.7))"
   ]
  },
  {
   "cell_type": "code",
   "execution_count": null,
   "metadata": {},
   "outputs": [],
   "source": [
    "final_result_df"
   ]
  },
  {
   "cell_type": "code",
   "execution_count": null,
   "metadata": {},
   "outputs": [],
   "source": []
  },
  {
   "cell_type": "code",
   "execution_count": null,
   "metadata": {
    "scrolled": true
   },
   "outputs": [],
   "source": [
    "fetal_heart =  final_result_df.loc[all_predictions.index]['Fetal Heart Beat']"
   ]
  },
  {
   "cell_type": "code",
   "execution_count": null,
   "metadata": {},
   "outputs": [],
   "source": [
    "pred_good = fetal_heart.loc[mean_preds>.7].dropna()\n",
    "pred_bad = fetal_heart.loc[mean_preds<.7].dropna()"
   ]
  },
  {
   "cell_type": "code",
   "execution_count": null,
   "metadata": {},
   "outputs": [],
   "source": [
    "pred_good"
   ]
  },
  {
   "cell_type": "code",
   "execution_count": null,
   "metadata": {},
   "outputs": [],
   "source": [
    "104+79"
   ]
  },
  {
   "cell_type": "code",
   "execution_count": null,
   "metadata": {},
   "outputs": [],
   "source": [
    "104/183"
   ]
  },
  {
   "cell_type": "code",
   "execution_count": null,
   "metadata": {},
   "outputs": [],
   "source": [
    "(pred_bad>0).value_counts()"
   ]
  },
  {
   "cell_type": "code",
   "execution_count": null,
   "metadata": {},
   "outputs": [],
   "source": [
    "23/35"
   ]
  },
  {
   "cell_type": "code",
   "execution_count": null,
   "metadata": {},
   "outputs": [],
   "source": [
    "final_result_df_clean = y_grade_test#with_grades.loc[all_predictions.index]['Fetal Heart Beat'].dropna()"
   ]
  },
  {
   "cell_type": "code",
   "execution_count": null,
   "metadata": {},
   "outputs": [],
   "source": [
    "final_result_df_clean = final_result_df_clean.replace(2,1)\n",
    "final_result_df_clean = final_result_df_clean.replace(3,1)"
   ]
  },
  {
   "cell_type": "code",
   "execution_count": null,
   "metadata": {},
   "outputs": [],
   "source": [
    "X_final, y_final = all_predictions.loc[final_result_df_clean.index], final_result_df_clean"
   ]
  },
  {
   "cell_type": "code",
   "execution_count": null,
   "metadata": {},
   "outputs": [],
   "source": [
    "y_final = y_grade.loc[y_final.index]#!='Bad'"
   ]
  },
  {
   "cell_type": "code",
   "execution_count": null,
   "metadata": {
    "scrolled": true
   },
   "outputs": [],
   "source": [
    "X_train_final, X_test_final, y_train_final, y_test_final = train_test_split(X_final, y_final)"
   ]
  },
  {
   "cell_type": "code",
   "execution_count": null,
   "metadata": {},
   "outputs": [],
   "source": [
    "from sklearn.linear_model import LogisticRegression, BayesianRidge, SGDClassifier, Perceptron"
   ]
  },
  {
   "cell_type": "code",
   "execution_count": null,
   "metadata": {},
   "outputs": [],
   "source": [
    "from sklearn.preprocessing import StandardScaler, MinMaxScaler\n",
    "from sklearn.svm import SVC"
   ]
  },
  {
   "cell_type": "code",
   "execution_count": null,
   "metadata": {},
   "outputs": [],
   "source": [
    "clf = RandomForestClassifier()\n",
    "\n",
    "scaler = StandardScaler()\n",
    "\n",
    "clf.fit(X_train_final, y_train_final)\n",
    "probas_final = clf.predict_proba(X_test_final)"
   ]
  },
  {
   "cell_type": "code",
   "execution_count": null,
   "metadata": {
    "scrolled": true
   },
   "outputs": [],
   "source": [
    "probas_final"
   ]
  },
  {
   "cell_type": "code",
   "execution_count": null,
   "metadata": {},
   "outputs": [],
   "source": [
    "decisions = with_grades.loc[y_grade_test.index]['Decision']"
   ]
  },
  {
   "cell_type": "code",
   "execution_count": null,
   "metadata": {},
   "outputs": [],
   "source": [
    "decisions = decisions.loc[decisions!='Not decided']\n",
    "decisions = decisions.loc[decisions!='Freeze']"
   ]
  },
  {
   "cell_type": "code",
   "execution_count": null,
   "metadata": {},
   "outputs": [],
   "source": [
    "X_final['36_hours_morpho']"
   ]
  },
  {
   "cell_type": "code",
   "execution_count": null,
   "metadata": {},
   "outputs": [],
   "source": [
    "from\n",
    "accuracy_score(y_grade_test!='Bad', X_final['36_hours_morpho'])"
   ]
  },
  {
   "cell_type": "code",
   "execution_count": null,
   "metadata": {},
   "outputs": [],
   "source": [
    "roc_auc_score(y_grade_test!='Bad', X_final['48_hours_morpho'])"
   ]
  },
  {
   "cell_type": "code",
   "execution_count": null,
   "metadata": {},
   "outputs": [],
   "source": [
    "roc_auc_score(y_grade_test!='Bad', X_final['60_hours_morpho'])"
   ]
  },
  {
   "cell_type": "code",
   "execution_count": null,
   "metadata": {},
   "outputs": [],
   "source": [
    "roc_auc_score(y_grade_test!='Bad', X_final['72_hours_morpho'])"
   ]
  },
  {
   "cell_type": "code",
   "execution_count": null,
   "metadata": {},
   "outputs": [],
   "source": [
    "roc_auc_score(y_grade_test!='Bad', X_final['48_hours_morpho'])"
   ]
  },
  {
   "cell_type": "code",
   "execution_count": null,
   "metadata": {},
   "outputs": [],
   "source": [
    "preds = clf.predict_proba(X_test.values[:,final_feats])"
   ]
  },
  {
   "cell_type": "code",
   "execution_count": null,
   "metadata": {},
   "outputs": [],
   "source": [
    "print(roc_auc_score(y_test, preds[:,1]))"
   ]
  },
  {
   "cell_type": "code",
   "execution_count": null,
   "metadata": {},
   "outputs": [],
   "source": [
    "[c.split('_')[-1] for c in X_test.iloc[:,final_feats].columns]"
   ]
  },
  {
   "cell_type": "code",
   "execution_count": null,
   "metadata": {},
   "outputs": [],
   "source": [
    "import shap\n",
    "shap_values = shap.TreeExplainer(clf).shap_values(X_test.iloc[:,final_feats])\n",
    "shap.summary_plot(shap_values[0], X_test.iloc[:,final_feats])"
   ]
  },
  {
   "cell_type": "code",
   "execution_count": null,
   "metadata": {},
   "outputs": [],
   "source": [
    "for c in X_test.iloc[:,final_feats].columns:\n",
    "    print(c)\n",
    "    shap.dependence_plot(c, shap_values[0], X_test.iloc[:,final_feats])\n"
   ]
  },
  {
   "cell_type": "code",
   "execution_count": null,
   "metadata": {},
   "outputs": [],
   "source": [
    ">>> import numpy as np\n",
    ">>> from sklearn.linear_model import SGDClassifier\n",
    ">>> from sklearn.preprocessing import StandardScaler\n",
    ">>> from sklearn.pipeline import make_pipeline\n",
    ">>> X = np.array([[-1, -1], [-2, -1], [1, 1], [2, 1]])\n",
    ">>> Y = np.array([1, 1, 2, 2])\n",
    ">>> # Always scale the input. The most convenient way is to use a pipeline.\n",
    ">>> clf = SGDClassifier(max_iter=1000, tol=1e-3)\n",
    "...                     \n",
    ">>> clf.fit(X, Y)\n",
    "print(clf.predict([[-0.8, -1]]))\n"
   ]
  },
  {
   "cell_type": "code",
   "execution_count": null,
   "metadata": {},
   "outputs": [],
   "source": [
    "clf.densify()"
   ]
  },
  {
   "cell_type": "code",
   "execution_count": null,
   "metadata": {},
   "outputs": [],
   "source": [
    "all_resampled = []\n",
    "from tqdm import tqdm\n",
    "for id_ in tqdm(ids):\n",
    "    emb_dict = {}\n",
    "    t_id = id_\n",
    "    data = merged_r.loc[merged_r.id==id_]\n",
    "    print('Time steps: ', data.shape[0])\n",
    "    print('hours: ', 24*data.Time.max())\n",
    "    for i, t in enumerate(options):\n",
    "\n",
    "        temp = pd.DataFrame(columns=[t])\n",
    "        \n",
    "        temp[t] = data[t]#.rolling(5).mean()\n",
    "        index = pd.date_range('00:00:00',periods=data[t].shape[0], freq='T')\n",
    "        series = pd.Series(data[t].values, index=index)\n",
    "        if series.shape[0] <500:\n",
    "            inter = series.resample(f'{len(series)/501:.3f}T').mean()#.interpolate(method='linear')\n",
    "            \n",
    "            plt.plot(series.resample(f'{len(series)/501:.3f}T').interpolate(method='linear'))\n",
    "            plt.plot(inter.interpolate(method='linear'))\n",
    "            plt.show()\n",
    "        else:\n",
    "            try:\n",
    "                inter = series.resample(f'{len(series)/500:.3f}T').mean()\n",
    "            except:\n",
    "                print(id_)\n",
    "                print(series.shape)\n",
    "                continue\n",
    "        emb_dict[t] = inter\n",
    "    all_resampled.append(emb_dict)"
   ]
  },
  {
   "cell_type": "code",
   "execution_count": null,
   "metadata": {},
   "outputs": [],
   "source": [
    "inter = series.resample(f'.95T').mean().interpolate(method='linear')"
   ]
  },
  {
   "cell_type": "code",
   "execution_count": null,
   "metadata": {},
   "outputs": [],
   "source": [
    "print(inter.shape)"
   ]
  },
  {
   "cell_type": "code",
   "execution_count": null,
   "metadata": {},
   "outputs": [],
   "source": [
    "plt.plot(inter)"
   ]
  },
  {
   "cell_type": "code",
   "execution_count": null,
   "metadata": {},
   "outputs": [],
   "source": []
  },
  {
   "cell_type": "code",
   "execution_count": null,
   "metadata": {},
   "outputs": [],
   "source": [
    "# merged_r = df.merge(with_grades.reset_index(drop=True), left_on='id', right_on='id')"
   ]
  },
  {
   "cell_type": "code",
   "execution_count": null,
   "metadata": {},
   "outputs": [],
   "source": [
    "merged_r"
   ]
  },
  {
   "cell_type": "code",
   "execution_count": null,
   "metadata": {},
   "outputs": [],
   "source": [
    "merged_.id.nunique()"
   ]
  },
  {
   "cell_type": "code",
   "execution_count": null,
   "metadata": {},
   "outputs": [],
   "source": [
    "inlcusive_ids = [i for i in list(df.id.unique()) if i in list(with_grades['id'].values)]"
   ]
  },
  {
   "cell_type": "code",
   "execution_count": null,
   "metadata": {},
   "outputs": [],
   "source": [
    "len(inlcusive_ids)"
   ]
  },
  {
   "cell_type": "code",
   "execution_count": null,
   "metadata": {},
   "outputs": [],
   "source": [
    "with_grades.loc[inlcusive_ids]['group_grade']=='Best'\n",
    "with_grades.loc[inlcusive_ids]['group_grade']=='Medium'\n",
    "with_grades.loc[inlcusive_ids]['group_grade']=='Bad'\n",
    "with_grades.loc[inlcusive_ids]['group_grade']=='Worse'"
   ]
  },
  {
   "cell_type": "code",
   "execution_count": null,
   "metadata": {},
   "outputs": [],
   "source": [
    "from scipy import stats\n",
    "def q1(x):\n",
    "    q_low = x.quantile(0.01)\n",
    "    q_hi  = x.quantile(0.99)\n",
    "    print(x)\n",
    "    return x.loc[(x < q_hi) & (x > q_low)]"
   ]
  },
  {
   "cell_type": "code",
   "execution_count": null,
   "metadata": {},
   "outputs": [],
   "source": [
    "all_feats = [\n",
    "            'tPNf',\n",
    "            't2',\n",
    "            't3',\n",
    "            't4',\n",
    "            't5',\n",
    "            't6',\n",
    "            't2-tPNf',\n",
    "            't3-tPNf',\n",
    "            't4-tPNf',\n",
    "            't5-tPNf',\n",
    "            't3-t2',\n",
    "            't4-t2',\n",
    "            't4-t3',\n",
    "            't5-t3',\n",
    "            't5-t4',\n",
    "            't6-t2',\n",
    "            't6-t3',\n",
    "            't6-t4',\n",
    "            't6-t5',\n",
    "        ]\n"
   ]
  },
  {
   "cell_type": "code",
   "execution_count": null,
   "metadata": {},
   "outputs": [],
   "source": [
    "with_grades[['t2','t6']].info()"
   ]
  },
  {
   "cell_type": "code",
   "execution_count": null,
   "metadata": {},
   "outputs": [],
   "source": [
    "aggregated_data = pd.pivot_table(\n",
    "                with_grades, \n",
    "                values=all_feats,\n",
    "                index=['group_grade'],\n",
    "                aggfunc=[np.mean, np.std]\n",
    "              )\n",
    "\n",
    "upper = aggregated_data.columns.get_level_values(0)\n",
    "lower = aggregated_data.columns.get_level_values(1)\n",
    "aggregated_data.columns = [f\"{j}_{i}\" for i, j in zip(upper,lower)]"
   ]
  },
  {
   "cell_type": "code",
   "execution_count": null,
   "metadata": {},
   "outputs": [],
   "source": [
    "aggregated_data.columns = [f\"{j}_{i}\" for i, j in zip(upper,lower)]\n",
    "#aggregated_data.columns = [' '.join(col).strip() for col in aggregated_data.columns.values]"
   ]
  },
  {
   "cell_type": "code",
   "execution_count": null,
   "metadata": {},
   "outputs": [],
   "source": [
    " aggregated_data.reset_index().to_csv('aggregated_grades.csv')"
   ]
  },
  {
   "cell_type": "code",
   "execution_count": null,
   "metadata": {},
   "outputs": [],
   "source": [
    "import json"
   ]
  },
  {
   "cell_type": "code",
   "execution_count": null,
   "metadata": {},
   "outputs": [],
   "source": [
    "import json\n",
    "with open('aggregated_grades.json', 'w') as f:\n",
    "    json.dump(aggregated_data.to_json(), f)"
   ]
  },
  {
   "cell_type": "code",
   "execution_count": null,
   "metadata": {},
   "outputs": [],
   "source": [
    "json.parse(aggregated_data.to_json())"
   ]
  },
  {
   "cell_type": "code",
   "execution_count": null,
   "metadata": {},
   "outputs": [],
   "source": [
    "%%time\n",
    "j = pd.read_csv('aggregated_grades.csv')\n",
    "print(j.loc[j['group_grade']=='Bad','t2_mean'])"
   ]
  },
  {
   "cell_type": "code",
   "execution_count": null,
   "metadata": {},
   "outputs": [],
   "source": [
    "def load_json():\n",
    "    with open('aggregated_grades.json', 'rb') as f:\n",
    "        j = json.loads(json.load(f))\n",
    "        t = j['t2_mean']['Bad']\n",
    "\n",
    "def load_csv():\n",
    "    j = pd.read_csv('aggregated_grades.csv')\n",
    "    t = j.loc[j['group_grade']=='Bad','t2_mean']"
   ]
  },
  {
   "cell_type": "code",
   "execution_count": null,
   "metadata": {},
   "outputs": [],
   "source": [
    "%timeit load_json()"
   ]
  },
  {
   "cell_type": "code",
   "execution_count": null,
   "metadata": {},
   "outputs": [],
   "source": [
    "%timeit load_csv()"
   ]
  },
  {
   "cell_type": "code",
   "execution_count": null,
   "metadata": {},
   "outputs": [],
   "source": [
    "columns = ['id', 'tPNf', 't2', 't3', 't4', 't5', 't6', 'Dynamic Score - Time',\n",
    "          'Dynamic Score - Value' ,\n",
    "           'Morphological Grade - Time', \n",
    "           'Grade at approx. 65h - Zoe',\n",
    "          'Day3 Grade', 'Day3 Cells', \n",
    "           'Fragmentation - Time 1',\n",
    "        'Fragmentation - Value 1',\n",
    "           'Multi Nucleation - Time 1',\n",
    "        'Multi Nucleation - Value 1',\n",
    "          'Blastomere Size - Time 1',\n",
    "        'Blastomere Size - Value 1',\n",
    "           'Pronuclei - Time 1',\n",
    "          'Pronuclei - Value 1']"
   ]
  },
  {
   "cell_type": "code",
   "execution_count": null,
   "metadata": {},
   "outputs": [],
   "source": [
    "df.drop_duplicates('id', keep='first')"
   ]
  },
  {
   "cell_type": "code",
   "execution_count": null,
   "metadata": {},
   "outputs": [],
   "source": [
    "target['Morphological Grade - Value'].hist()"
   ]
  },
  {
   "cell_type": "code",
   "execution_count": null,
   "metadata": {},
   "outputs": [],
   "source": [
    "graded_embryoscope = pd.merge(target, zoe[columns].drop_duplicates('id', keep='first'), on='id', how='left')"
   ]
  },
  {
   "cell_type": "code",
   "execution_count": null,
   "metadata": {},
   "outputs": [],
   "source": [
    "whole = pd.merge(df.drop_duplicates('id', keep='first'), graded_embryoscope, on='id', how='left')"
   ]
  },
  {
   "cell_type": "code",
   "execution_count": null,
   "metadata": {},
   "outputs": [],
   "source": []
  },
  {
   "cell_type": "code",
   "execution_count": null,
   "metadata": {},
   "outputs": [],
   "source": [
    "#target = testing.groupby('id').apply(lambda x: x['Morphological Grade - Value'].iloc[0])"
   ]
  },
  {
   "cell_type": "code",
   "execution_count": null,
   "metadata": {},
   "outputs": [],
   "source": [
    "extra_feats_cols = ['id', 'Morphological Grade - Value', 'tPNf', 't2', 't3', 't4', 't5', 't6',\n",
    "       'Dynamic Score - Time', \n",
    "       'Morphological Grade - Time', \n",
    "      'Fragmentation - Time 1',\n",
    "       'Fragmentation - Value 1', 'Multi Nucleation - Time 1',\n",
    "       'Multi Nucleation - Value 1', 'Blastomere Size - Time 1',\n",
    "       'Blastomere Size - Value 1', 'Pronuclei - Time 1',\n",
    "       'Pronuclei - Value 1']"
   ]
  },
  {
   "cell_type": "code",
   "execution_count": null,
   "metadata": {},
   "outputs": [],
   "source": [
    "extra_feats = whole[extra_feats_cols].fillna(value=whole[extra_feats_cols].mean())"
   ]
  },
  {
   "cell_type": "code",
   "execution_count": null,
   "metadata": {},
   "outputs": [],
   "source": [
    "extra_feats['diff_65'] = extra_feats['t6'] - extra_feats['t5']\n",
    "extra_feats['diff_64'] = extra_feats['t6'] - extra_feats['t4']\n",
    "extra_feats['diff_63'] = extra_feats['t6'] - extra_feats['t3']\n",
    "extra_feats['diff_62'] = extra_feats['t6'] - extra_feats['t2']\n",
    "extra_feats['diff_61'] = extra_feats['t6'] - extra_feats['tPNf']\n",
    "\n",
    "extra_feats['diff_54'] = extra_feats['t5'] - extra_feats['t4']\n",
    "extra_feats['diff_53'] = extra_feats['t5'] - extra_feats['t3']\n",
    "extra_feats['diff_52'] = extra_feats['t5'] - extra_feats['t2']\n",
    "extra_feats['diff_51'] = extra_feats['t5'] - extra_feats['tPNf']\n",
    "\n",
    "\n",
    "extra_feats['diff_43'] = extra_feats['t4'] - extra_feats['t3']\n",
    "extra_feats['diff_42'] = extra_feats['t4'] - extra_feats['t2']\n",
    "extra_feats['diff_41'] = extra_feats['t4'] - extra_feats['tPNf']\n",
    "\n",
    "extra_feats['diff_32'] = extra_feats['t3'] - extra_feats['t2']\n",
    "extra_feats['diff_31'] = extra_feats['t3'] - extra_feats['tPNf']\n",
    "\n",
    "extra_feats['diff_21'] = extra_feats['t2'] - extra_feats['tPNf']\n"
   ]
  },
  {
   "cell_type": "code",
   "execution_count": null,
   "metadata": {},
   "outputs": [],
   "source": [
    "#df_pixel = pd.read_csv('pixel_features.csv')"
   ]
  },
  {
   "cell_type": "code",
   "execution_count": null,
   "metadata": {},
   "outputs": [],
   "source": [
    "#df_pixel.shape"
   ]
  },
  {
   "cell_type": "code",
   "execution_count": null,
   "metadata": {},
   "outputs": [],
   "source": [
    "#df = pd.merge(df, df_pixel,'inner', on=['id','t'])"
   ]
  },
  {
   "cell_type": "code",
   "execution_count": null,
   "metadata": {},
   "outputs": [],
   "source": [
    "%matplotlib inline\n",
    "for col in df.columns:\n",
    "    try:\n",
    "        plt.hist(df[col], bins=200)\n",
    "        plt.title(col)\n",
    "        plt.show()\n",
    "    except:\n",
    "        pass"
   ]
  },
  {
   "cell_type": "code",
   "execution_count": null,
   "metadata": {},
   "outputs": [],
   "source": []
  },
  {
   "cell_type": "code",
   "execution_count": null,
   "metadata": {},
   "outputs": [],
   "source": [
    "timesteps = pd.read_csv('../files/grade_timesteps.csv')"
   ]
  },
  {
   "cell_type": "code",
   "execution_count": null,
   "metadata": {},
   "outputs": [],
   "source": [
    "df.info()"
   ]
  },
  {
   "cell_type": "code",
   "execution_count": null,
   "metadata": {},
   "outputs": [],
   "source": [
    "timesteps"
   ]
  },
  {
   "cell_type": "code",
   "execution_count": null,
   "metadata": {},
   "outputs": [],
   "source": [
    "target['Morphological Grade - Value'].value_counts().sum()"
   ]
  },
  {
   "cell_type": "code",
   "execution_count": null,
   "metadata": {},
   "outputs": [],
   "source": [
    "import gc\n",
    "gc.collect()"
   ]
  },
  {
   "cell_type": "code",
   "execution_count": null,
   "metadata": {},
   "outputs": [],
   "source": [
    "dts = timesteps.groupby('id').apply(lambda x: x.dt.diff().mean())"
   ]
  },
  {
   "cell_type": "code",
   "execution_count": null,
   "metadata": {},
   "outputs": [],
   "source": [
    "dts.hist()"
   ]
  },
  {
   "cell_type": "code",
   "execution_count": null,
   "metadata": {},
   "outputs": [],
   "source": [
    "timesteps.index = timesteps.id"
   ]
  },
  {
   "cell_type": "code",
   "execution_count": null,
   "metadata": {},
   "outputs": [],
   "source": [
    "time"
   ]
  },
  {
   "cell_type": "code",
   "execution_count": null,
   "metadata": {},
   "outputs": [],
   "source": [
    "df = df.reset_index(drop=True)\n",
    "df['DT'] = df.id.map(dts)"
   ]
  },
  {
   "cell_type": "code",
   "execution_count": null,
   "metadata": {},
   "outputs": [],
   "source": [
    "df['Time'] = df.groupby('id').DT.cumsum()"
   ]
  },
  {
   "cell_type": "code",
   "execution_count": null,
   "metadata": {},
   "outputs": [],
   "source": [
    "#test['Time'] = test.groupby('id').apply(lambda x: x['0'].cumsum()).reset_index(drop=True)"
   ]
  },
  {
   "cell_type": "code",
   "execution_count": null,
   "metadata": {},
   "outputs": [],
   "source": [
    "%matplotlib inline\n",
    "df.groupby('id').apply(lambda x: x['Time'].max()).reset_index(drop=True)"
   ]
  },
  {
   "cell_type": "code",
   "execution_count": null,
   "metadata": {},
   "outputs": [],
   "source": [
    "import gc\n",
    "gc.collect()"
   ]
  },
  {
   "cell_type": "code",
   "execution_count": null,
   "metadata": {},
   "outputs": [],
   "source": [
    "zoe.index = zoe.id"
   ]
  },
  {
   "cell_type": "code",
   "execution_count": null,
   "metadata": {},
   "outputs": [],
   "source": [
    "all_feats = [\n",
    "            'tPNf',\n",
    "            't2',\n",
    "            't3',\n",
    "            't4',\n",
    "            't5',\n",
    "            't6',\n",
    "            't2-tPNf',\n",
    "            't3-tPNf',\n",
    "            't4-tPNf',\n",
    "            't5-tPNf',\n",
    "            't3-t2',\n",
    "            't4-t2',\n",
    "            't4-t3',\n",
    "            't5-t3',\n",
    "            't5-t4',\n",
    "            't6-t2',\n",
    "            't6-t3',\n",
    "            't6-t4',\n",
    "            't6-t5',\n",
    "        ]"
   ]
  },
  {
   "cell_type": "code",
   "execution_count": null,
   "metadata": {},
   "outputs": [],
   "source": [
    "find_outcomes = zoe.loc[df.id.unique()]"
   ]
  },
  {
   "cell_type": "code",
   "execution_count": null,
   "metadata": {},
   "outputs": [],
   "source": [
    "find_outcomes['Gestational Sacs']."
   ]
  },
  {
   "cell_type": "code",
   "execution_count": null,
   "metadata": {},
   "outputs": [],
   "source": [
    "succesful =  find_outcomes.loc[find_outcomes['Fetal Heart Beat']==1]\n",
    "unsuccesful =  find_outcomes.loc[find_outcomes['Fetal Heart Beat']==0]"
   ]
  },
  {
   "cell_type": "code",
   "execution_count": null,
   "metadata": {},
   "outputs": [],
   "source": [
    "pd.concat([succesful, unsuccesful])[['Well', 'Slide ID', 'Fetal Heart Beat', 'Morphological Grade - Value']]"
   ]
  },
  {
   "cell_type": "code",
   "execution_count": null,
   "metadata": {},
   "outputs": [],
   "source": [
    "find_outcomes"
   ]
  },
  {
   "cell_type": "code",
   "execution_count": null,
   "metadata": {},
   "outputs": [],
   "source": [
    "zoe"
   ]
  },
  {
   "cell_type": "code",
   "execution_count": null,
   "metadata": {},
   "outputs": [],
   "source": [
    "df['id'] = LabelEncoder().fit_transform(df['id'])"
   ]
  },
  {
   "cell_type": "code",
   "execution_count": null,
   "metadata": {},
   "outputs": [],
   "source": [
    "df = df.fillna(value=df.mean())\n"
   ]
  },
  {
   "cell_type": "code",
   "execution_count": null,
   "metadata": {},
   "outputs": [],
   "source": [
    "df = df.dropna(axis=1)"
   ]
  },
  {
   "cell_type": "code",
   "execution_count": null,
   "metadata": {},
   "outputs": [],
   "source": [
    "#df = df.groupby('id').apply(lambda x: x.iloc[:300]).reset_index(drop=True)"
   ]
  },
  {
   "cell_type": "code",
   "execution_count": null,
   "metadata": {},
   "outputs": [],
   "source": [
    "df.groupby('id')"
   ]
  },
  {
   "cell_type": "code",
   "execution_count": null,
   "metadata": {},
   "outputs": [],
   "source": [
    "def drop_empty(x):\n",
    "    area = x.area.values\n",
    "    if area.min()>3000:\n",
    "        return x\n",
    "    \n",
    "def get_small_t(x):\n",
    "    if x.Time.iloc[-1]>3:\n",
    "        return x\n",
    "\n",
    "def drop_no_fert(x):\n",
    "    if x.area.values[-1]>5500:\n",
    "        return x\n",
    "\n",
    "def drop_early(x):\n",
    "    if x.Time.max()>4.65:\n",
    "        return x"
   ]
  },
  {
   "cell_type": "code",
   "execution_count": null,
   "metadata": {},
   "outputs": [],
   "source": [
    "test = df.groupby('id').apply(get_small_t).reset_index(drop=True)\n",
    "clean = test.groupby('id').apply(drop_empty).reset_index(drop=True)\n",
    "#clean = clean.groupby('id').apply(drop_no_fert).reset_index(drop=True)\n",
    "clean = clean.groupby('id').apply(drop_early).reset_index(drop=True)\n",
    "target_area = clean.groupby('id').apply(lambda x: x.loc[x.Time>4.65].area.iloc[0])\n",
    "#target_means = clean.groupby('id').apply(lambda x: x.loc[x.Time>4.65].means.iloc[0])\n"
   ]
  },
  {
   "cell_type": "code",
   "execution_count": null,
   "metadata": {},
   "outputs": [],
   "source": [
    "for c in clean.columns[1:-4]:\n",
    "    print(c, clean[c].var())\n",
    "    plt.hist(clean[c],bins=100)\n",
    "    \n",
    "    plt.show()"
   ]
  },
  {
   "cell_type": "code",
   "execution_count": null,
   "metadata": {},
   "outputs": [],
   "source": [
    "clean.columns[1:-4]"
   ]
  },
  {
   "cell_type": "code",
   "execution_count": null,
   "metadata": {},
   "outputs": [],
   "source": [
    "features_list = ['area', 'eccentricity', 'equivalent_diameter', 'inertia_tensor-0-0',\n",
    "       'inertia_tensor-0-1', 'inertia_tensor-1-0', 'inertia_tensor-1-1',\n",
    "       'major_axis_length', 'minor_axis_length',  'perimeter',\n",
    "       'solidity', 'Time',]"
   ]
  },
  {
   "cell_type": "code",
   "execution_count": null,
   "metadata": {},
   "outputs": [],
   "source": [
    "def resample_(x):\n",
    "    period = '30min'\n",
    "    new_df = pd.DataFrame()\n",
    "    \n",
    "    for c in x.columns:\n",
    "        if c!='id':\n",
    "            ts = x.loc[x['Time']<=6][c]\n",
    "\n",
    "            ts.index = pd.DatetimeIndex(x.loc[x['Time']<=6]['Time']*8.64e+13)\n",
    "            ts = ts.resample('30min').mean()\n",
    "            new_df[c] = ts\n",
    "        else:\n",
    "            continue\n",
    "    return new_df\n",
    "\n",
    "\n",
    "resampled_df = clean[['id']+features_list].groupby('id').apply(resample_)\n",
    "\n",
    "resampled_df['Time_1'] = resampled_df['Time']\n",
    "del resampled_df['Time']\n",
    "\n",
    "resampled_df = resampled_df.reset_index()\n",
    "resampled_df['Time_1'] = resampled_df['Time_1']-0.01043\n",
    "\n"
   ]
  },
  {
   "cell_type": "code",
   "execution_count": null,
   "metadata": {},
   "outputs": [],
   "source": [
    "#%debug"
   ]
  },
  {
   "cell_type": "code",
   "execution_count": null,
   "metadata": {},
   "outputs": [],
   "source": [
    "count = 0\n",
    "%matplotlib inline\n",
    "count_big = 0\n",
    "count_small = 0 \n",
    "for g, val in resampled_df.groupby('id'):\n",
    "   # if val.area.values[-1]>5500:\n",
    "    filt = (val['Time_1']<=3.5)&(val['Time_1']>=1)\n",
    "    ts = val.loc[filt]['area']\n",
    "    ts.index = pd.DatetimeIndex(val.loc[filt]['Time_1']*8.64e+13)\n",
    "    \n",
    "    if ts.max()>12000:\n",
    "        \n",
    "        plt.plot(ts,marker='+', linewidth=1)\n",
    "        #plt.show()\n",
    "        count_big+=1\n",
    "    else:\n",
    "        \n",
    "        plt.plot(ts,marker='*', linewidth=1)\n",
    "        \n",
    "        count_small+=1\n",
    "    \n",
    "    if (count_small>10)&(count_big>10):\n",
    "        continue\n",
    "plt.show()"
   ]
  },
  {
   "cell_type": "code",
   "execution_count": null,
   "metadata": {},
   "outputs": [],
   "source": [
    "\n",
    "X_ = resampled_df.groupby('id').apply(lambda x: x.loc[x.Time_1<4]).reset_index(drop=True)\n"
   ]
  },
  {
   "cell_type": "code",
   "execution_count": null,
   "metadata": {},
   "outputs": [],
   "source": [
    "area_35 = X_.groupby('id').apply(lambda x: x.area.iloc[-1])"
   ]
  },
  {
   "cell_type": "code",
   "execution_count": null,
   "metadata": {},
   "outputs": [],
   "source": [
    "#resampled_df.to_csv('resampled_data_30_min.csv', index=False)"
   ]
  },
  {
   "cell_type": "code",
   "execution_count": null,
   "metadata": {
    "scrolled": true
   },
   "outputs": [],
   "source": [
    "%matplotlib inline\n",
    "for idx, g in resampled_df.groupby('id'):\n",
    "    #print(g['Weeks'].shape[0])\n",
    "    plt.plot(g['Time'], g['area'])"
   ]
  },
  {
   "cell_type": "code",
   "execution_count": null,
   "metadata": {},
   "outputs": [],
   "source": [
    "%matplotlib inline\n",
    "diff.hist(bins=100)"
   ]
  },
  {
   "cell_type": "code",
   "execution_count": null,
   "metadata": {},
   "outputs": [],
   "source": [
    "target_area.hist(bins=100)"
   ]
  },
  {
   "cell_type": "code",
   "execution_count": null,
   "metadata": {},
   "outputs": [],
   "source": [
    "target_area = resampled_df.groupby('id').apply(lambda x: x.loc[x.Time_1>4.5].area.mean())\n",
    "diff = target_area - area_35"
   ]
  },
  {
   "cell_type": "code",
   "execution_count": null,
   "metadata": {},
   "outputs": [],
   "source": [
    "resampled_df.id.nunique()"
   ]
  },
  {
   "cell_type": "code",
   "execution_count": null,
   "metadata": {},
   "outputs": [],
   "source": [
    "%matplotlib inline\n",
    "target_area.hist(bins=100)"
   ]
  },
  {
   "cell_type": "code",
   "execution_count": null,
   "metadata": {},
   "outputs": [],
   "source": [
    "%matplotlib inline\n",
    "target_area.hist(bins=100)"
   ]
  },
  {
   "cell_type": "code",
   "execution_count": null,
   "metadata": {},
   "outputs": [],
   "source": [
    "diff = target_area- clean.groupby('id').apply(lambda x: x.iloc[0].area)"
   ]
  },
  {
   "cell_type": "code",
   "execution_count": null,
   "metadata": {},
   "outputs": [],
   "source": [
    "X_"
   ]
  },
  {
   "cell_type": "code",
   "execution_count": null,
   "metadata": {},
   "outputs": [],
   "source": [
    "features_list"
   ]
  },
  {
   "cell_type": "code",
   "execution_count": null,
   "metadata": {},
   "outputs": [],
   "source": [
    "X_['area_diff'] = X_.groupby('id').area.diff()\n",
    "X_['solidity_diff'] = X_.groupby('id').solidity.diff()\n",
    "X_['eccentricity_diff'] = X_.groupby('id').eccentricity.diff()\n",
    "X_['equivalent_diameter_diff'] = X_.groupby('id').equivalent_diameter.diff()\n",
    "X_['major_axis_length_diff'] = X_.groupby('id').major_axis_length.diff()\n",
    "X_['minor_axis_length_diff'] = X_.groupby('id').minor_axis_length.diff()\n",
    "X_['inertia_tensor-0-1_diff'] = X_.groupby('id')['inertia_tensor-0-1'].diff()\n",
    "X_['inertia_tensor-0-0_diff'] = X_.groupby('id')['inertia_tensor-0-0'].diff()\n",
    "X_['inertia_tensor-1-0_diff'] = X_.groupby('id')['inertia_tensor-1-0'].diff()\n",
    "X_['inertia_tensor-1-1_diff'] = X_.groupby('id')['inertia_tensor-1-1'].diff()\n",
    "\n",
    "X_ = X_.fillna(0)"
   ]
  },
  {
   "cell_type": "code",
   "execution_count": null,
   "metadata": {},
   "outputs": [],
   "source": [
    "X_.id.nunique()"
   ]
  },
  {
   "cell_type": "code",
   "execution_count": null,
   "metadata": {},
   "outputs": [],
   "source": [
    "features_list = ['eccentricity','minor_axis_length', 'major_axis_length',\n",
    "                 'area','area_diff', 'solidity_diff',\n",
    "       'eccentricity_diff', 'equivalent_diameter_diff',\n",
    "       'major_axis_length_diff', 'minor_axis_length_diff',\n",
    "       'inertia_tensor-0-1_diff', 'inertia_tensor-0-0_diff',\n",
    "       'inertia_tensor-1-0_diff', 'inertia_tensor-1-1_diff', 'Time_1',]\n",
    "'''\n",
    "'means', 'std',\n",
    "'equivalent_diameter', 'inertia_tensor-0-0',\n",
    "                'inertia_tensor-1-1', 'perimeter', 'convex_area', 'moments_normalized-0-2', \n",
    "                 'moments_normalized-1-1', 'moments_normalized-2-0']\n",
    "                 \n",
    "\n",
    "       , , 'inertia_tensor-0-1',\n",
    "       'inertia_tensor-1-0', , 'major_axis_length',\n",
    "       'minor_axis_length', 'moments-0-0', 'moments-0-1', 'moments-0-2',\n",
    "       'moments-0-3', 'moments-1-0', 'moments-1-1', 'moments-1-2',\n",
    "       'moments-1-3', 'moments-2-0', 'moments-2-1', 'moments-2-2',\n",
    "       'moments-2-3', 'moments-3-0', 'moments-3-1', 'moments-3-2',\n",
    "       'moments-3-3', 'orientation',\n",
    "       , , 'solidity', 'id']'''"
   ]
  },
  {
   "cell_type": "code",
   "execution_count": null,
   "metadata": {},
   "outputs": [],
   "source": [
    "from sklearn.preprocessing import MinMaxScaler\n",
    "scaler = MinMaxScaler()"
   ]
  },
  {
   "cell_type": "code",
   "execution_count": null,
   "metadata": {},
   "outputs": [],
   "source": [
    "X_[features_list] = scaler.fit_transform(X_[features_list])"
   ]
  },
  {
   "cell_type": "code",
   "execution_count": null,
   "metadata": {},
   "outputs": [],
   "source": [
    "X_[features_list]"
   ]
  },
  {
   "cell_type": "code",
   "execution_count": null,
   "metadata": {},
   "outputs": [],
   "source": [
    "from tsfresh.feature_extraction import EfficientFCParameters, MinimalFCParameters\n",
    "settings = EfficientFCParameters()\n",
    "# Set here the options of the settings object as shown in the paragraphs below\n",
    "from tsfresh.feature_extraction import extract_features\n",
    "extracted_feats = extract_features(X_[['id']+features_list].dropna(),column_sort='Time_1',\n",
    "                                   default_fc_parameters=settings, column_id='id')"
   ]
  },
  {
   "cell_type": "code",
   "execution_count": null,
   "metadata": {},
   "outputs": [],
   "source": [
    "from tsfresh.feature_extraction import EfficientFCParameters, MinimalFCParameters\n",
    "settings = MinimalFCParameters()\n",
    "# Set here the options of the settings object as shown in the paragraphs below\n",
    "from tsfresh.feature_extraction import extract_features\n",
    "extracted_feats_lean = extract_features(X_[['id']+features_list].dropna(), default_fc_parameters=settings, column_id='id')"
   ]
  },
  {
   "cell_type": "code",
   "execution_count": null,
   "metadata": {},
   "outputs": [],
   "source": [
    "from sklearn.decomposition import PCA\n"
   ]
  },
  {
   "cell_type": "code",
   "execution_count": null,
   "metadata": {},
   "outputs": [],
   "source": [
    "extracted_feats.dropna(axis=1)"
   ]
  },
  {
   "cell_type": "code",
   "execution_count": null,
   "metadata": {},
   "outputs": [],
   "source": [
    "pca = PCA(n_components=500)"
   ]
  },
  {
   "cell_type": "code",
   "execution_count": null,
   "metadata": {},
   "outputs": [],
   "source": [
    "from sklearn.preprocessing import MinMaxScaler\n",
    "scaler = MinMaxScaler()\n",
    "extracted_feats_scaled = scaler.fit_transform(extracted_feats.dropna(axis=1))"
   ]
  },
  {
   "cell_type": "code",
   "execution_count": null,
   "metadata": {},
   "outputs": [],
   "source": [
    "extracted_feats_pca = pca.fit_transform(extracted_feats_scaled)"
   ]
  },
  {
   "cell_type": "code",
   "execution_count": null,
   "metadata": {},
   "outputs": [],
   "source": [
    "extracted_feats_pca_df = pd.DataFrame(extracted_feats)"
   ]
  },
  {
   "cell_type": "code",
   "execution_count": null,
   "metadata": {},
   "outputs": [],
   "source": [
    "extracted_feats_pca_df.index = extracted_feats.index"
   ]
  },
  {
   "cell_type": "code",
   "execution_count": null,
   "metadata": {},
   "outputs": [],
   "source": [
    "extracted_feats_pca_df = extracted_feats.reset_index()"
   ]
  },
  {
   "cell_type": "code",
   "execution_count": null,
   "metadata": {},
   "outputs": [],
   "source": [
    "whole = pd.merge(extracted_feats_pca_df, extra_feats, on='id')"
   ]
  },
  {
   "cell_type": "code",
   "execution_count": null,
   "metadata": {},
   "outputs": [],
   "source": [
    "lbl_enc = LabelEncoder()"
   ]
  },
  {
   "cell_type": "code",
   "execution_count": null,
   "metadata": {},
   "outputs": [],
   "source": [
    "whole['id'] = lbl_enc.fit_transform(whole['id'].values[:,None])"
   ]
  },
  {
   "cell_type": "code",
   "execution_count": null,
   "metadata": {},
   "outputs": [],
   "source": [
    "whole"
   ]
  },
  {
   "cell_type": "code",
   "execution_count": null,
   "metadata": {},
   "outputs": [],
   "source": [
    "target_area"
   ]
  },
  {
   "cell_type": "code",
   "execution_count": null,
   "metadata": {},
   "outputs": [],
   "source": [
    "X = extracted_feats\n",
    "y = target_area\n",
    "#del X[0], X['id']"
   ]
  },
  {
   "cell_type": "code",
   "execution_count": null,
   "metadata": {},
   "outputs": [],
   "source": [
    "\n",
    "y = diff"
   ]
  },
  {
   "cell_type": "code",
   "execution_count": null,
   "metadata": {},
   "outputs": [],
   "source": [
    "import warnings\n",
    "warnings.filterwarnings(\"ignore\")"
   ]
  },
  {
   "cell_type": "code",
   "execution_count": null,
   "metadata": {},
   "outputs": [],
   "source": [
    "hyper_params = {\n",
    "    'task': 'train',\n",
    "    'boosting_type': 'gbdt',\n",
    "    'objective': 'regression',\n",
    "    'metric': ['rmse'],\n",
    "\n",
    "    \"num_leaves\": 60,  \n",
    "\n",
    "    \"n_estimators\": 200,\n",
    "    \"verbose\":-1\n",
    "}"
   ]
  },
  {
   "cell_type": "code",
   "execution_count": null,
   "metadata": {},
   "outputs": [],
   "source": [
    "y = y.astype(float)"
   ]
  },
  {
   "cell_type": "code",
   "execution_count": null,
   "metadata": {},
   "outputs": [],
   "source": [
    "X.head()"
   ]
  },
  {
   "cell_type": "code",
   "execution_count": null,
   "metadata": {},
   "outputs": [],
   "source": [
    "means = X.mean()<-1000"
   ]
  },
  {
   "cell_type": "code",
   "execution_count": null,
   "metadata": {},
   "outputs": [],
   "source": [
    "X['Morphological Grade - Value'].value_counts()"
   ]
  },
  {
   "cell_type": "code",
   "execution_count": null,
   "metadata": {},
   "outputs": [],
   "source": [
    "X['Morphological Grade - Value'] = X['Morphological Grade - Value'].replace('ARREST', 4)\n",
    "X['Morphological Grade - Value'] = X['Morphological Grade - Value'].replace('2,5', 2.5)\n",
    "X['Morphological Grade - Value'] = X['Morphological Grade - Value'].replace('4CC', 3)\n",
    "X['Morphological Grade - Value'] = X['Morphological Grade - Value'].replace('ARREST', 4)\n",
    "X['Morphological Grade - Value'] = X['Morphological Grade - Value'].replace('2,5', 2.5)\n",
    "X['Morphological Grade - Value'] = X['Morphological Grade - Value'].replace('3,5', 3.5)\n",
    "X['Morphological Grade - Value'] = X['Morphological Grade - Value'].replace('4AA', 1)\n",
    "X['Morphological Grade - Value'] = X['Morphological Grade - Value'].replace('EX1', 4)\n",
    "X['Morphological Grade - Value'] = X['Morphological Grade - Value'].replace('1,5', 1.5)\n",
    "X['Morphological Grade - Value'] = X['Morphological Grade - Value'].replace('8', 4)\n",
    "X['Morphological Grade - Value'] = X['Morphological Grade - Value'].replace('1.2', 1)\n",
    "X['Morphological Grade - Value'] = X['Morphological Grade - Value'].replace(5, 4)"
   ]
  },
  {
   "cell_type": "code",
   "execution_count": null,
   "metadata": {},
   "outputs": [],
   "source": [
    "X['Morphological Grade - Value'] = X['Morphological Grade - Value'].astype(float)"
   ]
  },
  {
   "cell_type": "code",
   "execution_count": null,
   "metadata": {},
   "outputs": [],
   "source": [
    "[c for c in X.columns if c not in list(means.index)]"
   ]
  },
  {
   "cell_type": "code",
   "execution_count": null,
   "metadata": {},
   "outputs": [],
   "source": [
    "X"
   ]
  },
  {
   "cell_type": "code",
   "execution_count": null,
   "metadata": {},
   "outputs": [],
   "source": [
    "y_capped[y>18000] = 18000"
   ]
  },
  {
   "cell_type": "code",
   "execution_count": null,
   "metadata": {},
   "outputs": [],
   "source": [
    "params = {'verbose': 100, 'metric': ['rmse'],'objective': 'regression', 'num_rounds':1000 ,\n",
    "    }"
   ]
  },
  {
   "cell_type": "code",
   "execution_count": null,
   "metadata": {},
   "outputs": [],
   "source": [
    " %matplotlib inline\n",
    "import seaborn as sns\n",
    "from sklearn.model_selection import train_test_split, KFold, GroupKFold\n",
    "from sklearn.svm import SVC, SVR\n",
    "from sklearn.ensemble import RandomForestRegressor, RandomForestClassifier\n",
    "from sklearn.metrics import mean_absolute_error, mean_squared_error, r2_score, roc_auc_score, confusion_matrix\n",
    "from sklearn.metrics import classification_report\n",
    "from lightgbm import LGBMRegressor, LGBMClassifier, plot_importance\n",
    "from xgboost import XGBRegressor\n",
    "import lightgbm as lgb\n",
    "\n",
    "Nfolds = 5\n",
    "kfold = KFold(Nfolds)\n",
    "avg_mae = 0\n",
    "avg_rmse = 0\n",
    "variance_preds = 0\n",
    "variance_test = 0\n",
    "avg_R2 = 0\n",
    "avg_auc = 0 \n",
    "#top_feats = np.arange(0,X_droped.shape[1])\n",
    "for train_idx, valid_idx in kfold.split(X, y):\n",
    "    X_train, X_test = X.iloc[train_idx,top_feats].values, X.iloc[valid_idx,top_feats].values\n",
    "\n",
    "    y_train, y_test = y.astype(float).iloc[train_idx], y.astype(float).iloc[valid_idx]\n",
    "    \n",
    "    lgb_train = lgb.Dataset(X_train, y_train, params={'verbose': -1}, free_raw_data=False)\n",
    "    lgb_eval = lgb.Dataset(X_test, y_test, params={'verbose': -1},free_raw_data=False)\n",
    "    regr = lgb.train(params, \n",
    "                     lgb_train, \n",
    "                     valid_sets=lgb_eval, \n",
    "                     verbose_eval=50,\n",
    "                    early_stopping_rounds=50)\n",
    "    #regr = LGBMRegressor(params={'verbose': 1})\n",
    "    #regr.fit(X_train, y_train)\n",
    "    preds = regr.predict(X_test)\n",
    "    plt.ylim(y.min(), y.max())\n",
    "    plt.xlim(y.min(), y.max())\n",
    "    sns.set(rc={'figure.figsize':(12,12)})\n",
    "    sns.regplot(x=y_test, y=preds)\n",
    "    plt.xlabel(\"actual\")\n",
    "    plt.ylabel(\"preds\")\n",
    "    \n",
    "    avg_mae +=mean_absolute_error(preds, y_test)/Nfolds\n",
    "    avg_rmse += mean_squared_error(preds, y_test, squared=False)/Nfolds\n",
    "    ##variance_preds += preds.var()/Nfolds\n",
    "    #variance_test += y_test.var()/Nfolds\n",
    "    #top_feats.append(np.argsort(regr.feature_importances_)[-50:])\n",
    "    avg_R2 += r2_score(y_test, preds)/Nfolds\n",
    "    #print(confusion_matrix(y_test, preds))\n",
    "    #print(roc_auc_score(y_test>10000, preds))\n",
    "    avg_auc+=roc_auc_score(y_test>3000, preds)/Nfolds\n",
    "    #print(classification_report(y_test,preds))\n",
    "#plt.plot([y.min(), y.max()], [y.mean(), y.mean()], linewidth=5,)\n",
    "#perfect = np.linspace(y.min(), y.max())\n",
    "#plt.plot(perfect, perfect, linewidth=5,)\n",
    "print('MAE: ', avg_mae)\n",
    "print('RMSE: ', avg_rmse)\n",
    "print('R2: ', avg_R2)\n",
    "print('AUC: ', avg_auc)\n",
    "#print('Variance ratio (test/preds): ',variance_test/variance_preds)"
   ]
  },
  {
   "cell_type": "code",
   "execution_count": null,
   "metadata": {},
   "outputs": [],
   "source": [
    "3.5*24"
   ]
  },
  {
   "cell_type": "code",
   "execution_count": null,
   "metadata": {},
   "outputs": [],
   "source": [
    "time_grade = plt.hist(zoe.loc[zoe['Morphological Grade - Time']>0]['Morphological Grade - Time'], bins=100,color='red', edgecolor='k', alpha=0.5)\n",
    "plt.axvline(84, color='k', linestyle='dashed', linewidth=1)"
   ]
  },
  {
   "cell_type": "code",
   "execution_count": null,
   "metadata": {},
   "outputs": [],
   "source": [
    "np.random.seed(6789)\n",
    "x = np.random.gamma(4, 0.5, 1000)\n",
    "result = plt.hist(y, bins=100, color='c', edgecolor='k', alpha=0.5)\n",
    "plt.axvline(3000, color='k', linestyle='dashed', linewidth=1)\n",
    "\n",
    "min_ylim, max_ylim = plt.ylim()\n",
    "#plt.text('above 3000', max_ylim*0.9, 'Mean: {:.2f}'.format(x.mean()))"
   ]
  },
  {
   "cell_type": "code",
   "execution_count": null,
   "metadata": {},
   "outputs": [],
   "source": [
    "hyper_params = {\n",
    "    'task': 'train',\n",
    "    'boosting_type': 'gbdt',\n",
    "    'objective': 'binary',\n",
    "    \"num_leaves\": 60,  \n",
    "\n",
    "    \"n_estimators\": 200,\n",
    "    \"verbose\":-1\n",
    "}\n",
    "y_b = y>3000\n",
    "lgb_train = lgb.Dataset(X.iloc[:,top_feats].values, y_b, params={'verbose': 1}, free_raw_data=False)\n",
    "lgb_eval = lgb.Dataset(X.iloc[:,top_feats].values, y_b, params={'verbose': -1},free_raw_data=False)\n",
    "regr = lgb.train(hyper_params, \n",
    "                 lgb_train, \n",
    "                 valid_sets=lgb_eval, \n",
    "                 verbose_eval=50,\n",
    "                early_stopping_rounds=50)"
   ]
  },
  {
   "cell_type": "code",
   "execution_count": null,
   "metadata": {},
   "outputs": [],
   "source": [
    "import shap\n",
    "shap_values = shap.TreeExplainer(regr).shap_values(X.iloc[:,top_feats].values)\n"
   ]
  },
  {
   "cell_type": "code",
   "execution_count": null,
   "metadata": {},
   "outputs": [],
   "source": [
    "shap.summary_plot(shap_values[0], X.iloc[:,top_feats].values)"
   ]
  },
  {
   "cell_type": "code",
   "execution_count": null,
   "metadata": {},
   "outputs": [],
   "source": [
    "#shap.summary_plot(shap_values, X.iloc[:,top_feats])\n",
    "shap.dependence_plot(\"solidity_diff__ar_coefficient__coeff_0__k_10\", shap_values[0], X.iloc[:,top_feats])\n"
   ]
  },
  {
   "cell_type": "code",
   "execution_count": null,
   "metadata": {},
   "outputs": [],
   "source": [
    "df_pgs = pd.read_csv('C:/Users\\hp\\Desktop\\outcome_images/data/extracted_pgs_large.csv')\n",
    "dts = pd.read_csv('C:/Users\\hp\\Desktop\\outcome_images/data/pgs_dts.csv')"
   ]
  },
  {
   "cell_type": "code",
   "execution_count": null,
   "metadata": {},
   "outputs": [],
   "source": [
    "dts.index = dts.id\n",
    "df_pgs['dt'] = df_pgs.id.map(dts['0'])"
   ]
  },
  {
   "cell_type": "code",
   "execution_count": null,
   "metadata": {},
   "outputs": [],
   "source": [
    "df_pgs['Time'] = df_pgs.reset_index(drop=True).groupby('id').apply(lambda x: x.dt.cumsum()).values"
   ]
  },
  {
   "cell_type": "code",
   "execution_count": null,
   "metadata": {},
   "outputs": [],
   "source": [
    "def resample_(x):\n",
    "    period = '30min'\n",
    "    new_df = pd.DataFrame()\n",
    "    \n",
    "    for c in x.columns:\n",
    "        if c!='id':\n",
    "            ts = x.loc[x['Time']<=6][c]\n",
    "\n",
    "            ts.index = pd.DatetimeIndex(x.loc[x['Time']<=6]['Time']*8.64e+13)\n",
    "            ts = ts.resample('30min').mean()\n",
    "            new_df[c] = ts\n",
    "        else:\n",
    "            continue\n",
    "    return new_df\n",
    "\n",
    "\n",
    "resampled_df = df_pgs.reset_index(drop=True).groupby('id').apply(resample_)"
   ]
  },
  {
   "cell_type": "code",
   "execution_count": null,
   "metadata": {},
   "outputs": [],
   "source": [
    "resampled_df['Time_days'] = resampled_df['Time']\n",
    "del resampled_df['Time']\n",
    "\n",
    "resampled_df = resampled_df.reset_index()\n",
    "# resampled_df['Time_1'] = resampled_df['Time_1']-0.01043"
   ]
  },
  {
   "cell_type": "code",
   "execution_count": null,
   "metadata": {},
   "outputs": [],
   "source": [
    "\n",
    "X_ = resampled_df.groupby('id').apply(lambda x: x.loc[x.Time_days<4]).reset_index(drop=True)\n",
    "X_['area_diff'] = X_.groupby('id').area.diff()\n",
    "X_['solidity_diff'] = X_.groupby('id').solidity.diff()\n",
    "X_['eccentricity_diff'] = X_.groupby('id').eccentricity.diff()\n",
    "X_['equivalent_diameter_diff'] = X_.groupby('id').equivalent_diameter.diff()\n",
    "X_['major_axis_length_diff'] = X_.groupby('id').major_axis_length.diff()\n",
    "X_['minor_axis_length_diff'] = X_.groupby('id').minor_axis_length.diff()\n",
    "X_['inertia_tensor-0-1_diff'] = X_.groupby('id')['inertia_tensor-0-1'].diff()\n",
    "X_['inertia_tensor-0-0_diff'] = X_.groupby('id')['inertia_tensor-0-0'].diff()\n",
    "X_['inertia_tensor-1-0_diff'] = X_.groupby('id')['inertia_tensor-1-0'].diff()\n",
    "X_['inertia_tensor-1-1_diff'] = X_.groupby('id')['inertia_tensor-1-1'].diff()\n",
    "\n",
    "X_ = X_.fillna(0)"
   ]
  },
  {
   "cell_type": "code",
   "execution_count": null,
   "metadata": {},
   "outputs": [],
   "source": [
    "from tsfresh.feature_extraction import settings"
   ]
  },
  {
   "cell_type": "code",
   "execution_count": null,
   "metadata": {},
   "outputs": [],
   "source": [
    "features_list"
   ]
  },
  {
   "cell_type": "code",
   "execution_count": null,
   "metadata": {},
   "outputs": [],
   "source": [
    "from tsfresh.feature_extraction import EfficientFCParameters, MinimalFCParameters\n",
    "fcp_settings = settings.from_columns(X.iloc[:,top_feats])\n",
    "# Set here the options of the settings object as shown in the paragraphs below\n",
    "from tsfresh.feature_extraction import extract_features\n",
    "extracted_feats_lean = extract_features(X_[['id', 'Time_days']+features_list[:-1]].dropna(),\n",
    "                                        kind_to_fc_parameters=fcp_settings,\n",
    "                                        column_id='id')"
   ]
  },
  {
   "cell_type": "code",
   "execution_count": null,
   "metadata": {},
   "outputs": [],
   "source": [
    "extracted_feats_lean.info(max_cols=200)"
   ]
  },
  {
   "cell_type": "code",
   "execution_count": null,
   "metadata": {},
   "outputs": [],
   "source": [
    "labels = pd.read_csv('C:/Users\\hp\\Desktop\\outcome_images/data/big_pgt_df.csv')"
   ]
  },
  {
   "cell_type": "code",
   "execution_count": null,
   "metadata": {},
   "outputs": [],
   "source": [
    "labels['Morphological Grade - Value']"
   ]
  },
  {
   "cell_type": "code",
   "execution_count": null,
   "metadata": {},
   "outputs": [],
   "source": [
    "labels_grade['Morphological Grade - Value']."
   ]
  },
  {
   "cell_type": "code",
   "execution_count": null,
   "metadata": {},
   "outputs": [],
   "source": [
    "labels_grade = labels.loc[pgs_label.index]"
   ]
  },
  {
   "cell_type": "code",
   "execution_count": null,
   "metadata": {},
   "outputs": [],
   "source": [
    "labels_grade['Morphological Grade - Value'] = labels_grade['Morphological Grade - Value'].replace('3,5', '3.5')\n",
    "labels_grade['Morphological Grade - Value'] = labels_grade['Morphological Grade - Value'].replace('2,5', '2.5')\n",
    "labels_grade['Morphological Grade - Value'] = labels_grade['Morphological Grade - Value'].replace('1,5', '1.5')\n",
    "labels_grade['Morphological Grade - Value'] = labels_grade['Morphological Grade - Value'].replace('ARREST', '4')"
   ]
  },
  {
   "cell_type": "code",
   "execution_count": null,
   "metadata": {},
   "outputs": [],
   "source": [
    "labels_grade['Morphological Grade - Value'].value_counts()"
   ]
  },
  {
   "cell_type": "code",
   "execution_count": null,
   "metadata": {},
   "outputs": [],
   "source": [
    "labels['id'] = labels['Slide ID_x']+'_'+labels['Well_y'].astype(str)\n",
    "labels = labels.drop_duplicates('id')\n",
    "labels.index = labels.id"
   ]
  },
  {
   "cell_type": "code",
   "execution_count": null,
   "metadata": {},
   "outputs": [],
   "source": [
    "pgs_label = labels.loc[extracted_feats_lean.index]['Class_Grade_y']\n",
    "pgs_label = pgs_label.replace('NR','0')\n",
    "pgs_label = pgs_label.replace('1','0')\n",
    "pgs_label = pgs_label.replace('2','1')"
   ]
  },
  {
   "cell_type": "code",
   "execution_count": null,
   "metadata": {},
   "outputs": [],
   "source": [
    "extracted_feats_lean"
   ]
  },
  {
   "cell_type": "code",
   "execution_count": null,
   "metadata": {},
   "outputs": [],
   "source": [
    "shap_values_pgs = shap.TreeExplainer(regr).shap_values(extracted_feats_lean)"
   ]
  },
  {
   "cell_type": "code",
   "execution_count": null,
   "metadata": {},
   "outputs": [],
   "source": [
    "extracted_feats_lean"
   ]
  },
  {
   "cell_type": "code",
   "execution_count": null,
   "metadata": {},
   "outputs": [],
   "source": [
    "shap_values_pgs_df = pd.DataFrame(shap_values_pgs[1])\n",
    "\n"
   ]
  },
  {
   "cell_type": "code",
   "execution_count": null,
   "metadata": {},
   "outputs": [],
   "source": [
    "shap_values_pgs_df.index = extracted_feats_lean.index"
   ]
  },
  {
   "cell_type": "code",
   "execution_count": null,
   "metadata": {},
   "outputs": [],
   "source": [
    "labels_grade['Morphological Grade - Value']"
   ]
  },
  {
   "cell_type": "code",
   "execution_count": null,
   "metadata": {},
   "outputs": [],
   "source": [
    "labels_grade['Morphological Grade - Value'].astype(float)"
   ]
  },
  {
   "cell_type": "code",
   "execution_count": null,
   "metadata": {},
   "outputs": [],
   "source": [
    "shap_values_pgs_df"
   ]
  },
  {
   "cell_type": "code",
   "execution_count": null,
   "metadata": {},
   "outputs": [],
   "source": [
    "labels_grade['Morphological Grade - Value']"
   ]
  },
  {
   "cell_type": "code",
   "execution_count": null,
   "metadata": {},
   "outputs": [],
   "source": [
    "shap_values_pgs_df['grade'] = shap_values_pgs_df.index.map(labels_grade['Morphological Grade - Value'].astype(float))"
   ]
  },
  {
   "cell_type": "code",
   "execution_count": null,
   "metadata": {},
   "outputs": [],
   "source": [
    "shap.summary_plot(shap_values_pgs[0], extracted_feats_lean.drop(['grade', 'cluster'],axis=1))"
   ]
  },
  {
   "cell_type": "code",
   "execution_count": null,
   "metadata": {},
   "outputs": [],
   "source": []
  },
  {
   "cell_type": "code",
   "execution_count": null,
   "metadata": {},
   "outputs": [],
   "source": [
    "scaler = StandardScaler()"
   ]
  },
  {
   "cell_type": "code",
   "execution_count": null,
   "metadata": {},
   "outputs": [],
   "source": [
    "pca = PCA(n_components=3)"
   ]
  },
  {
   "cell_type": "code",
   "execution_count": null,
   "metadata": {},
   "outputs": [],
   "source": [
    "shap_values_pgs_df"
   ]
  },
  {
   "cell_type": "code",
   "execution_count": null,
   "metadata": {},
   "outputs": [],
   "source": [
    "shap_values_pgs_pca = pca.fit_transform(shap_values_pgs_df.fillna(0))"
   ]
  },
  {
   "cell_type": "code",
   "execution_count": null,
   "metadata": {},
   "outputs": [],
   "source": [
    "sns.scatterplot(shap_values_pgs_pca[:,0], shap_values_pgs_pca[:,1], hue=pgs_label)"
   ]
  },
  {
   "cell_type": "code",
   "execution_count": null,
   "metadata": {},
   "outputs": [],
   "source": [
    "pgs_label_df['Class_Grade_y']"
   ]
  },
  {
   "cell_type": "code",
   "execution_count": null,
   "metadata": {},
   "outputs": [],
   "source": [
    "from sklearn.cluster import KMeans\n",
    "kmeans = KMeans(n_clusters=5)"
   ]
  },
  {
   "cell_type": "code",
   "execution_count": null,
   "metadata": {},
   "outputs": [],
   "source": [
    "clusters = kmeans.fit_predict(shap_values_pgs_pca)"
   ]
  },
  {
   "cell_type": "code",
   "execution_count": null,
   "metadata": {},
   "outputs": [],
   "source": [
    "plt.scatter(shap_values_pgs_pca[:,0], shap_values_pgs_pca[:,2], c=clusters[:,None])"
   ]
  },
  {
   "cell_type": "code",
   "execution_count": null,
   "metadata": {},
   "outputs": [],
   "source": [
    "pgs_label_df = pd.DataFrame(pgs_label)\n",
    "pgs_label_df['cluster'] = clusters"
   ]
  },
  {
   "cell_type": "code",
   "execution_count": null,
   "metadata": {},
   "outputs": [],
   "source": [
    "X_.index = X_.id"
   ]
  },
  {
   "cell_type": "code",
   "execution_count": null,
   "metadata": {},
   "outputs": [],
   "source": [
    "X_.loc[pgs_label_df.loc[pgs_label_df['cluster']==1].index].reset_index(drop=True).\\\n",
    "                groupby('id').apply(lambda x: x.Time_days.max()).mean()"
   ]
  },
  {
   "cell_type": "code",
   "execution_count": null,
   "metadata": {},
   "outputs": [],
   "source": [
    "perc_in_sample = 0.740\n",
    "for i in range(10):\n",
    "    samples_in_cluster = pgs_label_df.loc[pgs_label_df['cluster']==i].shape[0]\n",
    "    positives = pgs_label_df.loc[pgs_label_df['cluster']==i].astype(int).sum().values[0]\n",
    "    \n",
    "    ratio = (samples_in_cluster - positives)/samples_in_cluster\n",
    "    \n",
    "    print(f'Cluster {i} ratio: {ratio}, dev: {(perc_in_sample-ratio)/perc_in_sample}')\n",
    "    print(f'Cluster size {samples_in_cluster}\\n')"
   ]
  },
  {
   "cell_type": "code",
   "execution_count": null,
   "metadata": {},
   "outputs": [],
   "source": []
  },
  {
   "cell_type": "code",
   "execution_count": null,
   "metadata": {},
   "outputs": [],
   "source": [
    "extracted_feats_lean = extracted_feats_lean.drop(['grade', 'cluster'],axis=1)"
   ]
  },
  {
   "cell_type": "code",
   "execution_count": null,
   "metadata": {},
   "outputs": [],
   "source": [
    "stats1 = extracted_feats_lean.loc[pgs_label_df.loc[pgs_label_df['cluster']!=0].index].describe()"
   ]
  },
  {
   "cell_type": "code",
   "execution_count": null,
   "metadata": {},
   "outputs": [],
   "source": [
    "stats2 = extracted_feats_lean.loc[pgs_label_df.loc[pgs_label_df['cluster']==0].index].describe()"
   ]
  },
  {
   "cell_type": "code",
   "execution_count": null,
   "metadata": {},
   "outputs": [],
   "source": [
    "stats1 = stats1.loc[['mean','std',]]\n",
    "stats2 = stats2.loc[['mean','std',]]"
   ]
  },
  {
   "cell_type": "code",
   "execution_count": null,
   "metadata": {},
   "outputs": [],
   "source": [
    "((stats1-stats2)/stats1).mean(axis=0).abs()>.6"
   ]
  },
  {
   "cell_type": "code",
   "execution_count": null,
   "metadata": {},
   "outputs": [],
   "source": [
    "statement1 = ((stats1-stats2)/stats1).loc['std'].abs()>0.1\n",
    "statement2 = ((stats1-stats2)/stats1).loc['mean'].abs()>0.1"
   ]
  },
  {
   "cell_type": "code",
   "execution_count": null,
   "metadata": {},
   "outputs": [],
   "source": [
    "msk = (((stats1-stats2)/stats1).mean(axis=0).abs()>0.5\n",
    "      ).values"
   ]
  },
  {
   "cell_type": "code",
   "execution_count": null,
   "metadata": {},
   "outputs": [],
   "source": [
    "msk.sum()"
   ]
  },
  {
   "cell_type": "code",
   "execution_count": null,
   "metadata": {},
   "outputs": [],
   "source": [
    "selected = extracted_feats_lean.iloc[:,msk].copy()"
   ]
  },
  {
   "cell_type": "code",
   "execution_count": null,
   "metadata": {},
   "outputs": [],
   "source": [
    "selected['cluster'] = selected.index.map(pgs_label_df['cluster'])!=5\n",
    "selected['grade'] = selected.index.map(pgs_label_df['Class_Grade_y'])"
   ]
  },
  {
   "cell_type": "code",
   "execution_count": null,
   "metadata": {},
   "outputs": [],
   "source": [
    "extracted_feats_lean.iloc[:,msk].fillna(0)"
   ]
  },
  {
   "cell_type": "code",
   "execution_count": null,
   "metadata": {
    "scrolled": true
   },
   "outputs": [],
   "source": [
    "for c in selected.columns:\n",
    "    print(c)\n",
    "    selected[[c,'cluster']].boxplot(by='cluster')\n",
    "    plt.show()"
   ]
  },
  {
   "cell_type": "code",
   "execution_count": null,
   "metadata": {},
   "outputs": [],
   "source": [
    "pgs_label_df['Class_Grade_y'].astype(int)"
   ]
  },
  {
   "cell_type": "code",
   "execution_count": null,
   "metadata": {},
   "outputs": [],
   "source": [
    "X_t = extracted_feats_lean.fillna(0)"
   ]
  },
  {
   "cell_type": "code",
   "execution_count": null,
   "metadata": {},
   "outputs": [],
   "source": [
    "x_train, x_test, y_trai, y_tes = train_test_split(X_t, pgs_label_df['Class_Grade_y'].astype(int))"
   ]
  },
  {
   "cell_type": "code",
   "execution_count": null,
   "metadata": {},
   "outputs": [],
   "source": [
    "y_ = pgs_label_df['Class_Grade_y'].astype(int)"
   ]
  },
  {
   "cell_type": "code",
   "execution_count": null,
   "metadata": {},
   "outputs": [],
   "source": []
  },
  {
   "cell_type": "code",
   "execution_count": null,
   "metadata": {},
   "outputs": [],
   "source": [
    "\n",
    "kf = KFold(n_splits=5)\n",
    "kf.get_n_splits(X_t)\n",
    "feats_imp = np.zeros(X.shape[1])\n",
    "for train_index, test_index in kf.split(X_t):\n",
    "    \n",
    "    x_train = X_t.iloc[train_index]\n",
    "    x_test = X_t.iloc[test_index]\n",
    "    y_trai = y_.iloc[train_index]\n",
    "    y_tes = y_.iloc[test_index]\n",
    "    \n",
    "    lgb_train = lgb.Dataset(x_train.values, y_trai, params={'verbose': 1}, free_raw_data=False)\n",
    "    lgb_eval = lgb.Dataset(x_test.values, y_tes, params={'verbose': -1},free_raw_data=False)\n",
    "    regr = lgb.train(hyper_params, \n",
    "                     lgb_train, \n",
    "                     valid_sets=lgb_eval, \n",
    "                     verbose_eval=50,\n",
    "                    early_stopping_rounds=50)\n",
    "    \n",
    "    preds = regr.predict(x_test.values)\n",
    "\n",
    "    print(roc_auc_score(y_tes, preds))"
   ]
  },
  {
   "cell_type": "code",
   "execution_count": null,
   "metadata": {},
   "outputs": [],
   "source": [
    "preds = regr.predict(x_test.values)\n",
    "\n",
    "roc_auc_score(y_tes, preds)"
   ]
  },
  {
   "cell_type": "code",
   "execution_count": null,
   "metadata": {},
   "outputs": [],
   "source": [
    "from sklearn.metrics import f1_score\n",
    "threshs = np.linspace(0,.5,300)\n",
    "f1s = []\n",
    "for thresh in threshs:\n",
    "    f1s.append(f1_score(y_tes, preds>thresh))\n",
    "    \n",
    "best_thresh = threshs[np.argmax(f1s)]\n",
    "\n",
    "\n"
   ]
  },
  {
   "cell_type": "code",
   "execution_count": null,
   "metadata": {},
   "outputs": [],
   "source": [
    "confusion_matrix(y_tes, preds>best_thresh)"
   ]
  },
  {
   "cell_type": "code",
   "execution_count": null,
   "metadata": {},
   "outputs": [],
   "source": [
    "print(classification_report(y_tes, preds>best_thresh))"
   ]
  },
  {
   "cell_type": "code",
   "execution_count": null,
   "metadata": {},
   "outputs": [],
   "source": [
    "extracted_feats_lean.info(max_cols=202)"
   ]
  },
  {
   "cell_type": "code",
   "execution_count": null,
   "metadata": {},
   "outputs": [],
   "source": [
    "more_shap_values_pgs = shap.TreeExplainer(regr).shap_values(X_t)"
   ]
  },
  {
   "cell_type": "code",
   "execution_count": null,
   "metadata": {},
   "outputs": [],
   "source": [
    "\n"
   ]
  },
  {
   "cell_type": "code",
   "execution_count": null,
   "metadata": {},
   "outputs": [],
   "source": [
    "shap.summary_plot(more_shap_values_pgs[0], X_t)"
   ]
  },
  {
   "cell_type": "code",
   "execution_count": null,
   "metadata": {},
   "outputs": [],
   "source": [
    "pgs_label_df.loc[pgs_label_df['cluster']==7]['Class_Grade_y'].astype(int).sum()\n"
   ]
  },
  {
   "cell_type": "code",
   "execution_count": null,
   "metadata": {},
   "outputs": [],
   "source": [
    "def calc_perc_(ar):\n",
    "    return 1-(ar[0]-ar[1])/ar[0]"
   ]
  },
  {
   "cell_type": "code",
   "execution_count": null,
   "metadata": {},
   "outputs": [],
   "source": [
    "calc_perc_(ar2)"
   ]
  },
  {
   "cell_type": "code",
   "execution_count": null,
   "metadata": {},
   "outputs": [],
   "source": [
    "percs = []\n",
    "for i in range(200):\n",
    "\n",
    "    ar1 = pgs_label.loc[shap_values_pgs[1][:,i]>0].value_counts().values\n",
    "    ar2 = pgs_label.loc[shap_values_pgs[1][:,i]<0].value_counts().values\n",
    "    try:\n",
    "        diff = calc_perc_(ar1)/calc_perc_(ar2)\n",
    "        if diff<2:\n",
    "            \n",
    "            percs.append(diff)\n",
    "    except:\n",
    "        pass"
   ]
  },
  {
   "cell_type": "code",
   "execution_count": null,
   "metadata": {},
   "outputs": [],
   "source": [
    "np.sum(np.array(percs)>.8)"
   ]
  },
  {
   "cell_type": "code",
   "execution_count": null,
   "metadata": {},
   "outputs": [],
   "source": [
    "1-(322-109)/322"
   ]
  },
  {
   "cell_type": "code",
   "execution_count": null,
   "metadata": {},
   "outputs": [],
   "source": [
    "pgs_label.loc[shap_values_pgs[1][:,172]<0].value_counts()"
   ]
  },
  {
   "cell_type": "code",
   "execution_count": null,
   "metadata": {
    "scrolled": true
   },
   "outputs": [],
   "source": [
    "for i in range(200):\n",
    "    sns.scatterplot(extracted_feats_lean.iloc[:,i],\n",
    "                    shap_values_pgs[0][:,i],\n",
    "                                         hue=pgs_label)\n",
    "    \n",
    "    plt.show()"
   ]
  },
  {
   "cell_type": "code",
   "execution_count": null,
   "metadata": {},
   "outputs": [],
   "source": [
    "X_train"
   ]
  },
  {
   "cell_type": "code",
   "execution_count": null,
   "metadata": {},
   "outputs": [],
   "source": [
    "top_features = np.unique(np.concatenate(top_feats))"
   ]
  },
  {
   "cell_type": "code",
   "execution_count": null,
   "metadata": {},
   "outputs": [],
   "source": [
    "preds = regre.predict(X_test)"
   ]
  },
  {
   "cell_type": "code",
   "execution_count": null,
   "metadata": {},
   "outputs": [],
   "source": [
    "y_test.max()"
   ]
  },
  {
   "cell_type": "code",
   "execution_count": null,
   "metadata": {},
   "outputs": [],
   "source": [
    "preds.max()"
   ]
  },
  {
   "cell_type": "code",
   "execution_count": null,
   "metadata": {},
   "outputs": [],
   "source": [
    "mean_absolute_error(preds, y_test)"
   ]
  },
  {
   "cell_type": "code",
   "execution_count": null,
   "metadata": {},
   "outputs": [],
   "source": [
    "mean_squared_error(preds, y_test, squared=False)"
   ]
  },
  {
   "cell_type": "code",
   "execution_count": null,
   "metadata": {},
   "outputs": [],
   "source": [
    "idx = np.argsort(regr.feature_importances_)[-300:]"
   ]
  },
  {
   "cell_type": "code",
   "execution_count": null,
   "metadata": {},
   "outputs": [],
   "source": [
    "%matplotlib notebook\n",
    "feats_less.iloc[:, idx[-6]].hist(bins=100)"
   ]
  },
  {
   "cell_type": "code",
   "execution_count": null,
   "metadata": {},
   "outputs": [],
   "source": [
    "\n",
    "feats_less.values[:, idx[-1]]"
   ]
  },
  {
   "cell_type": "code",
   "execution_count": null,
   "metadata": {},
   "outputs": [],
   "source": [
    "regre.feature_importances_[idx]"
   ]
  },
  {
   "cell_type": "code",
   "execution_count": null,
   "metadata": {},
   "outputs": [],
   "source": [
    "X_\n"
   ]
  },
  {
   "cell_type": "code",
   "execution_count": null,
   "metadata": {},
   "outputs": [],
   "source": [
    "import tqdm"
   ]
  },
  {
   "cell_type": "code",
   "execution_count": null,
   "metadata": {},
   "outputs": [],
   "source": [
    "clean['id'] = LabelEncoder().fit_transform(clean['id'].values[:,None])[:,None]"
   ]
  },
  {
   "cell_type": "code",
   "execution_count": null,
   "metadata": {},
   "outputs": [],
   "source": [
    "scaler = StandardScaler()"
   ]
  },
  {
   "cell_type": "code",
   "execution_count": null,
   "metadata": {},
   "outputs": [],
   "source": [
    "clean['area'] = scaler.fit_transform(clean['area'].values.reshape(-1, 1))"
   ]
  },
  {
   "cell_type": "code",
   "execution_count": null,
   "metadata": {},
   "outputs": [],
   "source": [
    "clean['Time'] = scaler.fit_transform(clean['Time'].values.reshape(-1, 1))"
   ]
  },
  {
   "cell_type": "code",
   "execution_count": null,
   "metadata": {},
   "outputs": [],
   "source": [
    "clean = test.groupby('id').apply(drop_empty).reset_index(drop=True)\n",
    "#clean = clean.groupby('id').apply(drop_no_fert).reset_index(drop=True)\n",
    "clean = clean.groupby('id').apply(drop_early).reset_index(drop=True)\n",
    "target_area = clean.groupby('id').apply(lambda x: x.loc[x.Time>4.65].area.iloc[0])\n",
    "#target_means = clean.groupby('id').apply(lambda x: x.loc[x.Time>4.65].means.iloc[0])\n",
    "#X_ = clean.groupby('id').apply(lambda x: x.loc[x.Time<3.5]).reset_index(drop=True)"
   ]
  },
  {
   "cell_type": "code",
   "execution_count": null,
   "metadata": {},
   "outputs": [],
   "source": [
    "pd.DatetimeIndex(val['Time']*8.64e+13)"
   ]
  },
  {
   "cell_type": "code",
   "execution_count": null,
   "metadata": {},
   "outputs": [],
   "source": [
    "ts = val['area']\n",
    "ts.index = pd.DatetimeIndex(val['Time']*8.64e+13)"
   ]
  },
  {
   "cell_type": "code",
   "execution_count": null,
   "metadata": {},
   "outputs": [],
   "source": [
    "ts.resample('1H').mean()"
   ]
  },
  {
   "cell_type": "code",
   "execution_count": null,
   "metadata": {},
   "outputs": [],
   "source": [
    "feats"
   ]
  },
  {
   "cell_type": "code",
   "execution_count": null,
   "metadata": {},
   "outputs": [],
   "source": []
  },
  {
   "cell_type": "code",
   "execution_count": null,
   "metadata": {},
   "outputs": [],
   "source": [
    "clean['id'] = LabelEncoder().fit_transform(clean['id'][:,None])"
   ]
  },
  {
   "cell_type": "code",
   "execution_count": null,
   "metadata": {},
   "outputs": [],
   "source": [
    "np.linspace(0,100,30)"
   ]
  },
  {
   "cell_type": "code",
   "execution_count": null,
   "metadata": {},
   "outputs": [],
   "source": []
  },
  {
   "cell_type": "code",
   "execution_count": null,
   "metadata": {},
   "outputs": [],
   "source": [
    "resampled_df#.groupby('id')['Time_1'].max()"
   ]
  },
  {
   "cell_type": "code",
   "execution_count": null,
   "metadata": {},
   "outputs": [],
   "source": []
  },
  {
   "cell_type": "code",
   "execution_count": null,
   "metadata": {},
   "outputs": [],
   "source": []
  },
  {
   "cell_type": "code",
   "execution_count": null,
   "metadata": {},
   "outputs": [],
   "source": []
  },
  {
   "cell_type": "code",
   "execution_count": null,
   "metadata": {},
   "outputs": [],
   "source": [
    "resampled_df.groupby('id').area.mean()\n"
   ]
  },
  {
   "cell_type": "code",
   "execution_count": null,
   "metadata": {},
   "outputs": [],
   "source": [
    "count = 0\n",
    "%matplotlib notebook\n",
    "count_big = 0\n",
    "count_small = 0 \n",
    "for g, val in resampled_df.groupby('id'):\n",
    "   # if val.area.values[-1]>5500:\n",
    "    ts = val.loc[val['Time_1']<=6]['area']\n",
    "    ts.index = pd.DatetimeIndex(val.loc[val['Time_1']<=6]['Time_1']*8.64e+13)\n",
    "    \n",
    "    if ts.max()>12000:\n",
    "        \n",
    "        plt.plot(ts.resample('30min').mean(), color='green',marker='+', linewidth=1)\n",
    "        plt.show()\n",
    "        count_big+=1\n",
    "    else:\n",
    "        \n",
    "        plt.plot(ts.resample('30min').mean(), color='red',marker='*', linewidth=1)\n",
    "        plt.show()\n",
    "        count_small+=1\n",
    "    \n",
    "    if (count_small>10)&(count_big>10):\n",
    "        break"
   ]
  },
  {
   "cell_type": "code",
   "execution_count": null,
   "metadata": {},
   "outputs": [],
   "source": [
    "\n",
    "count_small"
   ]
  },
  {
   "cell_type": "code",
   "execution_count": null,
   "metadata": {},
   "outputs": [],
   "source": [
    "def get_sequences(df):\n",
    "    group = df.groupby('id')\n",
    "    \n",
    "    seq_dict = {}\n",
    "    for idx, g in tqdm.tqdm(group):\n",
    "        seq_dict[idx] = {'time': g['Time'].values,\n",
    "                         'area': g['area'].values\n",
    "            \n",
    "        }\n",
    "        \n",
    "    return seq_dict"
   ]
  },
  {
   "cell_type": "code",
   "execution_count": null,
   "metadata": {},
   "outputs": [],
   "source": [
    "seq_dict = get_sequences(clean[['id', 'Time', 'area']])"
   ]
  },
  {
   "cell_type": "code",
   "execution_count": null,
   "metadata": {},
   "outputs": [],
   "source": [
    "window_size = 50"
   ]
  },
  {
   "cell_type": "code",
   "execution_count": null,
   "metadata": {},
   "outputs": [],
   "source": [
    "device='cuda'"
   ]
  },
  {
   "cell_type": "code",
   "execution_count": null,
   "metadata": {},
   "outputs": [],
   "source": [
    "class SAINT(nn.Module):\n",
    "    def __init__(self, n_inp=100, n_head=2, n_hidden=64, n_layers=2, dropout=0.1, device='cpu'):\n",
    "        super(SAINT, self).__init__()\n",
    "        temp = nn.Transformer()\n",
    "        self.n_inp = n_inp\n",
    "        self.attn_mask = temp.generate_square_subsequent_mask(n_inp).to(device)\n",
    "        self.dropout = nn.Dropout()\n",
    "        #self.enc_norm = torch.nn.BatchNorm1d(100)\n",
    "\n",
    "        self.embryo_embedding = nn.Embedding(num_embeddings=2170, embedding_dim=50)\n",
    "        self.embryo_linear = nn.Linear(1, 50, bias=False)\n",
    "        self.time_embedding = nn.Linear(1, 50, bias=False)\n",
    "        self.area_embedding = nn.Linear(1, 50, bias=False)\n",
    "        self.position_emb_enc = nn.Embedding(num_embeddings=n_inp, embedding_dim=50)\n",
    "        \n",
    "        encoder_layer = nn.TransformerEncoderLayer(d_model=50,\n",
    "                                                   dim_feedforward = 128, nhead=5)\n",
    "        self.encoder_1 = torch.nn.TransformerEncoder(encoder_layer, 3)\n",
    "        \n",
    "        self.final = nn.Linear(50, 1)\n",
    "        self.device = device\n",
    "\n",
    "    def positional_encoding(self, content_id):\n",
    "        with torch.no_grad():\n",
    "            return torch.arange(0, content_id.shape[1]).to(self.device). \\\n",
    "                unsqueeze(0).repeat(content_id.shape[0], 1)\n",
    "\n",
    "    def forward(self, embryo_id, time, area):\n",
    "        # u_emp = self.user_emb(user)\n",
    "        embryo_emb = self.embryo_embedding(embryo_id)\n",
    "        embryo_emb = self.embryo_linear(embryo_emb.unsqueeze(2))\n",
    "        time_emb = self.time_embedding(time.unsqueeze(2))\n",
    "        \n",
    "        area = torch.roll(area,1,1)\n",
    "        area[:,0] = 15\n",
    "        area_emb = self.time_embedding(area.unsqueeze(2))\n",
    "        \n",
    "        pos_emb = self.position_emb_enc(self.positional_encoding(time))\n",
    "        \n",
    "        embedded_src = embryo_emb + time_emb + area_emb\n",
    "        embedded_src += pos_emb\n",
    "        embedded_src = embedded_src.transpose(0, 1)\n",
    "\n",
    "        #src_mask = padding_mask  # & self.atn_mask\n",
    "        #tgt_mask = padding_mask\n",
    "        attn_mask = self.attn_mask\n",
    "        \n",
    "        enc_1 = self.encoder_1(embedded_src, mask = attn_mask)\n",
    "        \n",
    "        output = enc_1.transpose(0, 1)\n",
    "        output = self.final(output)\n",
    "\n",
    "        return output"
   ]
  },
  {
   "cell_type": "code",
   "execution_count": null,
   "metadata": {},
   "outputs": [],
   "source": [
    "model = SAINT(n_inp=window_size, device=device)"
   ]
  },
  {
   "cell_type": "code",
   "execution_count": null,
   "metadata": {},
   "outputs": [],
   "source": [
    "model.to(device)"
   ]
  },
  {
   "cell_type": "code",
   "execution_count": null,
   "metadata": {},
   "outputs": [],
   "source": [
    "#target_area = clean.groupby('id').apply(lambda x: x.loc[x.Time>4.65].area.iloc[0])"
   ]
  },
  {
   "cell_type": "code",
   "execution_count": null,
   "metadata": {},
   "outputs": [],
   "source": []
  },
  {
   "cell_type": "code",
   "execution_count": null,
   "metadata": {},
   "outputs": [],
   "source": [
    "#target_area.index  = label_enc.transform(np.array(target_area.index))"
   ]
  },
  {
   "cell_type": "code",
   "execution_count": null,
   "metadata": {},
   "outputs": [],
   "source": [
    "#target_area = scaler.fit_transform(target_area.values[:,None])\n"
   ]
  },
  {
   "cell_type": "code",
   "execution_count": null,
   "metadata": {},
   "outputs": [],
   "source": [
    "window_size = 50"
   ]
  },
  {
   "cell_type": "code",
   "execution_count": null,
   "metadata": {},
   "outputs": [],
   "source": [
    "import random\n",
    "random_keys = [key for key in seq_dict.keys()]\n",
    "random.shuffle(random_keys)"
   ]
  },
  {
   "cell_type": "code",
   "execution_count": null,
   "metadata": {},
   "outputs": [],
   "source": []
  },
  {
   "cell_type": "code",
   "execution_count": null,
   "metadata": {},
   "outputs": [],
   "source": []
  },
  {
   "cell_type": "code",
   "execution_count": null,
   "metadata": {},
   "outputs": [],
   "source": [
    "def create_batches(dic, target):\n",
    "    batches_time = []\n",
    "    batches_area = []\n",
    "    batches_y = []\n",
    "    ids = []\n",
    "    for key in random_keys:\n",
    "        value = dic[key]\n",
    "        t = value['time']\n",
    "        area = value['area']\n",
    "        \n",
    "        rem = len(t)%window_size\n",
    "        #print(len(t))\n",
    "        if rem!=0:\n",
    "            t_full = t[:-rem]\n",
    "            area_full = area[:-rem]\n",
    "        else:\n",
    "            t_full = t\n",
    "            area_full = area\n",
    "            \n",
    "        batches_time.extend(np.split(t_full, len(t_full)/window_size))\n",
    "        batches_area.extend(np.split(area_full, len(t_full)/window_size))\n",
    "        batches_y.extend([target[key] for _ in range(len(t_full)//window_size)])\n",
    "        ids.extend([np.array([key for _ in range(window_size)]) for _ in range(len(t_full)//window_size)])\n",
    "        \n",
    "    return batches_time, batches_area, batches_y, ids"
   ]
  },
  {
   "cell_type": "code",
   "execution_count": null,
   "metadata": {},
   "outputs": [],
   "source": [
    "batches_time, batches_area, batches_y, ids = create_batches(seq_dict, target_area)"
   ]
  },
  {
   "cell_type": "code",
   "execution_count": null,
   "metadata": {},
   "outputs": [],
   "source": [
    "ids"
   ]
  },
  {
   "cell_type": "code",
   "execution_count": null,
   "metadata": {},
   "outputs": [],
   "source": [
    "import torch\n",
    "import torch.nn as nn\n",
    "import torch.nn.functional as F\n",
    "import torch.optim as optim"
   ]
  },
  {
   "cell_type": "code",
   "execution_count": null,
   "metadata": {},
   "outputs": [],
   "source": [
    "class LSTM(nn.Module):\n",
    "    def __init__(self, input_size=1, hidden_layer_size=100, output_size=1):\n",
    "        super().__init__()\n",
    "        self.hidden_layer_size = hidden_layer_size\n",
    "\n",
    "        self.lstm = nn.LSTM(input_size, hidden_layer_size)\n",
    "\n",
    "        self.linear_1 = nn.Linear(hidden_layer_size, output_size)\n",
    "        \n",
    "        self.linear_2 = nn.Linear(window_size, output_size)\n",
    "\n",
    "        self.hidden_cell = (torch.zeros(1,300,self.hidden_layer_size),\n",
    "                            torch.zeros(1,300,self.hidden_layer_size))\n",
    "\n",
    "    def forward(self, input_seq):\n",
    "        lstm_out, self.hidden_cell = self.lstm(input_seq, self.hidden_cell)\n",
    "        linear = self.linear_1(lstm_out).squeeze(2)\n",
    "        #linear2 = self.linear_2(linear)\n",
    "        return linear[:,-1]"
   ]
  },
  {
   "cell_type": "code",
   "execution_count": null,
   "metadata": {},
   "outputs": [],
   "source": [
    "model = LSTM()\n",
    "loss_function = nn.MSELoss()\n",
    "\n",
    "model.to('cuda')"
   ]
  },
  {
   "cell_type": "code",
   "execution_count": null,
   "metadata": {},
   "outputs": [],
   "source": []
  },
  {
   "cell_type": "code",
   "execution_count": null,
   "metadata": {},
   "outputs": [],
   "source": [
    "batch_size = 128"
   ]
  },
  {
   "cell_type": "code",
   "execution_count": null,
   "metadata": {},
   "outputs": [],
   "source": [
    "batches_time_tensor = torch.split(torch.tensor(batches_time), batch_size)"
   ]
  },
  {
   "cell_type": "code",
   "execution_count": null,
   "metadata": {},
   "outputs": [],
   "source": []
  },
  {
   "cell_type": "code",
   "execution_count": null,
   "metadata": {},
   "outputs": [],
   "source": [
    "batches_area_tensor = torch.split(torch.tensor(batches_area), batch_size)\n",
    "batches_target_tensor = torch.split(torch.tensor(batches_y), batch_size)"
   ]
  },
  {
   "cell_type": "code",
   "execution_count": null,
   "metadata": {},
   "outputs": [],
   "source": [
    "ids_tensor = torch.split(torch.tensor(ids), batch_size)"
   ]
  },
  {
   "cell_type": "code",
   "execution_count": null,
   "metadata": {},
   "outputs": [],
   "source": [
    "len(ids_tensor)"
   ]
  },
  {
   "cell_type": "code",
   "execution_count": null,
   "metadata": {},
   "outputs": [],
   "source": [
    "val_batches_time = batches_time_tensor[-5:]\n",
    "val_batches_area = batches_area_tensor[-5:]\n",
    "val_batches_target = batches_target_tensor[-5:]\n",
    "val_batches_ids = ids_tensor[-5:]"
   ]
  },
  {
   "cell_type": "code",
   "execution_count": null,
   "metadata": {},
   "outputs": [],
   "source": [
    "def validate():\n",
    "    model.eval()\n",
    "    preds = []\n",
    "    labels = []\n",
    "    with torch.no_grad():\n",
    "        val_loss = 0\n",
    "        for b_idx in tqdm.tqdm(range(5)):\n",
    "        \n",
    "            \n",
    "            ids_batch = val_batches_ids[b_idx][:,0].long().to(device)\n",
    "            time = val_batches_time[b_idx].float().to(device)\n",
    "            area = val_batches_area[b_idx].float().to(device)\n",
    "\n",
    "            y_pred = model(ids_batch, time, area)\n",
    "\n",
    "            single_loss = loss_function(y_pred[:,:,0], area)\n",
    "            \n",
    "            val_loss += single_loss.item()\n",
    "            #labels.append(val_batches_target[b_idx].flatten()\\\n",
    "                                                            \n",
    "            #preds.append(y_pred.detach().cpu().numpy())\n",
    "        print('Val loss: ', val_loss/5)\n",
    "    #return preds, labels"
   ]
  },
  {
   "cell_type": "code",
   "execution_count": null,
   "metadata": {},
   "outputs": [],
   "source": [
    "validate()"
   ]
  },
  {
   "cell_type": "code",
   "execution_count": null,
   "metadata": {},
   "outputs": [],
   "source": [
    "optimizer = torch.optim.Adam(model.parameters(), lr=0.001)"
   ]
  },
  {
   "cell_type": "code",
   "execution_count": null,
   "metadata": {},
   "outputs": [],
   "source": []
  },
  {
   "cell_type": "code",
   "execution_count": null,
   "metadata": {
    "scrolled": true
   },
   "outputs": [],
   "source": [
    "\n",
    "epochs = 150\n",
    "\n",
    "for i in range(epochs):\n",
    "    model.train()\n",
    "    loss = 0\n",
    "    for b_idx in tqdm.tqdm(range(len(batches_area_tensor[:-5]))):\n",
    "        optimizer.zero_grad()\n",
    "                                 \n",
    "        #model.hidden_cell = (torch.zeros(1, window_size, model.hidden_layer_size).to('cuda'),\n",
    "                        #torch.zeros(1, window_size, model.hidden_layer_size).to('cuda'))\n",
    "        ids_batch = ids_tensor[b_idx][:,0].long().to(device)\n",
    "        time = batches_time_tensor[b_idx].float().to(device)\n",
    "        area = batches_area_tensor[b_idx].float().to(device)\n",
    "        \n",
    "        y_pred = model(ids_batch, time, area)\n",
    "\n",
    "        single_loss = loss_function(y_pred[:,:,0], area)\n",
    "        single_loss.backward()\n",
    "        loss += single_loss.item()                         \n",
    "        optimizer.step()\n",
    "\n",
    "    validate()\n",
    "    print(f'epoch: {i} loss: {loss/len(batches_area_tensor[:-5])}')\n",
    "\n",
    "print(f'epoch: {i:3} loss: {single_loss.item():10.10f}')"
   ]
  },
  {
   "cell_type": "code",
   "execution_count": null,
   "metadata": {},
   "outputs": [],
   "source": [
    "%debug"
   ]
  },
  {
   "cell_type": "code",
   "execution_count": null,
   "metadata": {},
   "outputs": [],
   "source": [
    "ids_batch.shape"
   ]
  },
  {
   "cell_type": "code",
   "execution_count": null,
   "metadata": {},
   "outputs": [],
   "source": [
    "time.shape"
   ]
  },
  {
   "cell_type": "code",
   "execution_count": null,
   "metadata": {
    "scrolled": true
   },
   "outputs": [],
   "source": [
    "single_loss"
   ]
  },
  {
   "cell_type": "code",
   "execution_count": null,
   "metadata": {},
   "outputs": [],
   "source": [
    "model.hidden_cell[0].shape"
   ]
  },
  {
   "cell_type": "code",
   "execution_count": null,
   "metadata": {},
   "outputs": [],
   "source": [
    "model(testing_tensor)"
   ]
  },
  {
   "cell_type": "code",
   "execution_count": null,
   "metadata": {},
   "outputs": [],
   "source": [
    "final_(out).squeeze(2).shape"
   ]
  },
  {
   "cell_type": "code",
   "execution_count": null,
   "metadata": {},
   "outputs": [],
   "source": []
  }
 ],
 "metadata": {
  "kernelspec": {
   "display_name": "Python 3 (ipykernel)",
   "language": "python",
   "name": "python3"
  },
  "language_info": {
   "codemirror_mode": {
    "name": "ipython",
    "version": 3
   },
   "file_extension": ".py",
   "mimetype": "text/x-python",
   "name": "python",
   "nbconvert_exporter": "python",
   "pygments_lexer": "ipython3",
   "version": "3.11.8"
  }
 },
 "nbformat": 4,
 "nbformat_minor": 4
}
