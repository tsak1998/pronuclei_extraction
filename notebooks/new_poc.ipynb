{
 "cells": [
  {
   "cell_type": "code",
   "execution_count": 1,
   "metadata": {},
   "outputs": [],
   "source": [
    "import pandas as pd\n",
    "import tsfresh\n",
    "import numpy as np\n",
    "import matplotlib.pyplot as plt\n",
    "from sklearn.preprocessing import LabelEncoder, StandardScaler\n",
    "\n",
    "from sklearn.model_selection import train_test_split"
   ]
  },
  {
   "cell_type": "code",
   "execution_count": 9,
   "metadata": {},
   "outputs": [],
   "source": [
    "df = pd.read_csv('../data/graded_data.csv')"
   ]
  },
  {
   "cell_type": "code",
   "execution_count": 10,
   "metadata": {},
   "outputs": [],
   "source": [
    "target = pd.read_csv('last_attempt.csv')\n",
    "target['id'] = target['Slide ID']+'_'+target['Well'].astype(str)"
   ]
  },
  {
   "cell_type": "code",
   "execution_count": 11,
   "metadata": {},
   "outputs": [],
   "source": [
    "zoe = pd.read_excel('Zoe Final.xlsx')"
   ]
  },
  {
   "cell_type": "code",
   "execution_count": 12,
   "metadata": {},
   "outputs": [],
   "source": [
    "zoe['id'] =  target['Slide ID']+'_'+target['Well'].astype(str)"
   ]
  },
  {
   "cell_type": "code",
   "execution_count": 14,
   "metadata": {},
   "outputs": [],
   "source": [
    "columns = ['id', 'tPNf', 't2', 't3', 't4', 't5', 't6', 'Dynamic Score - Time',\n",
    "          'Dynamic Score - Value' ,\n",
    "           'Morphological Grade - Time', \n",
    "           'Grade at approx. 65h - Zoe',\n",
    "          'Day3 Grade', 'Day3 Cells', \n",
    "           'Fragmentation - Time 1',\n",
    "        'Fragmentation - Value 1',\n",
    "           'Multi Nucleation - Time 1',\n",
    "        'Multi Nucleation - Value 1',\n",
    "          'Blastomere Size - Time 1',\n",
    "        'Blastomere Size - Value 1',\n",
    "           'Pronuclei - Time 1',\n",
    "          'Pronuclei - Value 1']"
   ]
  },
  {
   "cell_type": "code",
   "execution_count": 13,
   "metadata": {},
   "outputs": [],
   "source": [
    "graded_embryoscope = pd.merge(target, zoe[columns].drop_duplicates('id', keep='first'), on='id', how='left')"
   ]
  },
  {
   "cell_type": "code",
   "execution_count": 15,
   "metadata": {},
   "outputs": [],
   "source": [
    "whole = pd.merge(df.drop_duplicates('id', keep='first'), graded_embryoscope, on='id', how='left')"
   ]
  },
  {
   "cell_type": "code",
   "execution_count": null,
   "metadata": {},
   "outputs": [],
   "source": []
  },
  {
   "cell_type": "code",
   "execution_count": 16,
   "metadata": {},
   "outputs": [],
   "source": [
    "extra_feats_cols = ['id', 'Morphological Grade - Value', 'tPNf', 't2', 't3', 't4', 't5', 't6',\n",
    "       'Dynamic Score - Time', \n",
    "       'Morphological Grade - Time', \n",
    "      'Fragmentation - Time 1',\n",
    "       'Fragmentation - Value 1', 'Multi Nucleation - Time 1',\n",
    "       'Multi Nucleation - Value 1', 'Blastomere Size - Time 1',\n",
    "       'Blastomere Size - Value 1', 'Pronuclei - Time 1',\n",
    "       'Pronuclei - Value 1']"
   ]
  },
  {
   "cell_type": "code",
   "execution_count": 17,
   "metadata": {},
   "outputs": [],
   "source": [
    "extra_feats = whole[extra_feats_cols].fillna(value=whole[extra_feats_cols].mean())"
   ]
  },
  {
   "cell_type": "code",
   "execution_count": 18,
   "metadata": {},
   "outputs": [],
   "source": [
    "extra_feats['diff_65'] = extra_feats['t6'] - extra_feats['t5']\n",
    "extra_feats['diff_64'] = extra_feats['t6'] - extra_feats['t4']\n",
    "extra_feats['diff_63'] = extra_feats['t6'] - extra_feats['t3']\n",
    "extra_feats['diff_62'] = extra_feats['t6'] - extra_feats['t2']\n",
    "extra_feats['diff_61'] = extra_feats['t6'] - extra_feats['tPNf']\n",
    "\n",
    "extra_feats['diff_54'] = extra_feats['t5'] - extra_feats['t4']\n",
    "extra_feats['diff_53'] = extra_feats['t5'] - extra_feats['t3']\n",
    "extra_feats['diff_52'] = extra_feats['t5'] - extra_feats['t2']\n",
    "extra_feats['diff_51'] = extra_feats['t5'] - extra_feats['tPNf']\n",
    "\n",
    "\n",
    "extra_feats['diff_43'] = extra_feats['t4'] - extra_feats['t3']\n",
    "extra_feats['diff_42'] = extra_feats['t4'] - extra_feats['t2']\n",
    "extra_feats['diff_41'] = extra_feats['t4'] - extra_feats['tPNf']\n",
    "\n",
    "extra_feats['diff_32'] = extra_feats['t3'] - extra_feats['t2']\n",
    "extra_feats['diff_31'] = extra_feats['t3'] - extra_feats['tPNf']\n",
    "\n",
    "extra_feats['diff_21'] = extra_feats['t2'] - extra_feats['tPNf']"
   ]
  },
  {
   "cell_type": "code",
   "execution_count": 19,
   "metadata": {},
   "outputs": [],
   "source": [
    "timesteps = pd.read_csv('grade_timesteps.csv')"
   ]
  },
  {
   "cell_type": "code",
   "execution_count": 20,
   "metadata": {},
   "outputs": [],
   "source": [
    "timesteps['DT']=timesteps.groupby('id').diff()"
   ]
  },
  {
   "cell_type": "code",
   "execution_count": 21,
   "metadata": {},
   "outputs": [],
   "source": [
    "timesteps = timesteps.groupby('id').DT.mean().reset_index()"
   ]
  },
  {
   "cell_type": "code",
   "execution_count": 22,
   "metadata": {},
   "outputs": [],
   "source": [
    "test =  pd.merge(df, timesteps, 'inner', on='id')"
   ]
  },
  {
   "cell_type": "code",
   "execution_count": 23,
   "metadata": {},
   "outputs": [],
   "source": [
    "test['Time'] = test.groupby('id').DT.cumsum()"
   ]
  },
  {
   "cell_type": "code",
   "execution_count": 24,
   "metadata": {},
   "outputs": [],
   "source": [
    "id_enc = LabelEncoder()"
   ]
  },
  {
   "cell_type": "code",
   "execution_count": 25,
   "metadata": {},
   "outputs": [],
   "source": [
    "df['id'] = id_enc.fit_transform(df['id'])"
   ]
  },
  {
   "cell_type": "code",
   "execution_count": 26,
   "metadata": {},
   "outputs": [],
   "source": [
    "df = df.fillna(value=df.mean())"
   ]
  },
  {
   "cell_type": "code",
   "execution_count": 27,
   "metadata": {},
   "outputs": [],
   "source": [
    "def drop_empty(x):\n",
    "    area = x.area.values\n",
    "    if area.min()>3000:\n",
    "        return x\n",
    "    \n",
    "def get_small_t(x):\n",
    "    if x.Time.iloc[-1]>3:\n",
    "        return x\n",
    "\n",
    "def drop_no_fert(x):\n",
    "    if x.area.values[-1]>5500:\n",
    "        return x\n",
    "\n",
    "def drop_early(x):\n",
    "    if x.Time.max()>4.65:\n",
    "        return x"
   ]
  },
  {
   "cell_type": "code",
   "execution_count": 525,
   "metadata": {},
   "outputs": [],
   "source": [
    "clean = test.groupby('id').apply(get_small_t).reset_index(drop=True)\n",
    "clean = clean.groupby('id').apply(drop_empty).reset_index(drop=True)\n",
    "clean = clean.groupby('id').apply(drop_early).reset_index(drop=True)"
   ]
  },
  {
   "cell_type": "code",
   "execution_count": 526,
   "metadata": {},
   "outputs": [],
   "source": [
    "features_list = ['eccentricity','minor_axis_length', 'major_axis_length',\n",
    "                 'area', 'solidity', 'Time',]"
   ]
  },
  {
   "cell_type": "code",
   "execution_count": 527,
   "metadata": {},
   "outputs": [],
   "source": [
    "def resample_(x):\n",
    "    period = '30min'\n",
    "    new_df = pd.DataFrame()\n",
    "    \n",
    "    for c in x.columns:\n",
    "        if c!='id':\n",
    "            ts = x.loc[x['Time']<=3.51][c]\n",
    "\n",
    "            ts.index = pd.DatetimeIndex(x.loc[x['Time']<=3.51]['Time']*8.64e+13)\n",
    "            ts = ts.resample('30min').mean()\n",
    "            new_df[c] = ts\n",
    "        else:\n",
    "            continue\n",
    "    return new_df\n",
    "\n",
    "\n",
    "resampled_df = clean[['id']+features_list].groupby('id').apply(resample_)"
   ]
  },
  {
   "cell_type": "code",
   "execution_count": 528,
   "metadata": {},
   "outputs": [],
   "source": [
    "resampled_df['Time_1'] = resampled_df['Time']\n",
    "del resampled_df['Time']\n",
    "\n",
    "resampled_df = resampled_df.reset_index()\n",
    "resampled_df['Time_1'] = resampled_df['Time_1']-0.01043"
   ]
  },
  {
   "cell_type": "code",
   "execution_count": 529,
   "metadata": {},
   "outputs": [],
   "source": [
    "X_3 = resampled_df.groupby('id').apply(lambda x: x.loc[x.Time_1<=3]).reset_index(drop=True)\n",
    "X_35 = resampled_df.groupby('id').apply(lambda x: x.loc[x.Time_1<=3.5]).reset_index(drop=True)"
   ]
  },
  {
   "cell_type": "code",
   "execution_count": 530,
   "metadata": {},
   "outputs": [],
   "source": [
    "area_3 = X_3.groupby('id').apply(lambda x: x.area.iloc[-1])\n",
    "area_35 = X_35.groupby('id').apply(lambda x: x.area.iloc[-1])"
   ]
  },
  {
   "cell_type": "code",
   "execution_count": 533,
   "metadata": {},
   "outputs": [],
   "source": [
    "target_area = clean.groupby('id').apply(lambda x: x.loc[x.Time>4.].area.mean())\n",
    "diff = target_area - area_3"
   ]
  },
  {
   "cell_type": "code",
   "execution_count": 535,
   "metadata": {},
   "outputs": [],
   "source": [
    "X_3['area_diff'] = X_['area'].diff()\n",
    "X_3 = X_3.fillna(0)"
   ]
  },
  {
   "cell_type": "code",
   "execution_count": 536,
   "metadata": {},
   "outputs": [],
   "source": [
    "X_3['eccentricity_diff'] = X_3['eccentricity'].diff()\n",
    "X_3 = X_3.fillna(0)"
   ]
  },
  {
   "cell_type": "code",
   "execution_count": 537,
   "metadata": {},
   "outputs": [],
   "source": [
    "X_3['minor_axis_length_diff'] = X_3['minor_axis_length'].diff()\n",
    "X_3 = X_3.fillna(0)"
   ]
  },
  {
   "cell_type": "code",
   "execution_count": 538,
   "metadata": {},
   "outputs": [],
   "source": [
    "X_3['major_axis_length_diff'] = X_3['major_axis_length'].diff()\n",
    "X_3 = X_3.fillna(0)"
   ]
  },
  {
   "cell_type": "code",
   "execution_count": 539,
   "metadata": {},
   "outputs": [],
   "source": [
    "X_3['solidity_diff'] = X_3['solidity'].diff()\n",
    "X_3 = X_3.fillna(0)"
   ]
  },
  {
   "cell_type": "code",
   "execution_count": 540,
   "metadata": {},
   "outputs": [],
   "source": [
    "features_list = ['eccentricity','minor_axis_length', 'major_axis_length',\n",
    "                 'area','area_diff', 'eccentricity_diff', 'solidity', 'Time_1',\n",
    "                'major_axis_length_diff', 'eccentricity_diff', 'minor_axis_length_diff',\n",
    "                'solidity_diff']"
   ]
  },
  {
   "cell_type": "code",
   "execution_count": 541,
   "metadata": {},
   "outputs": [
    {
     "name": "stderr",
     "output_type": "stream",
     "text": [
      "Feature Extraction: 100%|████████████| 140/140 [09:20<00:00,  4.00s/it]\n"
     ]
    }
   ],
   "source": [
    "from tsfresh.feature_extraction import EfficientFCParameters, MinimalFCParameters\n",
    "settings = EfficientFCParameters()\n",
    "# Set here the options of the settings object as shown in the paragraphs below\n",
    "from tsfresh.feature_extraction import extract_features\n",
    "extracted_feats = extract_features(X_3[['id']+features_list].dropna(), default_fc_parameters=settings, column_id='id')"
   ]
  },
  {
   "cell_type": "code",
   "execution_count": 542,
   "metadata": {},
   "outputs": [],
   "source": [
    "extracted_feats_df = pd.DataFrame(extracted_feats)"
   ]
  },
  {
   "cell_type": "code",
   "execution_count": 543,
   "metadata": {},
   "outputs": [],
   "source": [
    "extracted_feats_df = extracted_feats.copy().reset_index()"
   ]
  },
  {
   "cell_type": "code",
   "execution_count": 544,
   "metadata": {},
   "outputs": [],
   "source": [
    "extracted_feats_pca_df = extracted_feats_df.copy()"
   ]
  },
  {
   "cell_type": "code",
   "execution_count": 545,
   "metadata": {},
   "outputs": [],
   "source": [
    "whole = pd.merge(extracted_feats_pca_df, extra_feats, on='id')"
   ]
  },
  {
   "cell_type": "code",
   "execution_count": 546,
   "metadata": {},
   "outputs": [],
   "source": [
    "whole['Morphological Grade - Value'] = whole['Morphological Grade - Value'].replace('ARREST', 4)\n",
    "whole['Morphological Grade - Value'] = whole['Morphological Grade - Value'].replace('2,5', 2.5)\n",
    "whole['Morphological Grade - Value'] = whole['Morphological Grade - Value'].replace('4CC', 3)\n",
    "whole['Morphological Grade - Value'] = whole['Morphological Grade - Value'].replace('ARREST', 4)\n",
    "whole['Morphological Grade - Value'] = whole['Morphological Grade - Value'].replace('2,5', 2.5)\n",
    "whole['Morphological Grade - Value'] = whole['Morphological Grade - Value'].replace('3,5', 3.5)\n",
    "whole['Morphological Grade - Value'] = whole['Morphological Grade - Value'].replace('4AA', 1)\n",
    "whole['Morphological Grade - Value'] = whole['Morphological Grade - Value'].replace('EX1', 4)\n",
    "whole['Morphological Grade - Value'] = whole['Morphological Grade - Value'].replace('1,5', 1.5)\n",
    "whole['Morphological Grade - Value'] = whole['Morphological Grade - Value'].replace('8', 4)\n",
    "whole['Morphological Grade - Value'] = whole['Morphological Grade - Value'].replace('1.2', 1)\n",
    "\n",
    "\n",
    "whole['Morphological Grade - Value'] = whole['Morphological Grade - Value'].astype(float)\n",
    "whole['Morphological Grade - Value'] = whole['Morphological Grade - Value'].replace(5, 4)"
   ]
  },
  {
   "cell_type": "code",
   "execution_count": 547,
   "metadata": {},
   "outputs": [
    {
     "data": {
      "text/plain": [
       "2.0    673\n",
       "2.5    491\n",
       "1.5    372\n",
       "3.0    290\n",
       "1.0    189\n",
       "3.5    116\n",
       "4.0     39\n",
       "Name: Morphological Grade - Value, dtype: int64"
      ]
     },
     "execution_count": 547,
     "metadata": {},
     "output_type": "execute_result"
    }
   ],
   "source": [
    "whole['Morphological Grade - Value'].value_counts()\n"
   ]
  },
  {
   "cell_type": "code",
   "execution_count": 548,
   "metadata": {},
   "outputs": [],
   "source": [
    "whole = whole.dropna(axis=1)"
   ]
  },
  {
   "cell_type": "code",
   "execution_count": 549,
   "metadata": {},
   "outputs": [],
   "source": [
    "lbl_enc = LabelEncoder()"
   ]
  },
  {
   "cell_type": "code",
   "execution_count": 550,
   "metadata": {},
   "outputs": [
    {
     "name": "stderr",
     "output_type": "stream",
     "text": [
      "C:\\Users\\hp\\anaconda3\\lib\\site-packages\\sklearn\\utils\\validation.py:72: DataConversionWarning: A column-vector y was passed when a 1d array was expected. Please change the shape of y to (n_samples, ), for example using ravel().\n",
      "  return f(**kwargs)\n"
     ]
    }
   ],
   "source": [
    "whole['id'] = lbl_enc.fit_transform(whole['id'].values[:,None])"
   ]
  },
  {
   "cell_type": "code",
   "execution_count": 551,
   "metadata": {},
   "outputs": [],
   "source": [
    "X = whole.dropna(axis=1)"
   ]
  },
  {
   "cell_type": "code",
   "execution_count": 552,
   "metadata": {},
   "outputs": [
    {
     "data": {
      "text/html": [
       "<div>\n",
       "<style scoped>\n",
       "    .dataframe tbody tr th:only-of-type {\n",
       "        vertical-align: middle;\n",
       "    }\n",
       "\n",
       "    .dataframe tbody tr th {\n",
       "        vertical-align: top;\n",
       "    }\n",
       "\n",
       "    .dataframe thead th {\n",
       "        text-align: right;\n",
       "    }\n",
       "</style>\n",
       "<table border=\"1\" class=\"dataframe\">\n",
       "  <thead>\n",
       "    <tr style=\"text-align: right;\">\n",
       "      <th></th>\n",
       "      <th>id</th>\n",
       "      <th>Time_1__abs_energy</th>\n",
       "      <th>Time_1__absolute_sum_of_changes</th>\n",
       "      <th>Time_1__agg_autocorrelation__f_agg_\"mean\"__maxlag_40</th>\n",
       "      <th>Time_1__agg_autocorrelation__f_agg_\"median\"__maxlag_40</th>\n",
       "      <th>Time_1__agg_autocorrelation__f_agg_\"var\"__maxlag_40</th>\n",
       "      <th>Time_1__agg_linear_trend__attr_\"intercept\"__chunk_len_10__f_agg_\"max\"</th>\n",
       "      <th>Time_1__agg_linear_trend__attr_\"intercept\"__chunk_len_10__f_agg_\"mean\"</th>\n",
       "      <th>Time_1__agg_linear_trend__attr_\"intercept\"__chunk_len_10__f_agg_\"min\"</th>\n",
       "      <th>Time_1__agg_linear_trend__attr_\"intercept\"__chunk_len_10__f_agg_\"var\"</th>\n",
       "      <th>...</th>\n",
       "      <th>diff_54</th>\n",
       "      <th>diff_53</th>\n",
       "      <th>diff_52</th>\n",
       "      <th>diff_51</th>\n",
       "      <th>diff_43</th>\n",
       "      <th>diff_42</th>\n",
       "      <th>diff_41</th>\n",
       "      <th>diff_32</th>\n",
       "      <th>diff_31</th>\n",
       "      <th>diff_21</th>\n",
       "    </tr>\n",
       "  </thead>\n",
       "  <tbody>\n",
       "    <tr>\n",
       "      <th>0</th>\n",
       "      <td>0</td>\n",
       "      <td>436.333952</td>\n",
       "      <td>2.999241</td>\n",
       "      <td>0.664593</td>\n",
       "      <td>0.677094</td>\n",
       "      <td>0.041784</td>\n",
       "      <td>0.197996</td>\n",
       "      <td>0.098346</td>\n",
       "      <td>-0.000647</td>\n",
       "      <td>0.003887</td>\n",
       "      <td>...</td>\n",
       "      <td>-7.622750</td>\n",
       "      <td>-0.288166</td>\n",
       "      <td>12.714019</td>\n",
       "      <td>16.051122</td>\n",
       "      <td>7.334585</td>\n",
       "      <td>20.336769</td>\n",
       "      <td>23.673873</td>\n",
       "      <td>13.002184</td>\n",
       "      <td>16.339288</td>\n",
       "      <td>3.337104</td>\n",
       "    </tr>\n",
       "    <tr>\n",
       "      <th>1</th>\n",
       "      <td>1</td>\n",
       "      <td>436.329832</td>\n",
       "      <td>2.999124</td>\n",
       "      <td>0.664635</td>\n",
       "      <td>0.677134</td>\n",
       "      <td>0.041774</td>\n",
       "      <td>0.197988</td>\n",
       "      <td>0.098336</td>\n",
       "      <td>-0.000648</td>\n",
       "      <td>0.003887</td>\n",
       "      <td>...</td>\n",
       "      <td>9.900518</td>\n",
       "      <td>11.630165</td>\n",
       "      <td>21.392493</td>\n",
       "      <td>24.623815</td>\n",
       "      <td>1.729647</td>\n",
       "      <td>11.491976</td>\n",
       "      <td>14.723297</td>\n",
       "      <td>9.762328</td>\n",
       "      <td>12.993650</td>\n",
       "      <td>3.231321</td>\n",
       "    </tr>\n",
       "    <tr>\n",
       "      <th>2</th>\n",
       "      <td>2</td>\n",
       "      <td>436.330526</td>\n",
       "      <td>2.999126</td>\n",
       "      <td>0.664635</td>\n",
       "      <td>0.677134</td>\n",
       "      <td>0.041774</td>\n",
       "      <td>0.197988</td>\n",
       "      <td>0.098336</td>\n",
       "      <td>-0.000648</td>\n",
       "      <td>0.003887</td>\n",
       "      <td>...</td>\n",
       "      <td>14.026713</td>\n",
       "      <td>16.354329</td>\n",
       "      <td>30.682190</td>\n",
       "      <td>32.639721</td>\n",
       "      <td>2.327616</td>\n",
       "      <td>16.655477</td>\n",
       "      <td>18.613008</td>\n",
       "      <td>14.327861</td>\n",
       "      <td>16.285392</td>\n",
       "      <td>1.957531</td>\n",
       "    </tr>\n",
       "    <tr>\n",
       "      <th>3</th>\n",
       "      <td>3</td>\n",
       "      <td>436.347588</td>\n",
       "      <td>2.999185</td>\n",
       "      <td>0.664635</td>\n",
       "      <td>0.677134</td>\n",
       "      <td>0.041774</td>\n",
       "      <td>0.197992</td>\n",
       "      <td>0.098338</td>\n",
       "      <td>-0.000648</td>\n",
       "      <td>0.003887</td>\n",
       "      <td>...</td>\n",
       "      <td>9.900518</td>\n",
       "      <td>11.630165</td>\n",
       "      <td>21.392493</td>\n",
       "      <td>24.623815</td>\n",
       "      <td>1.729647</td>\n",
       "      <td>11.491976</td>\n",
       "      <td>14.723297</td>\n",
       "      <td>9.762328</td>\n",
       "      <td>12.993650</td>\n",
       "      <td>3.231321</td>\n",
       "    </tr>\n",
       "    <tr>\n",
       "      <th>4</th>\n",
       "      <td>4</td>\n",
       "      <td>436.347933</td>\n",
       "      <td>2.999186</td>\n",
       "      <td>0.664635</td>\n",
       "      <td>0.677134</td>\n",
       "      <td>0.041774</td>\n",
       "      <td>0.197992</td>\n",
       "      <td>0.098338</td>\n",
       "      <td>-0.000648</td>\n",
       "      <td>0.003887</td>\n",
       "      <td>...</td>\n",
       "      <td>3.334188</td>\n",
       "      <td>3.334188</td>\n",
       "      <td>14.336666</td>\n",
       "      <td>16.997362</td>\n",
       "      <td>0.000000</td>\n",
       "      <td>11.002478</td>\n",
       "      <td>13.663174</td>\n",
       "      <td>11.002478</td>\n",
       "      <td>13.663174</td>\n",
       "      <td>2.660696</td>\n",
       "    </tr>\n",
       "    <tr>\n",
       "      <th>...</th>\n",
       "      <td>...</td>\n",
       "      <td>...</td>\n",
       "      <td>...</td>\n",
       "      <td>...</td>\n",
       "      <td>...</td>\n",
       "      <td>...</td>\n",
       "      <td>...</td>\n",
       "      <td>...</td>\n",
       "      <td>...</td>\n",
       "      <td>...</td>\n",
       "      <td>...</td>\n",
       "      <td>...</td>\n",
       "      <td>...</td>\n",
       "      <td>...</td>\n",
       "      <td>...</td>\n",
       "      <td>...</td>\n",
       "      <td>...</td>\n",
       "      <td>...</td>\n",
       "      <td>...</td>\n",
       "      <td>...</td>\n",
       "      <td>...</td>\n",
       "    </tr>\n",
       "    <tr>\n",
       "      <th>2165</th>\n",
       "      <td>2165</td>\n",
       "      <td>434.524361</td>\n",
       "      <td>2.995757</td>\n",
       "      <td>0.664610</td>\n",
       "      <td>0.677263</td>\n",
       "      <td>0.041855</td>\n",
       "      <td>0.193629</td>\n",
       "      <td>0.094330</td>\n",
       "      <td>-0.003961</td>\n",
       "      <td>0.003854</td>\n",
       "      <td>...</td>\n",
       "      <td>9.900518</td>\n",
       "      <td>11.630165</td>\n",
       "      <td>21.392493</td>\n",
       "      <td>24.623815</td>\n",
       "      <td>1.729647</td>\n",
       "      <td>11.491976</td>\n",
       "      <td>14.723297</td>\n",
       "      <td>9.762328</td>\n",
       "      <td>12.993650</td>\n",
       "      <td>3.231321</td>\n",
       "    </tr>\n",
       "    <tr>\n",
       "      <th>2166</th>\n",
       "      <td>2166</td>\n",
       "      <td>434.544344</td>\n",
       "      <td>2.995826</td>\n",
       "      <td>0.664610</td>\n",
       "      <td>0.677263</td>\n",
       "      <td>0.041855</td>\n",
       "      <td>0.193633</td>\n",
       "      <td>0.094333</td>\n",
       "      <td>-0.003961</td>\n",
       "      <td>0.003854</td>\n",
       "      <td>...</td>\n",
       "      <td>16.330660</td>\n",
       "      <td>17.673914</td>\n",
       "      <td>29.003620</td>\n",
       "      <td>36.467566</td>\n",
       "      <td>1.343253</td>\n",
       "      <td>12.672959</td>\n",
       "      <td>20.136905</td>\n",
       "      <td>11.329706</td>\n",
       "      <td>18.793652</td>\n",
       "      <td>7.463946</td>\n",
       "    </tr>\n",
       "    <tr>\n",
       "      <th>2167</th>\n",
       "      <td>2167</td>\n",
       "      <td>434.545014</td>\n",
       "      <td>2.995828</td>\n",
       "      <td>0.664610</td>\n",
       "      <td>0.677263</td>\n",
       "      <td>0.041855</td>\n",
       "      <td>0.193634</td>\n",
       "      <td>0.094333</td>\n",
       "      <td>-0.003961</td>\n",
       "      <td>0.003854</td>\n",
       "      <td>...</td>\n",
       "      <td>17.075098</td>\n",
       "      <td>17.075098</td>\n",
       "      <td>27.432342</td>\n",
       "      <td>31.173044</td>\n",
       "      <td>0.000000</td>\n",
       "      <td>10.357244</td>\n",
       "      <td>14.097946</td>\n",
       "      <td>10.357244</td>\n",
       "      <td>14.097946</td>\n",
       "      <td>3.740702</td>\n",
       "    </tr>\n",
       "    <tr>\n",
       "      <th>2168</th>\n",
       "      <td>2168</td>\n",
       "      <td>434.553584</td>\n",
       "      <td>2.995857</td>\n",
       "      <td>0.664610</td>\n",
       "      <td>0.677263</td>\n",
       "      <td>0.041855</td>\n",
       "      <td>0.193636</td>\n",
       "      <td>0.094334</td>\n",
       "      <td>-0.003961</td>\n",
       "      <td>0.003854</td>\n",
       "      <td>...</td>\n",
       "      <td>15.670112</td>\n",
       "      <td>16.003515</td>\n",
       "      <td>27.673169</td>\n",
       "      <td>30.327652</td>\n",
       "      <td>0.333403</td>\n",
       "      <td>12.003057</td>\n",
       "      <td>14.657540</td>\n",
       "      <td>11.669654</td>\n",
       "      <td>14.324137</td>\n",
       "      <td>2.654483</td>\n",
       "    </tr>\n",
       "    <tr>\n",
       "      <th>2169</th>\n",
       "      <td>2169</td>\n",
       "      <td>434.558009</td>\n",
       "      <td>2.995872</td>\n",
       "      <td>0.664610</td>\n",
       "      <td>0.677263</td>\n",
       "      <td>0.041855</td>\n",
       "      <td>0.193637</td>\n",
       "      <td>0.094334</td>\n",
       "      <td>-0.003961</td>\n",
       "      <td>0.003854</td>\n",
       "      <td>...</td>\n",
       "      <td>3.799502</td>\n",
       "      <td>3.799502</td>\n",
       "      <td>14.802253</td>\n",
       "      <td>24.623815</td>\n",
       "      <td>0.000000</td>\n",
       "      <td>11.002752</td>\n",
       "      <td>20.824313</td>\n",
       "      <td>11.002752</td>\n",
       "      <td>20.824313</td>\n",
       "      <td>9.821561</td>\n",
       "    </tr>\n",
       "  </tbody>\n",
       "</table>\n",
       "<p>2170 rows × 7279 columns</p>\n",
       "</div>"
      ],
      "text/plain": [
       "        id  Time_1__abs_energy  Time_1__absolute_sum_of_changes  \\\n",
       "0        0          436.333952                         2.999241   \n",
       "1        1          436.329832                         2.999124   \n",
       "2        2          436.330526                         2.999126   \n",
       "3        3          436.347588                         2.999185   \n",
       "4        4          436.347933                         2.999186   \n",
       "...    ...                 ...                              ...   \n",
       "2165  2165          434.524361                         2.995757   \n",
       "2166  2166          434.544344                         2.995826   \n",
       "2167  2167          434.545014                         2.995828   \n",
       "2168  2168          434.553584                         2.995857   \n",
       "2169  2169          434.558009                         2.995872   \n",
       "\n",
       "      Time_1__agg_autocorrelation__f_agg_\"mean\"__maxlag_40  \\\n",
       "0                                              0.664593      \n",
       "1                                              0.664635      \n",
       "2                                              0.664635      \n",
       "3                                              0.664635      \n",
       "4                                              0.664635      \n",
       "...                                                 ...      \n",
       "2165                                           0.664610      \n",
       "2166                                           0.664610      \n",
       "2167                                           0.664610      \n",
       "2168                                           0.664610      \n",
       "2169                                           0.664610      \n",
       "\n",
       "      Time_1__agg_autocorrelation__f_agg_\"median\"__maxlag_40  \\\n",
       "0                                              0.677094        \n",
       "1                                              0.677134        \n",
       "2                                              0.677134        \n",
       "3                                              0.677134        \n",
       "4                                              0.677134        \n",
       "...                                                 ...        \n",
       "2165                                           0.677263        \n",
       "2166                                           0.677263        \n",
       "2167                                           0.677263        \n",
       "2168                                           0.677263        \n",
       "2169                                           0.677263        \n",
       "\n",
       "      Time_1__agg_autocorrelation__f_agg_\"var\"__maxlag_40  \\\n",
       "0                                              0.041784     \n",
       "1                                              0.041774     \n",
       "2                                              0.041774     \n",
       "3                                              0.041774     \n",
       "4                                              0.041774     \n",
       "...                                                 ...     \n",
       "2165                                           0.041855     \n",
       "2166                                           0.041855     \n",
       "2167                                           0.041855     \n",
       "2168                                           0.041855     \n",
       "2169                                           0.041855     \n",
       "\n",
       "      Time_1__agg_linear_trend__attr_\"intercept\"__chunk_len_10__f_agg_\"max\"  \\\n",
       "0                                              0.197996                       \n",
       "1                                              0.197988                       \n",
       "2                                              0.197988                       \n",
       "3                                              0.197992                       \n",
       "4                                              0.197992                       \n",
       "...                                                 ...                       \n",
       "2165                                           0.193629                       \n",
       "2166                                           0.193633                       \n",
       "2167                                           0.193634                       \n",
       "2168                                           0.193636                       \n",
       "2169                                           0.193637                       \n",
       "\n",
       "      Time_1__agg_linear_trend__attr_\"intercept\"__chunk_len_10__f_agg_\"mean\"  \\\n",
       "0                                              0.098346                        \n",
       "1                                              0.098336                        \n",
       "2                                              0.098336                        \n",
       "3                                              0.098338                        \n",
       "4                                              0.098338                        \n",
       "...                                                 ...                        \n",
       "2165                                           0.094330                        \n",
       "2166                                           0.094333                        \n",
       "2167                                           0.094333                        \n",
       "2168                                           0.094334                        \n",
       "2169                                           0.094334                        \n",
       "\n",
       "      Time_1__agg_linear_trend__attr_\"intercept\"__chunk_len_10__f_agg_\"min\"  \\\n",
       "0                                             -0.000647                       \n",
       "1                                             -0.000648                       \n",
       "2                                             -0.000648                       \n",
       "3                                             -0.000648                       \n",
       "4                                             -0.000648                       \n",
       "...                                                 ...                       \n",
       "2165                                          -0.003961                       \n",
       "2166                                          -0.003961                       \n",
       "2167                                          -0.003961                       \n",
       "2168                                          -0.003961                       \n",
       "2169                                          -0.003961                       \n",
       "\n",
       "      Time_1__agg_linear_trend__attr_\"intercept\"__chunk_len_10__f_agg_\"var\"  \\\n",
       "0                                              0.003887                       \n",
       "1                                              0.003887                       \n",
       "2                                              0.003887                       \n",
       "3                                              0.003887                       \n",
       "4                                              0.003887                       \n",
       "...                                                 ...                       \n",
       "2165                                           0.003854                       \n",
       "2166                                           0.003854                       \n",
       "2167                                           0.003854                       \n",
       "2168                                           0.003854                       \n",
       "2169                                           0.003854                       \n",
       "\n",
       "      ...    diff_54    diff_53    diff_52    diff_51   diff_43    diff_42  \\\n",
       "0     ...  -7.622750  -0.288166  12.714019  16.051122  7.334585  20.336769   \n",
       "1     ...   9.900518  11.630165  21.392493  24.623815  1.729647  11.491976   \n",
       "2     ...  14.026713  16.354329  30.682190  32.639721  2.327616  16.655477   \n",
       "3     ...   9.900518  11.630165  21.392493  24.623815  1.729647  11.491976   \n",
       "4     ...   3.334188   3.334188  14.336666  16.997362  0.000000  11.002478   \n",
       "...   ...        ...        ...        ...        ...       ...        ...   \n",
       "2165  ...   9.900518  11.630165  21.392493  24.623815  1.729647  11.491976   \n",
       "2166  ...  16.330660  17.673914  29.003620  36.467566  1.343253  12.672959   \n",
       "2167  ...  17.075098  17.075098  27.432342  31.173044  0.000000  10.357244   \n",
       "2168  ...  15.670112  16.003515  27.673169  30.327652  0.333403  12.003057   \n",
       "2169  ...   3.799502   3.799502  14.802253  24.623815  0.000000  11.002752   \n",
       "\n",
       "        diff_41    diff_32    diff_31   diff_21  \n",
       "0     23.673873  13.002184  16.339288  3.337104  \n",
       "1     14.723297   9.762328  12.993650  3.231321  \n",
       "2     18.613008  14.327861  16.285392  1.957531  \n",
       "3     14.723297   9.762328  12.993650  3.231321  \n",
       "4     13.663174  11.002478  13.663174  2.660696  \n",
       "...         ...        ...        ...       ...  \n",
       "2165  14.723297   9.762328  12.993650  3.231321  \n",
       "2166  20.136905  11.329706  18.793652  7.463946  \n",
       "2167  14.097946  10.357244  14.097946  3.740702  \n",
       "2168  14.657540  11.669654  14.324137  2.654483  \n",
       "2169  20.824313  11.002752  20.824313  9.821561  \n",
       "\n",
       "[2170 rows x 7279 columns]"
      ]
     },
     "execution_count": 552,
     "metadata": {},
     "output_type": "execute_result"
    }
   ],
   "source": [
    "X.dropna(axis=0)"
   ]
  },
  {
   "cell_type": "code",
   "execution_count": 553,
   "metadata": {},
   "outputs": [
    {
     "data": {
      "text/plain": [
       "<matplotlib.axes._subplots.AxesSubplot at 0x1b63aed5408>"
      ]
     },
     "execution_count": 553,
     "metadata": {},
     "output_type": "execute_result"
    },
    {
     "data": {
      "image/png": "[encoded data removed]",
      "text/plain": [
       "<Figure size 432x288 with 1 Axes>"
      ]
     },
     "metadata": {
      "needs_background": "light"
     },
     "output_type": "display_data"
    }
   ],
   "source": [
    "diff.hist(bins=50)"
   ]
  },
  {
   "cell_type": "code",
   "execution_count": 593,
   "metadata": {},
   "outputs": [],
   "source": [
    "metric = pd.DataFrame()"
   ]
  },
  {
   "cell_type": "code",
   "execution_count": 594,
   "metadata": {},
   "outputs": [],
   "source": [
    "metric['metric'] = (np.log((diff-diff.min()+0.01).values/X['Morphological Grade - Value']))"
   ]
  },
  {
   "cell_type": "code",
   "execution_count": 595,
   "metadata": {},
   "outputs": [
    {
     "data": {
      "text/html": [
       "<div>\n",
       "<style scoped>\n",
       "    .dataframe tbody tr th:only-of-type {\n",
       "        vertical-align: middle;\n",
       "    }\n",
       "\n",
       "    .dataframe tbody tr th {\n",
       "        vertical-align: top;\n",
       "    }\n",
       "\n",
       "    .dataframe thead th {\n",
       "        text-align: right;\n",
       "    }\n",
       "</style>\n",
       "<table border=\"1\" class=\"dataframe\">\n",
       "  <thead>\n",
       "    <tr style=\"text-align: right;\">\n",
       "      <th></th>\n",
       "      <th>metric</th>\n",
       "    </tr>\n",
       "  </thead>\n",
       "  <tbody>\n",
       "    <tr>\n",
       "      <th>0</th>\n",
       "      <td>7.437796</td>\n",
       "    </tr>\n",
       "    <tr>\n",
       "      <th>1</th>\n",
       "      <td>6.663441</td>\n",
       "    </tr>\n",
       "    <tr>\n",
       "      <th>2</th>\n",
       "      <td>6.797995</td>\n",
       "    </tr>\n",
       "    <tr>\n",
       "      <th>3</th>\n",
       "      <td>8.153150</td>\n",
       "    </tr>\n",
       "    <tr>\n",
       "      <th>4</th>\n",
       "      <td>6.608067</td>\n",
       "    </tr>\n",
       "    <tr>\n",
       "      <th>...</th>\n",
       "      <td>...</td>\n",
       "    </tr>\n",
       "    <tr>\n",
       "      <th>2165</th>\n",
       "      <td>6.543521</td>\n",
       "    </tr>\n",
       "    <tr>\n",
       "      <th>2166</th>\n",
       "      <td>6.866209</td>\n",
       "    </tr>\n",
       "    <tr>\n",
       "      <th>2167</th>\n",
       "      <td>7.081122</td>\n",
       "    </tr>\n",
       "    <tr>\n",
       "      <th>2168</th>\n",
       "      <td>7.082026</td>\n",
       "    </tr>\n",
       "    <tr>\n",
       "      <th>2169</th>\n",
       "      <td>6.618215</td>\n",
       "    </tr>\n",
       "  </tbody>\n",
       "</table>\n",
       "<p>2170 rows × 1 columns</p>\n",
       "</div>"
      ],
      "text/plain": [
       "        metric\n",
       "0     7.437796\n",
       "1     6.663441\n",
       "2     6.797995\n",
       "3     8.153150\n",
       "4     6.608067\n",
       "...        ...\n",
       "2165  6.543521\n",
       "2166  6.866209\n",
       "2167  7.081122\n",
       "2168  7.082026\n",
       "2169  6.618215\n",
       "\n",
       "[2170 rows x 1 columns]"
      ]
     },
     "execution_count": 595,
     "metadata": {},
     "output_type": "execute_result"
    }
   ],
   "source": [
    "metric"
   ]
  },
  {
   "cell_type": "code",
   "execution_count": 596,
   "metadata": {},
   "outputs": [],
   "source": [
    "metric['id'] = diff.index"
   ]
  },
  {
   "cell_type": "code",
   "execution_count": 597,
   "metadata": {},
   "outputs": [],
   "source": [
    "metric.index = metric['id']"
   ]
  },
  {
   "cell_type": "code",
   "execution_count": 604,
   "metadata": {},
   "outputs": [
    {
     "data": {
      "text/plain": [
       "<matplotlib.axes._subplots.AxesSubplot at 0x1b4f60193c8>"
      ]
     },
     "execution_count": 604,
     "metadata": {},
     "output_type": "execute_result"
    },
    {
     "data": {
      "image/png": "[encoded data removed]",
      "text/plain": [
       "<Figure size 432x288 with 1 Axes>"
      ]
     },
     "metadata": {
      "needs_background": "light"
     },
     "output_type": "display_data"
    }
   ],
   "source": [
    "metric['metric'].hist(bins=100)"
   ]
  },
  {
   "cell_type": "code",
   "execution_count": 560,
   "metadata": {},
   "outputs": [],
   "source": [
    "y_class = metric.copy()\n",
    "y_class.loc[metric['metric']>=8] = 'Great'\n",
    "y_class.loc[(metric['metric']<8)&(metric['metric']>=5)] = 'Good'\n",
    "y_class.loc[(metric['metric']<5)&(metric['metric']>=3.5)] = 'OK'\n",
    "y_class.loc[(metric['metric']<3.5)] = 'Crap'"
   ]
  },
  {
   "cell_type": "code",
   "execution_count": 605,
   "metadata": {},
   "outputs": [],
   "source": [
    "y_class = metric.copy()\n",
    "y_class.loc[metric['metric']>=8.5] = 'Great'\n",
    "y_class.loc[(metric['metric']<8.5)&(metric['metric']>=7.5)] = 'Good'\n",
    "y_class.loc[(metric['metric']<7.5)&(metric['metric']>=6.)] = 'OK'\n",
    "y_class.loc[(metric['metric']<6.)] = 'Crap'"
   ]
  },
  {
   "cell_type": "code",
   "execution_count": 607,
   "metadata": {},
   "outputs": [
    {
     "data": {
      "text/plain": [
       "OK       1386\n",
       "Good      575\n",
       "Great     131\n",
       "Crap       78\n",
       "Name: metric, dtype: int64"
      ]
     },
     "execution_count": 607,
     "metadata": {},
     "output_type": "execute_result"
    }
   ],
   "source": [
    "y_class['metric'].value_counts()"
   ]
  },
  {
   "cell_type": "code",
   "execution_count": 582,
   "metadata": {},
   "outputs": [],
   "source": [
    "y_class['grade'] = X['Morphological Grade - Value'].values"
   ]
  },
  {
   "cell_type": "code",
   "execution_count": 583,
   "metadata": {},
   "outputs": [
    {
     "data": {
      "text/plain": [
       "id\n",
       "D2016.01.05_S1181_I149_10       2.0\n",
       "D2016.01.05_S1181_I149_3        2.5\n",
       "D2016.01.05_S1181_I149_5        2.5\n",
       "D2016.01.05_S1181_I149_6        2.0\n",
       "D2016.01.05_S1181_I149_7        2.5\n",
       "                               ... \n",
       "D2019.05.29_S02006_I0149_D_2    1.5\n",
       "D2019.05.29_S02006_I0149_D_4    2.0\n",
       "D2019.05.29_S02006_I0149_D_5    2.5\n",
       "D2019.05.29_S02006_I0149_D_7    2.0\n",
       "D2019.05.29_S02006_I0149_D_8    2.5\n",
       "Name: grade, Length: 2170, dtype: float64"
      ]
     },
     "execution_count": 583,
     "metadata": {},
     "output_type": "execute_result"
    }
   ],
   "source": [
    "y_class['grade']"
   ]
  },
  {
   "cell_type": "code",
   "execution_count": 584,
   "metadata": {},
   "outputs": [
    {
     "data": {
      "text/plain": [
       "metric     \n",
       "Crap    2.5    454\n",
       "        3.0    290\n",
       "        3.5    116\n",
       "        4.0     39\n",
       "        2.0     30\n",
       "        1.5      1\n",
       "Good    1.5    298\n",
       "        1.0     79\n",
       "Great   1.0    110\n",
       "OK      2.0    643\n",
       "        1.5     73\n",
       "        2.5     37\n",
       "Name: grade, dtype: int64"
      ]
     },
     "execution_count": 584,
     "metadata": {},
     "output_type": "execute_result"
    }
   ],
   "source": [
    "y_class.groupby('metric').grade.apply(lambda x: x.value_counts())"
   ]
  },
  {
   "cell_type": "code",
   "execution_count": 608,
   "metadata": {},
   "outputs": [],
   "source": [
    "y_class = y_class.fillna(value='OK')"
   ]
  },
  {
   "cell_type": "code",
   "execution_count": 609,
   "metadata": {},
   "outputs": [],
   "source": [
    "y_enc = y_class['metric'].values"
   ]
  },
  {
   "cell_type": "code",
   "execution_count": 564,
   "metadata": {},
   "outputs": [],
   "source": [
    "train_idx = lbl_enc.transform(np.load('train_ids.npy',allow_pickle=True))\n",
    "test_idx = lbl_enc.transform(np.load('test_ids.npy',allow_pickle=True))"
   ]
  },
  {
   "cell_type": "code",
   "execution_count": 565,
   "metadata": {},
   "outputs": [],
   "source": [
    "from lightgbm import LGBMRegressor, LGBMClassifier, plot_importance\n",
    "import lightgbm as lgb\n",
    "from sklearn.metrics import accuracy_score, confusion_matrix, r2_score"
   ]
  },
  {
   "cell_type": "code",
   "execution_count": 566,
   "metadata": {},
   "outputs": [],
   "source": [
    "#del X['id']"
   ]
  },
  {
   "cell_type": "code",
   "execution_count": 567,
   "metadata": {},
   "outputs": [],
   "source": [
    "from sklearn.model_selection import train_test_split, KFold\n",
    "Nfolds = 10\n",
    "kfold = KFold(Nfolds)"
   ]
  },
  {
   "cell_type": "code",
   "execution_count": 568,
   "metadata": {},
   "outputs": [],
   "source": [
    "lgb_params = {'verbose': 100, 'objective': 'multiclass', 'num_rounds':1000 ,\n",
    "          'num_class':4}"
   ]
  },
  {
   "cell_type": "code",
   "execution_count": 569,
   "metadata": {},
   "outputs": [],
   "source": [
    "X_no_grade = X.drop('Morphological Grade - Value',axis=1)"
   ]
  },
  {
   "cell_type": "code",
   "execution_count": 611,
   "metadata": {},
   "outputs": [
    {
     "name": "stdout",
     "output_type": "stream",
     "text": [
      "accuracy:  0.901840490797546\n",
      "accuracy:  0.9171779141104295\n",
      "accuracy:  0.8834355828220859\n",
      "accuracy:  0.8865030674846626\n",
      "accuracy:  0.901840490797546\n",
      "accuracy:  0.8865030674846626\n",
      "accuracy:  0.8895705521472392\n",
      "accuracy:  0.8926380368098159\n",
      "accuracy:  0.8803680981595092\n",
      "accuracy:  0.8834355828220859\n"
     ]
    }
   ],
   "source": [
    "for train_idx, valid_idx in kfold.split(X, y_enc):\n",
    "    X_train, X_test = X_no_grade.iloc[train_idx,:200].values, X_no_grade.iloc[test_idx,:200].values\n",
    "\n",
    "    y_train, y_test = y_enc[train_idx], y_enc[test_idx]\n",
    "\n",
    "    lgb_train = lgb.Dataset(X_train, y_train, params={'verbose': -1}, free_raw_data=False)\n",
    "    lgb_eval = lgb.Dataset(X_test, y_test, params={'verbose': -1},free_raw_data=False)\n",
    "    clf = LGBMClassifier()\n",
    "    clf.fit(X_train,y_train)\n",
    "    preds = clf.predict(X_test)\n",
    "    print('accuracy: ', accuracy_score(preds, y_test))"
   ]
  },
  {
   "cell_type": "code",
   "execution_count": 612,
   "metadata": {},
   "outputs": [
    {
     "data": {
      "text/plain": [
       "array([[ 10,   0,   0,   0],\n",
       "       [  0,  58,   0,   8],\n",
       "       [  0,   0,  15,   0],\n",
       "       [  1,  27,   2, 205]], dtype=int64)"
      ]
     },
     "execution_count": 612,
     "metadata": {},
     "output_type": "execute_result"
    }
   ],
   "source": [
    "confusion_matrix(preds, y_test)"
   ]
  },
  {
   "cell_type": "code",
   "execution_count": 571,
   "metadata": {},
   "outputs": [],
   "source": [
    "diff = diff.fillna(value=diff.mean())"
   ]
  },
  {
   "cell_type": "code",
   "execution_count": 572,
   "metadata": {},
   "outputs": [
    {
     "name": "stdout",
     "output_type": "stream",
     "text": [
      "accuracy:  0.8655970628658186\n",
      "accuracy:  0.8455064710135328\n",
      "accuracy:  0.7619951588559519\n",
      "accuracy:  0.8351162027152501\n",
      "accuracy:  0.7107917220159273\n",
      "accuracy:  0.9072698997326385\n",
      "accuracy:  0.8670395823420177\n",
      "accuracy:  0.8172546889432282\n",
      "accuracy:  0.8360264274082734\n",
      "accuracy:  0.8673957508478476\n"
     ]
    }
   ],
   "source": [
    "for train_idx, valid_idx in kfold.split(X, diff):\n",
    "    X_train, X_test = X_no_grade.iloc[train_idx,:900].values, X_no_grade.iloc[test_idx,:900].values\n",
    "\n",
    "    y_train, y_test = diff[train_idx], diff[test_idx]\n",
    "\n",
    "    lgb_train = lgb.Dataset(X_train, y_train, params={'verbose': -1}, free_raw_data=False)\n",
    "    lgb_eval = lgb.Dataset(X_test, y_test, params={'verbose': -1},free_raw_data=False)\n",
    "    clf = LGBMRegressor()\n",
    "    clf.fit(X_train,y_train)\n",
    "    preds = clf.predict(X_test)\n",
    "    print('accuracy: ', r2_score(preds, y_test))\n",
    "    "
   ]
  },
  {
   "cell_type": "code",
   "execution_count": 374,
   "metadata": {},
   "outputs": [
    {
     "data": {
      "text/html": [
       "<div>\n",
       "<style scoped>\n",
       "    .dataframe tbody tr th:only-of-type {\n",
       "        vertical-align: middle;\n",
       "    }\n",
       "\n",
       "    .dataframe tbody tr th {\n",
       "        vertical-align: top;\n",
       "    }\n",
       "\n",
       "    .dataframe thead th {\n",
       "        text-align: right;\n",
       "    }\n",
       "</style>\n",
       "<table border=\"1\" class=\"dataframe\">\n",
       "  <thead>\n",
       "    <tr style=\"text-align: right;\">\n",
       "      <th></th>\n",
       "      <th>Morphological Grade - Value</th>\n",
       "    </tr>\n",
       "  </thead>\n",
       "  <tbody>\n",
       "    <tr>\n",
       "      <th>442</th>\n",
       "      <td>2.0</td>\n",
       "    </tr>\n",
       "    <tr>\n",
       "      <th>443</th>\n",
       "      <td>2.5</td>\n",
       "    </tr>\n",
       "    <tr>\n",
       "      <th>444</th>\n",
       "      <td>2.0</td>\n",
       "    </tr>\n",
       "    <tr>\n",
       "      <th>445</th>\n",
       "      <td>3.5</td>\n",
       "    </tr>\n",
       "    <tr>\n",
       "      <th>446</th>\n",
       "      <td>2.0</td>\n",
       "    </tr>\n",
       "    <tr>\n",
       "      <th>...</th>\n",
       "      <td>...</td>\n",
       "    </tr>\n",
       "    <tr>\n",
       "      <th>2201</th>\n",
       "      <td>1.5</td>\n",
       "    </tr>\n",
       "    <tr>\n",
       "      <th>2202</th>\n",
       "      <td>2.0</td>\n",
       "    </tr>\n",
       "    <tr>\n",
       "      <th>2203</th>\n",
       "      <td>2.5</td>\n",
       "    </tr>\n",
       "    <tr>\n",
       "      <th>2204</th>\n",
       "      <td>2.0</td>\n",
       "    </tr>\n",
       "    <tr>\n",
       "      <th>2205</th>\n",
       "      <td>2.5</td>\n",
       "    </tr>\n",
       "  </tbody>\n",
       "</table>\n",
       "<p>1764 rows × 1 columns</p>\n",
       "</div>"
      ],
      "text/plain": [
       "      Morphological Grade - Value\n",
       "442                           2.0\n",
       "443                           2.5\n",
       "444                           2.0\n",
       "445                           3.5\n",
       "446                           2.0\n",
       "...                           ...\n",
       "2201                          1.5\n",
       "2202                          2.0\n",
       "2203                          2.5\n",
       "2204                          2.0\n",
       "2205                          2.5\n",
       "\n",
       "[1764 rows x 1 columns]"
      ]
     },
     "execution_count": 374,
     "metadata": {},
     "output_type": "execute_result"
    }
   ],
   "source": [
    "X[['Morphological Grade - Value']].iloc[folds[0],:]"
   ]
  },
  {
   "cell_type": "code",
   "execution_count": 375,
   "metadata": {},
   "outputs": [
    {
     "data": {
      "text/html": [
       "<div>\n",
       "<style scoped>\n",
       "    .dataframe tbody tr th:only-of-type {\n",
       "        vertical-align: middle;\n",
       "    }\n",
       "\n",
       "    .dataframe tbody tr th {\n",
       "        vertical-align: top;\n",
       "    }\n",
       "\n",
       "    .dataframe thead th {\n",
       "        text-align: right;\n",
       "    }\n",
       "</style>\n",
       "<table border=\"1\" class=\"dataframe\">\n",
       "  <thead>\n",
       "    <tr style=\"text-align: right;\">\n",
       "      <th></th>\n",
       "      <th>Morphological Grade - Value</th>\n",
       "    </tr>\n",
       "  </thead>\n",
       "  <tbody>\n",
       "    <tr>\n",
       "      <th>0</th>\n",
       "      <td>2.0</td>\n",
       "    </tr>\n",
       "    <tr>\n",
       "      <th>1</th>\n",
       "      <td>2.5</td>\n",
       "    </tr>\n",
       "    <tr>\n",
       "      <th>2</th>\n",
       "      <td>2.5</td>\n",
       "    </tr>\n",
       "    <tr>\n",
       "      <th>3</th>\n",
       "      <td>2.0</td>\n",
       "    </tr>\n",
       "    <tr>\n",
       "      <th>4</th>\n",
       "      <td>2.5</td>\n",
       "    </tr>\n",
       "    <tr>\n",
       "      <th>...</th>\n",
       "      <td>...</td>\n",
       "    </tr>\n",
       "    <tr>\n",
       "      <th>2201</th>\n",
       "      <td>1.5</td>\n",
       "    </tr>\n",
       "    <tr>\n",
       "      <th>2202</th>\n",
       "      <td>2.0</td>\n",
       "    </tr>\n",
       "    <tr>\n",
       "      <th>2203</th>\n",
       "      <td>2.5</td>\n",
       "    </tr>\n",
       "    <tr>\n",
       "      <th>2204</th>\n",
       "      <td>2.0</td>\n",
       "    </tr>\n",
       "    <tr>\n",
       "      <th>2205</th>\n",
       "      <td>2.5</td>\n",
       "    </tr>\n",
       "  </tbody>\n",
       "</table>\n",
       "<p>1765 rows × 1 columns</p>\n",
       "</div>"
      ],
      "text/plain": [
       "      Morphological Grade - Value\n",
       "0                             2.0\n",
       "1                             2.5\n",
       "2                             2.5\n",
       "3                             2.0\n",
       "4                             2.5\n",
       "...                           ...\n",
       "2201                          1.5\n",
       "2202                          2.0\n",
       "2203                          2.5\n",
       "2204                          2.0\n",
       "2205                          2.5\n",
       "\n",
       "[1765 rows x 1 columns]"
      ]
     },
     "execution_count": 375,
     "metadata": {},
     "output_type": "execute_result"
    }
   ],
   "source": [
    "X[['Morphological Grade - Value']].iloc[folds[1],:]"
   ]
  },
  {
   "cell_type": "code",
   "execution_count": 219,
   "metadata": {},
   "outputs": [
    {
     "data": {
      "text/plain": [
       "array([[137,   0,   0,   3],\n",
       "       [  0,  63,   0,   0],\n",
       "       [  0,   0,  23,   0],\n",
       "       [  0,   0,   0, 100]], dtype=int64)"
      ]
     },
     "execution_count": 219,
     "metadata": {},
     "output_type": "execute_result"
    }
   ],
   "source": [
    "confusion_matrix(preds, y_test)"
   ]
  },
  {
   "cell_type": "code",
   "execution_count": 169,
   "metadata": {},
   "outputs": [
    {
     "data": {
      "text/plain": [
       "array([2606, 1610, 2024,   88, 5770, 3050, 5902, 4367, 7072, 6206, 5977,\n",
       "       2609, 4299, 5706, 6844, 5337, 2872, 5321,   86, 5257, 3588, 6690,\n",
       "       2180,  914, 2271, 6333, 6544, 2891, 2618, 3579, 1232, 2352, 4460,\n",
       "       4485, 4507, 3992, 2550, 2613, 5840, 1144, 5425, 3220, 6406, 4771,\n",
       "       1712, 4533,  906, 1778, 6094, 6803, 1432, 3942, 5218, 5230, 2577,\n",
       "       3750, 5104, 6491, 5844, 4840, 3348, 3054, 7318, 4572,  233, 3900,\n",
       "       6120, 5974, 7521, 5018, 6049, 3694, 6026,    0, 3924,  785, 2843,\n",
       "       2147, 6208, 2296, 1882, 1782, 4261, 6350,  903, 4149, 5217, 3419,\n",
       "       3543, 1895, 7018, 1011, 7529, 3791, 1139, 4788,  329, 3101, 7687,\n",
       "       2717,  799, 7334, 4300, 2890, 6362, 3756, 4469, 6813, 6507, 5847,\n",
       "       5204, 4624, 6419, 1123, 4099, 1780, 7500, 2875, 2626, 1902, 5025,\n",
       "       5312, 7017, 6888, 6415, 6357, 3927,  509, 1968, 4813, 3293, 2999,\n",
       "       5271, 7519, 7425, 3420, 6361, 5914, 5766, 5921, 1817,  642, 4091,\n",
       "       6479, 1611, 2361, 4453, 1005, 4814, 7722], dtype=int64)"
      ]
     },
     "execution_count": 169,
     "metadata": {},
     "output_type": "execute_result"
    }
   ],
   "source": [
    "np.argsort(clf.feature_importances_)[-150:]"
   ]
  },
  {
   "cell_type": "code",
   "execution_count": 181,
   "metadata": {},
   "outputs": [
    {
     "name": "stdout",
     "output_type": "stream",
     "text": [
      "Time_1__agg_linear_trend__attr_\"slope\"__chunk_len_50__f_agg_\"min\"\n",
      "Time_1__change_quantiles__f_agg_\"mean\"__isabs_False__qh_1.0__ql_0.6\n",
      "Time_1__autocorrelation__lag_0\n",
      "Time_1__autocorrelation__lag_9\n",
      "Time_1__agg_linear_trend__attr_\"slope\"__chunk_len_50__f_agg_\"max\"\n",
      "Time_1__agg_linear_trend__attr_\"stderr\"__chunk_len_50__f_agg_\"var\"\n",
      "Time_1__agg_linear_trend__attr_\"stderr\"__chunk_len_10__f_agg_\"mean\"\n",
      "Time_1__c3__lag_1\n",
      "Time_1__agg_linear_trend__attr_\"slope\"__chunk_len_50__f_agg_\"mean\"\n",
      "Time_1__agg_linear_trend__attr_\"slope\"__chunk_len_5__f_agg_\"min\"\n",
      "Time_1__agg_linear_trend__attr_\"rvalue\"__chunk_len_50__f_agg_\"min\"\n",
      "Time_1__agg_linear_trend__attr_\"stderr\"__chunk_len_50__f_agg_\"min\"\n",
      "Time_1__change_quantiles__f_agg_\"var\"__isabs_False__qh_0.8__ql_0.2\n",
      "Time_1__change_quantiles__f_agg_\"var\"__isabs_True__qh_1.0__ql_0.6\n",
      "Time_1__change_quantiles__f_agg_\"mean\"__isabs_True__qh_0.6__ql_0.4\n",
      "Time_1__agg_linear_trend__attr_\"stderr\"__chunk_len_50__f_agg_\"mean\"\n",
      "Time_1__ar_coefficient__coeff_9__k_10\n",
      "Time_1__change_quantiles__f_agg_\"mean\"__isabs_False__qh_1.0__ql_0.2\n",
      "Time_1__agg_linear_trend__attr_\"stderr\"__chunk_len_10__f_agg_\"var\"\n",
      "Time_1__c3__lag_3\n",
      "Time_1__agg_linear_trend__attr_\"intercept\"__chunk_len_50__f_agg_\"max\"\n",
      "Time_1__agg_linear_trend__attr_\"intercept\"__chunk_len_50__f_agg_\"var\"\n",
      "Time_1__change_quantiles__f_agg_\"var\"__isabs_True__qh_1.0__ql_0.4\n",
      "Time_1__autocorrelation__lag_5\n",
      "Time_1__autocorrelation__lag_4\n",
      "Time_1__agg_linear_trend__attr_\"intercept\"__chunk_len_10__f_agg_\"var\"\n",
      "Time_1__change_quantiles__f_agg_\"mean\"__isabs_True__qh_1.0__ql_0.2\n",
      "Time_1__change_quantiles__f_agg_\"mean\"__isabs_False__qh_0.2__ql_0.0\n",
      "Time_1__change_quantiles__f_agg_\"var\"__isabs_True__qh_0.8__ql_0.2\n",
      "Time_1__agg_linear_trend__attr_\"slope\"__chunk_len_5__f_agg_\"mean\"\n",
      "Time_1__change_quantiles__f_agg_\"mean\"__isabs_False__qh_0.8__ql_0.6\n",
      "Time_1__change_quantiles__f_agg_\"mean\"__isabs_False__qh_1.0__ql_0.4\n",
      "Time_1__agg_linear_trend__attr_\"intercept\"__chunk_len_5__f_agg_\"var\"\n",
      "Time_1__change_quantiles__f_agg_\"mean\"__isabs_True__qh_0.6__ql_0.2\n",
      "Time_1__ar_coefficient__coeff_2__k_10\n",
      "Time_1__agg_linear_trend__attr_\"slope\"__chunk_len_50__f_agg_\"var\"\n",
      "Time_1__agg_linear_trend__attr_\"rvalue\"__chunk_len_5__f_agg_\"var\"\n",
      "Time_1__agg_linear_trend__attr_\"intercept\"__chunk_len_5__f_agg_\"mean\"\n",
      "Time_1__cid_ce__normalize_False\n",
      "Time_1__count_above_mean\n",
      "Time_1__agg_autocorrelation__f_agg_\"median\"__maxlag_40\n",
      "Time_1__binned_entropy__max_bins_10\n",
      "Time_1__change_quantiles__f_agg_\"var\"__isabs_False__qh_1.0__ql_0.6\n",
      "Time_1__agg_autocorrelation__f_agg_\"mean\"__maxlag_40\n",
      "Time_1__agg_linear_trend__attr_\"stderr\"__chunk_len_10__f_agg_\"min\"\n",
      "Time_1__change_quantiles__f_agg_\"var\"__isabs_False__qh_1.0__ql_0.8\n",
      "Time_1__agg_linear_trend__attr_\"rvalue\"__chunk_len_5__f_agg_\"min\"\n",
      "Time_1__change_quantiles__f_agg_\"mean\"__isabs_False__qh_0.6__ql_0.0\n",
      "Time_1__augmented_dickey_fuller__attr_\"teststat\"__autolag_\"AIC\"\n",
      "Time_1__agg_linear_trend__attr_\"intercept\"__chunk_len_5__f_agg_\"max\"\n",
      "Time_1__abs_energy\n",
      "Time_1__agg_linear_trend__attr_\"rvalue\"__chunk_len_10__f_agg_\"max\"\n",
      "Time_1__agg_linear_trend__attr_\"intercept\"__chunk_len_10__f_agg_\"min\"\n",
      "Time_1__change_quantiles__f_agg_\"mean\"__isabs_False__qh_0.4__ql_0.2\n",
      "Time_1__change_quantiles__f_agg_\"var\"__isabs_True__qh_1.0__ql_0.8\n",
      "Time_1__augmented_dickey_fuller__attr_\"pvalue\"__autolag_\"AIC\"\n",
      "Time_1__change_quantiles__f_agg_\"mean\"__isabs_True__qh_1.0__ql_0.0\n",
      "Time_1__change_quantiles__f_agg_\"var\"__isabs_False__qh_0.4__ql_0.2\n",
      "Time_1__ar_coefficient__coeff_0__k_10\n",
      "Time_1__agg_linear_trend__attr_\"slope\"__chunk_len_10__f_agg_\"mean\"\n",
      "Time_1__augmented_dickey_fuller__attr_\"usedlag\"__autolag_\"AIC\"\n",
      "Time_1__ar_coefficient__coeff_6__k_10\n",
      "Time_1__agg_linear_trend__attr_\"stderr\"__chunk_len_5__f_agg_\"var\"\n",
      "Time_1__agg_linear_trend__attr_\"rvalue\"__chunk_len_10__f_agg_\"mean\"\n",
      "Time_1__change_quantiles__f_agg_\"mean\"__isabs_True__qh_1.0__ql_0.6\n",
      "Time_1__change_quantiles__f_agg_\"mean\"__isabs_True__qh_1.0__ql_0.8\n",
      "Time_1__change_quantiles__f_agg_\"var\"__isabs_True__qh_0.4__ql_0.0\n",
      "Time_1__change_quantiles__f_agg_\"var\"__isabs_False__qh_1.0__ql_0.2\n",
      "Time_1__agg_linear_trend__attr_\"rvalue\"__chunk_len_50__f_agg_\"max\"\n",
      "Time_1__agg_linear_trend__attr_\"intercept\"__chunk_len_5__f_agg_\"min\"\n",
      "Time_1__agg_autocorrelation__f_agg_\"var\"__maxlag_40\n",
      "Time_1__change_quantiles__f_agg_\"var\"__isabs_False__qh_0.6__ql_0.4\n",
      "Time_1__agg_linear_trend__attr_\"intercept\"__chunk_len_10__f_agg_\"max\"\n",
      "Time_1__agg_linear_trend__attr_\"stderr\"__chunk_len_5__f_agg_\"max\"\n",
      "Time_1__ar_coefficient__coeff_5__k_10\n",
      "Time_1__change_quantiles__f_agg_\"var\"__isabs_False__qh_0.6__ql_0.0\n",
      "Time_1__autocorrelation__lag_2\n",
      "Time_1__change_quantiles__f_agg_\"var\"__isabs_True__qh_1.0__ql_0.2\n",
      "Time_1__agg_linear_trend__attr_\"intercept\"__chunk_len_50__f_agg_\"min\"\n",
      "Time_1__change_quantiles__f_agg_\"mean\"__isabs_False__qh_0.6__ql_0.4\n",
      "Time_1__agg_linear_trend__attr_\"stderr\"__chunk_len_5__f_agg_\"min\"\n",
      "Time_1__agg_linear_trend__attr_\"intercept\"__chunk_len_50__f_agg_\"mean\"\n",
      "Time_1__agg_linear_trend__attr_\"slope\"__chunk_len_10__f_agg_\"var\"\n",
      "Time_1__change_quantiles__f_agg_\"mean\"__isabs_False__qh_1.0__ql_0.0\n",
      "Time_1__absolute_sum_of_changes\n",
      "Time_1__change_quantiles__f_agg_\"mean\"__isabs_False__qh_0.8__ql_0.2\n",
      "Time_1__change_quantiles__f_agg_\"mean\"__isabs_True__qh_0.6__ql_0.0\n",
      "Time_1__agg_linear_trend__attr_\"rvalue\"__chunk_len_50__f_agg_\"var\"\n",
      "Time_1__agg_linear_trend__attr_\"stderr\"__chunk_len_5__f_agg_\"mean\"\n",
      "Time_1__ar_coefficient__coeff_1__k_10\n",
      "Time_1__autocorrelation__lag_8\n",
      "Time_1__change_quantiles__f_agg_\"mean\"__isabs_False__qh_1.0__ql_0.8\n",
      "Time_1__autocorrelation__lag_7\n",
      "Time_1__ar_coefficient__coeff_8__k_10\n",
      "Time_1__ar_coefficient__coeff_7__k_10\n",
      "Time_1__change_quantiles__f_agg_\"var\"__isabs_False__qh_0.8__ql_0.6\n",
      "Time_1__autocorrelation__lag_3\n",
      "Time_1__agg_linear_trend__attr_\"intercept\"__chunk_len_10__f_agg_\"mean\"\n",
      "Time_1__agg_linear_trend__attr_\"stderr\"__chunk_len_50__f_agg_\"max\"\n",
      "Time_1__agg_linear_trend__attr_\"slope\"__chunk_len_10__f_agg_\"max\"\n",
      "Time_1__agg_linear_trend__attr_\"rvalue\"__chunk_len_5__f_agg_\"mean\"\n",
      "Time_1__change_quantiles__f_agg_\"mean\"__isabs_True__qh_0.8__ql_0.2\n",
      "Time_1__agg_linear_trend__attr_\"slope\"__chunk_len_10__f_agg_\"min\"\n",
      "Time_1__change_quantiles__f_agg_\"mean\"__isabs_True__qh_0.4__ql_0.2\n",
      "Time_1__change_quantiles__f_agg_\"var\"__isabs_True__qh_0.8__ql_0.0\n",
      "Time_1__agg_linear_trend__attr_\"stderr\"__chunk_len_10__f_agg_\"max\"\n",
      "Time_1__change_quantiles__f_agg_\"var\"__isabs_True__qh_0.6__ql_0.0\n",
      "Time_1__change_quantiles__f_agg_\"mean\"__isabs_True__qh_1.0__ql_0.4\n",
      "Time_1__agg_linear_trend__attr_\"slope\"__chunk_len_5__f_agg_\"max\"\n",
      "Time_1__change_quantiles__f_agg_\"var\"__isabs_False__qh_0.6__ql_0.2\n",
      "Time_1__ar_coefficient__coeff_4__k_10\n",
      "Time_1__autocorrelation__lag_1\n",
      "Time_1__ar_coefficient__coeff_3__k_10\n",
      "Time_1__change_quantiles__f_agg_\"var\"__isabs_False__qh_0.2__ql_0.0\n",
      "Time_1__change_quantiles__f_agg_\"var\"__isabs_False__qh_1.0__ql_0.0\n",
      "Time_1__change_quantiles__f_agg_\"mean\"__isabs_False__qh_0.8__ql_0.4\n",
      "Time_1__agg_linear_trend__attr_\"rvalue\"__chunk_len_5__f_agg_\"max\"\n",
      "Time_1__change_quantiles__f_agg_\"mean\"__isabs_False__qh_0.8__ql_0.0\n",
      "Time_1__change_quantiles__f_agg_\"mean\"__isabs_True__qh_0.8__ql_0.4\n",
      "Time_1__count_above__t_0\n",
      "Time_1__ar_coefficient__coeff_10__k_10\n",
      "Time_1__agg_linear_trend__attr_\"rvalue\"__chunk_len_10__f_agg_\"min\"\n",
      "Time_1__change_quantiles__f_agg_\"var\"__isabs_True__qh_1.0__ql_0.0\n",
      "Time_1__change_quantiles__f_agg_\"var\"__isabs_True__qh_0.6__ql_0.2\n",
      "Time_1__change_quantiles__f_agg_\"var\"__isabs_False__qh_0.8__ql_0.0\n",
      "Time_1__agg_linear_trend__attr_\"slope\"__chunk_len_5__f_agg_\"var\"\n",
      "Time_1__autocorrelation__lag_6\n",
      "Time_1__change_quantiles__f_agg_\"var\"__isabs_False__qh_0.8__ql_0.4\n",
      "Time_1__c3__lag_2\n",
      "Time_1__change_quantiles__f_agg_\"mean\"__isabs_True__qh_0.4__ql_0.0\n",
      "Time_1__change_quantiles__f_agg_\"var\"__isabs_False__qh_0.4__ql_0.0\n",
      "Time_1__change_quantiles__f_agg_\"var\"__isabs_True__qh_0.8__ql_0.4\n",
      "Time_1__change_quantiles__f_agg_\"var\"__isabs_False__qh_1.0__ql_0.4\n",
      "Time_1__change_quantiles__f_agg_\"mean\"__isabs_True__qh_0.8__ql_0.6\n",
      "Time_1__agg_linear_trend__attr_\"rvalue\"__chunk_len_50__f_agg_\"mean\"\n",
      "Time_1__change_quantiles__f_agg_\"mean\"__isabs_False__qh_0.6__ql_0.2\n",
      "Time_1__change_quantiles__f_agg_\"var\"__isabs_True__qh_0.4__ql_0.2\n",
      "Time_1__change_quantiles__f_agg_\"mean\"__isabs_True__qh_0.2__ql_0.0\n",
      "Time_1__cid_ce__normalize_True\n",
      "Time_1__change_quantiles__f_agg_\"mean\"__isabs_True__qh_0.8__ql_0.0\n",
      "Time_1__change_quantiles__f_agg_\"var\"__isabs_True__qh_0.6__ql_0.4\n",
      "id\n",
      "Time_1__agg_linear_trend__attr_\"rvalue\"__chunk_len_10__f_agg_\"var\"\n",
      "Time_1__change_quantiles__f_agg_\"mean\"__isabs_False__qh_0.4__ql_0.0\n",
      "Time_1__change_quantiles__f_agg_\"var\"__isabs_True__qh_0.8__ql_0.6\n",
      "Time_1__cwt_coefficients__coeff_0__w_10__widths_(2, 5, 10, 20)\n",
      "Time_1__change_quantiles__f_agg_\"var\"__isabs_True__qh_0.2__ql_0.0\n",
      "Time_1__count_below__t_0\n",
      "Time_1__count_below_mean\n",
      "Time_1__cwt_coefficients__coeff_0__w_20__widths_(2, 5, 10, 20)\n"
     ]
    }
   ],
   "source": [
    "for c in X.iloc[train_idx,np.argsort(clf.feature_importances_)[-150:]].columns:\n",
    "    print(c)"
   ]
  },
  {
   "cell_type": "code",
   "execution_count": null,
   "metadata": {},
   "outputs": [],
   "source": []
  }
 ],
 "metadata": {
  "kernelspec": {
   "display_name": "Python 3",
   "language": "python",
   "name": "python3"
  },
  "language_info": {
   "codemirror_mode": {
    "name": "ipython",
    "version": 3
   },
   "file_extension": ".py",
   "mimetype": "text/x-python",
   "name": "python",
   "nbconvert_exporter": "python",
   "pygments_lexer": "ipython3",
   "version": "3.7.7"
  }
 },
 "nbformat": 4,
 "nbformat_minor": 4
}
