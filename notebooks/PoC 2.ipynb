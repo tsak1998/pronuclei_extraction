{
 "cells": [
  {
   "cell_type": "code",
   "execution_count": 1,
   "metadata": {},
   "outputs": [],
   "source": [
    "import pandas as pd\n",
    "# import tsfresh\n",
    "import numpy as np\n",
    "import matplotlib.pyplot as plt\n",
    "from sklearn.preprocessing import LabelEncoder, StandardScaler"
   ]
  },
  {
   "cell_type": "code",
   "execution_count": 2,
   "metadata": {},
   "outputs": [],
   "source": [
    "df = pd.read_csv('../files/graded_data.csv')\n"
   ]
  },
  {
   "cell_type": "code",
   "execution_count": 3,
   "metadata": {},
   "outputs": [],
   "source": [
    "target = pd.read_csv('../files/last_attempt.csv')"
   ]
  },
  {
   "cell_type": "code",
   "execution_count": 4,
   "metadata": {},
   "outputs": [],
   "source": [
    "target['id'] = target['Slide ID']+'_'+target['Well'].astype(str)"
   ]
  },
  {
   "cell_type": "code",
   "execution_count": 5,
   "metadata": {},
   "outputs": [
    {
     "name": "stdout",
     "output_type": "stream",
     "text": [
      "Requirement already satisfied: openpyxl in c:\\users\\hp\\anaconda3\\envs\\pymc_env\\lib\\site-packages (3.1.2)\n",
      "Requirement already satisfied: et-xmlfile in c:\\users\\hp\\anaconda3\\envs\\pymc_env\\lib\\site-packages (from openpyxl) (1.1.0)\n"
     ]
    }
   ],
   "source": [
    "!pip install openpyxl"
   ]
  },
  {
   "cell_type": "code",
   "execution_count": 6,
   "metadata": {},
   "outputs": [],
   "source": [
    "zoe = pd.read_excel('../files/latest_Zoe central.xlsx')"
   ]
  },
  {
   "cell_type": "code",
   "execution_count": 16,
   "metadata": {},
   "outputs": [],
   "source": [
    "columns_of_interest = [\n",
    "'Well',\n",
    "'Slide ID',\n",
    "'Grade at approx. 65h - Zoe',\n",
    "'Grade at approx. 65h - Chrysa',\n",
    "'HCG Test',\n",
    "'Gestational Sacs',\n",
    "'Fetal Heart Beat',\n",
    "'pgs',\n",
    "'Morphological Grade - Value',\n",
    "    'tPNf', 't2', 't3', 't4', 't5', 't6', 't7'\n",
    "    \n",
    "]"
   ]
  },
  {
   "cell_type": "code",
   "execution_count": 17,
   "metadata": {},
   "outputs": [],
   "source": [
    "time_cols = ['tPNf', 't2', 't3', 't4', 't5', 't6', 't7', 't8', 'tM']"
   ]
  },
  {
   "cell_type": "code",
   "execution_count": 18,
   "metadata": {},
   "outputs": [],
   "source": [
    "time_cols_all = ['Start Time',\n",
    " 'End Time',\n",
    " 'tPB2',\n",
    " 'tPNa',\n",
    " 'tPNf',\n",
    " 't2',\n",
    " 't3',\n",
    " 't4',\n",
    " 't5',\n",
    " 't6',\n",
    " 't7',\n",
    " 't8',\n",
    " 't9',\n",
    " 'tSC',\n",
    " 'tM',\n",
    " 'tSB',\n",
    " 'tB',\n",
    " 'tEB',\n",
    " 'tHB',\n",
    " 'tDead',\n",
    " 'Dynamic Score - Time',\n",
    " 'Morphological Grade - Time',\n",
    " 'transfer',\n",
    " 'Z Score - Time',\n",
    " 'Fragmentation - Time 1',\n",
    "\n",
    " 'Multi Nucleation - Time 1',\n",
    "\n",
    " 'Blastomere Size - Time 1',\n",
    "\n",
    "\n",
    " # 'Irregular Division - Time 1',\n",
    "\n",
    " 'Comment - Time 1',\n",
    " \n",
    " 'Pronuclei - Time 1',\n",
    " ]"
   ]
  },
  {
   "cell_type": "code",
   "execution_count": 19,
   "metadata": {},
   "outputs": [],
   "source": [
    "with_fetal_heart = zoe.loc[(zoe['Fetal Heart Beat'].notnull())&(zoe['Fetal Heart Beat']!='Unknown')&(zoe['Fetal Heart Beat']!='unknown')]"
   ]
  },
  {
   "cell_type": "code",
   "execution_count": 20,
   "metadata": {},
   "outputs": [],
   "source": [
    "failed = with_fetal_heart.loc[with_fetal_heart['Fetal Heart Beat']==0]"
   ]
  },
  {
   "cell_type": "code",
   "execution_count": 21,
   "metadata": {},
   "outputs": [],
   "source": [
    "succeesfull = with_fetal_heart.drop(failed.index).loc[(with_fetal_heart['Fetal Heart Beat'].astype(float)>0.75)]"
   ]
  },
  {
   "cell_type": "code",
   "execution_count": 22,
   "metadata": {},
   "outputs": [
    {
     "name": "stderr",
     "output_type": "stream",
     "text": [
      "C:\\Users\\hp\\AppData\\Local\\Temp\\ipykernel_27400\\3599493305.py:1: SettingWithCopyWarning: \n",
      "A value is trying to be set on a copy of a slice from a DataFrame.\n",
      "Try using .loc[row_indexer,col_indexer] = value instead\n",
      "\n",
      "See the caveats in the documentation: https://pandas.pydata.org/pandas-docs/stable/user_guide/indexing.html#returning-a-view-versus-a-copy\n",
      "  failed['id'] = failed['Slide ID']+'_'+failed['Well'].astype(str)\n"
     ]
    }
   ],
   "source": [
    "failed['id'] = failed['Slide ID']+'_'+failed['Well'].astype(str)"
   ]
  },
  {
   "cell_type": "code",
   "execution_count": 23,
   "metadata": {},
   "outputs": [],
   "source": [
    "succeesfull['id'] = succeesfull['Slide ID']+'_'+with_fetal_heart['Well'].astype(str)"
   ]
  },
  {
   "cell_type": "code",
   "execution_count": 24,
   "metadata": {},
   "outputs": [],
   "source": [
    "import glob\n",
    "all_extracted = pd.concat([pd.read_csv(f) for f in glob.glob('all_extracted/*')])"
   ]
  },
  {
   "cell_type": "code",
   "execution_count": 25,
   "metadata": {},
   "outputs": [],
   "source": [
    "all_extracted['id'] = all_extracted['embryo_id']"
   ]
  },
  {
   "cell_type": "code",
   "execution_count": 26,
   "metadata": {},
   "outputs": [],
   "source": [
    "succesfull_feats = pd.merge(all_extracted, succeesfull[['id','Fetal Heart Beat']], left_on='embryo_id', right_on='id')"
   ]
  },
  {
   "cell_type": "code",
   "execution_count": 27,
   "metadata": {},
   "outputs": [],
   "source": [
    "failed_feats = pd.merge(all_extracted, failed[['id','Fetal Heart Beat']], left_on='embryo_id', right_on='id')"
   ]
  },
  {
   "cell_type": "code",
   "execution_count": 28,
   "metadata": {},
   "outputs": [],
   "source": [
    "full_target = pd.concat([succesfull_feats, failed_feats])"
   ]
  },
  {
   "cell_type": "code",
   "execution_count": 29,
   "metadata": {},
   "outputs": [],
   "source": [
    "full_target['id'] = full_target['embryo_id']"
   ]
  },
  {
   "cell_type": "code",
   "execution_count": 30,
   "metadata": {},
   "outputs": [
    {
     "data": {
      "text/plain": [
       "406936"
      ]
     },
     "execution_count": 30,
     "metadata": {},
     "output_type": "execute_result"
    }
   ],
   "source": [
    "(full_target['id_x'] == full_target['id_y']).sum()"
   ]
  },
  {
   "cell_type": "code",
   "execution_count": 31,
   "metadata": {},
   "outputs": [
    {
     "data": {
      "text/plain": [
       "8989"
      ]
     },
     "execution_count": 31,
     "metadata": {},
     "output_type": "execute_result"
    }
   ],
   "source": [
    "all_extracted['id'].nunique()"
   ]
  },
  {
   "cell_type": "code",
   "execution_count": null,
   "metadata": {},
   "outputs": [
    {
     "data": {
      "text/plain": [
       "Fetal Heart Beat\n",
       "0    258663\n",
       "1    111266\n",
       "2     35219\n",
       "3      1788\n",
       "Name: count, dtype: int64"
      ]
     },
     "execution_count": 159,
     "metadata": {},
     "output_type": "execute_result"
    }
   ],
   "source": [
    "full_target['Fetal Heart Beat'].value_counts()"
   ]
  },
  {
   "cell_type": "code",
   "execution_count": null,
   "metadata": {},
   "outputs": [],
   "source": [
    "target_length = 500"
   ]
  },
  {
   "cell_type": "code",
   "execution_count": 24,
   "metadata": {},
   "outputs": [],
   "source": [
    "features = [\n",
    "    # 'area', 'eccentricity', 'equivalent_diameter',\n",
    "    #    'inertia_tensor-0-0', 'inertia_tensor-0-1', 'inertia_tensor-1-0',\n",
    "    #    'inertia_tensor-1-1', 'major_axis_length', 'minor_axis_length',\n",
    "       # 'moments_normalized-0-0', 'moments_normalized-0-1',\n",
    "       # 'moments_normalized-0-2', 'moments_normalized-0-3',\n",
    "       # 'moments_normalized-1-0', 'moments_normalized-1-1',\n",
    "       # 'moments_normalized-1-2', 'moments_normalized-1-3',\n",
    "      'area', 'eccentricity',\n",
    "       'equivalent_diameter', 'inertia_tensor-0-0', 'inertia_tensor-0-1',\n",
    "       'inertia_tensor-1-0', 'inertia_tensor-1-1', 'major_axis_length',\n",
    "       'minor_axis_length', 'perimeter', 'solidity', 'area_diff',\n",
    "       'eccentricity_diff', 'minor_axis_length_diff', 'major_axis_length_diff',\n",
    "       'solidity_diff',\n",
    "    #    'moments_normalized-3-0', 'moments_normalized-3-1',\n",
    "    #    'moments_normalized-3-2', 'moments_normalized-3-3',\n",
    "    # 'perimeter',\n",
    "    #    'solidity'\n",
    "]"
   ]
  },
  {
   "cell_type": "code",
   "execution_count": 46,
   "metadata": {},
   "outputs": [
    {
     "data": {
      "text/plain": [
       "Index(['embryo_id', 'Run', 'Time', 'area', 'eccentricity',\n",
       "       'equivalent_diameter', 'inertia_tensor-0-0', 'inertia_tensor-0-1',\n",
       "       'inertia_tensor-1-0', 'inertia_tensor-1-1', 'major_axis_length',\n",
       "       'minor_axis_length', 'perimeter', 'solidity', 'area_diff',\n",
       "       'eccentricity_diff', 'minor_axis_length_diff', 'major_axis_length_diff',\n",
       "       'solidity_diff', 'id'],\n",
       "      dtype='object')"
      ]
     },
     "execution_count": 46,
     "metadata": {},
     "output_type": "execute_result"
    }
   ],
   "source": [
    "all_extracted.columns"
   ]
  },
  {
   "cell_type": "code",
   "execution_count": 104,
   "metadata": {},
   "outputs": [],
   "source": [
    "# Interpolating each DataFrame to have the same number of steps\n",
    "interpolated_data = []\n",
    "targets = []\n",
    "for _,df in full_target.groupby('id'):\n",
    "\n",
    "    # targets.append(df['Time'].max()-df['Time'].min())\n",
    "    for f in features:\n",
    "        # msk = df[f]=='[]'\n",
    "    \n",
    "        df=df[pd.to_numeric(df[f], errors='coerce').notnull()]\n",
    "\n",
    "    df['time_hours'] = 24*(df['Time']-df['Time'].min())\n",
    "    starting_time = pd.to_datetime('2010-01-10')\n",
    "    df['time']= pd.to_timedelta(df['time_hours'], unit='h')+starting_time\n",
    "    if df['time_hours'].max()<4*24:\n",
    "        continue\n",
    "    # Create an index that scales from 0 to \n",
    "    \n",
    "    # new_index = np.linspace(df.index.min(), df.index.max(), target_length)\n",
    "    # # Interpolate\n",
    "\n",
    "    df = df.set_index('time')\n",
    "    df.fillna(0, inplace=True)\n",
    "    try:\n",
    "        for f in features:\n",
    "        # msk = df[f]=='[]'\n",
    "    \n",
    "            df=df[pd.to_numeric(df[f], errors='coerce').notnull()]\n",
    "\n",
    "        df_resampled = df[features].astype(float).resample('20min').mean().interpolate()\n",
    "\n",
    "        if df_resampled.area.min()<5000:\n",
    "            continue\n",
    "        # break\n",
    "        # df = df.reindex(df.index.union(new_index)).interpolate(method='linear').reindex(new_index)\n",
    "    \n",
    "        df_resampled['id'] = df['id'].unique()[0]\n",
    "        df_resampled['y'] = df['Fetal Heart Beat'].unique()[0]==0    \n",
    "        df_resampled['step'] = np.arange(0, df_resampled.shape[0])\n",
    "\n",
    "        total_hours = (df_resampled.index[-1]-df_resampled.index[0]).total_seconds()//3600\n",
    "        df_resampled['time_hours'] = np.linspace(0,total_hours,df_resampled.shape[0])\n",
    "\n",
    "        # targets.append(df.iloc[0].y)\n",
    "        interpolated_data.append(df_resampled)\n",
    "    except Exception as e:\n",
    "        \n",
    "        print(e)\n",
    "        print('#############')\n",
    "        break\n",
    "        continue"
   ]
  },
  {
   "cell_type": "code",
   "execution_count": 105,
   "metadata": {},
   "outputs": [
    {
     "data": {
      "text/plain": [
       "117.0"
      ]
     },
     "execution_count": 105,
     "metadata": {},
     "output_type": "execute_result"
    }
   ],
   "source": [
    "(df_resampled.index[-1]-df_resampled.index[0]).total_seconds()//3600"
   ]
  },
  {
   "cell_type": "code",
   "execution_count": 106,
   "metadata": {},
   "outputs": [],
   "source": [
    "df['time_hours'] = df['Time']-df['Time'].min()"
   ]
  },
  {
   "cell_type": "code",
   "execution_count": 107,
   "metadata": {},
   "outputs": [
    {
     "data": {
      "text/plain": [
       "Index(['area', 'eccentricity', 'equivalent_diameter', 'inertia_tensor-0-0',\n",
       "       'inertia_tensor-0-1', 'inertia_tensor-1-0', 'inertia_tensor-1-1',\n",
       "       'major_axis_length', 'minor_axis_length', 'perimeter', 'solidity',\n",
       "       'area_diff', 'eccentricity_diff', 'minor_axis_length_diff',\n",
       "       'major_axis_length_diff', 'solidity_diff', 'id', 'y', 'step',\n",
       "       'time_hours'],\n",
       "      dtype='object')"
      ]
     },
     "execution_count": 107,
     "metadata": {},
     "output_type": "execute_result"
    }
   ],
   "source": [
    "df_resampled.columns"
   ]
  },
  {
   "cell_type": "code",
   "execution_count": 108,
   "metadata": {},
   "outputs": [],
   "source": [
    "interpolated_data_df = pd.concat([i for i in interpolated_data])"
   ]
  },
  {
   "cell_type": "code",
   "execution_count": 109,
   "metadata": {},
   "outputs": [
    {
     "name": "stderr",
     "output_type": "stream",
     "text": [
      "C:\\Users\\hp\\AppData\\Local\\Temp\\ipykernel_26696\\2528314065.py:1: DeprecationWarning: DataFrameGroupBy.apply operated on the grouping columns. This behavior is deprecated, and in a future version of pandas the grouping columns will be excluded from the operation. Either pass `include_groups=False` to exclude the groupings or explicitly select the grouping columns after groupby to silence this warning.\n",
      "  area_std =  interpolated_data_df.groupby('id').apply(lambda x: x.area.mean()).values\n",
      "C:\\Users\\hp\\AppData\\Local\\Temp\\ipykernel_26696\\2528314065.py:3: DeprecationWarning: DataFrameGroupBy.apply operated on the grouping columns. This behavior is deprecated, and in a future version of pandas the grouping columns will be excluded from the operation. Either pass `include_groups=False` to exclude the groupings or explicitly select the grouping columns after groupby to silence this warning.\n",
      "  sol_std =  interpolated_data_df.groupby('id').apply(lambda x: x.solidity.mean()).values\n"
     ]
    }
   ],
   "source": [
    "area_std =  interpolated_data_df.groupby('id').apply(lambda x: x.area.mean()).values\n",
    "\n",
    "sol_std =  interpolated_data_df.groupby('id').apply(lambda x: x.solidity.mean()).values"
   ]
  },
  {
   "cell_type": "code",
   "execution_count": 110,
   "metadata": {},
   "outputs": [
    {
     "data": {
      "text/plain": [
       "(161288, 20)"
      ]
     },
     "execution_count": 110,
     "metadata": {},
     "output_type": "execute_result"
    }
   ],
   "source": [
    "interpolated_data_df.shape"
   ]
  },
  {
   "cell_type": "code",
   "execution_count": 111,
   "metadata": {},
   "outputs": [],
   "source": [
    "# ys = interpolated_data_df.reset_index().groupby('id').apply(lambda x: x.iloc[0]['y'])"
   ]
  },
  {
   "cell_type": "code",
   "execution_count": 112,
   "metadata": {},
   "outputs": [],
   "source": [
    "blasto_msk = (interpolated_data_df.groupby('id').area.mean()/interpolated_data_df.groupby('id').area.max()<0.8)\n",
    "ids = interpolated_data_df['id'].unique()[blasto_msk]"
   ]
  },
  {
   "cell_type": "code",
   "execution_count": 113,
   "metadata": {},
   "outputs": [],
   "source": [
    "interpolated_data_df_og = interpolated_data_df.copy()\n",
    "ok_ids = interpolated_data_df['id'].apply(lambda x: '_'.join(x.split('_')[:-1])).unique()"
   ]
  },
  {
   "cell_type": "code",
   "execution_count": 114,
   "metadata": {},
   "outputs": [],
   "source": [
    "non_ok_ids = [\n",
    "    id_ for id_ in succeesfull['Slide ID'].tolist() +\n",
    "    failed['Slide ID'].tolist() if id_ not in ok_ids\n",
    " ]"
   ]
  },
  {
   "cell_type": "code",
   "execution_count": 115,
   "metadata": {},
   "outputs": [
    {
     "ename": "NameError",
     "evalue": "name 'os' is not defined",
     "output_type": "error",
     "traceback": [
      "\u001b[1;31m---------------------------------------------------------------------------\u001b[0m",
      "\u001b[1;31mNameError\u001b[0m                                 Traceback (most recent call last)",
      "Cell \u001b[1;32mIn[115], line 4\u001b[0m\n\u001b[0;32m      1\u001b[0m fsizes_e \u001b[38;5;241m=\u001b[39m []\n\u001b[0;32m      2\u001b[0m \u001b[38;5;28;01mfor\u001b[39;00m f \u001b[38;5;129;01min\u001b[39;00m glob\u001b[38;5;241m.\u001b[39mglob(\u001b[38;5;124m'\u001b[39m\u001b[38;5;124mE:/new_data/*.pdb\u001b[39m\u001b[38;5;124m'\u001b[39m):\n\u001b[1;32m----> 4\u001b[0m     \u001b[38;5;28;01mif\u001b[39;00m \u001b[43mos\u001b[49m\u001b[38;5;241m.\u001b[39mpath\u001b[38;5;241m.\u001b[39mgetsize(f)\u001b[38;5;241m/\u001b[39m\u001b[38;5;241m1000\u001b[39m\u001b[38;5;241m<\u001b[39m\u001b[38;5;241m100\u001b[39m\u001b[38;5;241m*\u001b[39m\u001b[38;5;241m1000\u001b[39m:\n\u001b[0;32m      5\u001b[0m         \u001b[38;5;28;01mcontinue\u001b[39;00m\n\u001b[0;32m      6\u001b[0m     fsizes_e\u001b[38;5;241m.\u001b[39mappend((f, f\u001b[38;5;241m.\u001b[39msplit(\u001b[38;5;124m'\u001b[39m\u001b[38;5;130;01m\\\\\u001b[39;00m\u001b[38;5;124m'\u001b[39m)[\u001b[38;5;241m-\u001b[39m\u001b[38;5;241m1\u001b[39m][:\u001b[38;5;241m-\u001b[39m\u001b[38;5;241m4\u001b[39m]))\n",
      "\u001b[1;31mNameError\u001b[0m: name 'os' is not defined"
     ]
    }
   ],
   "source": [
    "fsizes_e = []\n",
    "for f in glob.glob('E:/new_data/*.pdb'):\n",
    "\n",
    "    if os.path.getsize(f)/1000<100*1000:\n",
    "        continue\n",
    "    fsizes_e.append((f, f.split('\\\\')[-1][:-4]))\n",
    "    \n",
    "    "
   ]
  },
  {
   "cell_type": "code",
   "execution_count": 116,
   "metadata": {},
   "outputs": [
    {
     "ename": "NameError",
     "evalue": "name 'os' is not defined",
     "output_type": "error",
     "traceback": [
      "\u001b[1;31m---------------------------------------------------------------------------\u001b[0m",
      "\u001b[1;31mNameError\u001b[0m                                 Traceback (most recent call last)",
      "Cell \u001b[1;32mIn[116], line 4\u001b[0m\n\u001b[0;32m      1\u001b[0m fsizes_z \u001b[38;5;241m=\u001b[39m []\n\u001b[0;32m      2\u001b[0m \u001b[38;5;28;01mfor\u001b[39;00m f \u001b[38;5;129;01min\u001b[39;00m glob\u001b[38;5;241m.\u001b[39mglob(\u001b[38;5;124m'\u001b[39m\u001b[38;5;124mZ:/*.pdb\u001b[39m\u001b[38;5;124m'\u001b[39m):\n\u001b[1;32m----> 4\u001b[0m     \u001b[38;5;28;01mif\u001b[39;00m \u001b[43mos\u001b[49m\u001b[38;5;241m.\u001b[39mpath\u001b[38;5;241m.\u001b[39mgetsize(f)\u001b[38;5;241m/\u001b[39m\u001b[38;5;241m1000\u001b[39m\u001b[38;5;241m<\u001b[39m\u001b[38;5;241m100\u001b[39m\u001b[38;5;241m*\u001b[39m\u001b[38;5;241m1000\u001b[39m:\n\u001b[0;32m      5\u001b[0m         \u001b[38;5;28;01mcontinue\u001b[39;00m\n\u001b[0;32m      6\u001b[0m     fsizes_z\u001b[38;5;241m.\u001b[39mappend((f, f\u001b[38;5;241m.\u001b[39msplit(\u001b[38;5;124m'\u001b[39m\u001b[38;5;124m/\u001b[39m\u001b[38;5;124m'\u001b[39m)[\u001b[38;5;241m-\u001b[39m\u001b[38;5;241m1\u001b[39m][:\u001b[38;5;241m-\u001b[39m\u001b[38;5;241m4\u001b[39m]))\n",
      "\u001b[1;31mNameError\u001b[0m: name 'os' is not defined"
     ]
    }
   ],
   "source": [
    "fsizes_z = []\n",
    "for f in glob.glob('Z:/*.pdb'):\n",
    "\n",
    "    if os.path.getsize(f)/1000<100*1000:\n",
    "        continue\n",
    "    fsizes_z.append((f, f.split('/')[-1][:-4]))\n",
    "    \n",
    "    "
   ]
  },
  {
   "cell_type": "code",
   "execution_count": 117,
   "metadata": {},
   "outputs": [],
   "source": [
    "extracted = [\n",
    "    f.split('\\\\')[-1] for f in \n",
    "    glob.glob('C:/Data/data_area_pred/Unet_pred/raw_timelapses/*')\n",
    "]\n"
   ]
  },
  {
   "cell_type": "code",
   "execution_count": 118,
   "metadata": {},
   "outputs": [],
   "source": [
    "features = [\n",
    "    # 'area', 'eccentricity', 'equivalent_diameter',\n",
    "    #    'inertia_tensor-0-0', 'inertia_tensor-0-1', 'inertia_tensor-1-0',\n",
    "    #    'inertia_tensor-1-1', 'major_axis_length', 'minor_axis_length',\n",
    "       # 'moments_normalized-0-0', 'moments_normalized-0-1',\n",
    "       # 'moments_normalized-0-2', 'moments_normalized-0-3',\n",
    "       \n",
    "       # 'moments_normalized-1-0', 'moments_normalized-1-1',\n",
    "       # 'moments_normalized-1-2', 'moments_normalized-1-3',\n",
    "      'area', 'eccentricity',\n",
    "       'equivalent_diameter', 'inertia_tensor-0-0', 'inertia_tensor-0-1',\n",
    "       'inertia_tensor-1-0', 'inertia_tensor-1-1', 'major_axis_length',\n",
    "       'minor_axis_length', 'perimeter', 'solidity', 'area_diff',\n",
    "       'eccentricity_diff', 'minor_axis_length_diff', 'major_axis_length_diff',\n",
    "       'solidity_diff',\n",
    "    #    'moments_normalized-3-0', 'moments_normalized-3-1',\n",
    "    #    'moments_normalized-3-2', 'moments_normalized-3-3',\n",
    "    # 'perimeter',\n",
    "    #    'solidity'\n",
    "]"
   ]
  },
  {
   "cell_type": "code",
   "execution_count": 119,
   "metadata": {},
   "outputs": [],
   "source": [
    "filter_msk = interpolated_data_df.loc[interpolated_data_df['y']==True]['solidity']<19000\n",
    "masked_ = interpolated_data_df.loc[interpolated_data_df['y']==True]['solidity'][filter_msk]"
   ]
  },
  {
   "cell_type": "code",
   "execution_count": 120,
   "metadata": {},
   "outputs": [],
   "source": [
    "from scipy import stats"
   ]
  },
  {
   "cell_type": "code",
   "execution_count": 121,
   "metadata": {},
   "outputs": [],
   "source": [
    "pop1 = np.random.normal(masked_.mean(),masked_.std(),500000)\n",
    "pop2 = np.random.normal(8168.080168308339,771.240387165874,500000)"
   ]
  },
  {
   "cell_type": "code",
   "execution_count": 122,
   "metadata": {},
   "outputs": [],
   "source": [
    "success_sample = interpolated_data_df.loc[interpolated_data_df['y']==0]\n",
    "\n",
    "fail_sample =interpolated_data_df.loc[interpolated_data_df['y']==1]\n",
    "fail_sample = fail_sample[~fail_sample.id.isin(fail_sample[fail_sample.area.map(np.log)<8].id.unique())]\n",
    "\n",
    "# fail_sample = fail_sample[~fail_sample.id.isin(fail_sample[fail_sample.area.map(np.log)>5.1].id.unique())]\n",
    "\n",
    "success_sample = success_sample[~success_sample.id.isin(success_sample[success_sample.area.map(np.log)<8.3].id.unique())]\n"
   ]
  },
  {
   "cell_type": "code",
   "execution_count": 123,
   "metadata": {},
   "outputs": [
    {
     "name": "stderr",
     "output_type": "stream",
     "text": [
      "C:\\Users\\hp\\AppData\\Local\\Temp\\ipykernel_26696\\249678877.py:1: DeprecationWarning: DataFrameGroupBy.apply operated on the grouping columns. This behavior is deprecated, and in a future version of pandas the grouping columns will be excluded from the operation. Either pass `include_groups=False` to exclude the groupings or explicitly select the grouping columns after groupby to silence this warning.\n",
      "  interesting_ids = fail_sample.groupby('id').apply(lambda x: x.iloc[:60].solidity.map(np.log).mean())<-0.015\n"
     ]
    }
   ],
   "source": [
    "interesting_ids = fail_sample.groupby('id').apply(lambda x: x.iloc[:60].solidity.map(np.log).mean())<-0.015"
   ]
  },
  {
   "cell_type": "code",
   "execution_count": 124,
   "metadata": {},
   "outputs": [],
   "source": [
    "x_dim, y_dim = 512, 512\n",
    "\n",
    "n_pixels = x_dim * y_dim\n",
    "n_0 = 0.3 * n_pixels\n",
    "n_1 = n_pixels - n_0\n"
   ]
  },
  {
   "cell_type": "code",
   "execution_count": 125,
   "metadata": {},
   "outputs": [],
   "source": [
    "import scipy.stats as ss\n",
    "from statsmodels.tsa.stattools import adfuller"
   ]
  },
  {
   "cell_type": "code",
   "execution_count": 126,
   "metadata": {},
   "outputs": [
    {
     "data": {
      "text/plain": [
       "time\n",
       "2010-01-10 00:00:00      0.000000\n",
       "2010-01-10 00:20:00      0.332370\n",
       "2010-01-10 00:40:00      0.664740\n",
       "2010-01-10 01:00:00      0.997110\n",
       "2010-01-10 01:20:00      1.329480\n",
       "                          ...    \n",
       "2010-01-14 20:20:00    115.674221\n",
       "2010-01-14 20:40:00    116.005666\n",
       "2010-01-14 21:00:00    116.337110\n",
       "2010-01-14 21:20:00    116.668555\n",
       "2010-01-14 21:40:00    117.000000\n",
       "Name: time_hours, Length: 161288, dtype: float64"
      ]
     },
     "execution_count": 126,
     "metadata": {},
     "output_type": "execute_result"
    }
   ],
   "source": [
    "interpolated_data_df['time_hours']"
   ]
  },
  {
   "cell_type": "code",
   "execution_count": 127,
   "metadata": {},
   "outputs": [],
   "source": [
    "zoe['id'] = zoe['Slide ID'] + '_' + zoe['Well'].astype(str)"
   ]
  },
  {
   "cell_type": "code",
   "execution_count": 128,
   "metadata": {},
   "outputs": [],
   "source": [
    "from scipy.stats import linregress\n",
    "import math\n",
    "def lin(x):\n",
    "\n",
    "    times = zoe.loc[zoe['id']==x['id'].iloc[0]]\n",
    "    t2 = times['t2'].values[0]\n",
    "    t8 = times['t8'].values[0]\n",
    "    \n",
    "    if not math.isnan(t2):\n",
    "        t2_msk = x['time_hours']>t2\n",
    "        final_msk =t2_msk\n",
    "    t2_msk = x['time_hours']>20\n",
    "    t8_msk = x['time_hours']<70\n",
    "    # if not math.isnan(t8):\n",
    "    #     t8_msk = x['time_hours']<70\n",
    "\n",
    "    final_msk = t2_msk & t8_msk\n",
    "    \n",
    "    if  math.isnan(t2) and  math.isnan(t8):\n",
    "        # print('###')\n",
    "        return np.nan, np.nan,  np.nan\n",
    "\n",
    "    # if not x.area.values[final_msk.values]:\n",
    "    #     return np.nan, np.nan,  np.nan\n",
    "\n",
    "    # plt.plot(x.time_hours.values[final_msk.values],x.area.values[final_msk.values])\n",
    "    # print(final_msk.sum())\n",
    "\n",
    "    d_area =  x.area[final_msk].iloc[-1]- x.area[final_msk][0]\n",
    "    return linregress(x.time_hours.values[final_msk], x.area[final_msk])[0], d_area, x.area[final_msk][0]"
   ]
  },
  {
   "cell_type": "code",
   "execution_count": null,
   "metadata": {},
   "outputs": [],
   "source": []
  },
  {
   "cell_type": "code",
   "execution_count": 129,
   "metadata": {},
   "outputs": [
    {
     "name": "stderr",
     "output_type": "stream",
     "text": [
      "C:\\Users\\hp\\AppData\\Local\\Temp\\ipykernel_26696\\2790843999.py:29: FutureWarning: Series.__getitem__ treating keys as positions is deprecated. In a future version, integer keys will always be treated as labels (consistent with DataFrame behavior). To access a value by position, use `ser.iloc[pos]`\n",
      "  d_area =  x.area[final_msk].iloc[-1]- x.area[final_msk][0]\n",
      "C:\\Users\\hp\\AppData\\Local\\Temp\\ipykernel_26696\\2790843999.py:30: FutureWarning: Series.__getitem__ treating keys as positions is deprecated. In a future version, integer keys will always be treated as labels (consistent with DataFrame behavior). To access a value by position, use `ser.iloc[pos]`\n",
      "  return linregress(x.time_hours.values[final_msk], x.area[final_msk])[0], d_area, x.area[final_msk][0]\n",
      "C:\\Users\\hp\\AppData\\Local\\Temp\\ipykernel_26696\\3392582984.py:1: DeprecationWarning: DataFrameGroupBy.apply operated on the grouping columns. This behavior is deprecated, and in a future version of pandas the grouping columns will be excluded from the operation. Either pass `include_groups=False` to exclude the groupings or explicitly select the grouping columns after groupby to silence this warning.\n",
      "  slopes = np.stack(interpolated_data_df.groupby('id').apply(lin).values)\n"
     ]
    }
   ],
   "source": [
    "slopes = np.stack(interpolated_data_df.groupby('id').apply(lin).values)"
   ]
  },
  {
   "cell_type": "code",
   "execution_count": 130,
   "metadata": {},
   "outputs": [
    {
     "data": {
      "image/png": "[encoded data removed]",
      "text/plain": [
       "<Figure size 640x480 with 1 Axes>"
      ]
     },
     "metadata": {},
     "output_type": "display_data"
    }
   ],
   "source": [
    "plt.hist(slopes[:,2],bins=100);"
   ]
  },
  {
   "cell_type": "code",
   "execution_count": 131,
   "metadata": {},
   "outputs": [
    {
     "data": {
      "text/plain": [
       "nan"
      ]
     },
     "execution_count": 131,
     "metadata": {},
     "output_type": "execute_result"
    }
   ],
   "source": [
    "np.quantile(slopes[:,1],0.25)"
   ]
  },
  {
   "cell_type": "code",
   "execution_count": 132,
   "metadata": {},
   "outputs": [
    {
     "ename": "NameError",
     "evalue": "name 'slope' is not defined",
     "output_type": "error",
     "traceback": [
      "\u001b[1;31m---------------------------------------------------------------------------\u001b[0m",
      "\u001b[1;31mNameError\u001b[0m                                 Traceback (most recent call last)",
      "Cell \u001b[1;32mIn[132], line 1\u001b[0m\n\u001b[1;32m----> 1\u001b[0m plt\u001b[38;5;241m.\u001b[39mhist(\u001b[43mslope\u001b[49m,bins\u001b[38;5;241m=\u001b[39m\u001b[38;5;241m70\u001b[39m);\n",
      "\u001b[1;31mNameError\u001b[0m: name 'slope' is not defined"
     ]
    }
   ],
   "source": [
    "plt.hist(slope,bins=70);"
   ]
  },
  {
   "cell_type": "code",
   "execution_count": 133,
   "metadata": {},
   "outputs": [
    {
     "ename": "NameError",
     "evalue": "name 'slope' is not defined",
     "output_type": "error",
     "traceback": [
      "\u001b[1;31m---------------------------------------------------------------------------\u001b[0m",
      "\u001b[1;31mNameError\u001b[0m                                 Traceback (most recent call last)",
      "Cell \u001b[1;32mIn[133], line 1\u001b[0m\n\u001b[1;32m----> 1\u001b[0m np\u001b[38;5;241m.\u001b[39mcorrcoef(\u001b[43mslope\u001b[49m,cell_count)\n",
      "\u001b[1;31mNameError\u001b[0m: name 'slope' is not defined"
     ]
    }
   ],
   "source": [
    "np.corrcoef(slope,cell_count)"
   ]
  },
  {
   "cell_type": "code",
   "execution_count": 134,
   "metadata": {},
   "outputs": [
    {
     "data": {
      "text/plain": [
       "<matplotlib.collections.PathCollection at 0x1b579a81510>"
      ]
     },
     "execution_count": 134,
     "metadata": {},
     "output_type": "execute_result"
    },
    {
     "data": {
      "image/png": "[encoded data removed]",
      "text/plain": [
       "<Figure size 640x480 with 1 Axes>"
      ]
     },
     "metadata": {},
     "output_type": "display_data"
    }
   ],
   "source": [
    "plt.scatter(slopes[:,0],slopes[:,2])"
   ]
  },
  {
   "cell_type": "code",
   "execution_count": 136,
   "metadata": {},
   "outputs": [
    {
     "name": "stderr",
     "output_type": "stream",
     "text": [
      "C:\\Users\\hp\\AppData\\Local\\Temp\\ipykernel_26696\\4237644963.py:7: DeprecationWarning: DataFrameGroupBy.apply operated on the grouping columns. This behavior is deprecated, and in a future version of pandas the grouping columns will be excluded from the operation. Either pass `include_groups=False` to exclude the groupings or explicitly select the grouping columns after groupby to silence this warning.\n",
      "  interpolated_data_df.groupby('id').apply(lambda x: plt.plot(x['area'].values[50:399]) if x['area'].values[50:200].min() > 6000 else None)\n"
     ]
    },
    {
     "data": {
      "image/png": "[encoded data removed]",
      "text/plain": [
       "<Figure size 640x480 with 1 Axes>"
      ]
     },
     "metadata": {},
     "output_type": "display_data"
    }
   ],
   "source": [
    "import matplotlib.pyplot as plt\n",
    "\n",
    "# Create a figure and axis to ensure an empty plot is returned\n",
    "fig, ax = plt.subplots()\n",
    "\n",
    "# Apply the function and plot if the condition is met\n",
    "interpolated_data_df.groupby('id').apply(lambda x: plt.plot(x['area'].values[50:399]) if x['area'].values[50:200].min() > 6000 else None)\n",
    "\n",
    "# Show the plot\n",
    "plt.show()\n"
   ]
  },
  {
   "cell_type": "code",
   "execution_count": 100,
   "metadata": {},
   "outputs": [
    {
     "data": {
      "text/plain": [
       "[<matplotlib.lines.Line2D at 0x1b579601d10>]"
      ]
     },
     "execution_count": 100,
     "metadata": {},
     "output_type": "execute_result"
    },
    {
     "data": {
      "image/png": "[encoded data removed]",
      "text/plain": [
       "<Figure size 640x480 with 1 Axes>"
      ]
     },
     "metadata": {},
     "output_type": "display_data"
    }
   ],
   "source": [
    "plt.plot(success_sample.loc[success_sample.id=='D2013.02.22_S0474_I149_1'].area.values)\n",
    "\n",
    "\n"
   ]
  },
  {
   "cell_type": "code",
   "execution_count": null,
   "metadata": {},
   "outputs": [],
   "source": []
  },
  {
   "cell_type": "code",
   "execution_count": 95,
   "metadata": {},
   "outputs": [
    {
     "data": {
      "text/plain": [
       "<Axes: >"
      ]
     },
     "execution_count": 95,
     "metadata": {},
     "output_type": "execute_result"
    },
    {
     "data": {
      "image/png": "[encoded data removed]",
      "text/plain": [
       "<Figure size 640x480 with 1 Axes>"
      ]
     },
     "metadata": {},
     "output_type": "display_data"
    }
   ],
   "source": [
    "success_sample['solidity'].apply(lambda x: np.exp(1/x)).hist(bins=100)\n",
    "fail_sample['solidity'].apply(lambda x: np.exp(1/x)).hist(bins=200,alpha=0.3)"
   ]
  },
  {
   "cell_type": "code",
   "execution_count": 160,
   "metadata": {},
   "outputs": [],
   "source": [
    "success_interpol = interpolated_data_df.loc[interpolated_data_df['y']==False]\n",
    "\n",
    "fail_interpol = interpolated_data_df.loc[interpolated_data_df['y']==True]"
   ]
  },
  {
   "cell_type": "code",
   "execution_count": 186,
   "metadata": {},
   "outputs": [
    {
     "data": {
      "text/plain": [
       "<Axes: >"
      ]
     },
     "execution_count": 186,
     "metadata": {},
     "output_type": "execute_result"
    },
    {
     "data": {
      "image/png": "[encoded data removed]",
      "text/plain": [
       "<Figure size 640x480 with 1 Axes>"
      ]
     },
     "metadata": {},
     "output_type": "display_data"
    }
   ],
   "source": [
    "interpolated_data_df['area'].hist(bins=400)"
   ]
  },
  {
   "cell_type": "code",
   "execution_count": 157,
   "metadata": {},
   "outputs": [
    {
     "data": {
      "text/plain": [
       "<Axes: >"
      ]
     },
     "execution_count": 157,
     "metadata": {},
     "output_type": "execute_result"
    },
    {
     "data": {
      "image/png": "[encoded data removed]",
      "text/plain": [
       "<Figure size 640x480 with 1 Axes>"
      ]
     },
     "metadata": {},
     "output_type": "display_data"
    }
   ],
   "source": [
    "interpolated_data_df['inertia_tensor-0-1'].hist(bins=400)"
   ]
  },
  {
   "cell_type": "code",
   "execution_count": 200,
   "metadata": {},
   "outputs": [],
   "source": [
    "q1 = success_interpol.groupby('step')[f].apply(lambda x: x.quantile(0.25))\n",
    "\n",
    "q2 = success_interpol.groupby('step')[f].apply(lambda x: x.quantile(0.75))\n",
    "mu  = success_interpol.groupby('step')[f].apply(lambda x: x.mean())"
   ]
  },
  {
   "cell_type": "code",
   "execution_count": 201,
   "metadata": {},
   "outputs": [],
   "source": [
    "q1_fail = fail_interpol.groupby('step')[f].apply(lambda x: x.quantile(0.25))\n",
    "\n",
    "q2_fail = fail_interpol.groupby('step')[f].apply(lambda x: x.quantile(0.75))\n",
    "mu_fail  = fail_interpol.groupby('step')[f].apply(lambda x: x.mean())"
   ]
  },
  {
   "cell_type": "code",
   "execution_count": 224,
   "metadata": {},
   "outputs": [
    {
     "data": {
      "image/png": "[encoded data removed]",
      "text/plain": [
       "<Figure size 1200x600 with 2 Axes>"
      ]
     },
     "metadata": {},
     "output_type": "display_data"
    }
   ],
   "source": [
    "import numpy as np\n",
    "import matplotlib.pyplot as plt\n",
    "\n",
    "# Example time series data (replace with your data)\n",
    "time_series_1 = mu- np.mean(mu)\n",
    "time_series_2 = mu_fail- np.mean(mu_fail)\n",
    "\n",
    "# Perform FFT\n",
    "fft_1 = np.fft.fft(time_series_1)\n",
    "fft_2 = np.fft.fft(time_series_2)\n",
    "\n",
    "# Frequency axis\n",
    "n = len(time_series_1)\n",
    "freq = np.fft.fftfreq(n)\n",
    "\n",
    "# Plot the magnitude of FFT\n",
    "plt.figure(figsize=(12, 6))\n",
    "\n",
    "plt.subplot(1, 2, 1)\n",
    "plt.plot(freq, np.abs(fft_1))\n",
    "plt.title('Frequency Spectrum of Set 1')\n",
    "plt.xlabel('Frequency')\n",
    "plt.ylabel('Magnitude')\n",
    "\n",
    "plt.subplot(1, 2, 2)\n",
    "plt.plot(freq, np.abs(fft_2))\n",
    "plt.title('Frequency Spectrum of Set 2')\n",
    "plt.xlabel('Frequency')\n",
    "plt.ylabel('Magnitude')\n",
    "\n",
    "plt.tight_layout()\n",
    "plt.show()\n"
   ]
  },
  {
   "cell_type": "code",
   "execution_count": 226,
   "metadata": {},
   "outputs": [
    {
     "data": {
      "image/png": "[encoded data removed]",
      "text/plain": [
       "<Figure size 1000x500 with 1 Axes>"
      ]
     },
     "metadata": {},
     "output_type": "display_data"
    },
    {
     "data": {
      "image/png": "[encoded data removed]",
      "text/plain": [
       "<Figure size 1000x500 with 1 Axes>"
      ]
     },
     "metadata": {},
     "output_type": "display_data"
    }
   ],
   "source": [
    "import numpy as np\n",
    "import matplotlib.pyplot as plt\n",
    "import statsmodels.api as sm\n",
    "\n",
    "\n",
    "# Function to plot ACF\n",
    "def plot_acf(time_series, lags=300, title='Autocorrelation'):\n",
    "    plt.figure(figsize=(10, 5))\n",
    "    sm.graphics.tsa.plot_acf(time_series, lags=lags, ax=plt.gca())\n",
    "    plt.title(title)\n",
    "    plt.show()\n",
    "\n",
    "# Compute and plot ACF for the first time series in each set\n",
    "plot_acf(time_series_1, title='ACF of Time Series 1 from Set 1')\n",
    "plot_acf(time_series_2, title='ACF of Time Series 1 from Set 2')\n",
    "\n",
    "# Compute and visualize ACF for all time series in both sets\n",
    "# for i in range(len(time_series_1)):"
   ]
  },
  {
   "cell_type": "code",
   "execution_count": 227,
   "metadata": {},
   "outputs": [
    {
     "data": {
      "image/png": "[encoded data removed]",
      "text/plain": [
       "<Figure size 1000x600 with 1 Axes>"
      ]
     },
     "metadata": {},
     "output_type": "display_data"
    }
   ],
   "source": [
    "def cross_correlation(ts1, ts2):\n",
    "    result = np.correlate(ts1 - np.mean(ts1), ts2 - np.mean(ts2), mode='full')\n",
    "    return result / (np.std(ts1) * np.std(ts2) * len(ts1))\n",
    "\n",
    "# Get cross-correlation result\n",
    "ccf = cross_correlation(time_series_1, time_series_2)\n",
    "\n",
    "# Compute lags\n",
    "lags = np.arange(-len(time_series_1) + 1, len(time_series_1))\n",
    "\n",
    "# Plot the cross-correlation function (CCF)\n",
    "plt.figure(figsize=(10, 6))\n",
    "plt.plot(lags, ccf)\n",
    "plt.axhline(0, color='black', linewidth=1)\n",
    "plt.axvline(0, color='black', linewidth=1)\n",
    "plt.title('Cross-Correlation Function')\n",
    "plt.xlabel('Lags')\n",
    "plt.ylabel('Cross-Correlation')\n",
    "plt.show()"
   ]
  },
  {
   "cell_type": "code",
   "execution_count": 209,
   "metadata": {},
   "outputs": [
    {
     "data": {
      "text/plain": [
       "[<matplotlib.lines.Line2D at 0x1b57b32e110>]"
      ]
     },
     "execution_count": 209,
     "metadata": {},
     "output_type": "execute_result"
    },
    {
     "data": {
      "image/png": "[encoded data removed]",
      "text/plain": [
       "<Figure size 640x480 with 1 Axes>"
      ]
     },
     "metadata": {},
     "output_type": "display_data"
    }
   ],
   "source": [
    "plt.plot(q2[:250]- q2_fail[:250])\n",
    "\n",
    "plt.plot(mu[:250]- mu_fail[:250])\n",
    "plt.plot(q1[:250]- q1_fail[:250])"
   ]
  },
  {
   "cell_type": "code",
   "execution_count": 210,
   "metadata": {},
   "outputs": [
    {
     "data": {
      "text/plain": [
       "[<matplotlib.lines.Line2D at 0x1b58157e610>]"
      ]
     },
     "execution_count": 210,
     "metadata": {},
     "output_type": "execute_result"
    },
    {
     "data": {
      "image/png": "[encoded data removed]",
      "text/plain": [
       "<Figure size 640x480 with 1 Axes>"
      ]
     },
     "metadata": {},
     "output_type": "display_data"
    }
   ],
   "source": [
    "# plt.plot(q2)\n",
    "plt.plot(q2[:250])\n",
    "plt.plot(q2_fail[:250])\n",
    "\n",
    "plt.plot(q1[:250])\n",
    "plt.plot(q1_fail[:250])\n",
    "# plt.plot(q1)"
   ]
  },
  {
   "cell_type": "code",
   "execution_count": 176,
   "metadata": {},
   "outputs": [
    {
     "data": {
      "image/png": "[encoded data removed]",
      "text/plain": [
       "<Figure size 640x480 with 1 Axes>"
      ]
     },
     "metadata": {},
     "output_type": "display_data"
    }
   ],
   "source": [
    "dn =  300\n",
    "for f in features:\n",
    "    success_mean = success_interpol.groupby('step')[f].apply(lambda x: x.mean())\n",
    "\n",
    "    success_var =  success_interpol.groupby('step')[f].var()\n",
    "    # success_skew = stats.skew(np.stack(success_interpol.groupby('step').apply(lambda x:  x[f].map(lambda x: x).values).tolist(),axis=0),axis=1)\n",
    "    success_std = success_interpol.groupby('step')[f].apply(lambda x:x.std())\n",
    "    success_q1 = success_mean+success_std#interpolated_data_df.groupby('step')[f].quantile(0.75).map(lambda x: np.exp(1/x))\n",
    "    success_q2= success_mean-success_std#interpolated_data_df.groupby('step')[f].quantile(0.01).map(lambda x: np.exp(1/x))\n",
    "\n",
    "    \n",
    "    fail_mean = fail_interpol.groupby('step')[f].apply(lambda x: x.mean())\n",
    "    fail_var = fail_interpol.groupby('step')[f].var()\n",
    "    # fail_skew = stats.skew(np.stack(fail_interpol.groupby('step').apply(lambda x:  x[f].map(lambda x: x).values).tolist(),axis=0),axis=1)\n",
    "    \n",
    "    \n",
    "    fail_std = fail_interpol.groupby('step')[f].apply(lambda x: x.std())\n",
    "    \n",
    "    fail_q1 = fail_mean+fail_std#interpolated_data_df.groupby('step')[f].quantile(0.75).map(np.log)\n",
    "    fail_q2= fail_mean-fail_std#s\n",
    "    # plt.scatter(fail_q1, success_q1)\n",
    "    # print(np.corrcoef(fail_q1, success_q1))\n",
    "    \n",
    "    plt.title(f)\n",
    "    # plt.show()\n",
    "    plt.plot(success_mean[:dn])\n",
    "    plt.plot(fail_mean[:dn])\n",
    "    # plt.plot(fail_var)\n",
    "    # plt.plot(success_skew)\n",
    "    # # plt.plot(fail_skew)\n",
    "    plt.fill_between(np.arange(0,success_q1[:dn].shape[0]), fail_q1[:dn], fail_q2[:dn], alpha=0.8,)# color='g')\n",
    "    \n",
    "    plt.fill_between(np.arange(0,success_q1[:dn].shape[0]), success_q1[:dn], success_q2[:dn], alpha=0.4,)# color='r')\n",
    "    \n",
    "    plt.show()\n",
    "    break\n",
    "    # break"
   ]
  },
  {
   "cell_type": "code",
   "execution_count": null,
   "metadata": {},
   "outputs": [],
   "source": []
  },
  {
   "cell_type": "code",
   "execution_count": null,
   "metadata": {},
   "outputs": [],
   "source": [
    "success_sample_early"
   ]
  },
  {
   "cell_type": "code",
   "execution_count": null,
   "metadata": {},
   "outputs": [],
   "source": [
    "axs"
   ]
  },
  {
   "cell_type": "code",
   "execution_count": null,
   "metadata": {},
   "outputs": [],
   "source": [
    "import pandas as pd\n",
    "import numpy as np\n",
    "import matplotlib.pyplot as plt\n",
    "success_sample_early = success_sample.loc[success_sample['step']<=120]\n",
    "fail_sample_early = fail_sample.loc[fail_sample['step']<=120]\n",
    "# Simulating data\n",
    "np.random.seed(0)\n",
    "time_steps = 120+1\n",
    "series_per_class = 50\n",
    "ids = np.arange(series_per_class)\n",
    "fig, axs = plt.subplots(ncols=2,sharey=True, figsize=(15,12))\n",
    "\n",
    "# Group by time_step and id to calculate mean for each time series at each step\n",
    "stats_df = fail_sample_early.groupby(['step', 'id']).agg({\n",
    "    'inertia_tensor-1-1': ['mean', 'median', 'std']  # Add other statistics as needed\n",
    "}).reset_index()\n",
    "\n",
    "# Unstacking for easier plotting\n",
    "stats_df.columns = ['step', 'id', 'mean', 'median', 'std']\n",
    "means = stats_df.pivot(index='id', columns='step', values='mean')\n",
    "\n",
    "boxplot_data = [means[col].dropna() for col in means.columns]\n",
    "axs[0].boxplot(boxplot_data)\n",
    "plt.title('Box Plot of Means for Each Time Series at Each Time Step')\n",
    "plt.xlabel('Time Step')\n",
    "plt.ylabel('Mean Value')\n",
    "# plt.show()\n",
    "\n",
    "\n",
    "# import pandas as pd\n",
    "# import numpy as np\n",
    "# import matplotlib.pyplot as plt\n",
    "\n",
    "# # Simulating data\n",
    "# np.random.seed(0)\n",
    "# time_steps = 60\n",
    "# series_per_class = 50\n",
    "# ids = np.arange(series_per_class)\n",
    "\n",
    "\n",
    "# Group by time_step and id to calculate mean for each time series at each step\n",
    "stats_df = success_sample_early.groupby(['step', 'id']).agg({\n",
    "    'inertia_tensor-1-1': ['mean', 'median', 'std']  # Add other statistics as needed\n",
    "}).reset_index()\n",
    "\n",
    "# Unstacking for easier plotting\n",
    "stats_df.columns = ['step', 'id', 'mean', 'median', 'std']\n",
    "means = stats_df.pivot(index='id', columns='step', values='mean')\n",
    "\n",
    "# Plotting\n",
    "# plt.figure(figsize=(15, 8))\n",
    "boxplot_data = [means[col].dropna() for col in means.columns]\n",
    "axs[1].boxplot(boxplot_data)\n",
    "# plt.title('Box Plot of Means for Each Time Series at Each Time Step')\n",
    "# plt.xlabel('Time Step')\n",
    "# plt.ylabel('Mean Value')\n",
    "plt.show()\n"
   ]
  },
  {
   "cell_type": "code",
   "execution_count": null,
   "metadata": {},
   "outputs": [],
   "source": [
    "from sklearn.decomposition import PCA"
   ]
  },
  {
   "cell_type": "code",
   "execution_count": null,
   "metadata": {},
   "outputs": [],
   "source": [
    "y =targets"
   ]
  },
  {
   "cell_type": "code",
   "execution_count": null,
   "metadata": {},
   "outputs": [],
   "source": [
    "X_full = np.stack(interpolated_data.fillna(0).drop(['Fetal Heart Beat', 'y'],axis=1).groupby('id').apply(lambda x: x.drop('id',axis=1).values.flatten()).tolist())\n"
   ]
  },
  {
   "cell_type": "code",
   "execution_count": null,
   "metadata": {},
   "outputs": [],
   "source": [
    "y"
   ]
  },
  {
   "cell_type": "code",
   "execution_count": null,
   "metadata": {},
   "outputs": [],
   "source": [
    "pca_failed = PCA("
   ]
  },
  {
   "cell_type": "code",
   "execution_count": null,
   "metadata": {},
   "outputs": [],
   "source": [
    "pca_succes = succesfull_feats.fillna(0).drop(['Fetal Heart Beat'],axis=1).groupby('id').apply(lambda x: PCA(n_components=30).fit_transform(x.drop('id',axis=1)).mean(axis=0))"
   ]
  },
  {
   "cell_type": "code",
   "execution_count": null,
   "metadata": {},
   "outputs": [],
   "source": [
    "succesfull_feats"
   ]
  },
  {
   "cell_type": "code",
   "execution_count": null,
   "metadata": {},
   "outputs": [],
   "source": [
    "succesfull_feats['y'] = succesfull_feats['Fetal Heart Beat']==0"
   ]
  },
  {
   "cell_type": "code",
   "execution_count": null,
   "metadata": {},
   "outputs": [],
   "source": [
    "failed_feats['y'] = failed_feats['Fetal Heart Beat'] == 0"
   ]
  },
  {
   "cell_type": "code",
   "execution_count": null,
   "metadata": {},
   "outputs": [],
   "source": [
    "y = pd.concat([failed_feats.drop_duplicates('id')['y'] , succesfull_feats.drop_duplicates('id')['y']])"
   ]
  },
  {
   "cell_type": "code",
   "execution_count": null,
   "metadata": {},
   "outputs": [],
   "source": [
    "y"
   ]
  },
  {
   "cell_type": "code",
   "execution_count": null,
   "metadata": {},
   "outputs": [],
   "source": [
    "X = np.stack([*pca_failed.tolist(),*pca_succes.tolist()])\n"
   ]
  },
  {
   "cell_type": "code",
   "execution_count": null,
   "metadata": {},
   "outputs": [],
   "source": [
    "plt.scatter(X[:,0], X[:,9],c=y)"
   ]
  },
  {
   "cell_type": "code",
   "execution_count": null,
   "metadata": {},
   "outputs": [],
   "source": [
    "from sklearn.model_selection import train_test_split, KFold\n",
    "from sklearn.linear_model import LogisticRegression\n",
    "from sklearn.ensemble import RandomForestClassifier\n",
    "from sklearn.metrics import confusion_matrix, roc_auc_score"
   ]
  },
  {
   "cell_type": "code",
   "execution_count": null,
   "metadata": {},
   "outputs": [],
   "source": [
    "X_train.shape"
   ]
  },
  {
   "cell_type": "code",
   "execution_count": null,
   "metadata": {},
   "outputs": [],
   "source": [
    "X_train, X_test, y_train, y_test = train_test_split(X_full,y,shuffle=True, random_state=45)"
   ]
  },
  {
   "cell_type": "code",
   "execution_count": null,
   "metadata": {},
   "outputs": [],
   "source": [
    "pca = PCA(n_components=10)\n"
   ]
  },
  {
   "cell_type": "code",
   "execution_count": null,
   "metadata": {},
   "outputs": [],
   "source": [
    "X_train = pca.fit_transform(X_train)\n",
    "X_test = pca.transform(X_test)"
   ]
  },
  {
   "cell_type": "code",
   "execution_count": null,
   "metadata": {},
   "outputs": [],
   "source": [
    "clf = RandomForestClassifier()"
   ]
  },
  {
   "cell_type": "code",
   "execution_count": null,
   "metadata": {},
   "outputs": [],
   "source": [
    "clf.fit(X_train,y_train)"
   ]
  },
  {
   "cell_type": "code",
   "execution_count": null,
   "metadata": {},
   "outputs": [],
   "source": [
    "preds = clf.predict(X_test)"
   ]
  },
  {
   "cell_type": "code",
   "execution_count": null,
   "metadata": {},
   "outputs": [],
   "source": [
    "confusion_matrix(y_test,preds)"
   ]
  },
  {
   "cell_type": "code",
   "execution_count": null,
   "metadata": {},
   "outputs": [],
   "source": [
    "y = np.array(y).astype(int)"
   ]
  },
  {
   "cell_type": "code",
   "execution_count": null,
   "metadata": {},
   "outputs": [],
   "source": [
    "n_folds = KFold(5, random_state=2, shuffle=True)\n",
    "\n",
    "preds = []\n",
    "\n",
    "for train_idx, test_idx in n_folds.split(X_full, y):\n",
    "    pca = PCA(n_components=100)\n",
    "    X_train, X_test, y_train, y_test = X_full[train_idx], X_full[test_idx],y[train_idx], y[test_idx]\n",
    "    clf = RandomForestClassifier(random_state=32)\n",
    "    \n",
    "    X_train = pca.fit_transform(X_train)\n",
    "    X_test = pca.transform(X_test)\n",
    "\n",
    "    clf.fit(X_train,y_train)\n",
    "\n",
    "    preds = clf.predict(X_test)\n",
    "    probas =clf.predict_proba(X_test)[:,1]\n",
    "\n",
    "    print(roc_auc_score(y_test, probas))\n",
    "    print(confusion_matrix(y_test,preds))"
   ]
  },
  {
   "cell_type": "code",
   "execution_count": null,
   "metadata": {},
   "outputs": [],
   "source": [
    "zoe['embryo_id'] =  zoe['Slide ID']+'_'+zoe['Well'].astype(str)"
   ]
  },
  {
   "cell_type": "code",
   "execution_count": null,
   "metadata": {},
   "outputs": [],
   "source": [
    "zoe['Day3 Cells'].value_counts().sum()"
   ]
  },
  {
   "cell_type": "code",
   "execution_count": null,
   "metadata": {},
   "outputs": [],
   "source": [
    "with_grades = zoe[pd.to_numeric(zoe['Morphological Grade - Value'], errors='coerce').notnull()]"
   ]
  },
  {
   "cell_type": "code",
   "execution_count": null,
   "metadata": {},
   "outputs": [],
   "source": [
    "with_grades['Morphological Grade - Value'].value_counts()"
   ]
  },
  {
   "cell_type": "code",
   "execution_count": null,
   "metadata": {},
   "outputs": [],
   "source": [
    "df['id'].nunique()"
   ]
  },
  {
   "cell_type": "code",
   "execution_count": null,
   "metadata": {},
   "outputs": [],
   "source": []
  },
  {
   "cell_type": "code",
   "execution_count": null,
   "metadata": {},
   "outputs": [],
   "source": [
    "all_extracted.embryo_id.nunique()"
   ]
  },
  {
   "cell_type": "code",
   "execution_count": null,
   "metadata": {},
   "outputs": [],
   "source": [
    "zoe.index = zoe['embryo_id']\n"
   ]
  },
  {
   "cell_type": "code",
   "execution_count": null,
   "metadata": {},
   "outputs": [],
   "source": [
    "zoe_extracted = zoe.loc[all_extracted.embryo_id.unique()]"
   ]
  },
  {
   "cell_type": "code",
   "execution_count": null,
   "metadata": {},
   "outputs": [],
   "source": [
    "extracted_with_grades = zoe_extracted[pd.to_numeric(zoe_extracted['Morphological Grade - Value'], errors='coerce').notnull()]"
   ]
  },
  {
   "cell_type": "code",
   "execution_count": null,
   "metadata": {},
   "outputs": [],
   "source": []
  },
  {
   "cell_type": "code",
   "execution_count": null,
   "metadata": {},
   "outputs": [],
   "source": [
    "all_extracted.index = all_extracted['embryo_id']\n"
   ]
  },
  {
   "cell_type": "code",
   "execution_count": null,
   "metadata": {},
   "outputs": [],
   "source": []
  },
  {
   "cell_type": "code",
   "execution_count": null,
   "metadata": {},
   "outputs": [],
   "source": [
    "all_extracted_graded = all_extracted.loc[extracted_with_grades.index]"
   ]
  },
  {
   "cell_type": "code",
   "execution_count": null,
   "metadata": {},
   "outputs": [],
   "source": [
    "all_extracted_graded['time_hours'] = 24*all_extracted_graded.reset_index(drop=True).groupby('embryo_id').apply(lambda x: x['Time']-x['Time'].min()).values"
   ]
  },
  {
   "cell_type": "code",
   "execution_count": null,
   "metadata": {},
   "outputs": [],
   "source": [
    "data_d2 = all_extracted_graded.loc[all_extracted_graded['time_hours']<=300]"
   ]
  },
  {
   "cell_type": "code",
   "execution_count": null,
   "metadata": {},
   "outputs": [],
   "source": [
    "data_d2['time_hours']"
   ]
  },
  {
   "cell_type": "code",
   "execution_count": null,
   "metadata": {},
   "outputs": [],
   "source": [
    "y = extracted_with_grades['Morphological Grade - Value']"
   ]
  },
  {
   "cell_type": "code",
   "execution_count": null,
   "metadata": {},
   "outputs": [],
   "source": [
    "extracted_with_grades"
   ]
  },
  {
   "cell_type": "code",
   "execution_count": null,
   "metadata": {},
   "outputs": [],
   "source": [
    "\n",
    "def extract_ts_features(df, column_sort, column_id, features_to_extract):\n",
    "    if features_to_extract:\n",
    "        extracted_features = extract_features(df,\n",
    "                         column_sort=column_sort,\n",
    "                         kind_to_fc_parameters=features_to_extract,\n",
    "                         column_id=column_id)\n",
    "    else:\n",
    "        settings = EfficientFCParameters()\n",
    "        extracted_features = extract_features(df,\n",
    "                         column_sort=column_sort,\n",
    "                          default_fc_parameters=settings,\n",
    "                         column_id=column_id,n_jobs=15)\n",
    "        \n",
    "    return extracted_features"
   ]
  },
  {
   "cell_type": "code",
   "execution_count": null,
   "metadata": {},
   "outputs": [],
   "source": []
  },
  {
   "cell_type": "code",
   "execution_count": null,
   "metadata": {},
   "outputs": [],
   "source": [
    "morpho_task_keys = [\n",
    "    '36_hours_morpho',\n",
    "     '48_hours_morpho',\n",
    "     '60_hours_morpho', \n",
    "     '72_hours_morpho',\n",
    "            ]"
   ]
  },
  {
   "cell_type": "code",
   "execution_count": null,
   "metadata": {},
   "outputs": [],
   "source": [
    "features = [\n",
    "                'embryo_id', 'time_hours', 'eccentricity', 'minor_axis_length',\n",
    "                'major_axis_length', 'solidity', 'area', 'area_diff',\n",
    "                'major_axis_length_diff', 'eccentricity_diff',\n",
    "                'minor_axis_length_diff', 'solidity_diff', 'perimeter',\n",
    "                'equivalent_diameter', 'inertia_tensor-0-0',\n",
    "                'inertia_tensor-0-1', 'inertia_tensor-1-0',\n",
    "                'inertia_tensor-1-1'\n",
    "            ]"
   ]
  },
  {
   "cell_type": "code",
   "execution_count": null,
   "metadata": {},
   "outputs": [],
   "source": []
  },
  {
   "cell_type": "code",
   "execution_count": null,
   "metadata": {},
   "outputs": [],
   "source": [
    "new_df = data_d2.copy()"
   ]
  },
  {
   "cell_type": "code",
   "execution_count": null,
   "metadata": {},
   "outputs": [],
   "source": [
    "new_cols = []\n",
    "for c in features[1:]:\n",
    "    new_df = new_df[pd.to_numeric(\n",
    "        new_df[c],\n",
    "        errors='coerce').notnull()]\n",
    "    "
   ]
  },
  {
   "cell_type": "code",
   "execution_count": null,
   "metadata": {},
   "outputs": [],
   "source": [
    "new_df[features[1:]] = new_df[features[1:]].astype(float)"
   ]
  },
  {
   "cell_type": "code",
   "execution_count": null,
   "metadata": {},
   "outputs": [],
   "source": [
    "new_df = new_df.fillna(0)"
   ]
  },
  {
   "cell_type": "code",
   "execution_count": null,
   "metadata": {},
   "outputs": [],
   "source": [
    "# extracted_features_d2 = extract_ts_features(new_df[features].reset_index(drop=True),\n",
    "#                                             column_sort='time_hours',\n",
    "#                                            column_id='embryo_id'\n",
    "#                                             ,features_to_extract=None)"
   ]
  },
  {
   "cell_type": "code",
   "execution_count": null,
   "metadata": {},
   "outputs": [],
   "source": [
    "from darts.models.forecasting.tide_model import TiDEModel\n"
   ]
  },
  {
   "cell_type": "code",
   "execution_count": null,
   "metadata": {},
   "outputs": [],
   "source": [
    "long_enough_ids = new_df.index.unique()[new_df.groupby(new_df.index).time_hours.max()>100][:4000]"
   ]
  },
  {
   "cell_type": "code",
   "execution_count": null,
   "metadata": {},
   "outputs": [],
   "source": [
    "from darts import TimeSeries"
   ]
  },
  {
   "cell_type": "code",
   "execution_count": null,
   "metadata": {},
   "outputs": [],
   "source": [
    "features = ['area', 'eccentricity',\n",
    "       'equivalent_diameter', 'inertia_tensor-0-0', 'inertia_tensor-0-1',\n",
    "       'inertia_tensor-1-0', 'inertia_tensor-1-1', 'major_axis_length',\n",
    "       'minor_axis_length', 'perimeter', 'solidity', 'area_diff',\n",
    "       'eccentricity_diff', 'minor_axis_length_diff', 'major_axis_length_diff',\n",
    "       'solidity_diff', 'time_hours']"
   ]
  },
  {
   "cell_type": "code",
   "execution_count": null,
   "metadata": {},
   "outputs": [],
   "source": [
    "starting_time = pd.to_datetime('2010-01-10')"
   ]
  },
  {
   "cell_type": "code",
   "execution_count": null,
   "metadata": {},
   "outputs": [],
   "source": [
    "df__['time']+starting_time"
   ]
  },
  {
   "cell_type": "code",
   "execution_count": null,
   "metadata": {},
   "outputs": [],
   "source": [
    "all_timeseries = []\n",
    "for id_ in long_enough_ids:\n",
    "    df__=new_df.copy().loc[id_]\n",
    "    df__['time']= pd.to_timedelta(df__['time_hours'], unit='h')+starting_time\n",
    "\n",
    "    df__ = df__.set_index('time')\n",
    "    df__ = df__[features].resample('20min').mean()\n",
    "    ts = TimeSeries.from_dataframe(df__.reset_index(),\n",
    "                                  time_col='time',\n",
    "                                   # fill_missing_dates=True, \n",
    "                                   freq='20min')\n",
    "    if len(ts)<340:\n",
    "        \n",
    "        continue\n",
    "\n",
    "    if len(ts)>381:\n",
    "        continue\n",
    "    all_timeseries.append(ts)\n",
    "    "
   ]
  },
  {
   "cell_type": "code",
   "execution_count": null,
   "metadata": {},
   "outputs": [],
   "source": [
    "len(all_timeseries)"
   ]
  },
  {
   "cell_type": "code",
   "execution_count": null,
   "metadata": {},
   "outputs": [],
   "source": [
    "all_timeseries[30]['area'].plot()\n"
   ]
  },
  {
   "cell_type": "code",
   "execution_count": null,
   "metadata": {},
   "outputs": [],
   "source": []
  },
  {
   "cell_type": "code",
   "execution_count": null,
   "metadata": {},
   "outputs": [],
   "source": [
    "all_timeseries[0].resample('1min')"
   ]
  },
  {
   "cell_type": "code",
   "execution_count": null,
   "metadata": {},
   "outputs": [],
   "source": [
    "from darts.utils.missing_values import fill_missing_values"
   ]
  },
  {
   "cell_type": "code",
   "execution_count": null,
   "metadata": {},
   "outputs": [],
   "source": [
    "from darts.dataprocessing.transformers import Scaler\n",
    "\n",
    "from sklearn.preprocessing import StandardScaler, MinMaxScaler"
   ]
  },
  {
   "cell_type": "code",
   "execution_count": null,
   "metadata": {},
   "outputs": [],
   "source": [
    "all_timeseries = [fill_missing_values(t) for t in all_timeseries]"
   ]
  },
  {
   "cell_type": "code",
   "execution_count": null,
   "metadata": {},
   "outputs": [],
   "source": [
    "scaler = Scaler(StandardScaler())"
   ]
  },
  {
   "cell_type": "code",
   "execution_count": null,
   "metadata": {},
   "outputs": [],
   "source": [
    "train_len = int(0.8*len(all_timeseries))\n",
    "\n",
    "\n",
    "train_ts = scaler.fit_transform(all_timeseries[:train_len])\n",
    "\n",
    "val_ts = scaler.transform(all_timeseries[train_len:])"
   ]
  },
  {
   "cell_type": "code",
   "execution_count": null,
   "metadata": {},
   "outputs": [],
   "source": [
    "from pytorch_lightning.callbacks import EarlyStopping\n",
    "import torch"
   ]
  },
  {
   "cell_type": "code",
   "execution_count": null,
   "metadata": {},
   "outputs": [],
   "source": [
    "optimizer_kwargs = {\n",
    "        \"lr\": 3e-5,\n",
    "    }\n",
    "\n",
    "my_stopper = EarlyStopping(\n",
    "    monitor=\"val_loss\",\n",
    "    patience=5,\n",
    "    min_delta=0.0001,\n",
    "    mode='min',\n",
    "    \n",
    ")\n",
    "# pl_trainer_kwargs = {\"callbacks\": [my_stopper]}\n",
    "# \n",
    "# PyTorch Lightning Trainer arguments\n",
    "pl_trainer_kwargs = {\n",
    "    \"gradient_clip_val\": 1e3,\n",
    "    \"max_epochs\": 100,\n",
    "    \"accelerator\": \"gpu\",\n",
    "    \"devices\": [1],\n",
    "    \"callbacks\": [my_stopper],\n",
    "}\n",
    "\n",
    "# learning rate scheduler\n",
    "lr_scheduler_cls = torch.optim.lr_scheduler.CosineAnnealingLR\n",
    "lr_scheduler_kwargs = {\n",
    "    \"T_max\":30*36887\n",
    "    # \"gamma\": 0.999,\n",
    "}\n",
    "\n",
    "# early stopping (needs to be reset for each model later on)\n",
    "# this setting stops training once the the validation loss has not decreased by more than 1e-3 for 10 epochs\n",
    "early_stopping_args = {\n",
    "    \"monitor\": \"val_loss\",\n",
    "    \"patience\": 5,\n",
    "    \"min_delta\": 1e-5,\n",
    "    \"mode\": \"min\",\n",
    "} \n",
    "\n",
    "common_model_args = {\n",
    "    \"input_chunk_length\": 250,  # lookback window\n",
    "    \"output_chunk_length\": 80,  # forecast/lookahead window\n",
    "    \"optimizer_kwargs\": optimizer_kwargs,\n",
    "    \"pl_trainer_kwargs\": pl_trainer_kwargs,\n",
    "    \"lr_scheduler_cls\": lr_scheduler_cls,\n",
    "    \"lr_scheduler_kwargs\": lr_scheduler_kwargs,\n",
    "    # \"likelihood\": LaplaceLikelihood(prior_b=1),\n",
    "    \"save_checkpoints\": True,  # checkpoint to retrieve the best performing model state,\n",
    "    \"force_reset\": True,\n",
    "    \"batch_size\": 32,\n",
    "    \"random_state\": 1024,\n",
    "    \"dropout\": 0.0,\n",
    "    \"log_tensorboard\": True \n",
    "}\n",
    "\n",
    "\n",
    "from uuid import uuid4\n",
    "model_uuid = uuid4()\n",
    "\n",
    "# print(model_uuid)\n",
    "model = TiDEModel(\n",
    "    **common_model_args,\n",
    "    model_name=f\"tide_{model_uuid}\",\n",
    "    hidden_size=512,\n",
    "    decoder_output_dim=8,\n",
    "    temporal_decoder_hidden=16,\n",
    "    use_layer_norm=True,\n",
    "    n_epochs=100,\n",
    "use_reversible_instance_norm=True\n",
    "    # add_encoders=add_encoders\n",
    "        # n_epochs=10#,use_reversible_instance_norm=True\n",
    "    )\n",
    "\n",
    "\n",
    "model.fit(train_ts, val_series=val_ts)"
   ]
  },
  {
   "cell_type": "code",
   "execution_count": null,
   "metadata": {},
   "outputs": [],
   "source": [
    "val_ts[-1][:350]['area']"
   ]
  },
  {
   "cell_type": "code",
   "execution_count": null,
   "metadata": {},
   "outputs": [],
   "source": [
    "for val in val_ts:\n",
    "    model.predict(80,val[:250])[features[0]].plot()\n",
    "    val[:500][features[0]].plot()\n",
    "    plt.show()"
   ]
  },
  {
   "cell_type": "code",
   "execution_count": null,
   "metadata": {},
   "outputs": [],
   "source": [
    "model.predict(10000,val_ts[-3][:250])[features[0]].plot()\n",
    "val_ts[-3][:350][features[0]].plot()"
   ]
  },
  {
   "cell_type": "code",
   "execution_count": null,
   "metadata": {},
   "outputs": [],
   "source": [
    "model.predict(150,scaler.transform(all_timeseries[-1])[:250])['area'].plot()\n",
    "scaler.transform(all_timeseries[-1][:350])['area'].plot()"
   ]
  },
  {
   "cell_type": "code",
   "execution_count": null,
   "metadata": {},
   "outputs": [],
   "source": []
  },
  {
   "cell_type": "code",
   "execution_count": null,
   "metadata": {},
   "outputs": [],
   "source": [
    "from darts.datasets import WeatherDataset\n",
    "from darts.models import TCNModel\n",
    "series = WeatherDataset().load()\n",
    "# predicting atmospheric pressure\n",
    "target = series['p (mbar)'][:100]\n",
    "# optionally, use past observed rainfall (pretending to be unknown beyond index 100)\n",
    "past_cov = series['rain (mm)'][:100]\n",
    "# `output_chunk_length` must be strictly smaller than `input_chunk_length`\n",
    "model = TCNModel(\n",
    "    input_chunk_length=12,\n",
    "    output_chunk_length=6,\n",
    "    n_epochs=20,\n",
    ")\n",
    "model.fit(target, past_covariates=past_cov)\n",
    "pred = model.predict(6)"
   ]
  },
  {
   "cell_type": "code",
   "execution_count": null,
   "metadata": {},
   "outputs": [],
   "source": [
    "series"
   ]
  },
  {
   "cell_type": "code",
   "execution_count": null,
   "metadata": {},
   "outputs": [],
   "source": [
    "from  datetime import datetime"
   ]
  },
  {
   "cell_type": "code",
   "execution_count": null,
   "metadata": {},
   "outputs": [],
   "source": [
    "datetime.fromtimestamp(40695.637367*100*60)"
   ]
  },
  {
   "cell_type": "code",
   "execution_count": null,
   "metadata": {},
   "outputs": [],
   "source": [
    "?datetime.fromtimestamp"
   ]
  },
  {
   "cell_type": "code",
   "execution_count": null,
   "metadata": {},
   "outputs": [],
   "source": [
    "merged_r_alligned['area_diff'] = merged_r_alligned.groupby('id').area.diff().fillna(0)\n",
    "merged_r_alligned['solidity_diff'] = merged_r_alligned.groupby('id').solidity.diff().fillna(0)\n",
    "merged_r_alligned['eccentricity_diff'] = merged_r_alligned.groupby('id').eccentricity.diff().fillna(0)\n",
    "merged_r_alligned['major_axis_length_diff'] = merged_r_alligned.groupby('id').major_axis_length.diff().fillna(0)\n",
    "merged_r_alligned['minor_axis_length_diff'] = merged_r_alligned.groupby('id').minor_axis_length.diff().fillna(0)"
   ]
  },
  {
   "cell_type": "code",
   "execution_count": null,
   "metadata": {},
   "outputs": [],
   "source": [
    "merged_r_alligned[features]"
   ]
  },
  {
   "cell_type": "code",
   "execution_count": null,
   "metadata": {},
   "outputs": [],
   "source": []
  },
  {
   "cell_type": "code",
   "execution_count": null,
   "metadata": {},
   "outputs": [],
   "source": [
    "timestep_per_morpho_task = {}\n",
    "for morpho_task in morpho_task_keys:\n",
    "    step = 12\n",
    "    total_t = morpho_task.split('_')[0]\n",
    "    dts = [(i,i+step) for i in range(0,int(1*total_t), step)]\n",
    "    timestep_per_morpho_task[morpho_task] = dts\n",
    "    "
   ]
  },
  {
   "cell_type": "code",
   "execution_count": null,
   "metadata": {
    "scrolled": true
   },
   "outputs": [],
   "source": [
    "from tsfresh.feature_extraction import EfficientFCParameters, MinimalFCParameters\n",
    "settings = EfficientFCParameters()\n",
    "#settings = MinimalFCParameters()\n",
    "# Set here the options of the settings object as shown in the paragraphs below\n",
    "from tsfresh.feature_extraction import extract_features\n",
    "\n",
    "extracted_feats_per_timestep = {}\n",
    "step = 12\n",
    "total_t = 72\n",
    "all_dts = [(i,i+step) for i in range(0,int(1*total_t), step)]\n",
    "\n",
    "for dt in dts:\n",
    "    msk = (24*merged_r_alligned.Time<=dt[1])&(24*merged_r_alligned.Time>dt[0])\n",
    "    df_masked = merged_r_alligned.loc[msk][features].fillna(0)\n",
    "    extracted_features = extract_ts_features(df=df_masked,\n",
    "                        column_sort='Time',\n",
    "                        column_id='id',\n",
    "                        features_to_extract=None\n",
    "                       )\n",
    "\n",
    "    extracted_features.columns = [f\"{c}__{dt}\" for c in extracted_features.columns]\n",
    "    extracted_feats_per_timestep[f\"{dt}\"] = extracted_features"
   ]
  },
  {
   "cell_type": "code",
   "execution_count": null,
   "metadata": {},
   "outputs": [],
   "source": [
    "extracted_feats_per_task = {}\n",
    "for key, dts in timestep_per_morpho_task.items():\n",
    "    task_df = pd.concat([extracted_feats_per_timestep[f\"{dt}\"] for dt in dts], axis=1)\n",
    "    extracted_feats_per_task[key] = task_df"
   ]
  },
  {
   "cell_type": "code",
   "execution_count": null,
   "metadata": {},
   "outputs": [],
   "source": [
    "import pickle\n",
    "blasto_settings = pickle.load(open('trained_models/features_to_extract_tsfresh.pkl', 'rb'))"
   ]
  },
  {
   "cell_type": "code",
   "execution_count": null,
   "metadata": {
    "scrolled": true
   },
   "outputs": [],
   "source": [
    "extracted_features_blasto = extract_ts_features(df=merged_r_alligned[features].fillna(0),\n",
    "                        column_sort='Time',\n",
    "                        column_id='id',\n",
    "                        features_to_extract=blasto_settings\n",
    "                       )"
   ]
  },
  {
   "cell_type": "code",
   "execution_count": null,
   "metadata": {},
   "outputs": [],
   "source": [
    "blasto_target"
   ]
  },
  {
   "cell_type": "code",
   "execution_count": null,
   "metadata": {},
   "outputs": [],
   "source": [
    "y_area = blasto_target.loc[extracted_features_blasto.index]"
   ]
  },
  {
   "cell_type": "code",
   "execution_count": null,
   "metadata": {},
   "outputs": [],
   "source": [
    "merged_r_alligned"
   ]
  },
  {
   "cell_type": "code",
   "execution_count": null,
   "metadata": {},
   "outputs": [],
   "source": []
  },
  {
   "cell_type": "code",
   "execution_count": null,
   "metadata": {},
   "outputs": [],
   "source": [
    "a = pd.Series(y_area.index.map(with_grades['Fetal Heart Beat']))"
   ]
  },
  {
   "cell_type": "code",
   "execution_count": null,
   "metadata": {},
   "outputs": [],
   "source": [
    "{'Fetal Heart Beat':a, 'id' :y_area.index}"
   ]
  },
  {
   "cell_type": "code",
   "execution_count": null,
   "metadata": {},
   "outputs": [],
   "source": [
    "final_result_df = pd.DataFrame({'Fetal Heart Beat':a, 'id' :y_area.index}).dropna()"
   ]
  },
  {
   "cell_type": "code",
   "execution_count": null,
   "metadata": {},
   "outputs": [],
   "source": [
    "final_result_df['Fetal Heart Beat'].value_counts()"
   ]
  },
  {
   "cell_type": "code",
   "execution_count": null,
   "metadata": {},
   "outputs": [],
   "source": [
    "msk1 = (final_result_df['Fetal Heart Beat']!='Unknown')\n",
    "msk2 = (final_result_df['Fetal Heart Beat']!='unknown')\n",
    "final_result_df['Fetal Heart Beat'] = final_result_df['Fetal Heart Beat'].replace('Unknown', 0)\n",
    "final_result_df['Fetal Heart Beat'] = final_result_df['Fetal Heart Beat'].replace('unknown', 0)\n",
    "# final_result_df = final_result_df.loc[msk1]\n",
    "# final_result_df = final_result_df.loc[msk2]"
   ]
  },
  {
   "cell_type": "code",
   "execution_count": null,
   "metadata": {},
   "outputs": [],
   "source": [
    "msk1"
   ]
  },
  {
   "cell_type": "code",
   "execution_count": null,
   "metadata": {},
   "outputs": [],
   "source": [
    "final_result_df"
   ]
  },
  {
   "cell_type": "code",
   "execution_count": null,
   "metadata": {},
   "outputs": [],
   "source": [
    "test_ids = final_result_df.id.values"
   ]
  },
  {
   "cell_type": "code",
   "execution_count": null,
   "metadata": {},
   "outputs": [],
   "source": [
    "train_ids = [id_ for id_ in y_area.index if id_ not in test_ids]"
   ]
  },
  {
   "cell_type": "code",
   "execution_count": null,
   "metadata": {},
   "outputs": [],
   "source": [
    " merged_r_alligned.reset_index(drop=True).groupby('id')\\\n",
    "    .apply(lambda x: x.group_grade.values[0]).loc[y_area.index].value_counts()"
   ]
  },
  {
   "cell_type": "code",
   "execution_count": null,
   "metadata": {},
   "outputs": [],
   "source": [
    "y_grade = merged_r_alligned.reset_index(drop=True).groupby('id').apply(lambda x: x.group_grade.values[0])"
   ]
  },
  {
   "cell_type": "code",
   "execution_count": null,
   "metadata": {},
   "outputs": [],
   "source": [
    "y_grade_train = y_grade.loc[train_ids]\n",
    "\n",
    "y_grade_test = y_grade.loc[test_ids]\n"
   ]
  },
  {
   "cell_type": "code",
   "execution_count": null,
   "metadata": {},
   "outputs": [],
   "source": [
    "extra_bads_test = y_grade_train.loc[y_grade_train=='Bad'].sample(46)\n",
    "extra_best_train = y_grade_test.loc[y_grade_test=='Best'].sample(46)\n"
   ]
  },
  {
   "cell_type": "code",
   "execution_count": null,
   "metadata": {},
   "outputs": [],
   "source": [
    "y_grade_train = y_grade_train.drop(extra_bads_test.index)\n",
    "y_grade_train = pd.concat([y_grade_train, extra_best_train])\n",
    "\n",
    "y_grade_test = y_grade_test.drop(extra_best_train.index)\n",
    "y_grade_test = pd.concat([y_grade_test, extra_bads_test])"
   ]
  },
  {
   "cell_type": "code",
   "execution_count": null,
   "metadata": {},
   "outputs": [],
   "source": [
    "train_ids = y_grade_train.index\n",
    "test_ids = y_grade_test.index"
   ]
  },
  {
   "cell_type": "code",
   "execution_count": null,
   "metadata": {},
   "outputs": [],
   "source": [
    "from sklearn.ensemble import RandomForestClassifier, RandomForestRegressor\n",
    "from sklearn.model_selection import KFold, train_test_split\n",
    "from sklearn.metrics import roc_auc_score"
   ]
  },
  {
   "cell_type": "code",
   "execution_count": null,
   "metadata": {},
   "outputs": [],
   "source": []
  },
  {
   "cell_type": "code",
   "execution_count": null,
   "metadata": {},
   "outputs": [],
   "source": [
    "X = timesteps_features.drop('group_grade',axis=1).iloc[:,:-1].fillna(0)\n",
    "y = timesteps_features['group_grade'].fillna('Bad')=='Bad'"
   ]
  },
  {
   "cell_type": "code",
   "execution_count": null,
   "metadata": {},
   "outputs": [],
   "source": []
  },
  {
   "cell_type": "code",
   "execution_count": null,
   "metadata": {},
   "outputs": [],
   "source": [
    "X_train.shape[0], X_test.shape[0]"
   ]
  },
  {
   "cell_type": "code",
   "execution_count": null,
   "metadata": {},
   "outputs": [],
   "source": [
    "y_train.shape[0], y_test.shape[0]"
   ]
  },
  {
   "cell_type": "code",
   "execution_count": null,
   "metadata": {},
   "outputs": [],
   "source": [
    "kfolds = KFold(5)"
   ]
  },
  {
   "cell_type": "code",
   "execution_count": null,
   "metadata": {},
   "outputs": [],
   "source": [
    "import lightgbm as lgb\n",
    "from sklearn.metrics import confusion_matrix,roc_auc_score, accuracy_score\n",
    "from tqdm import tqdm"
   ]
  },
  {
   "cell_type": "code",
   "execution_count": null,
   "metadata": {},
   "outputs": [],
   "source": [
    "def train_classifier(clf, X, y):\n",
    "    kfolds = KFold(5)\n",
    "    import_feats = []\n",
    "    clfs = []\n",
    "    aucs = []\n",
    "    count = 1\n",
    "    for train, test in tqdm(kfolds.split(X_train, y_train)):\n",
    "        #clf = RandomForestClassifier(n_jobs=-1)\n",
    "        clf.fit(X_train.iloc[train].values, y_train.iloc[train])\n",
    "        pred_porba = clf.predict_proba(X_train.iloc[test].values)\n",
    "\n",
    "        clfs.append(clfs)\n",
    "        import_feats.extend(list(np.argsort(clf.feature_importances_)[-600:]))\n",
    "        auc = roc_auc_score(y_train.iloc[test], pred_porba[:,1])\n",
    "        preds = clf.predict(X_train.iloc[test].values)\n",
    "       # auc = confusion_matrix(y_train.iloc[test], preds)\n",
    "       # print(auc)\n",
    "        aucs.append(auc)\n",
    "        #count+=1\n",
    "    #print(f\"Fold {count}\")\n",
    "    print(f\"AUC: {np.mean(aucs)} +-{np.std(aucs)}\")\n",
    "       \n",
    "    return list(set(import_feats))"
   ]
  },
  {
   "cell_type": "code",
   "execution_count": null,
   "metadata": {},
   "outputs": [],
   "source": [
    "from random import shuffle\n",
    "from tqdm import tqdm\n",
    "shuffle(list(train_ids))"
   ]
  },
  {
   "cell_type": "code",
   "execution_count": null,
   "metadata": {},
   "outputs": [],
   "source": [
    "blasto_target = blasto_target.fillna(8000)\n",
    "extracted_features_blasto = extracted_features_blasto.fillna(0)"
   ]
  },
  {
   "cell_type": "code",
   "execution_count": null,
   "metadata": {},
   "outputs": [],
   "source": [
    "y_area_target = blasto_target>2000"
   ]
  },
  {
   "cell_type": "code",
   "execution_count": null,
   "metadata": {},
   "outputs": [],
   "source": [
    "blasto_target.diff().hist()"
   ]
  },
  {
   "cell_type": "code",
   "execution_count": null,
   "metadata": {},
   "outputs": [],
   "source": [
    "y_train_blasto"
   ]
  },
  {
   "cell_type": "code",
   "execution_count": null,
   "metadata": {},
   "outputs": [],
   "source": [
    "predictions_per_task = {}\n",
    "feats_per_task = {}\n",
    "for morpho_task in morpho_task_keys:\n",
    "    print(morpho_task)\n",
    "    clf = RandomForestClassifier(n_jobs=-1)\n",
    "    \n",
    "    X = extracted_feats_per_task[morpho_task].fillna(0)\n",
    "    train_ids_lst = list(train_ids)\n",
    "    shuffle(train_ids_lst)\n",
    "    \n",
    "    X_train, X_test = X.loc[train_ids_lst],  X.loc[test_ids]\n",
    "    y_train =  y_area_target.loc[train_ids_lst]#.fillna('Bad')!='Bad'\n",
    "    feats = train_classifier(clf, X_train, y_train)\n",
    "    feats_per_task[morpho_task] = feats\n",
    "    \n",
    "    clf.fit(X_train.iloc[:,feats], y_train)\n",
    "    \n",
    "    predictions_per_task[morpho_task] = clf.predict_proba(X_test.iloc[:,feats])[:,1]\n",
    "        \n",
    "\n",
    "\n",
    "X_train, X_test = extracted_features_blasto.loc[train_ids_lst],  extracted_features_blasto.loc[test_ids]\n",
    "y_train_blasto = blasto_target.loc[train_ids]\n",
    "regr = RandomForestRegressor(n_jobs=-1)\n",
    "regr.fit(X_train, y_train_blasto)\n",
    "\n",
    "predictions_per_task[\"blasto_stage\"] = regr.predict(X_test)"
   ]
  },
  {
   "cell_type": "code",
   "execution_count": null,
   "metadata": {},
   "outputs": [],
   "source": [
    "y_train.sum()"
   ]
  },
  {
   "cell_type": "code",
   "execution_count": null,
   "metadata": {},
   "outputs": [],
   "source": [
    "all_predictions = pd.DataFrame(predictions_per_task)"
   ]
  },
  {
   "cell_type": "code",
   "execution_count": null,
   "metadata": {},
   "outputs": [],
   "source": [
    "all_predictions.index = test_ids"
   ]
  },
  {
   "cell_type": "code",
   "execution_count": null,
   "metadata": {},
   "outputs": [],
   "source": [
    "final_result_df.index = final_result_df.id"
   ]
  },
  {
   "cell_type": "code",
   "execution_count": null,
   "metadata": {},
   "outputs": [],
   "source": [
    "all_predictions['blasto_stage']\n"
   ]
  },
  {
   "cell_type": "code",
   "execution_count": null,
   "metadata": {},
   "outputs": [],
   "source": [
    "from sklearn.metrics import f1_score, classification_report\n",
    "threshs = np.linspace(0,.999,1000)\n",
    "for task in all_predictions.columns:\n",
    "    f1s = []\n",
    "    for thresh in threshs:\n",
    "        f1s.append(f1_score(y_grade_test!='72_hours_morpho', all_predictions[task]>thresh))\n",
    "    \n",
    "    best_thresh = threshs[np.argmax(f1s)]\n",
    "    print(confusion_matrix(y_grade_test!='Bad', all_predictions[task]>best_thresh))\n",
    "    print(max(f1s))\n"
   ]
  },
  {
   "cell_type": "code",
   "execution_count": null,
   "metadata": {},
   "outputs": [],
   "source": [
    "mean_preds = all_predictions[morpho_task_keys].mean(axis=1)"
   ]
  },
  {
   "cell_type": "code",
   "execution_count": null,
   "metadata": {},
   "outputs": [],
   "source": [
    "plt.hist(mean_preds)"
   ]
  },
  {
   "cell_type": "code",
   "execution_count": null,
   "metadata": {},
   "outputs": [],
   "source": [
    "roc_auc_score(y_grade_test!='Bad',mean_preds)"
   ]
  },
  {
   "cell_type": "code",
   "execution_count": null,
   "metadata": {},
   "outputs": [],
   "source": [
    "f1s = []\n",
    "threshs = np.linspace(0,.7,500)\n",
    "for thresh in threshs:\n",
    "    f1s.append(f1_score(y_grade_test!='Bad', mean_preds>thresh))\n",
    "\n",
    "best_thresh = threshs[np.argmax(f1s)]\n",
    "print(confusion_matrix(y_grade_test!='Bad', mean_preds>best_thresh))"
   ]
  },
  {
   "cell_type": "code",
   "execution_count": null,
   "metadata": {},
   "outputs": [],
   "source": [
    "best_thresh"
   ]
  },
  {
   "cell_type": "code",
   "execution_count": null,
   "metadata": {},
   "outputs": [],
   "source": [
    "print(confusion_matrix(y_grade_test!='Bad', mean_preds>.7))"
   ]
  },
  {
   "cell_type": "code",
   "execution_count": null,
   "metadata": {},
   "outputs": [],
   "source": [
    "final_result_df"
   ]
  },
  {
   "cell_type": "code",
   "execution_count": null,
   "metadata": {},
   "outputs": [],
   "source": []
  },
  {
   "cell_type": "code",
   "execution_count": null,
   "metadata": {
    "scrolled": true
   },
   "outputs": [],
   "source": [
    "fetal_heart =  final_result_df.loc[all_predictions.index]['Fetal Heart Beat']"
   ]
  },
  {
   "cell_type": "code",
   "execution_count": null,
   "metadata": {},
   "outputs": [],
   "source": [
    "pred_good = fetal_heart.loc[mean_preds>.7].dropna()\n",
    "pred_bad = fetal_heart.loc[mean_preds<.7].dropna()"
   ]
  },
  {
   "cell_type": "code",
   "execution_count": null,
   "metadata": {},
   "outputs": [],
   "source": [
    "pred_good"
   ]
  },
  {
   "cell_type": "code",
   "execution_count": null,
   "metadata": {},
   "outputs": [],
   "source": [
    "104+79"
   ]
  },
  {
   "cell_type": "code",
   "execution_count": null,
   "metadata": {},
   "outputs": [],
   "source": [
    "104/183"
   ]
  },
  {
   "cell_type": "code",
   "execution_count": null,
   "metadata": {},
   "outputs": [],
   "source": [
    "(pred_bad>0).value_counts()"
   ]
  },
  {
   "cell_type": "code",
   "execution_count": null,
   "metadata": {},
   "outputs": [],
   "source": [
    "23/35"
   ]
  },
  {
   "cell_type": "code",
   "execution_count": null,
   "metadata": {},
   "outputs": [],
   "source": [
    "final_result_df_clean = y_grade_test#with_grades.loc[all_predictions.index]['Fetal Heart Beat'].dropna()"
   ]
  },
  {
   "cell_type": "code",
   "execution_count": null,
   "metadata": {},
   "outputs": [],
   "source": [
    "final_result_df_clean = final_result_df_clean.replace(2,1)\n",
    "final_result_df_clean = final_result_df_clean.replace(3,1)"
   ]
  },
  {
   "cell_type": "code",
   "execution_count": null,
   "metadata": {},
   "outputs": [],
   "source": [
    "X_final, y_final = all_predictions.loc[final_result_df_clean.index], final_result_df_clean"
   ]
  },
  {
   "cell_type": "code",
   "execution_count": null,
   "metadata": {},
   "outputs": [],
   "source": [
    "y_final = y_grade.loc[y_final.index]#!='Bad'"
   ]
  },
  {
   "cell_type": "code",
   "execution_count": null,
   "metadata": {
    "scrolled": true
   },
   "outputs": [],
   "source": [
    "X_train_final, X_test_final, y_train_final, y_test_final = train_test_split(X_final, y_final)"
   ]
  },
  {
   "cell_type": "code",
   "execution_count": null,
   "metadata": {},
   "outputs": [],
   "source": [
    "from sklearn.linear_model import LogisticRegression, BayesianRidge, SGDClassifier, Perceptron"
   ]
  },
  {
   "cell_type": "code",
   "execution_count": null,
   "metadata": {},
   "outputs": [],
   "source": [
    "from sklearn.preprocessing import StandardScaler, MinMaxScaler\n",
    "from sklearn.svm import SVC"
   ]
  },
  {
   "cell_type": "code",
   "execution_count": null,
   "metadata": {},
   "outputs": [],
   "source": [
    "clf = RandomForestClassifier()\n",
    "\n",
    "scaler = StandardScaler()\n",
    "\n",
    "clf.fit(X_train_final, y_train_final)\n",
    "probas_final = clf.predict_proba(X_test_final)"
   ]
  },
  {
   "cell_type": "code",
   "execution_count": null,
   "metadata": {
    "scrolled": true
   },
   "outputs": [],
   "source": [
    "probas_final"
   ]
  },
  {
   "cell_type": "code",
   "execution_count": null,
   "metadata": {},
   "outputs": [],
   "source": [
    "decisions = with_grades.loc[y_grade_test.index]['Decision']"
   ]
  },
  {
   "cell_type": "code",
   "execution_count": null,
   "metadata": {},
   "outputs": [],
   "source": [
    "decisions = decisions.loc[decisions!='Not decided']\n",
    "decisions = decisions.loc[decisions!='Freeze']"
   ]
  },
  {
   "cell_type": "code",
   "execution_count": null,
   "metadata": {},
   "outputs": [],
   "source": [
    "X_final['36_hours_morpho']"
   ]
  },
  {
   "cell_type": "code",
   "execution_count": null,
   "metadata": {},
   "outputs": [],
   "source": [
    "from\n",
    "accuracy_score(y_grade_test!='Bad', X_final['36_hours_morpho'])"
   ]
  },
  {
   "cell_type": "code",
   "execution_count": null,
   "metadata": {},
   "outputs": [],
   "source": [
    "roc_auc_score(y_grade_test!='Bad', X_final['48_hours_morpho'])"
   ]
  },
  {
   "cell_type": "code",
   "execution_count": null,
   "metadata": {},
   "outputs": [],
   "source": [
    "roc_auc_score(y_grade_test!='Bad', X_final['60_hours_morpho'])"
   ]
  },
  {
   "cell_type": "code",
   "execution_count": null,
   "metadata": {},
   "outputs": [],
   "source": [
    "roc_auc_score(y_grade_test!='Bad', X_final['72_hours_morpho'])"
   ]
  },
  {
   "cell_type": "code",
   "execution_count": null,
   "metadata": {},
   "outputs": [],
   "source": [
    "roc_auc_score(y_grade_test!='Bad', X_final['48_hours_morpho'])"
   ]
  },
  {
   "cell_type": "code",
   "execution_count": null,
   "metadata": {},
   "outputs": [],
   "source": [
    "preds = clf.predict_proba(X_test.values[:,final_feats])"
   ]
  },
  {
   "cell_type": "code",
   "execution_count": null,
   "metadata": {},
   "outputs": [],
   "source": [
    "print(roc_auc_score(y_test, preds[:,1]))"
   ]
  },
  {
   "cell_type": "code",
   "execution_count": null,
   "metadata": {},
   "outputs": [],
   "source": [
    "[c.split('_')[-1] for c in X_test.iloc[:,final_feats].columns]"
   ]
  },
  {
   "cell_type": "code",
   "execution_count": null,
   "metadata": {},
   "outputs": [],
   "source": [
    "import shap\n",
    "shap_values = shap.TreeExplainer(clf).shap_values(X_test.iloc[:,final_feats])\n",
    "shap.summary_plot(shap_values[0], X_test.iloc[:,final_feats])"
   ]
  },
  {
   "cell_type": "code",
   "execution_count": null,
   "metadata": {},
   "outputs": [],
   "source": [
    "for c in X_test.iloc[:,final_feats].columns:\n",
    "    print(c)\n",
    "    shap.dependence_plot(c, shap_values[0], X_test.iloc[:,final_feats])\n"
   ]
  },
  {
   "cell_type": "code",
   "execution_count": null,
   "metadata": {},
   "outputs": [],
   "source": [
    ">>> import numpy as np\n",
    ">>> from sklearn.linear_model import SGDClassifier\n",
    ">>> from sklearn.preprocessing import StandardScaler\n",
    ">>> from sklearn.pipeline import make_pipeline\n",
    ">>> X = np.array([[-1, -1], [-2, -1], [1, 1], [2, 1]])\n",
    ">>> Y = np.array([1, 1, 2, 2])\n",
    ">>> # Always scale the input. The most convenient way is to use a pipeline.\n",
    ">>> clf = SGDClassifier(max_iter=1000, tol=1e-3)\n",
    "...                     \n",
    ">>> clf.fit(X, Y)\n",
    "print(clf.predict([[-0.8, -1]]))\n"
   ]
  },
  {
   "cell_type": "code",
   "execution_count": null,
   "metadata": {},
   "outputs": [],
   "source": [
    "clf.densify()"
   ]
  },
  {
   "cell_type": "code",
   "execution_count": null,
   "metadata": {},
   "outputs": [],
   "source": [
    "all_resampled = []\n",
    "from tqdm import tqdm\n",
    "for id_ in tqdm(ids):\n",
    "    emb_dict = {}\n",
    "    t_id = id_\n",
    "    data = merged_r.loc[merged_r.id==id_]\n",
    "    print('Time steps: ', data.shape[0])\n",
    "    print('hours: ', 24*data.Time.max())\n",
    "    for i, t in enumerate(options):\n",
    "\n",
    "        temp = pd.DataFrame(columns=[t])\n",
    "        \n",
    "        temp[t] = data[t]#.rolling(5).mean()\n",
    "        index = pd.date_range('00:00:00',periods=data[t].shape[0], freq='T')\n",
    "        series = pd.Series(data[t].values, index=index)\n",
    "        if series.shape[0] <500:\n",
    "            inter = series.resample(f'{len(series)/501:.3f}T').mean()#.interpolate(method='linear')\n",
    "            \n",
    "            plt.plot(series.resample(f'{len(series)/501:.3f}T').interpolate(method='linear'))\n",
    "            plt.plot(inter.interpolate(method='linear'))\n",
    "            plt.show()\n",
    "        else:\n",
    "            try:\n",
    "                inter = series.resample(f'{len(series)/500:.3f}T').mean()\n",
    "            except:\n",
    "                print(id_)\n",
    "                print(series.shape)\n",
    "                continue\n",
    "        emb_dict[t] = inter\n",
    "    all_resampled.append(emb_dict)"
   ]
  },
  {
   "cell_type": "code",
   "execution_count": null,
   "metadata": {},
   "outputs": [],
   "source": [
    "inter = series.resample(f'.95T').mean().interpolate(method='linear')"
   ]
  },
  {
   "cell_type": "code",
   "execution_count": null,
   "metadata": {},
   "outputs": [],
   "source": [
    "print(inter.shape)"
   ]
  },
  {
   "cell_type": "code",
   "execution_count": null,
   "metadata": {},
   "outputs": [],
   "source": [
    "plt.plot(inter)"
   ]
  },
  {
   "cell_type": "code",
   "execution_count": null,
   "metadata": {},
   "outputs": [],
   "source": []
  },
  {
   "cell_type": "code",
   "execution_count": null,
   "metadata": {},
   "outputs": [],
   "source": [
    "# merged_r = df.merge(with_grades.reset_index(drop=True), left_on='id', right_on='id')"
   ]
  },
  {
   "cell_type": "code",
   "execution_count": null,
   "metadata": {},
   "outputs": [],
   "source": [
    "merged_r"
   ]
  },
  {
   "cell_type": "code",
   "execution_count": null,
   "metadata": {},
   "outputs": [],
   "source": [
    "merged_.id.nunique()"
   ]
  },
  {
   "cell_type": "code",
   "execution_count": null,
   "metadata": {},
   "outputs": [],
   "source": [
    "inlcusive_ids = [i for i in list(df.id.unique()) if i in list(with_grades['id'].values)]"
   ]
  },
  {
   "cell_type": "code",
   "execution_count": null,
   "metadata": {},
   "outputs": [],
   "source": [
    "len(inlcusive_ids)"
   ]
  },
  {
   "cell_type": "code",
   "execution_count": null,
   "metadata": {},
   "outputs": [],
   "source": [
    "with_grades.loc[inlcusive_ids]['group_grade']=='Best'\n",
    "with_grades.loc[inlcusive_ids]['group_grade']=='Medium'\n",
    "with_grades.loc[inlcusive_ids]['group_grade']=='Bad'\n",
    "with_grades.loc[inlcusive_ids]['group_grade']=='Worse'"
   ]
  },
  {
   "cell_type": "code",
   "execution_count": null,
   "metadata": {},
   "outputs": [],
   "source": [
    "from scipy import stats\n",
    "def q1(x):\n",
    "    q_low = x.quantile(0.01)\n",
    "    q_hi  = x.quantile(0.99)\n",
    "    print(x)\n",
    "    return x.loc[(x < q_hi) & (x > q_low)]"
   ]
  },
  {
   "cell_type": "code",
   "execution_count": null,
   "metadata": {},
   "outputs": [],
   "source": [
    "all_feats = [\n",
    "            'tPNf',\n",
    "            't2',\n",
    "            't3',\n",
    "            't4',\n",
    "            't5',\n",
    "            't6',\n",
    "            't2-tPNf',\n",
    "            't3-tPNf',\n",
    "            't4-tPNf',\n",
    "            't5-tPNf',\n",
    "            't3-t2',\n",
    "            't4-t2',\n",
    "            't4-t3',\n",
    "            't5-t3',\n",
    "            't5-t4',\n",
    "            't6-t2',\n",
    "            't6-t3',\n",
    "            't6-t4',\n",
    "            't6-t5',\n",
    "        ]\n"
   ]
  },
  {
   "cell_type": "code",
   "execution_count": null,
   "metadata": {},
   "outputs": [],
   "source": [
    "with_grades[['t2','t6']].info()"
   ]
  },
  {
   "cell_type": "code",
   "execution_count": null,
   "metadata": {},
   "outputs": [],
   "source": [
    "aggregated_data = pd.pivot_table(\n",
    "                with_grades, \n",
    "                values=all_feats,\n",
    "                index=['group_grade'],\n",
    "                aggfunc=[np.mean, np.std]\n",
    "              )\n",
    "\n",
    "upper = aggregated_data.columns.get_level_values(0)\n",
    "lower = aggregated_data.columns.get_level_values(1)\n",
    "aggregated_data.columns = [f\"{j}_{i}\" for i, j in zip(upper,lower)]"
   ]
  },
  {
   "cell_type": "code",
   "execution_count": null,
   "metadata": {},
   "outputs": [],
   "source": [
    "aggregated_data.columns = [f\"{j}_{i}\" for i, j in zip(upper,lower)]\n",
    "#aggregated_data.columns = [' '.join(col).strip() for col in aggregated_data.columns.values]"
   ]
  },
  {
   "cell_type": "code",
   "execution_count": null,
   "metadata": {},
   "outputs": [],
   "source": [
    " aggregated_data.reset_index().to_csv('aggregated_grades.csv')"
   ]
  },
  {
   "cell_type": "code",
   "execution_count": null,
   "metadata": {},
   "outputs": [],
   "source": [
    "import json"
   ]
  },
  {
   "cell_type": "code",
   "execution_count": null,
   "metadata": {},
   "outputs": [],
   "source": [
    "import json\n",
    "with open('aggregated_grades.json', 'w') as f:\n",
    "    json.dump(aggregated_data.to_json(), f)"
   ]
  },
  {
   "cell_type": "code",
   "execution_count": null,
   "metadata": {},
   "outputs": [],
   "source": [
    "json.parse(aggregated_data.to_json())"
   ]
  },
  {
   "cell_type": "code",
   "execution_count": null,
   "metadata": {},
   "outputs": [],
   "source": [
    "%%time\n",
    "j = pd.read_csv('aggregated_grades.csv')\n",
    "print(j.loc[j['group_grade']=='Bad','t2_mean'])"
   ]
  },
  {
   "cell_type": "code",
   "execution_count": null,
   "metadata": {},
   "outputs": [],
   "source": [
    "def load_json():\n",
    "    with open('aggregated_grades.json', 'rb') as f:\n",
    "        j = json.loads(json.load(f))\n",
    "        t = j['t2_mean']['Bad']\n",
    "\n",
    "def load_csv():\n",
    "    j = pd.read_csv('aggregated_grades.csv')\n",
    "    t = j.loc[j['group_grade']=='Bad','t2_mean']"
   ]
  },
  {
   "cell_type": "code",
   "execution_count": null,
   "metadata": {},
   "outputs": [],
   "source": [
    "%timeit load_json()"
   ]
  },
  {
   "cell_type": "code",
   "execution_count": null,
   "metadata": {},
   "outputs": [],
   "source": [
    "%timeit load_csv()"
   ]
  },
  {
   "cell_type": "code",
   "execution_count": null,
   "metadata": {},
   "outputs": [],
   "source": [
    "columns = ['id', 'tPNf', 't2', 't3', 't4', 't5', 't6', 'Dynamic Score - Time',\n",
    "          'Dynamic Score - Value' ,\n",
    "           'Morphological Grade - Time', \n",
    "           'Grade at approx. 65h - Zoe',\n",
    "          'Day3 Grade', 'Day3 Cells', \n",
    "           'Fragmentation - Time 1',\n",
    "        'Fragmentation - Value 1',\n",
    "           'Multi Nucleation - Time 1',\n",
    "        'Multi Nucleation - Value 1',\n",
    "          'Blastomere Size - Time 1',\n",
    "        'Blastomere Size - Value 1',\n",
    "           'Pronuclei - Time 1',\n",
    "          'Pronuclei - Value 1']"
   ]
  },
  {
   "cell_type": "code",
   "execution_count": null,
   "metadata": {},
   "outputs": [],
   "source": [
    "df.drop_duplicates('id', keep='first')"
   ]
  },
  {
   "cell_type": "code",
   "execution_count": null,
   "metadata": {},
   "outputs": [],
   "source": [
    "target['Morphological Grade - Value'].hist()"
   ]
  },
  {
   "cell_type": "code",
   "execution_count": null,
   "metadata": {},
   "outputs": [],
   "source": [
    "graded_embryoscope = pd.merge(target, zoe[columns].drop_duplicates('id', keep='first'), on='id', how='left')"
   ]
  },
  {
   "cell_type": "code",
   "execution_count": null,
   "metadata": {},
   "outputs": [],
   "source": [
    "whole = pd.merge(df.drop_duplicates('id', keep='first'), graded_embryoscope, on='id', how='left')"
   ]
  },
  {
   "cell_type": "code",
   "execution_count": null,
   "metadata": {},
   "outputs": [],
   "source": []
  },
  {
   "cell_type": "code",
   "execution_count": null,
   "metadata": {},
   "outputs": [],
   "source": [
    "#target = testing.groupby('id').apply(lambda x: x['Morphological Grade - Value'].iloc[0])"
   ]
  },
  {
   "cell_type": "code",
   "execution_count": null,
   "metadata": {},
   "outputs": [],
   "source": [
    "extra_feats_cols = ['id', 'Morphological Grade - Value', 'tPNf', 't2', 't3', 't4', 't5', 't6',\n",
    "       'Dynamic Score - Time', \n",
    "       'Morphological Grade - Time', \n",
    "      'Fragmentation - Time 1',\n",
    "       'Fragmentation - Value 1', 'Multi Nucleation - Time 1',\n",
    "       'Multi Nucleation - Value 1', 'Blastomere Size - Time 1',\n",
    "       'Blastomere Size - Value 1', 'Pronuclei - Time 1',\n",
    "       'Pronuclei - Value 1']"
   ]
  },
  {
   "cell_type": "code",
   "execution_count": null,
   "metadata": {},
   "outputs": [],
   "source": [
    "extra_feats = whole[extra_feats_cols].fillna(value=whole[extra_feats_cols].mean())"
   ]
  },
  {
   "cell_type": "code",
   "execution_count": null,
   "metadata": {},
   "outputs": [],
   "source": [
    "extra_feats['diff_65'] = extra_feats['t6'] - extra_feats['t5']\n",
    "extra_feats['diff_64'] = extra_feats['t6'] - extra_feats['t4']\n",
    "extra_feats['diff_63'] = extra_feats['t6'] - extra_feats['t3']\n",
    "extra_feats['diff_62'] = extra_feats['t6'] - extra_feats['t2']\n",
    "extra_feats['diff_61'] = extra_feats['t6'] - extra_feats['tPNf']\n",
    "\n",
    "extra_feats['diff_54'] = extra_feats['t5'] - extra_feats['t4']\n",
    "extra_feats['diff_53'] = extra_feats['t5'] - extra_feats['t3']\n",
    "extra_feats['diff_52'] = extra_feats['t5'] - extra_feats['t2']\n",
    "extra_feats['diff_51'] = extra_feats['t5'] - extra_feats['tPNf']\n",
    "\n",
    "\n",
    "extra_feats['diff_43'] = extra_feats['t4'] - extra_feats['t3']\n",
    "extra_feats['diff_42'] = extra_feats['t4'] - extra_feats['t2']\n",
    "extra_feats['diff_41'] = extra_feats['t4'] - extra_feats['tPNf']\n",
    "\n",
    "extra_feats['diff_32'] = extra_feats['t3'] - extra_feats['t2']\n",
    "extra_feats['diff_31'] = extra_feats['t3'] - extra_feats['tPNf']\n",
    "\n",
    "extra_feats['diff_21'] = extra_feats['t2'] - extra_feats['tPNf']\n"
   ]
  },
  {
   "cell_type": "code",
   "execution_count": null,
   "metadata": {},
   "outputs": [],
   "source": [
    "#df_pixel = pd.read_csv('pixel_features.csv')"
   ]
  },
  {
   "cell_type": "code",
   "execution_count": null,
   "metadata": {},
   "outputs": [],
   "source": [
    "#df_pixel.shape"
   ]
  },
  {
   "cell_type": "code",
   "execution_count": null,
   "metadata": {},
   "outputs": [],
   "source": [
    "#df = pd.merge(df, df_pixel,'inner', on=['id','t'])"
   ]
  },
  {
   "cell_type": "code",
   "execution_count": null,
   "metadata": {},
   "outputs": [],
   "source": [
    "%matplotlib inline\n",
    "for col in df.columns:\n",
    "    try:\n",
    "        plt.hist(df[col], bins=200)\n",
    "        plt.title(col)\n",
    "        plt.show()\n",
    "    except:\n",
    "        pass"
   ]
  },
  {
   "cell_type": "code",
   "execution_count": null,
   "metadata": {},
   "outputs": [],
   "source": []
  },
  {
   "cell_type": "code",
   "execution_count": null,
   "metadata": {},
   "outputs": [],
   "source": [
    "timesteps = pd.read_csv('../files/grade_timesteps.csv')"
   ]
  },
  {
   "cell_type": "code",
   "execution_count": null,
   "metadata": {},
   "outputs": [],
   "source": [
    "df.info()"
   ]
  },
  {
   "cell_type": "code",
   "execution_count": null,
   "metadata": {},
   "outputs": [],
   "source": [
    "timesteps"
   ]
  },
  {
   "cell_type": "code",
   "execution_count": null,
   "metadata": {},
   "outputs": [],
   "source": [
    "target['Morphological Grade - Value'].value_counts().sum()"
   ]
  },
  {
   "cell_type": "code",
   "execution_count": null,
   "metadata": {},
   "outputs": [],
   "source": [
    "import gc\n",
    "gc.collect()"
   ]
  },
  {
   "cell_type": "code",
   "execution_count": null,
   "metadata": {},
   "outputs": [],
   "source": [
    "dts = timesteps.groupby('id').apply(lambda x: x.dt.diff().mean())"
   ]
  },
  {
   "cell_type": "code",
   "execution_count": null,
   "metadata": {},
   "outputs": [],
   "source": [
    "dts.hist()"
   ]
  },
  {
   "cell_type": "code",
   "execution_count": null,
   "metadata": {},
   "outputs": [],
   "source": [
    "timesteps.index = timesteps.id"
   ]
  },
  {
   "cell_type": "code",
   "execution_count": null,
   "metadata": {},
   "outputs": [],
   "source": [
    "time"
   ]
  },
  {
   "cell_type": "code",
   "execution_count": null,
   "metadata": {},
   "outputs": [],
   "source": [
    "df = df.reset_index(drop=True)\n",
    "df['DT'] = df.id.map(dts)"
   ]
  },
  {
   "cell_type": "code",
   "execution_count": null,
   "metadata": {},
   "outputs": [],
   "source": [
    "df['Time'] = df.groupby('id').DT.cumsum()"
   ]
  },
  {
   "cell_type": "code",
   "execution_count": null,
   "metadata": {},
   "outputs": [],
   "source": [
    "#test['Time'] = test.groupby('id').apply(lambda x: x['0'].cumsum()).reset_index(drop=True)"
   ]
  },
  {
   "cell_type": "code",
   "execution_count": null,
   "metadata": {},
   "outputs": [],
   "source": [
    "%matplotlib inline\n",
    "df.groupby('id').apply(lambda x: x['Time'].max()).reset_index(drop=True)"
   ]
  },
  {
   "cell_type": "code",
   "execution_count": null,
   "metadata": {},
   "outputs": [],
   "source": [
    "import gc\n",
    "gc.collect()"
   ]
  },
  {
   "cell_type": "code",
   "execution_count": null,
   "metadata": {},
   "outputs": [],
   "source": [
    "zoe.index = zoe.id"
   ]
  },
  {
   "cell_type": "code",
   "execution_count": null,
   "metadata": {},
   "outputs": [],
   "source": [
    "all_feats = [\n",
    "            'tPNf',\n",
    "            't2',\n",
    "            't3',\n",
    "            't4',\n",
    "            't5',\n",
    "            't6',\n",
    "            't2-tPNf',\n",
    "            't3-tPNf',\n",
    "            't4-tPNf',\n",
    "            't5-tPNf',\n",
    "            't3-t2',\n",
    "            't4-t2',\n",
    "            't4-t3',\n",
    "            't5-t3',\n",
    "            't5-t4',\n",
    "            't6-t2',\n",
    "            't6-t3',\n",
    "            't6-t4',\n",
    "            't6-t5',\n",
    "        ]"
   ]
  },
  {
   "cell_type": "code",
   "execution_count": null,
   "metadata": {},
   "outputs": [],
   "source": [
    "find_outcomes = zoe.loc[df.id.unique()]"
   ]
  },
  {
   "cell_type": "code",
   "execution_count": null,
   "metadata": {},
   "outputs": [],
   "source": [
    "find_outcomes['Gestational Sacs']."
   ]
  },
  {
   "cell_type": "code",
   "execution_count": null,
   "metadata": {},
   "outputs": [],
   "source": [
    "succesful =  find_outcomes.loc[find_outcomes['Fetal Heart Beat']==1]\n",
    "unsuccesful =  find_outcomes.loc[find_outcomes['Fetal Heart Beat']==0]"
   ]
  },
  {
   "cell_type": "code",
   "execution_count": null,
   "metadata": {},
   "outputs": [],
   "source": [
    "pd.concat([succesful, unsuccesful])[['Well', 'Slide ID', 'Fetal Heart Beat', 'Morphological Grade - Value']]"
   ]
  },
  {
   "cell_type": "code",
   "execution_count": null,
   "metadata": {},
   "outputs": [],
   "source": [
    "find_outcomes"
   ]
  },
  {
   "cell_type": "code",
   "execution_count": null,
   "metadata": {},
   "outputs": [],
   "source": [
    "zoe"
   ]
  },
  {
   "cell_type": "code",
   "execution_count": null,
   "metadata": {},
   "outputs": [],
   "source": [
    "df['id'] = LabelEncoder().fit_transform(df['id'])"
   ]
  },
  {
   "cell_type": "code",
   "execution_count": null,
   "metadata": {},
   "outputs": [],
   "source": [
    "df = df.fillna(value=df.mean())\n"
   ]
  },
  {
   "cell_type": "code",
   "execution_count": null,
   "metadata": {},
   "outputs": [],
   "source": [
    "df = df.dropna(axis=1)"
   ]
  },
  {
   "cell_type": "code",
   "execution_count": null,
   "metadata": {},
   "outputs": [],
   "source": [
    "#df = df.groupby('id').apply(lambda x: x.iloc[:300]).reset_index(drop=True)"
   ]
  },
  {
   "cell_type": "code",
   "execution_count": null,
   "metadata": {},
   "outputs": [],
   "source": [
    "df.groupby('id')"
   ]
  },
  {
   "cell_type": "code",
   "execution_count": null,
   "metadata": {},
   "outputs": [],
   "source": [
    "def drop_empty(x):\n",
    "    area = x.area.values\n",
    "    if area.min()>3000:\n",
    "        return x\n",
    "    \n",
    "def get_small_t(x):\n",
    "    if x.Time.iloc[-1]>3:\n",
    "        return x\n",
    "\n",
    "def drop_no_fert(x):\n",
    "    if x.area.values[-1]>5500:\n",
    "        return x\n",
    "\n",
    "def drop_early(x):\n",
    "    if x.Time.max()>4.65:\n",
    "        return x"
   ]
  },
  {
   "cell_type": "code",
   "execution_count": null,
   "metadata": {},
   "outputs": [],
   "source": [
    "test = df.groupby('id').apply(get_small_t).reset_index(drop=True)\n",
    "clean = test.groupby('id').apply(drop_empty).reset_index(drop=True)\n",
    "#clean = clean.groupby('id').apply(drop_no_fert).reset_index(drop=True)\n",
    "clean = clean.groupby('id').apply(drop_early).reset_index(drop=True)\n",
    "target_area = clean.groupby('id').apply(lambda x: x.loc[x.Time>4.65].area.iloc[0])\n",
    "#target_means = clean.groupby('id').apply(lambda x: x.loc[x.Time>4.65].means.iloc[0])\n"
   ]
  },
  {
   "cell_type": "code",
   "execution_count": null,
   "metadata": {},
   "outputs": [],
   "source": [
    "for c in clean.columns[1:-4]:\n",
    "    print(c, clean[c].var())\n",
    "    plt.hist(clean[c],bins=100)\n",
    "    \n",
    "    plt.show()"
   ]
  },
  {
   "cell_type": "code",
   "execution_count": null,
   "metadata": {},
   "outputs": [],
   "source": [
    "clean.columns[1:-4]"
   ]
  },
  {
   "cell_type": "code",
   "execution_count": null,
   "metadata": {},
   "outputs": [],
   "source": [
    "features_list = ['area', 'eccentricity', 'equivalent_diameter', 'inertia_tensor-0-0',\n",
    "       'inertia_tensor-0-1', 'inertia_tensor-1-0', 'inertia_tensor-1-1',\n",
    "       'major_axis_length', 'minor_axis_length',  'perimeter',\n",
    "       'solidity', 'Time',]"
   ]
  },
  {
   "cell_type": "code",
   "execution_count": null,
   "metadata": {},
   "outputs": [],
   "source": [
    "def resample_(x):\n",
    "    period = '30min'\n",
    "    new_df = pd.DataFrame()\n",
    "    \n",
    "    for c in x.columns:\n",
    "        if c!='id':\n",
    "            ts = x.loc[x['Time']<=6][c]\n",
    "\n",
    "            ts.index = pd.DatetimeIndex(x.loc[x['Time']<=6]['Time']*8.64e+13)\n",
    "            ts = ts.resample('30min').mean()\n",
    "            new_df[c] = ts\n",
    "        else:\n",
    "            continue\n",
    "    return new_df\n",
    "\n",
    "\n",
    "resampled_df = clean[['id']+features_list].groupby('id').apply(resample_)\n",
    "\n",
    "resampled_df['Time_1'] = resampled_df['Time']\n",
    "del resampled_df['Time']\n",
    "\n",
    "resampled_df = resampled_df.reset_index()\n",
    "resampled_df['Time_1'] = resampled_df['Time_1']-0.01043\n",
    "\n"
   ]
  },
  {
   "cell_type": "code",
   "execution_count": null,
   "metadata": {},
   "outputs": [],
   "source": [
    "#%debug"
   ]
  },
  {
   "cell_type": "code",
   "execution_count": null,
   "metadata": {},
   "outputs": [],
   "source": [
    "count = 0\n",
    "%matplotlib inline\n",
    "count_big = 0\n",
    "count_small = 0 \n",
    "for g, val in resampled_df.groupby('id'):\n",
    "   # if val.area.values[-1]>5500:\n",
    "    filt = (val['Time_1']<=3.5)&(val['Time_1']>=1)\n",
    "    ts = val.loc[filt]['area']\n",
    "    ts.index = pd.DatetimeIndex(val.loc[filt]['Time_1']*8.64e+13)\n",
    "    \n",
    "    if ts.max()>12000:\n",
    "        \n",
    "        plt.plot(ts,marker='+', linewidth=1)\n",
    "        #plt.show()\n",
    "        count_big+=1\n",
    "    else:\n",
    "        \n",
    "        plt.plot(ts,marker='*', linewidth=1)\n",
    "        \n",
    "        count_small+=1\n",
    "    \n",
    "    if (count_small>10)&(count_big>10):\n",
    "        continue\n",
    "plt.show()"
   ]
  },
  {
   "cell_type": "code",
   "execution_count": null,
   "metadata": {},
   "outputs": [],
   "source": [
    "\n",
    "X_ = resampled_df.groupby('id').apply(lambda x: x.loc[x.Time_1<4]).reset_index(drop=True)\n"
   ]
  },
  {
   "cell_type": "code",
   "execution_count": null,
   "metadata": {},
   "outputs": [],
   "source": [
    "area_35 = X_.groupby('id').apply(lambda x: x.area.iloc[-1])"
   ]
  },
  {
   "cell_type": "code",
   "execution_count": null,
   "metadata": {},
   "outputs": [],
   "source": [
    "#resampled_df.to_csv('resampled_data_30_min.csv', index=False)"
   ]
  },
  {
   "cell_type": "code",
   "execution_count": null,
   "metadata": {
    "scrolled": true
   },
   "outputs": [],
   "source": [
    "%matplotlib inline\n",
    "for idx, g in resampled_df.groupby('id'):\n",
    "    #print(g['Weeks'].shape[0])\n",
    "    plt.plot(g['Time'], g['area'])"
   ]
  },
  {
   "cell_type": "code",
   "execution_count": null,
   "metadata": {},
   "outputs": [],
   "source": [
    "%matplotlib inline\n",
    "diff.hist(bins=100)"
   ]
  },
  {
   "cell_type": "code",
   "execution_count": null,
   "metadata": {},
   "outputs": [],
   "source": [
    "target_area.hist(bins=100)"
   ]
  },
  {
   "cell_type": "code",
   "execution_count": null,
   "metadata": {},
   "outputs": [],
   "source": [
    "target_area = resampled_df.groupby('id').apply(lambda x: x.loc[x.Time_1>4.5].area.mean())\n",
    "diff = target_area - area_35"
   ]
  },
  {
   "cell_type": "code",
   "execution_count": null,
   "metadata": {},
   "outputs": [],
   "source": [
    "resampled_df.id.nunique()"
   ]
  },
  {
   "cell_type": "code",
   "execution_count": null,
   "metadata": {},
   "outputs": [],
   "source": [
    "%matplotlib inline\n",
    "target_area.hist(bins=100)"
   ]
  },
  {
   "cell_type": "code",
   "execution_count": null,
   "metadata": {},
   "outputs": [],
   "source": [
    "%matplotlib inline\n",
    "target_area.hist(bins=100)"
   ]
  },
  {
   "cell_type": "code",
   "execution_count": null,
   "metadata": {},
   "outputs": [],
   "source": [
    "diff = target_area- clean.groupby('id').apply(lambda x: x.iloc[0].area)"
   ]
  },
  {
   "cell_type": "code",
   "execution_count": null,
   "metadata": {},
   "outputs": [],
   "source": [
    "X_"
   ]
  },
  {
   "cell_type": "code",
   "execution_count": null,
   "metadata": {},
   "outputs": [],
   "source": [
    "features_list"
   ]
  },
  {
   "cell_type": "code",
   "execution_count": null,
   "metadata": {},
   "outputs": [],
   "source": [
    "X_['area_diff'] = X_.groupby('id').area.diff()\n",
    "X_['solidity_diff'] = X_.groupby('id').solidity.diff()\n",
    "X_['eccentricity_diff'] = X_.groupby('id').eccentricity.diff()\n",
    "X_['equivalent_diameter_diff'] = X_.groupby('id').equivalent_diameter.diff()\n",
    "X_['major_axis_length_diff'] = X_.groupby('id').major_axis_length.diff()\n",
    "X_['minor_axis_length_diff'] = X_.groupby('id').minor_axis_length.diff()\n",
    "X_['inertia_tensor-0-1_diff'] = X_.groupby('id')['inertia_tensor-0-1'].diff()\n",
    "X_['inertia_tensor-0-0_diff'] = X_.groupby('id')['inertia_tensor-0-0'].diff()\n",
    "X_['inertia_tensor-1-0_diff'] = X_.groupby('id')['inertia_tensor-1-0'].diff()\n",
    "X_['inertia_tensor-1-1_diff'] = X_.groupby('id')['inertia_tensor-1-1'].diff()\n",
    "\n",
    "X_ = X_.fillna(0)"
   ]
  },
  {
   "cell_type": "code",
   "execution_count": null,
   "metadata": {},
   "outputs": [],
   "source": [
    "X_.id.nunique()"
   ]
  },
  {
   "cell_type": "code",
   "execution_count": null,
   "metadata": {},
   "outputs": [],
   "source": [
    "features_list = ['eccentricity','minor_axis_length', 'major_axis_length',\n",
    "                 'area','area_diff', 'solidity_diff',\n",
    "       'eccentricity_diff', 'equivalent_diameter_diff',\n",
    "       'major_axis_length_diff', 'minor_axis_length_diff',\n",
    "       'inertia_tensor-0-1_diff', 'inertia_tensor-0-0_diff',\n",
    "       'inertia_tensor-1-0_diff', 'inertia_tensor-1-1_diff', 'Time_1',]\n",
    "'''\n",
    "'means', 'std',\n",
    "'equivalent_diameter', 'inertia_tensor-0-0',\n",
    "                'inertia_tensor-1-1', 'perimeter', 'convex_area', 'moments_normalized-0-2', \n",
    "                 'moments_normalized-1-1', 'moments_normalized-2-0']\n",
    "                 \n",
    "\n",
    "       , , 'inertia_tensor-0-1',\n",
    "       'inertia_tensor-1-0', , 'major_axis_length',\n",
    "       'minor_axis_length', 'moments-0-0', 'moments-0-1', 'moments-0-2',\n",
    "       'moments-0-3', 'moments-1-0', 'moments-1-1', 'moments-1-2',\n",
    "       'moments-1-3', 'moments-2-0', 'moments-2-1', 'moments-2-2',\n",
    "       'moments-2-3', 'moments-3-0', 'moments-3-1', 'moments-3-2',\n",
    "       'moments-3-3', 'orientation',\n",
    "       , , 'solidity', 'id']'''"
   ]
  },
  {
   "cell_type": "code",
   "execution_count": null,
   "metadata": {},
   "outputs": [],
   "source": [
    "from sklearn.preprocessing import MinMaxScaler\n",
    "scaler = MinMaxScaler()"
   ]
  },
  {
   "cell_type": "code",
   "execution_count": null,
   "metadata": {},
   "outputs": [],
   "source": [
    "X_[features_list] = scaler.fit_transform(X_[features_list])"
   ]
  },
  {
   "cell_type": "code",
   "execution_count": null,
   "metadata": {},
   "outputs": [],
   "source": [
    "X_[features_list]"
   ]
  },
  {
   "cell_type": "code",
   "execution_count": null,
   "metadata": {},
   "outputs": [],
   "source": [
    "from tsfresh.feature_extraction import EfficientFCParameters, MinimalFCParameters\n",
    "settings = EfficientFCParameters()\n",
    "# Set here the options of the settings object as shown in the paragraphs below\n",
    "from tsfresh.feature_extraction import extract_features\n",
    "extracted_feats = extract_features(X_[['id']+features_list].dropna(),column_sort='Time_1',\n",
    "                                   default_fc_parameters=settings, column_id='id')"
   ]
  },
  {
   "cell_type": "code",
   "execution_count": null,
   "metadata": {},
   "outputs": [],
   "source": [
    "from tsfresh.feature_extraction import EfficientFCParameters, MinimalFCParameters\n",
    "settings = MinimalFCParameters()\n",
    "# Set here the options of the settings object as shown in the paragraphs below\n",
    "from tsfresh.feature_extraction import extract_features\n",
    "extracted_feats_lean = extract_features(X_[['id']+features_list].dropna(), default_fc_parameters=settings, column_id='id')"
   ]
  },
  {
   "cell_type": "code",
   "execution_count": null,
   "metadata": {},
   "outputs": [],
   "source": [
    "from sklearn.decomposition import PCA\n"
   ]
  },
  {
   "cell_type": "code",
   "execution_count": null,
   "metadata": {},
   "outputs": [],
   "source": [
    "extracted_feats.dropna(axis=1)"
   ]
  },
  {
   "cell_type": "code",
   "execution_count": null,
   "metadata": {},
   "outputs": [],
   "source": [
    "pca = PCA(n_components=500)"
   ]
  },
  {
   "cell_type": "code",
   "execution_count": null,
   "metadata": {},
   "outputs": [],
   "source": [
    "from sklearn.preprocessing import MinMaxScaler\n",
    "scaler = MinMaxScaler()\n",
    "extracted_feats_scaled = scaler.fit_transform(extracted_feats.dropna(axis=1))"
   ]
  },
  {
   "cell_type": "code",
   "execution_count": null,
   "metadata": {},
   "outputs": [],
   "source": [
    "extracted_feats_pca = pca.fit_transform(extracted_feats_scaled)"
   ]
  },
  {
   "cell_type": "code",
   "execution_count": null,
   "metadata": {},
   "outputs": [],
   "source": [
    "extracted_feats_pca_df = pd.DataFrame(extracted_feats)"
   ]
  },
  {
   "cell_type": "code",
   "execution_count": null,
   "metadata": {},
   "outputs": [],
   "source": [
    "extracted_feats_pca_df.index = extracted_feats.index"
   ]
  },
  {
   "cell_type": "code",
   "execution_count": null,
   "metadata": {},
   "outputs": [],
   "source": [
    "extracted_feats_pca_df = extracted_feats.reset_index()"
   ]
  },
  {
   "cell_type": "code",
   "execution_count": null,
   "metadata": {},
   "outputs": [],
   "source": [
    "whole = pd.merge(extracted_feats_pca_df, extra_feats, on='id')"
   ]
  },
  {
   "cell_type": "code",
   "execution_count": null,
   "metadata": {},
   "outputs": [],
   "source": [
    "lbl_enc = LabelEncoder()"
   ]
  },
  {
   "cell_type": "code",
   "execution_count": null,
   "metadata": {},
   "outputs": [],
   "source": [
    "whole['id'] = lbl_enc.fit_transform(whole['id'].values[:,None])"
   ]
  },
  {
   "cell_type": "code",
   "execution_count": null,
   "metadata": {},
   "outputs": [],
   "source": [
    "whole"
   ]
  },
  {
   "cell_type": "code",
   "execution_count": null,
   "metadata": {},
   "outputs": [],
   "source": [
    "target_area"
   ]
  },
  {
   "cell_type": "code",
   "execution_count": null,
   "metadata": {},
   "outputs": [],
   "source": [
    "X = extracted_feats\n",
    "y = target_area\n",
    "#del X[0], X['id']"
   ]
  },
  {
   "cell_type": "code",
   "execution_count": null,
   "metadata": {},
   "outputs": [],
   "source": [
    "\n",
    "y = diff"
   ]
  },
  {
   "cell_type": "code",
   "execution_count": null,
   "metadata": {},
   "outputs": [],
   "source": [
    "import warnings\n",
    "warnings.filterwarnings(\"ignore\")"
   ]
  },
  {
   "cell_type": "code",
   "execution_count": null,
   "metadata": {},
   "outputs": [],
   "source": [
    "hyper_params = {\n",
    "    'task': 'train',\n",
    "    'boosting_type': 'gbdt',\n",
    "    'objective': 'regression',\n",
    "    'metric': ['rmse'],\n",
    "\n",
    "    \"num_leaves\": 60,  \n",
    "\n",
    "    \"n_estimators\": 200,\n",
    "    \"verbose\":-1\n",
    "}"
   ]
  },
  {
   "cell_type": "code",
   "execution_count": null,
   "metadata": {},
   "outputs": [],
   "source": [
    "y = y.astype(float)"
   ]
  },
  {
   "cell_type": "code",
   "execution_count": null,
   "metadata": {},
   "outputs": [],
   "source": [
    "X.head()"
   ]
  },
  {
   "cell_type": "code",
   "execution_count": null,
   "metadata": {},
   "outputs": [],
   "source": [
    "means = X.mean()<-1000"
   ]
  },
  {
   "cell_type": "code",
   "execution_count": null,
   "metadata": {},
   "outputs": [],
   "source": [
    "X['Morphological Grade - Value'].value_counts()"
   ]
  },
  {
   "cell_type": "code",
   "execution_count": null,
   "metadata": {},
   "outputs": [],
   "source": [
    "X['Morphological Grade - Value'] = X['Morphological Grade - Value'].replace('ARREST', 4)\n",
    "X['Morphological Grade - Value'] = X['Morphological Grade - Value'].replace('2,5', 2.5)\n",
    "X['Morphological Grade - Value'] = X['Morphological Grade - Value'].replace('4CC', 3)\n",
    "X['Morphological Grade - Value'] = X['Morphological Grade - Value'].replace('ARREST', 4)\n",
    "X['Morphological Grade - Value'] = X['Morphological Grade - Value'].replace('2,5', 2.5)\n",
    "X['Morphological Grade - Value'] = X['Morphological Grade - Value'].replace('3,5', 3.5)\n",
    "X['Morphological Grade - Value'] = X['Morphological Grade - Value'].replace('4AA', 1)\n",
    "X['Morphological Grade - Value'] = X['Morphological Grade - Value'].replace('EX1', 4)\n",
    "X['Morphological Grade - Value'] = X['Morphological Grade - Value'].replace('1,5', 1.5)\n",
    "X['Morphological Grade - Value'] = X['Morphological Grade - Value'].replace('8', 4)\n",
    "X['Morphological Grade - Value'] = X['Morphological Grade - Value'].replace('1.2', 1)\n",
    "X['Morphological Grade - Value'] = X['Morphological Grade - Value'].replace(5, 4)"
   ]
  },
  {
   "cell_type": "code",
   "execution_count": null,
   "metadata": {},
   "outputs": [],
   "source": [
    "X['Morphological Grade - Value'] = X['Morphological Grade - Value'].astype(float)"
   ]
  },
  {
   "cell_type": "code",
   "execution_count": null,
   "metadata": {},
   "outputs": [],
   "source": [
    "[c for c in X.columns if c not in list(means.index)]"
   ]
  },
  {
   "cell_type": "code",
   "execution_count": null,
   "metadata": {},
   "outputs": [],
   "source": [
    "X"
   ]
  },
  {
   "cell_type": "code",
   "execution_count": null,
   "metadata": {},
   "outputs": [],
   "source": [
    "y_capped[y>18000] = 18000"
   ]
  },
  {
   "cell_type": "code",
   "execution_count": null,
   "metadata": {},
   "outputs": [],
   "source": [
    "params = {'verbose': 100, 'metric': ['rmse'],'objective': 'regression', 'num_rounds':1000 ,\n",
    "    }"
   ]
  },
  {
   "cell_type": "code",
   "execution_count": null,
   "metadata": {},
   "outputs": [],
   "source": [
    " %matplotlib inline\n",
    "import seaborn as sns\n",
    "from sklearn.model_selection import train_test_split, KFold, GroupKFold\n",
    "from sklearn.svm import SVC, SVR\n",
    "from sklearn.ensemble import RandomForestRegressor, RandomForestClassifier\n",
    "from sklearn.metrics import mean_absolute_error, mean_squared_error, r2_score, roc_auc_score, confusion_matrix\n",
    "from sklearn.metrics import classification_report\n",
    "from lightgbm import LGBMRegressor, LGBMClassifier, plot_importance\n",
    "from xgboost import XGBRegressor\n",
    "import lightgbm as lgb\n",
    "\n",
    "Nfolds = 5\n",
    "kfold = KFold(Nfolds)\n",
    "avg_mae = 0\n",
    "avg_rmse = 0\n",
    "variance_preds = 0\n",
    "variance_test = 0\n",
    "avg_R2 = 0\n",
    "avg_auc = 0 \n",
    "#top_feats = np.arange(0,X_droped.shape[1])\n",
    "for train_idx, valid_idx in kfold.split(X, y):\n",
    "    X_train, X_test = X.iloc[train_idx,top_feats].values, X.iloc[valid_idx,top_feats].values\n",
    "\n",
    "    y_train, y_test = y.astype(float).iloc[train_idx], y.astype(float).iloc[valid_idx]\n",
    "    \n",
    "    lgb_train = lgb.Dataset(X_train, y_train, params={'verbose': -1}, free_raw_data=False)\n",
    "    lgb_eval = lgb.Dataset(X_test, y_test, params={'verbose': -1},free_raw_data=False)\n",
    "    regr = lgb.train(params, \n",
    "                     lgb_train, \n",
    "                     valid_sets=lgb_eval, \n",
    "                     verbose_eval=50,\n",
    "                    early_stopping_rounds=50)\n",
    "    #regr = LGBMRegressor(params={'verbose': 1})\n",
    "    #regr.fit(X_train, y_train)\n",
    "    preds = regr.predict(X_test)\n",
    "    plt.ylim(y.min(), y.max())\n",
    "    plt.xlim(y.min(), y.max())\n",
    "    sns.set(rc={'figure.figsize':(12,12)})\n",
    "    sns.regplot(x=y_test, y=preds)\n",
    "    plt.xlabel(\"actual\")\n",
    "    plt.ylabel(\"preds\")\n",
    "    \n",
    "    avg_mae +=mean_absolute_error(preds, y_test)/Nfolds\n",
    "    avg_rmse += mean_squared_error(preds, y_test, squared=False)/Nfolds\n",
    "    ##variance_preds += preds.var()/Nfolds\n",
    "    #variance_test += y_test.var()/Nfolds\n",
    "    #top_feats.append(np.argsort(regr.feature_importances_)[-50:])\n",
    "    avg_R2 += r2_score(y_test, preds)/Nfolds\n",
    "    #print(confusion_matrix(y_test, preds))\n",
    "    #print(roc_auc_score(y_test>10000, preds))\n",
    "    avg_auc+=roc_auc_score(y_test>3000, preds)/Nfolds\n",
    "    #print(classification_report(y_test,preds))\n",
    "#plt.plot([y.min(), y.max()], [y.mean(), y.mean()], linewidth=5,)\n",
    "#perfect = np.linspace(y.min(), y.max())\n",
    "#plt.plot(perfect, perfect, linewidth=5,)\n",
    "print('MAE: ', avg_mae)\n",
    "print('RMSE: ', avg_rmse)\n",
    "print('R2: ', avg_R2)\n",
    "print('AUC: ', avg_auc)\n",
    "#print('Variance ratio (test/preds): ',variance_test/variance_preds)"
   ]
  },
  {
   "cell_type": "code",
   "execution_count": null,
   "metadata": {},
   "outputs": [],
   "source": [
    "3.5*24"
   ]
  },
  {
   "cell_type": "code",
   "execution_count": null,
   "metadata": {},
   "outputs": [],
   "source": [
    "time_grade = plt.hist(zoe.loc[zoe['Morphological Grade - Time']>0]['Morphological Grade - Time'], bins=100,color='red', edgecolor='k', alpha=0.5)\n",
    "plt.axvline(84, color='k', linestyle='dashed', linewidth=1)"
   ]
  },
  {
   "cell_type": "code",
   "execution_count": null,
   "metadata": {},
   "outputs": [],
   "source": [
    "np.random.seed(6789)\n",
    "x = np.random.gamma(4, 0.5, 1000)\n",
    "result = plt.hist(y, bins=100, color='c', edgecolor='k', alpha=0.5)\n",
    "plt.axvline(3000, color='k', linestyle='dashed', linewidth=1)\n",
    "\n",
    "min_ylim, max_ylim = plt.ylim()\n",
    "#plt.text('above 3000', max_ylim*0.9, 'Mean: {:.2f}'.format(x.mean()))"
   ]
  },
  {
   "cell_type": "code",
   "execution_count": null,
   "metadata": {},
   "outputs": [],
   "source": [
    "hyper_params = {\n",
    "    'task': 'train',\n",
    "    'boosting_type': 'gbdt',\n",
    "    'objective': 'binary',\n",
    "    \"num_leaves\": 60,  \n",
    "\n",
    "    \"n_estimators\": 200,\n",
    "    \"verbose\":-1\n",
    "}\n",
    "y_b = y>3000\n",
    "lgb_train = lgb.Dataset(X.iloc[:,top_feats].values, y_b, params={'verbose': 1}, free_raw_data=False)\n",
    "lgb_eval = lgb.Dataset(X.iloc[:,top_feats].values, y_b, params={'verbose': -1},free_raw_data=False)\n",
    "regr = lgb.train(hyper_params, \n",
    "                 lgb_train, \n",
    "                 valid_sets=lgb_eval, \n",
    "                 verbose_eval=50,\n",
    "                early_stopping_rounds=50)"
   ]
  },
  {
   "cell_type": "code",
   "execution_count": null,
   "metadata": {},
   "outputs": [],
   "source": [
    "import shap\n",
    "shap_values = shap.TreeExplainer(regr).shap_values(X.iloc[:,top_feats].values)\n"
   ]
  },
  {
   "cell_type": "code",
   "execution_count": null,
   "metadata": {},
   "outputs": [],
   "source": [
    "shap.summary_plot(shap_values[0], X.iloc[:,top_feats].values)"
   ]
  },
  {
   "cell_type": "code",
   "execution_count": null,
   "metadata": {},
   "outputs": [],
   "source": [
    "#shap.summary_plot(shap_values, X.iloc[:,top_feats])\n",
    "shap.dependence_plot(\"solidity_diff__ar_coefficient__coeff_0__k_10\", shap_values[0], X.iloc[:,top_feats])\n"
   ]
  },
  {
   "cell_type": "code",
   "execution_count": null,
   "metadata": {},
   "outputs": [],
   "source": [
    "df_pgs = pd.read_csv('C:/Users\\hp\\Desktop\\outcome_images/data/extracted_pgs_large.csv')\n",
    "dts = pd.read_csv('C:/Users\\hp\\Desktop\\outcome_images/data/pgs_dts.csv')"
   ]
  },
  {
   "cell_type": "code",
   "execution_count": null,
   "metadata": {},
   "outputs": [],
   "source": [
    "dts.index = dts.id\n",
    "df_pgs['dt'] = df_pgs.id.map(dts['0'])"
   ]
  },
  {
   "cell_type": "code",
   "execution_count": null,
   "metadata": {},
   "outputs": [],
   "source": [
    "df_pgs['Time'] = df_pgs.reset_index(drop=True).groupby('id').apply(lambda x: x.dt.cumsum()).values"
   ]
  },
  {
   "cell_type": "code",
   "execution_count": null,
   "metadata": {},
   "outputs": [],
   "source": [
    "def resample_(x):\n",
    "    period = '30min'\n",
    "    new_df = pd.DataFrame()\n",
    "    \n",
    "    for c in x.columns:\n",
    "        if c!='id':\n",
    "            ts = x.loc[x['Time']<=6][c]\n",
    "\n",
    "            ts.index = pd.DatetimeIndex(x.loc[x['Time']<=6]['Time']*8.64e+13)\n",
    "            ts = ts.resample('30min').mean()\n",
    "            new_df[c] = ts\n",
    "        else:\n",
    "            continue\n",
    "    return new_df\n",
    "\n",
    "\n",
    "resampled_df = df_pgs.reset_index(drop=True).groupby('id').apply(resample_)"
   ]
  },
  {
   "cell_type": "code",
   "execution_count": null,
   "metadata": {},
   "outputs": [],
   "source": [
    "resampled_df['Time_days'] = resampled_df['Time']\n",
    "del resampled_df['Time']\n",
    "\n",
    "resampled_df = resampled_df.reset_index()\n",
    "# resampled_df['Time_1'] = resampled_df['Time_1']-0.01043"
   ]
  },
  {
   "cell_type": "code",
   "execution_count": null,
   "metadata": {},
   "outputs": [],
   "source": [
    "\n",
    "X_ = resampled_df.groupby('id').apply(lambda x: x.loc[x.Time_days<4]).reset_index(drop=True)\n",
    "X_['area_diff'] = X_.groupby('id').area.diff()\n",
    "X_['solidity_diff'] = X_.groupby('id').solidity.diff()\n",
    "X_['eccentricity_diff'] = X_.groupby('id').eccentricity.diff()\n",
    "X_['equivalent_diameter_diff'] = X_.groupby('id').equivalent_diameter.diff()\n",
    "X_['major_axis_length_diff'] = X_.groupby('id').major_axis_length.diff()\n",
    "X_['minor_axis_length_diff'] = X_.groupby('id').minor_axis_length.diff()\n",
    "X_['inertia_tensor-0-1_diff'] = X_.groupby('id')['inertia_tensor-0-1'].diff()\n",
    "X_['inertia_tensor-0-0_diff'] = X_.groupby('id')['inertia_tensor-0-0'].diff()\n",
    "X_['inertia_tensor-1-0_diff'] = X_.groupby('id')['inertia_tensor-1-0'].diff()\n",
    "X_['inertia_tensor-1-1_diff'] = X_.groupby('id')['inertia_tensor-1-1'].diff()\n",
    "\n",
    "X_ = X_.fillna(0)"
   ]
  },
  {
   "cell_type": "code",
   "execution_count": null,
   "metadata": {},
   "outputs": [],
   "source": [
    "from tsfresh.feature_extraction import settings"
   ]
  },
  {
   "cell_type": "code",
   "execution_count": null,
   "metadata": {},
   "outputs": [],
   "source": [
    "features_list"
   ]
  },
  {
   "cell_type": "code",
   "execution_count": null,
   "metadata": {},
   "outputs": [],
   "source": [
    "from tsfresh.feature_extraction import EfficientFCParameters, MinimalFCParameters\n",
    "fcp_settings = settings.from_columns(X.iloc[:,top_feats])\n",
    "# Set here the options of the settings object as shown in the paragraphs below\n",
    "from tsfresh.feature_extraction import extract_features\n",
    "extracted_feats_lean = extract_features(X_[['id', 'Time_days']+features_list[:-1]].dropna(),\n",
    "                                        kind_to_fc_parameters=fcp_settings,\n",
    "                                        column_id='id')"
   ]
  },
  {
   "cell_type": "code",
   "execution_count": null,
   "metadata": {},
   "outputs": [],
   "source": [
    "extracted_feats_lean.info(max_cols=200)"
   ]
  },
  {
   "cell_type": "code",
   "execution_count": null,
   "metadata": {},
   "outputs": [],
   "source": [
    "labels = pd.read_csv('C:/Users\\hp\\Desktop\\outcome_images/data/big_pgt_df.csv')"
   ]
  },
  {
   "cell_type": "code",
   "execution_count": null,
   "metadata": {},
   "outputs": [],
   "source": [
    "labels['Morphological Grade - Value']"
   ]
  },
  {
   "cell_type": "code",
   "execution_count": null,
   "metadata": {},
   "outputs": [],
   "source": [
    "labels_grade['Morphological Grade - Value']."
   ]
  },
  {
   "cell_type": "code",
   "execution_count": null,
   "metadata": {},
   "outputs": [],
   "source": [
    "labels_grade = labels.loc[pgs_label.index]"
   ]
  },
  {
   "cell_type": "code",
   "execution_count": null,
   "metadata": {},
   "outputs": [],
   "source": [
    "labels_grade['Morphological Grade - Value'] = labels_grade['Morphological Grade - Value'].replace('3,5', '3.5')\n",
    "labels_grade['Morphological Grade - Value'] = labels_grade['Morphological Grade - Value'].replace('2,5', '2.5')\n",
    "labels_grade['Morphological Grade - Value'] = labels_grade['Morphological Grade - Value'].replace('1,5', '1.5')\n",
    "labels_grade['Morphological Grade - Value'] = labels_grade['Morphological Grade - Value'].replace('ARREST', '4')"
   ]
  },
  {
   "cell_type": "code",
   "execution_count": null,
   "metadata": {},
   "outputs": [],
   "source": [
    "labels_grade['Morphological Grade - Value'].value_counts()"
   ]
  },
  {
   "cell_type": "code",
   "execution_count": null,
   "metadata": {},
   "outputs": [],
   "source": [
    "labels['id'] = labels['Slide ID_x']+'_'+labels['Well_y'].astype(str)\n",
    "labels = labels.drop_duplicates('id')\n",
    "labels.index = labels.id"
   ]
  },
  {
   "cell_type": "code",
   "execution_count": null,
   "metadata": {},
   "outputs": [],
   "source": [
    "pgs_label = labels.loc[extracted_feats_lean.index]['Class_Grade_y']\n",
    "pgs_label = pgs_label.replace('NR','0')\n",
    "pgs_label = pgs_label.replace('1','0')\n",
    "pgs_label = pgs_label.replace('2','1')"
   ]
  },
  {
   "cell_type": "code",
   "execution_count": null,
   "metadata": {},
   "outputs": [],
   "source": [
    "extracted_feats_lean"
   ]
  },
  {
   "cell_type": "code",
   "execution_count": null,
   "metadata": {},
   "outputs": [],
   "source": [
    "shap_values_pgs = shap.TreeExplainer(regr).shap_values(extracted_feats_lean)"
   ]
  },
  {
   "cell_type": "code",
   "execution_count": null,
   "metadata": {},
   "outputs": [],
   "source": [
    "extracted_feats_lean"
   ]
  },
  {
   "cell_type": "code",
   "execution_count": null,
   "metadata": {},
   "outputs": [],
   "source": [
    "shap_values_pgs_df = pd.DataFrame(shap_values_pgs[1])\n",
    "\n"
   ]
  },
  {
   "cell_type": "code",
   "execution_count": null,
   "metadata": {},
   "outputs": [],
   "source": [
    "shap_values_pgs_df.index = extracted_feats_lean.index"
   ]
  },
  {
   "cell_type": "code",
   "execution_count": null,
   "metadata": {},
   "outputs": [],
   "source": [
    "labels_grade['Morphological Grade - Value']"
   ]
  },
  {
   "cell_type": "code",
   "execution_count": null,
   "metadata": {},
   "outputs": [],
   "source": [
    "labels_grade['Morphological Grade - Value'].astype(float)"
   ]
  },
  {
   "cell_type": "code",
   "execution_count": null,
   "metadata": {},
   "outputs": [],
   "source": [
    "shap_values_pgs_df"
   ]
  },
  {
   "cell_type": "code",
   "execution_count": null,
   "metadata": {},
   "outputs": [],
   "source": [
    "labels_grade['Morphological Grade - Value']"
   ]
  },
  {
   "cell_type": "code",
   "execution_count": null,
   "metadata": {},
   "outputs": [],
   "source": [
    "shap_values_pgs_df['grade'] = shap_values_pgs_df.index.map(labels_grade['Morphological Grade - Value'].astype(float))"
   ]
  },
  {
   "cell_type": "code",
   "execution_count": null,
   "metadata": {},
   "outputs": [],
   "source": [
    "shap.summary_plot(shap_values_pgs[0], extracted_feats_lean.drop(['grade', 'cluster'],axis=1))"
   ]
  },
  {
   "cell_type": "code",
   "execution_count": null,
   "metadata": {},
   "outputs": [],
   "source": []
  },
  {
   "cell_type": "code",
   "execution_count": null,
   "metadata": {},
   "outputs": [],
   "source": [
    "scaler = StandardScaler()"
   ]
  },
  {
   "cell_type": "code",
   "execution_count": null,
   "metadata": {},
   "outputs": [],
   "source": [
    "pca = PCA(n_components=3)"
   ]
  },
  {
   "cell_type": "code",
   "execution_count": null,
   "metadata": {},
   "outputs": [],
   "source": [
    "shap_values_pgs_df"
   ]
  },
  {
   "cell_type": "code",
   "execution_count": null,
   "metadata": {},
   "outputs": [],
   "source": [
    "shap_values_pgs_pca = pca.fit_transform(shap_values_pgs_df.fillna(0))"
   ]
  },
  {
   "cell_type": "code",
   "execution_count": null,
   "metadata": {},
   "outputs": [],
   "source": [
    "sns.scatterplot(shap_values_pgs_pca[:,0], shap_values_pgs_pca[:,1], hue=pgs_label)"
   ]
  },
  {
   "cell_type": "code",
   "execution_count": null,
   "metadata": {},
   "outputs": [],
   "source": [
    "pgs_label_df['Class_Grade_y']"
   ]
  },
  {
   "cell_type": "code",
   "execution_count": null,
   "metadata": {},
   "outputs": [],
   "source": [
    "from sklearn.cluster import KMeans\n",
    "kmeans = KMeans(n_clusters=5)"
   ]
  },
  {
   "cell_type": "code",
   "execution_count": null,
   "metadata": {},
   "outputs": [],
   "source": [
    "clusters = kmeans.fit_predict(shap_values_pgs_pca)"
   ]
  },
  {
   "cell_type": "code",
   "execution_count": null,
   "metadata": {},
   "outputs": [],
   "source": [
    "plt.scatter(shap_values_pgs_pca[:,0], shap_values_pgs_pca[:,2], c=clusters[:,None])"
   ]
  },
  {
   "cell_type": "code",
   "execution_count": null,
   "metadata": {},
   "outputs": [],
   "source": [
    "pgs_label_df = pd.DataFrame(pgs_label)\n",
    "pgs_label_df['cluster'] = clusters"
   ]
  },
  {
   "cell_type": "code",
   "execution_count": null,
   "metadata": {},
   "outputs": [],
   "source": [
    "X_.index = X_.id"
   ]
  },
  {
   "cell_type": "code",
   "execution_count": null,
   "metadata": {},
   "outputs": [],
   "source": [
    "X_.loc[pgs_label_df.loc[pgs_label_df['cluster']==1].index].reset_index(drop=True).\\\n",
    "                groupby('id').apply(lambda x: x.Time_days.max()).mean()"
   ]
  },
  {
   "cell_type": "code",
   "execution_count": null,
   "metadata": {},
   "outputs": [],
   "source": [
    "perc_in_sample = 0.740\n",
    "for i in range(10):\n",
    "    samples_in_cluster = pgs_label_df.loc[pgs_label_df['cluster']==i].shape[0]\n",
    "    positives = pgs_label_df.loc[pgs_label_df['cluster']==i].astype(int).sum().values[0]\n",
    "    \n",
    "    ratio = (samples_in_cluster - positives)/samples_in_cluster\n",
    "    \n",
    "    print(f'Cluster {i} ratio: {ratio}, dev: {(perc_in_sample-ratio)/perc_in_sample}')\n",
    "    print(f'Cluster size {samples_in_cluster}\\n')"
   ]
  },
  {
   "cell_type": "code",
   "execution_count": null,
   "metadata": {},
   "outputs": [],
   "source": []
  },
  {
   "cell_type": "code",
   "execution_count": null,
   "metadata": {},
   "outputs": [],
   "source": [
    "extracted_feats_lean = extracted_feats_lean.drop(['grade', 'cluster'],axis=1)"
   ]
  },
  {
   "cell_type": "code",
   "execution_count": null,
   "metadata": {},
   "outputs": [],
   "source": [
    "stats1 = extracted_feats_lean.loc[pgs_label_df.loc[pgs_label_df['cluster']!=0].index].describe()"
   ]
  },
  {
   "cell_type": "code",
   "execution_count": null,
   "metadata": {},
   "outputs": [],
   "source": [
    "stats2 = extracted_feats_lean.loc[pgs_label_df.loc[pgs_label_df['cluster']==0].index].describe()"
   ]
  },
  {
   "cell_type": "code",
   "execution_count": null,
   "metadata": {},
   "outputs": [],
   "source": [
    "stats1 = stats1.loc[['mean','std',]]\n",
    "stats2 = stats2.loc[['mean','std',]]"
   ]
  },
  {
   "cell_type": "code",
   "execution_count": null,
   "metadata": {},
   "outputs": [],
   "source": [
    "((stats1-stats2)/stats1).mean(axis=0).abs()>.6"
   ]
  },
  {
   "cell_type": "code",
   "execution_count": null,
   "metadata": {},
   "outputs": [],
   "source": [
    "statement1 = ((stats1-stats2)/stats1).loc['std'].abs()>0.1\n",
    "statement2 = ((stats1-stats2)/stats1).loc['mean'].abs()>0.1"
   ]
  },
  {
   "cell_type": "code",
   "execution_count": null,
   "metadata": {},
   "outputs": [],
   "source": [
    "msk = (((stats1-stats2)/stats1).mean(axis=0).abs()>0.5\n",
    "      ).values"
   ]
  },
  {
   "cell_type": "code",
   "execution_count": null,
   "metadata": {},
   "outputs": [],
   "source": [
    "msk.sum()"
   ]
  },
  {
   "cell_type": "code",
   "execution_count": null,
   "metadata": {},
   "outputs": [],
   "source": [
    "selected = extracted_feats_lean.iloc[:,msk].copy()"
   ]
  },
  {
   "cell_type": "code",
   "execution_count": null,
   "metadata": {},
   "outputs": [],
   "source": [
    "selected['cluster'] = selected.index.map(pgs_label_df['cluster'])!=5\n",
    "selected['grade'] = selected.index.map(pgs_label_df['Class_Grade_y'])"
   ]
  },
  {
   "cell_type": "code",
   "execution_count": null,
   "metadata": {},
   "outputs": [],
   "source": [
    "extracted_feats_lean.iloc[:,msk].fillna(0)"
   ]
  },
  {
   "cell_type": "code",
   "execution_count": null,
   "metadata": {
    "scrolled": true
   },
   "outputs": [],
   "source": [
    "for c in selected.columns:\n",
    "    print(c)\n",
    "    selected[[c,'cluster']].boxplot(by='cluster')\n",
    "    plt.show()"
   ]
  },
  {
   "cell_type": "code",
   "execution_count": null,
   "metadata": {},
   "outputs": [],
   "source": [
    "pgs_label_df['Class_Grade_y'].astype(int)"
   ]
  },
  {
   "cell_type": "code",
   "execution_count": null,
   "metadata": {},
   "outputs": [],
   "source": [
    "X_t = extracted_feats_lean.fillna(0)"
   ]
  },
  {
   "cell_type": "code",
   "execution_count": null,
   "metadata": {},
   "outputs": [],
   "source": [
    "x_train, x_test, y_trai, y_tes = train_test_split(X_t, pgs_label_df['Class_Grade_y'].astype(int))"
   ]
  },
  {
   "cell_type": "code",
   "execution_count": null,
   "metadata": {},
   "outputs": [],
   "source": [
    "y_ = pgs_label_df['Class_Grade_y'].astype(int)"
   ]
  },
  {
   "cell_type": "code",
   "execution_count": null,
   "metadata": {},
   "outputs": [],
   "source": []
  },
  {
   "cell_type": "code",
   "execution_count": null,
   "metadata": {},
   "outputs": [],
   "source": [
    "\n",
    "kf = KFold(n_splits=5)\n",
    "kf.get_n_splits(X_t)\n",
    "feats_imp = np.zeros(X.shape[1])\n",
    "for train_index, test_index in kf.split(X_t):\n",
    "    \n",
    "    x_train = X_t.iloc[train_index]\n",
    "    x_test = X_t.iloc[test_index]\n",
    "    y_trai = y_.iloc[train_index]\n",
    "    y_tes = y_.iloc[test_index]\n",
    "    \n",
    "    lgb_train = lgb.Dataset(x_train.values, y_trai, params={'verbose': 1}, free_raw_data=False)\n",
    "    lgb_eval = lgb.Dataset(x_test.values, y_tes, params={'verbose': -1},free_raw_data=False)\n",
    "    regr = lgb.train(hyper_params, \n",
    "                     lgb_train, \n",
    "                     valid_sets=lgb_eval, \n",
    "                     verbose_eval=50,\n",
    "                    early_stopping_rounds=50)\n",
    "    \n",
    "    preds = regr.predict(x_test.values)\n",
    "\n",
    "    print(roc_auc_score(y_tes, preds))"
   ]
  },
  {
   "cell_type": "code",
   "execution_count": null,
   "metadata": {},
   "outputs": [],
   "source": [
    "preds = regr.predict(x_test.values)\n",
    "\n",
    "roc_auc_score(y_tes, preds)"
   ]
  },
  {
   "cell_type": "code",
   "execution_count": null,
   "metadata": {},
   "outputs": [],
   "source": [
    "from sklearn.metrics import f1_score\n",
    "threshs = np.linspace(0,.5,300)\n",
    "f1s = []\n",
    "for thresh in threshs:\n",
    "    f1s.append(f1_score(y_tes, preds>thresh))\n",
    "    \n",
    "best_thresh = threshs[np.argmax(f1s)]\n",
    "\n",
    "\n"
   ]
  },
  {
   "cell_type": "code",
   "execution_count": null,
   "metadata": {},
   "outputs": [],
   "source": [
    "confusion_matrix(y_tes, preds>best_thresh)"
   ]
  },
  {
   "cell_type": "code",
   "execution_count": null,
   "metadata": {},
   "outputs": [],
   "source": [
    "print(classification_report(y_tes, preds>best_thresh))"
   ]
  },
  {
   "cell_type": "code",
   "execution_count": null,
   "metadata": {},
   "outputs": [],
   "source": [
    "extracted_feats_lean.info(max_cols=202)"
   ]
  },
  {
   "cell_type": "code",
   "execution_count": null,
   "metadata": {},
   "outputs": [],
   "source": [
    "more_shap_values_pgs = shap.TreeExplainer(regr).shap_values(X_t)"
   ]
  },
  {
   "cell_type": "code",
   "execution_count": null,
   "metadata": {},
   "outputs": [],
   "source": [
    "\n"
   ]
  },
  {
   "cell_type": "code",
   "execution_count": null,
   "metadata": {},
   "outputs": [],
   "source": [
    "shap.summary_plot(more_shap_values_pgs[0], X_t)"
   ]
  },
  {
   "cell_type": "code",
   "execution_count": null,
   "metadata": {},
   "outputs": [],
   "source": [
    "pgs_label_df.loc[pgs_label_df['cluster']==7]['Class_Grade_y'].astype(int).sum()\n"
   ]
  },
  {
   "cell_type": "code",
   "execution_count": null,
   "metadata": {},
   "outputs": [],
   "source": [
    "def calc_perc_(ar):\n",
    "    return 1-(ar[0]-ar[1])/ar[0]"
   ]
  },
  {
   "cell_type": "code",
   "execution_count": null,
   "metadata": {},
   "outputs": [],
   "source": [
    "calc_perc_(ar2)"
   ]
  },
  {
   "cell_type": "code",
   "execution_count": null,
   "metadata": {},
   "outputs": [],
   "source": [
    "percs = []\n",
    "for i in range(200):\n",
    "\n",
    "    ar1 = pgs_label.loc[shap_values_pgs[1][:,i]>0].value_counts().values\n",
    "    ar2 = pgs_label.loc[shap_values_pgs[1][:,i]<0].value_counts().values\n",
    "    try:\n",
    "        diff = calc_perc_(ar1)/calc_perc_(ar2)\n",
    "        if diff<2:\n",
    "            \n",
    "            percs.append(diff)\n",
    "    except:\n",
    "        pass"
   ]
  },
  {
   "cell_type": "code",
   "execution_count": null,
   "metadata": {},
   "outputs": [],
   "source": [
    "np.sum(np.array(percs)>.8)"
   ]
  },
  {
   "cell_type": "code",
   "execution_count": null,
   "metadata": {},
   "outputs": [],
   "source": [
    "1-(322-109)/322"
   ]
  },
  {
   "cell_type": "code",
   "execution_count": null,
   "metadata": {},
   "outputs": [],
   "source": [
    "pgs_label.loc[shap_values_pgs[1][:,172]<0].value_counts()"
   ]
  },
  {
   "cell_type": "code",
   "execution_count": null,
   "metadata": {
    "scrolled": true
   },
   "outputs": [],
   "source": [
    "for i in range(200):\n",
    "    sns.scatterplot(extracted_feats_lean.iloc[:,i],\n",
    "                    shap_values_pgs[0][:,i],\n",
    "                                         hue=pgs_label)\n",
    "    \n",
    "    plt.show()"
   ]
  },
  {
   "cell_type": "code",
   "execution_count": null,
   "metadata": {},
   "outputs": [],
   "source": [
    "X_train"
   ]
  },
  {
   "cell_type": "code",
   "execution_count": null,
   "metadata": {},
   "outputs": [],
   "source": [
    "top_features = np.unique(np.concatenate(top_feats))"
   ]
  },
  {
   "cell_type": "code",
   "execution_count": null,
   "metadata": {},
   "outputs": [],
   "source": [
    "preds = regre.predict(X_test)"
   ]
  },
  {
   "cell_type": "code",
   "execution_count": null,
   "metadata": {},
   "outputs": [],
   "source": [
    "y_test.max()"
   ]
  },
  {
   "cell_type": "code",
   "execution_count": null,
   "metadata": {},
   "outputs": [],
   "source": [
    "preds.max()"
   ]
  },
  {
   "cell_type": "code",
   "execution_count": null,
   "metadata": {},
   "outputs": [],
   "source": [
    "mean_absolute_error(preds, y_test)"
   ]
  },
  {
   "cell_type": "code",
   "execution_count": null,
   "metadata": {},
   "outputs": [],
   "source": [
    "mean_squared_error(preds, y_test, squared=False)"
   ]
  },
  {
   "cell_type": "code",
   "execution_count": null,
   "metadata": {},
   "outputs": [],
   "source": [
    "idx = np.argsort(regr.feature_importances_)[-300:]"
   ]
  },
  {
   "cell_type": "code",
   "execution_count": null,
   "metadata": {},
   "outputs": [],
   "source": [
    "%matplotlib notebook\n",
    "feats_less.iloc[:, idx[-6]].hist(bins=100)"
   ]
  },
  {
   "cell_type": "code",
   "execution_count": null,
   "metadata": {},
   "outputs": [],
   "source": [
    "\n",
    "feats_less.values[:, idx[-1]]"
   ]
  },
  {
   "cell_type": "code",
   "execution_count": null,
   "metadata": {},
   "outputs": [],
   "source": [
    "regre.feature_importances_[idx]"
   ]
  },
  {
   "cell_type": "code",
   "execution_count": null,
   "metadata": {},
   "outputs": [],
   "source": [
    "X_\n"
   ]
  },
  {
   "cell_type": "code",
   "execution_count": null,
   "metadata": {},
   "outputs": [],
   "source": [
    "import tqdm"
   ]
  },
  {
   "cell_type": "code",
   "execution_count": null,
   "metadata": {},
   "outputs": [],
   "source": [
    "clean['id'] = LabelEncoder().fit_transform(clean['id'].values[:,None])[:,None]"
   ]
  },
  {
   "cell_type": "code",
   "execution_count": null,
   "metadata": {},
   "outputs": [],
   "source": [
    "scaler = StandardScaler()"
   ]
  },
  {
   "cell_type": "code",
   "execution_count": null,
   "metadata": {},
   "outputs": [],
   "source": [
    "clean['area'] = scaler.fit_transform(clean['area'].values.reshape(-1, 1))"
   ]
  },
  {
   "cell_type": "code",
   "execution_count": null,
   "metadata": {},
   "outputs": [],
   "source": [
    "clean['Time'] = scaler.fit_transform(clean['Time'].values.reshape(-1, 1))"
   ]
  },
  {
   "cell_type": "code",
   "execution_count": null,
   "metadata": {},
   "outputs": [],
   "source": [
    "clean = test.groupby('id').apply(drop_empty).reset_index(drop=True)\n",
    "#clean = clean.groupby('id').apply(drop_no_fert).reset_index(drop=True)\n",
    "clean = clean.groupby('id').apply(drop_early).reset_index(drop=True)\n",
    "target_area = clean.groupby('id').apply(lambda x: x.loc[x.Time>4.65].area.iloc[0])\n",
    "#target_means = clean.groupby('id').apply(lambda x: x.loc[x.Time>4.65].means.iloc[0])\n",
    "#X_ = clean.groupby('id').apply(lambda x: x.loc[x.Time<3.5]).reset_index(drop=True)"
   ]
  },
  {
   "cell_type": "code",
   "execution_count": null,
   "metadata": {},
   "outputs": [],
   "source": [
    "pd.DatetimeIndex(val['Time']*8.64e+13)"
   ]
  },
  {
   "cell_type": "code",
   "execution_count": null,
   "metadata": {},
   "outputs": [],
   "source": [
    "ts = val['area']\n",
    "ts.index = pd.DatetimeIndex(val['Time']*8.64e+13)"
   ]
  },
  {
   "cell_type": "code",
   "execution_count": null,
   "metadata": {},
   "outputs": [],
   "source": [
    "ts.resample('1H').mean()"
   ]
  },
  {
   "cell_type": "code",
   "execution_count": null,
   "metadata": {},
   "outputs": [],
   "source": [
    "feats"
   ]
  },
  {
   "cell_type": "code",
   "execution_count": null,
   "metadata": {},
   "outputs": [],
   "source": []
  },
  {
   "cell_type": "code",
   "execution_count": null,
   "metadata": {},
   "outputs": [],
   "source": [
    "clean['id'] = LabelEncoder().fit_transform(clean['id'][:,None])"
   ]
  },
  {
   "cell_type": "code",
   "execution_count": null,
   "metadata": {},
   "outputs": [],
   "source": [
    "np.linspace(0,100,30)"
   ]
  },
  {
   "cell_type": "code",
   "execution_count": null,
   "metadata": {},
   "outputs": [],
   "source": []
  },
  {
   "cell_type": "code",
   "execution_count": null,
   "metadata": {},
   "outputs": [],
   "source": [
    "resampled_df#.groupby('id')['Time_1'].max()"
   ]
  },
  {
   "cell_type": "code",
   "execution_count": null,
   "metadata": {},
   "outputs": [],
   "source": []
  },
  {
   "cell_type": "code",
   "execution_count": null,
   "metadata": {},
   "outputs": [],
   "source": []
  },
  {
   "cell_type": "code",
   "execution_count": null,
   "metadata": {},
   "outputs": [],
   "source": []
  },
  {
   "cell_type": "code",
   "execution_count": null,
   "metadata": {},
   "outputs": [],
   "source": [
    "resampled_df.groupby('id').area.mean()\n"
   ]
  },
  {
   "cell_type": "code",
   "execution_count": null,
   "metadata": {},
   "outputs": [],
   "source": [
    "count = 0\n",
    "%matplotlib notebook\n",
    "count_big = 0\n",
    "count_small = 0 \n",
    "for g, val in resampled_df.groupby('id'):\n",
    "   # if val.area.values[-1]>5500:\n",
    "    ts = val.loc[val['Time_1']<=6]['area']\n",
    "    ts.index = pd.DatetimeIndex(val.loc[val['Time_1']<=6]['Time_1']*8.64e+13)\n",
    "    \n",
    "    if ts.max()>12000:\n",
    "        \n",
    "        plt.plot(ts.resample('30min').mean(), color='green',marker='+', linewidth=1)\n",
    "        plt.show()\n",
    "        count_big+=1\n",
    "    else:\n",
    "        \n",
    "        plt.plot(ts.resample('30min').mean(), color='red',marker='*', linewidth=1)\n",
    "        plt.show()\n",
    "        count_small+=1\n",
    "    \n",
    "    if (count_small>10)&(count_big>10):\n",
    "        break"
   ]
  },
  {
   "cell_type": "code",
   "execution_count": null,
   "metadata": {},
   "outputs": [],
   "source": [
    "\n",
    "count_small"
   ]
  },
  {
   "cell_type": "code",
   "execution_count": null,
   "metadata": {},
   "outputs": [],
   "source": [
    "def get_sequences(df):\n",
    "    group = df.groupby('id')\n",
    "    \n",
    "    seq_dict = {}\n",
    "    for idx, g in tqdm.tqdm(group):\n",
    "        seq_dict[idx] = {'time': g['Time'].values,\n",
    "                         'area': g['area'].values\n",
    "            \n",
    "        }\n",
    "        \n",
    "    return seq_dict"
   ]
  },
  {
   "cell_type": "code",
   "execution_count": null,
   "metadata": {},
   "outputs": [],
   "source": [
    "seq_dict = get_sequences(clean[['id', 'Time', 'area']])"
   ]
  },
  {
   "cell_type": "code",
   "execution_count": null,
   "metadata": {},
   "outputs": [],
   "source": [
    "window_size = 50"
   ]
  },
  {
   "cell_type": "code",
   "execution_count": null,
   "metadata": {},
   "outputs": [],
   "source": [
    "device='cuda'"
   ]
  },
  {
   "cell_type": "code",
   "execution_count": null,
   "metadata": {},
   "outputs": [],
   "source": [
    "class SAINT(nn.Module):\n",
    "    def __init__(self, n_inp=100, n_head=2, n_hidden=64, n_layers=2, dropout=0.1, device='cpu'):\n",
    "        super(SAINT, self).__init__()\n",
    "        temp = nn.Transformer()\n",
    "        self.n_inp = n_inp\n",
    "        self.attn_mask = temp.generate_square_subsequent_mask(n_inp).to(device)\n",
    "        self.dropout = nn.Dropout()\n",
    "        #self.enc_norm = torch.nn.BatchNorm1d(100)\n",
    "\n",
    "        self.embryo_embedding = nn.Embedding(num_embeddings=2170, embedding_dim=50)\n",
    "        self.embryo_linear = nn.Linear(1, 50, bias=False)\n",
    "        self.time_embedding = nn.Linear(1, 50, bias=False)\n",
    "        self.area_embedding = nn.Linear(1, 50, bias=False)\n",
    "        self.position_emb_enc = nn.Embedding(num_embeddings=n_inp, embedding_dim=50)\n",
    "        \n",
    "        encoder_layer = nn.TransformerEncoderLayer(d_model=50,\n",
    "                                                   dim_feedforward = 128, nhead=5)\n",
    "        self.encoder_1 = torch.nn.TransformerEncoder(encoder_layer, 3)\n",
    "        \n",
    "        self.final = nn.Linear(50, 1)\n",
    "        self.device = device\n",
    "\n",
    "    def positional_encoding(self, content_id):\n",
    "        with torch.no_grad():\n",
    "            return torch.arange(0, content_id.shape[1]).to(self.device). \\\n",
    "                unsqueeze(0).repeat(content_id.shape[0], 1)\n",
    "\n",
    "    def forward(self, embryo_id, time, area):\n",
    "        # u_emp = self.user_emb(user)\n",
    "        embryo_emb = self.embryo_embedding(embryo_id)\n",
    "        embryo_emb = self.embryo_linear(embryo_emb.unsqueeze(2))\n",
    "        time_emb = self.time_embedding(time.unsqueeze(2))\n",
    "        \n",
    "        area = torch.roll(area,1,1)\n",
    "        area[:,0] = 15\n",
    "        area_emb = self.time_embedding(area.unsqueeze(2))\n",
    "        \n",
    "        pos_emb = self.position_emb_enc(self.positional_encoding(time))\n",
    "        \n",
    "        embedded_src = embryo_emb + time_emb + area_emb\n",
    "        embedded_src += pos_emb\n",
    "        embedded_src = embedded_src.transpose(0, 1)\n",
    "\n",
    "        #src_mask = padding_mask  # & self.atn_mask\n",
    "        #tgt_mask = padding_mask\n",
    "        attn_mask = self.attn_mask\n",
    "        \n",
    "        enc_1 = self.encoder_1(embedded_src, mask = attn_mask)\n",
    "        \n",
    "        output = enc_1.transpose(0, 1)\n",
    "        output = self.final(output)\n",
    "\n",
    "        return output"
   ]
  },
  {
   "cell_type": "code",
   "execution_count": null,
   "metadata": {},
   "outputs": [],
   "source": [
    "model = SAINT(n_inp=window_size, device=device)"
   ]
  },
  {
   "cell_type": "code",
   "execution_count": null,
   "metadata": {},
   "outputs": [],
   "source": [
    "model.to(device)"
   ]
  },
  {
   "cell_type": "code",
   "execution_count": null,
   "metadata": {},
   "outputs": [],
   "source": [
    "#target_area = clean.groupby('id').apply(lambda x: x.loc[x.Time>4.65].area.iloc[0])"
   ]
  },
  {
   "cell_type": "code",
   "execution_count": null,
   "metadata": {},
   "outputs": [],
   "source": []
  },
  {
   "cell_type": "code",
   "execution_count": null,
   "metadata": {},
   "outputs": [],
   "source": [
    "#target_area.index  = label_enc.transform(np.array(target_area.index))"
   ]
  },
  {
   "cell_type": "code",
   "execution_count": null,
   "metadata": {},
   "outputs": [],
   "source": [
    "#target_area = scaler.fit_transform(target_area.values[:,None])\n"
   ]
  },
  {
   "cell_type": "code",
   "execution_count": null,
   "metadata": {},
   "outputs": [],
   "source": [
    "window_size = 50"
   ]
  },
  {
   "cell_type": "code",
   "execution_count": null,
   "metadata": {},
   "outputs": [],
   "source": [
    "import random\n",
    "random_keys = [key for key in seq_dict.keys()]\n",
    "random.shuffle(random_keys)"
   ]
  },
  {
   "cell_type": "code",
   "execution_count": null,
   "metadata": {},
   "outputs": [],
   "source": []
  },
  {
   "cell_type": "code",
   "execution_count": null,
   "metadata": {},
   "outputs": [],
   "source": []
  },
  {
   "cell_type": "code",
   "execution_count": null,
   "metadata": {},
   "outputs": [],
   "source": [
    "def create_batches(dic, target):\n",
    "    batches_time = []\n",
    "    batches_area = []\n",
    "    batches_y = []\n",
    "    ids = []\n",
    "    for key in random_keys:\n",
    "        value = dic[key]\n",
    "        t = value['time']\n",
    "        area = value['area']\n",
    "        \n",
    "        rem = len(t)%window_size\n",
    "        #print(len(t))\n",
    "        if rem!=0:\n",
    "            t_full = t[:-rem]\n",
    "            area_full = area[:-rem]\n",
    "        else:\n",
    "            t_full = t\n",
    "            area_full = area\n",
    "            \n",
    "        batches_time.extend(np.split(t_full, len(t_full)/window_size))\n",
    "        batches_area.extend(np.split(area_full, len(t_full)/window_size))\n",
    "        batches_y.extend([target[key] for _ in range(len(t_full)//window_size)])\n",
    "        ids.extend([np.array([key for _ in range(window_size)]) for _ in range(len(t_full)//window_size)])\n",
    "        \n",
    "    return batches_time, batches_area, batches_y, ids"
   ]
  },
  {
   "cell_type": "code",
   "execution_count": null,
   "metadata": {},
   "outputs": [],
   "source": [
    "batches_time, batches_area, batches_y, ids = create_batches(seq_dict, target_area)"
   ]
  },
  {
   "cell_type": "code",
   "execution_count": null,
   "metadata": {},
   "outputs": [],
   "source": [
    "ids"
   ]
  },
  {
   "cell_type": "code",
   "execution_count": null,
   "metadata": {},
   "outputs": [],
   "source": [
    "import torch\n",
    "import torch.nn as nn\n",
    "import torch.nn.functional as F\n",
    "import torch.optim as optim"
   ]
  },
  {
   "cell_type": "code",
   "execution_count": null,
   "metadata": {},
   "outputs": [],
   "source": [
    "class LSTM(nn.Module):\n",
    "    def __init__(self, input_size=1, hidden_layer_size=100, output_size=1):\n",
    "        super().__init__()\n",
    "        self.hidden_layer_size = hidden_layer_size\n",
    "\n",
    "        self.lstm = nn.LSTM(input_size, hidden_layer_size)\n",
    "\n",
    "        self.linear_1 = nn.Linear(hidden_layer_size, output_size)\n",
    "        \n",
    "        self.linear_2 = nn.Linear(window_size, output_size)\n",
    "\n",
    "        self.hidden_cell = (torch.zeros(1,300,self.hidden_layer_size),\n",
    "                            torch.zeros(1,300,self.hidden_layer_size))\n",
    "\n",
    "    def forward(self, input_seq):\n",
    "        lstm_out, self.hidden_cell = self.lstm(input_seq, self.hidden_cell)\n",
    "        linear = self.linear_1(lstm_out).squeeze(2)\n",
    "        #linear2 = self.linear_2(linear)\n",
    "        return linear[:,-1]"
   ]
  },
  {
   "cell_type": "code",
   "execution_count": null,
   "metadata": {},
   "outputs": [],
   "source": [
    "model = LSTM()\n",
    "loss_function = nn.MSELoss()\n",
    "\n",
    "model.to('cuda')"
   ]
  },
  {
   "cell_type": "code",
   "execution_count": null,
   "metadata": {},
   "outputs": [],
   "source": []
  },
  {
   "cell_type": "code",
   "execution_count": null,
   "metadata": {},
   "outputs": [],
   "source": [
    "batch_size = 128"
   ]
  },
  {
   "cell_type": "code",
   "execution_count": null,
   "metadata": {},
   "outputs": [],
   "source": [
    "batches_time_tensor = torch.split(torch.tensor(batches_time), batch_size)"
   ]
  },
  {
   "cell_type": "code",
   "execution_count": null,
   "metadata": {},
   "outputs": [],
   "source": []
  },
  {
   "cell_type": "code",
   "execution_count": null,
   "metadata": {},
   "outputs": [],
   "source": [
    "batches_area_tensor = torch.split(torch.tensor(batches_area), batch_size)\n",
    "batches_target_tensor = torch.split(torch.tensor(batches_y), batch_size)"
   ]
  },
  {
   "cell_type": "code",
   "execution_count": null,
   "metadata": {},
   "outputs": [],
   "source": [
    "ids_tensor = torch.split(torch.tensor(ids), batch_size)"
   ]
  },
  {
   "cell_type": "code",
   "execution_count": null,
   "metadata": {},
   "outputs": [],
   "source": [
    "len(ids_tensor)"
   ]
  },
  {
   "cell_type": "code",
   "execution_count": null,
   "metadata": {},
   "outputs": [],
   "source": [
    "val_batches_time = batches_time_tensor[-5:]\n",
    "val_batches_area = batches_area_tensor[-5:]\n",
    "val_batches_target = batches_target_tensor[-5:]\n",
    "val_batches_ids = ids_tensor[-5:]"
   ]
  },
  {
   "cell_type": "code",
   "execution_count": null,
   "metadata": {},
   "outputs": [],
   "source": [
    "def validate():\n",
    "    model.eval()\n",
    "    preds = []\n",
    "    labels = []\n",
    "    with torch.no_grad():\n",
    "        val_loss = 0\n",
    "        for b_idx in tqdm.tqdm(range(5)):\n",
    "        \n",
    "            \n",
    "            ids_batch = val_batches_ids[b_idx][:,0].long().to(device)\n",
    "            time = val_batches_time[b_idx].float().to(device)\n",
    "            area = val_batches_area[b_idx].float().to(device)\n",
    "\n",
    "            y_pred = model(ids_batch, time, area)\n",
    "\n",
    "            single_loss = loss_function(y_pred[:,:,0], area)\n",
    "            \n",
    "            val_loss += single_loss.item()\n",
    "            #labels.append(val_batches_target[b_idx].flatten()\\\n",
    "                                                            \n",
    "            #preds.append(y_pred.detach().cpu().numpy())\n",
    "        print('Val loss: ', val_loss/5)\n",
    "    #return preds, labels"
   ]
  },
  {
   "cell_type": "code",
   "execution_count": null,
   "metadata": {},
   "outputs": [],
   "source": [
    "validate()"
   ]
  },
  {
   "cell_type": "code",
   "execution_count": null,
   "metadata": {},
   "outputs": [],
   "source": [
    "optimizer = torch.optim.Adam(model.parameters(), lr=0.001)"
   ]
  },
  {
   "cell_type": "code",
   "execution_count": null,
   "metadata": {},
   "outputs": [],
   "source": []
  },
  {
   "cell_type": "code",
   "execution_count": null,
   "metadata": {
    "scrolled": true
   },
   "outputs": [],
   "source": [
    "\n",
    "epochs = 150\n",
    "\n",
    "for i in range(epochs):\n",
    "    model.train()\n",
    "    loss = 0\n",
    "    for b_idx in tqdm.tqdm(range(len(batches_area_tensor[:-5]))):\n",
    "        optimizer.zero_grad()\n",
    "                                 \n",
    "        #model.hidden_cell = (torch.zeros(1, window_size, model.hidden_layer_size).to('cuda'),\n",
    "                        #torch.zeros(1, window_size, model.hidden_layer_size).to('cuda'))\n",
    "        ids_batch = ids_tensor[b_idx][:,0].long().to(device)\n",
    "        time = batches_time_tensor[b_idx].float().to(device)\n",
    "        area = batches_area_tensor[b_idx].float().to(device)\n",
    "        \n",
    "        y_pred = model(ids_batch, time, area)\n",
    "\n",
    "        single_loss = loss_function(y_pred[:,:,0], area)\n",
    "        single_loss.backward()\n",
    "        loss += single_loss.item()                         \n",
    "        optimizer.step()\n",
    "\n",
    "    validate()\n",
    "    print(f'epoch: {i} loss: {loss/len(batches_area_tensor[:-5])}')\n",
    "\n",
    "print(f'epoch: {i:3} loss: {single_loss.item():10.10f}')"
   ]
  },
  {
   "cell_type": "code",
   "execution_count": null,
   "metadata": {},
   "outputs": [],
   "source": [
    "%debug"
   ]
  },
  {
   "cell_type": "code",
   "execution_count": null,
   "metadata": {},
   "outputs": [],
   "source": [
    "ids_batch.shape"
   ]
  },
  {
   "cell_type": "code",
   "execution_count": null,
   "metadata": {},
   "outputs": [],
   "source": [
    "time.shape"
   ]
  },
  {
   "cell_type": "code",
   "execution_count": null,
   "metadata": {
    "scrolled": true
   },
   "outputs": [],
   "source": [
    "single_loss"
   ]
  },
  {
   "cell_type": "code",
   "execution_count": null,
   "metadata": {},
   "outputs": [],
   "source": [
    "model.hidden_cell[0].shape"
   ]
  },
  {
   "cell_type": "code",
   "execution_count": null,
   "metadata": {},
   "outputs": [],
   "source": [
    "model(testing_tensor)"
   ]
  },
  {
   "cell_type": "code",
   "execution_count": null,
   "metadata": {},
   "outputs": [],
   "source": [
    "final_(out).squeeze(2).shape"
   ]
  },
  {
   "cell_type": "code",
   "execution_count": null,
   "metadata": {},
   "outputs": [],
   "source": []
  }
 ],
 "metadata": {
  "kernelspec": {
   "display_name": "Python 3 (ipykernel)",
   "language": "python",
   "name": "python3"
  },
  "language_info": {
   "codemirror_mode": {
    "name": "ipython",
    "version": 3
   },
   "file_extension": ".py",
   "mimetype": "text/x-python",
   "name": "python",
   "nbconvert_exporter": "python",
   "pygments_lexer": "ipython3",
   "version": "3.11.8"
  }
 },
 "nbformat": 4,
 "nbformat_minor": 4
}
